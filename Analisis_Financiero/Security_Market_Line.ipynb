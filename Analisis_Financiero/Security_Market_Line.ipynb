{
 "cells": [
  {
   "cell_type": "markdown",
   "id": "11c27476",
   "metadata": {},
   "source": [
    "<table align=\"center\">\n",
    " <td align=\"center\"><a target=\"_blank\" href=\"https://colab.research.google.com/github/TFMUCM01/TFM/blob/main/Analisis_ML/Security_Market_Line.ipynb\">\n",
    "        <img src=\"https://colab.research.google.com/img/colab_favicon_256px.png\"  \n",
    "        width=\"50\" height=\"50\" style=\"padding-bottom:5px;\" /><br>Run in Google Colab</a></td>\n",
    " <td align=\"center\"><a target=\"_blank\" href=\"https://github.com/TFMUCM01/TFM/blob/main/Analisis_ML/Security_Market_Line.ipynb\">\n",
    "        <img src=\"https://github.githubassets.com/images/modules/logos_page/GitHub-Mark.png\"  \n",
    "        width=\"50\" height=\"50\" style=\"padding-bottom:5px;\" /><br>View on GitHub</a></td>\n",
    "</table>\n"
   ]
  },
  {
   "cell_type": "markdown",
   "id": "95d3f85d",
   "metadata": {},
   "source": [
    "# Security Market Line (SML) \n",
    "\n",
    "---\n",
    "\n",
    "Este documento presenta un análisis cuantitativo de la Security Market Line (SML), utilizando Python y datos históricos del mercado.  \n",
    "El objetivo es calcular los betas, rendimientos esperados y comparar el desempeño real de los activos frente a la predicción del modelo CAPM, visualizando los resultados en la SML y clasificando los activos según su rendimiento relativo.\n",
    "\n",
    "---"
   ]
  },
  {
   "cell_type": "markdown",
   "id": "4c7dc3e1",
   "metadata": {},
   "source": [
    "## Importar Librerías Necesarias\n",
    "\n",
    "\n",
    "---\n",
    "\n",
    "\n",
    "### Importar las librerías necesarias, incluyendo, snowflake, pandas, plotly, datetime ."
   ]
  },
  {
   "cell_type": "code",
   "execution_count": 20,
   "id": "e32d8b68",
   "metadata": {},
   "outputs": [
    {
     "name": "stdout",
     "output_type": "stream",
     "text": [
      "Requirement already satisfied: snowflake-connector-python in c:\\users\\prios\\anaconda3\\lib\\site-packages (3.16.0)\n",
      "Requirement already satisfied: asn1crypto<2.0.0,>0.24.0 in c:\\users\\prios\\anaconda3\\lib\\site-packages (from snowflake-connector-python) (1.5.1)\n",
      "Requirement already satisfied: boto3>=1.24 in c:\\users\\prios\\anaconda3\\lib\\site-packages (from snowflake-connector-python) (1.40.2)\n",
      "Requirement already satisfied: botocore>=1.24 in c:\\users\\prios\\anaconda3\\lib\\site-packages (from snowflake-connector-python) (1.40.2)\n",
      "Requirement already satisfied: cffi<2.0.0,>=1.9 in c:\\users\\prios\\anaconda3\\lib\\site-packages (from snowflake-connector-python) (1.17.1)\n",
      "Requirement already satisfied: cryptography>=3.1.0 in c:\\users\\prios\\anaconda3\\lib\\site-packages (from snowflake-connector-python) (43.0.0)\n",
      "Requirement already satisfied: pyOpenSSL<26.0.0,>=22.0.0 in c:\\users\\prios\\anaconda3\\lib\\site-packages (from snowflake-connector-python) (24.2.1)\n",
      "Requirement already satisfied: pyjwt<3.0.0 in c:\\users\\prios\\anaconda3\\lib\\site-packages (from snowflake-connector-python) (2.8.0)\n",
      "Requirement already satisfied: pytz in c:\\users\\prios\\anaconda3\\lib\\site-packages (from snowflake-connector-python) (2024.1)\n",
      "Requirement already satisfied: requests<3.0.0 in c:\\users\\prios\\anaconda3\\lib\\site-packages (from snowflake-connector-python) (2.32.3)\n",
      "Requirement already satisfied: packaging in c:\\users\\prios\\anaconda3\\lib\\site-packages (from snowflake-connector-python) (24.1)\n",
      "Requirement already satisfied: charset_normalizer<4,>=2 in c:\\users\\prios\\anaconda3\\lib\\site-packages (from snowflake-connector-python) (3.3.2)\n",
      "Requirement already satisfied: idna<4,>=2.5 in c:\\users\\prios\\anaconda3\\lib\\site-packages (from snowflake-connector-python) (3.7)\n",
      "Requirement already satisfied: certifi>=2017.4.17 in c:\\users\\prios\\anaconda3\\lib\\site-packages (from snowflake-connector-python) (2024.8.30)\n",
      "Requirement already satisfied: typing_extensions<5,>=4.3 in c:\\users\\prios\\anaconda3\\lib\\site-packages (from snowflake-connector-python) (4.11.0)\n",
      "Requirement already satisfied: filelock<4,>=3.5 in c:\\users\\prios\\anaconda3\\lib\\site-packages (from snowflake-connector-python) (3.13.1)\n",
      "Requirement already satisfied: sortedcontainers>=2.4.0 in c:\\users\\prios\\anaconda3\\lib\\site-packages (from snowflake-connector-python) (2.4.0)\n",
      "Requirement already satisfied: platformdirs<5.0.0,>=2.6.0 in c:\\users\\prios\\anaconda3\\lib\\site-packages (from snowflake-connector-python) (3.10.0)\n",
      "Requirement already satisfied: tomlkit in c:\\users\\prios\\anaconda3\\lib\\site-packages (from snowflake-connector-python) (0.11.1)\n",
      "Requirement already satisfied: jmespath<2.0.0,>=0.7.1 in c:\\users\\prios\\anaconda3\\lib\\site-packages (from boto3>=1.24->snowflake-connector-python) (1.0.1)\n",
      "Requirement already satisfied: s3transfer<0.14.0,>=0.13.0 in c:\\users\\prios\\anaconda3\\lib\\site-packages (from boto3>=1.24->snowflake-connector-python) (0.13.1)\n",
      "Requirement already satisfied: python-dateutil<3.0.0,>=2.1 in c:\\users\\prios\\anaconda3\\lib\\site-packages (from botocore>=1.24->snowflake-connector-python) (2.9.0.post0)\n",
      "Requirement already satisfied: urllib3!=2.2.0,<3,>=1.25.4 in c:\\users\\prios\\anaconda3\\lib\\site-packages (from botocore>=1.24->snowflake-connector-python) (2.2.3)\n",
      "Requirement already satisfied: pycparser in c:\\users\\prios\\anaconda3\\lib\\site-packages (from cffi<2.0.0,>=1.9->snowflake-connector-python) (2.21)\n",
      "Requirement already satisfied: six>=1.5 in c:\\users\\prios\\anaconda3\\lib\\site-packages (from python-dateutil<3.0.0,>=2.1->botocore>=1.24->snowflake-connector-python) (1.16.0)\n"
     ]
    }
   ],
   "source": [
    "! pip install snowflake-connector-python"
   ]
  },
  {
   "cell_type": "code",
   "execution_count": 21,
   "id": "cb4d3b20",
   "metadata": {},
   "outputs": [],
   "source": [
    "import pandas as pd\n",
    "import numpy as np\n",
    "import snowflake.connector\n",
    "import statsmodels.api as sm\n",
    "import plotly.graph_objects as go"
   ]
  },
  {
   "cell_type": "markdown",
   "id": "83722b6c",
   "metadata": {},
   "source": [
    "## Configuración de Parámetros de Análisis\n",
    "\n",
    "Se definen las fechas de inicio y fin del análisis, el índice de referencia, la tasa libre de riesgo anual (Rf), y el listado de tickers a analizar.  \n",
    "Esto establece el universo de activos y el periodo de estudio.\n",
    "\n",
    "---"
   ]
  },
  {
   "cell_type": "code",
   "execution_count": 22,
   "id": "01ba9253",
   "metadata": {},
   "outputs": [],
   "source": [
    "indices_dict = {\n",
    "    \"España\": {\n",
    "        \"Indice\": \"IBEX 35\",\n",
    "        \"Exchange\": \"BME\",\n",
    "        \"Sufijo_Yahoo\": \".MC\"\n",
    "    },\n",
    "    \"Alemania\": {\n",
    "        \"Indice\": \"DAX 40\",\n",
    "        \"Exchange\": \"XETR\",\n",
    "        \"Sufijo_Yahoo\": \".DE\"\n",
    "    },\n",
    "    \"Francia\": {\n",
    "        \"Indice\": \"CAC 40\",\n",
    "        \"Exchange\": \"EURONEXT\",\n",
    "        \"Sufijo_Yahoo\": \".PA\"\n",
    "    },\n",
    "    \"Italia\": {\n",
    "        \"Indice\": \"FTSE MIB\",\n",
    "        \"Exchange\": \"MIL\",\n",
    "        \"Sufijo_Yahoo\": \".MI\"\n",
    "    },\n",
    "    \"Países Bajos\": {\n",
    "        \"Indice\": \"AEX\",\n",
    "        \"Exchange\": \"EURONEXT\",\n",
    "        \"Sufijo_Yahoo\": \".AS\"\n",
    "    },\n",
    "    \"Reino Unido\": {\n",
    "        \"Indice\": \"FTSE 100\",\n",
    "        \"Exchange\": \"LSE\",\n",
    "        \"Sufijo_Yahoo\": \".L\"\n",
    "    },\n",
    "    \"Suecia\": {\n",
    "        \"Indice\": \"OMXS30\",\n",
    "        \"Exchange\": \"OMXSTO\",\n",
    "        \"Sufijo_Yahoo\": \".ST\"\n",
    "    },\n",
    "    \"Suiza\": {\n",
    "        \"Indice\": \"SMI\",\n",
    "        \"Exchange\": \"SIX\",\n",
    "        \"Sufijo_Yahoo\": \".SW\"\n",
    "    }\n",
    "}\n"
   ]
  },
  {
   "cell_type": "code",
   "execution_count": 23,
   "id": "6ce5a9cb",
   "metadata": {},
   "outputs": [
    {
     "name": "stdout",
     "output_type": "stream",
     "text": [
      "Países disponibles: España, Alemania, Francia, Italia, Países Bajos, Reino Unido, Suecia, Suiza\n",
      "✅ País válido: España → Índice seleccionado: IBEX 35\n"
     ]
    }
   ],
   "source": [
    "# Mostrar opciones\n",
    "print(\"Países disponibles:\", \", \".join(indices_dict.keys()))\n",
    "\n",
    "# Input\n",
    "pais = input(\"Introduce el país: \").strip()\n",
    "\n",
    "if pais in indices_dict:\n",
    "    ticker_ibex = indices_dict[pais][\"Indice\"]\n",
    "    print(f\"✅ País válido: {pais} → Índice seleccionado: {ticker_ibex}\")\n",
    "else:\n",
    "    raise ValueError(\"❌ País no reconocido. Debes introducir uno de la lista.\")"
   ]
  },
  {
   "cell_type": "code",
   "execution_count": 24,
   "id": "071c0b2d",
   "metadata": {},
   "outputs": [],
   "source": [
    "# Resto de parámetros\n",
    "start_date   = '2020-01-01'\n",
    "end_date     = '2024-12-31'\n",
    "rf_anual     = 0.03               # 3% anual\n",
    "freq_label   = 'anual'\n",
    "periodo_label = 'años'"
   ]
  },
  {
   "cell_type": "markdown",
   "id": "07fd7cbd",
   "metadata": {},
   "source": [
    "## Conexión y Descarga de Datos desde Snowflake\n",
    "\n",
    "Se conecta a la base de datos Snowflake y se descargan los precios de cierre diarios  y de cada activo seleccionado.  \n",
    "Los datos se procesan y se convierten en series temporales para su análisis posterior.\n",
    "\n",
    "---"
   ]
  },
  {
   "cell_type": "code",
   "execution_count": 25,
   "id": "61291123",
   "metadata": {},
   "outputs": [],
   "source": [
    "conn = snowflake.connector.connect(\n",
    "    user='TFMGRUPO4',\n",
    "    password='TFMgrupo4ucm01_01#',\n",
    "    account='VLNVLDD-WJ67583',   # <<<<<< usa el account de tu nueva URL\n",
    "    warehouse='COMPUTE_WH',\n",
    "    database='TFM',              # <<<<<< Database\n",
    "    schema='YAHOO_FINANCE',      # <<<<<< Schema\n",
    "    role='ACCOUNTADMIN'\n",
    ")\n",
    "cursor = conn.cursor()"
   ]
  },
  {
   "cell_type": "code",
   "execution_count": 26,
   "id": "5bd55300",
   "metadata": {},
   "outputs": [
    {
     "name": "stderr",
     "output_type": "stream",
     "text": [
      "C:\\Users\\prios\\AppData\\Local\\Temp\\ipykernel_1392\\2410010303.py:18: UserWarning: pandas only supports SQLAlchemy connectable (engine/connection) or database string URI or sqlite3 DBAPI2 connection. Other DBAPI2 objects are not tested. Please consider using SQLAlchemy.\n",
      "  df = pd.read_sql(query, conn)\n"
     ]
    },
    {
     "data": {
      "text/html": [
       "<div>\n",
       "<style scoped>\n",
       "    .dataframe tbody tr th:only-of-type {\n",
       "        vertical-align: middle;\n",
       "    }\n",
       "\n",
       "    .dataframe tbody tr th {\n",
       "        vertical-align: top;\n",
       "    }\n",
       "\n",
       "    .dataframe thead th {\n",
       "        text-align: right;\n",
       "    }\n",
       "</style>\n",
       "<table border=\"1\" class=\"dataframe\">\n",
       "  <thead>\n",
       "    <tr style=\"text-align: right;\">\n",
       "      <th></th>\n",
       "      <th>TICKER</th>\n",
       "      <th>NOMBRE</th>\n",
       "      <th>SECTOR</th>\n",
       "      <th>INDUSTRIA</th>\n",
       "    </tr>\n",
       "  </thead>\n",
       "  <tbody>\n",
       "    <tr>\n",
       "      <th>0</th>\n",
       "      <td>ACS.MC</td>\n",
       "      <td>ACS, Actividades de Construcción y Servicios, ...</td>\n",
       "      <td>Industrials</td>\n",
       "      <td>Engineering &amp; Construction</td>\n",
       "    </tr>\n",
       "    <tr>\n",
       "      <th>1</th>\n",
       "      <td>ACX.MC</td>\n",
       "      <td>Acerinox, S.A.</td>\n",
       "      <td>Basic Materials</td>\n",
       "      <td>Steel</td>\n",
       "    </tr>\n",
       "    <tr>\n",
       "      <th>2</th>\n",
       "      <td>AENA.MC</td>\n",
       "      <td>Aena S.M.E., S.A.</td>\n",
       "      <td>Industrials</td>\n",
       "      <td>Airports &amp; Air Services</td>\n",
       "    </tr>\n",
       "    <tr>\n",
       "      <th>3</th>\n",
       "      <td>AMS.MC</td>\n",
       "      <td>Amadeus IT Group, S.A.</td>\n",
       "      <td>Technology</td>\n",
       "      <td>Information Technology Services</td>\n",
       "    </tr>\n",
       "    <tr>\n",
       "      <th>4</th>\n",
       "      <td>ANA.MC</td>\n",
       "      <td>Acciona, S.A.</td>\n",
       "      <td>Industrials</td>\n",
       "      <td>Engineering &amp; Construction</td>\n",
       "    </tr>\n",
       "  </tbody>\n",
       "</table>\n",
       "</div>"
      ],
      "text/plain": [
       "    TICKER                                             NOMBRE  \\\n",
       "0   ACS.MC  ACS, Actividades de Construcción y Servicios, ...   \n",
       "1   ACX.MC                                     Acerinox, S.A.   \n",
       "2  AENA.MC                                  Aena S.M.E., S.A.   \n",
       "3   AMS.MC                             Amadeus IT Group, S.A.   \n",
       "4   ANA.MC                                      Acciona, S.A.   \n",
       "\n",
       "            SECTOR                        INDUSTRIA  \n",
       "0      Industrials       Engineering & Construction  \n",
       "1  Basic Materials                            Steel  \n",
       "2      Industrials          Airports & Air Services  \n",
       "3       Technology  Information Technology Services  \n",
       "4      Industrials       Engineering & Construction  "
      ]
     },
     "execution_count": 26,
     "metadata": {},
     "output_type": "execute_result"
    }
   ],
   "source": [
    "# Obtenemos el sufijo Yahoo del diccionario\n",
    "sufijo = indices_dict[pais][\"Sufijo_Yahoo\"]\n",
    "\n",
    "# Armamos la consulta asegurando tickers únicos\n",
    "query = f\"\"\"\n",
    "SELECT DISTINCT\n",
    "    ti.TICKER,\n",
    "    cp.NOMBRE,\n",
    "    cp.SECTOR,\n",
    "    cp.INDUSTRIA\n",
    "FROM TICKERS_INDEX ti\n",
    "JOIN COMPANY_PROFILE cp \n",
    "    ON ti.TICKER = cp.TICKER\n",
    "WHERE ti.TICKER LIKE '%{sufijo}'\n",
    "ORDER BY ti.TICKER;\n",
    "\"\"\"\n",
    "\n",
    "df = pd.read_sql(query, conn)\n",
    "\n",
    "df.head()\n"
   ]
  },
  {
   "cell_type": "code",
   "execution_count": 27,
   "id": "ae8ec811",
   "metadata": {},
   "outputs": [
    {
     "name": "stdout",
     "output_type": "stream",
     "text": [
      "tickers = ['ACS.MC', 'ACX.MC', 'AENA.MC', 'AMS.MC', 'ANA.MC', 'ANE.MC', 'BBVA.MC', 'BKT.MC', 'CABK.MC', 'CLNX.MC', 'COL.MC', 'ELE.MC', 'ENG.MC', 'FDR.MC', 'FER.MC', 'GRF.MC', 'IAG.MC', 'IBE.MC', 'IDR.MC', 'ITX.MC', 'LOG.MC', 'MAP.MC', 'MRL.MC', 'MTS.MC', 'NTGY.MC', 'PUIG.MC', 'RED.MC', 'REP.MC', 'ROVI.MC', 'SAB.MC', 'SAN.MC', 'SCYR.MC', 'SLR.MC', 'TEF.MC', 'UNI.MC']\n"
     ]
    }
   ],
   "source": [
    "# Inputs del usuario (pueden quedar vacíos)\n",
    "nombre_empresa = input(\"Introduce el nombre de la empresa (opcional): \").strip()\n",
    "sector         = input(\"Introduce el sector (opcional): \").strip()\n",
    "industria      = input(\"Introduce la industria (opcional): \").strip()\n",
    "\n",
    "# Partimos del DataFrame obtenido de la consulta SQL (df)\n",
    "df_filtrado = df.copy()\n",
    "\n",
    "# Filtros opcionales\n",
    "if nombre_empresa:\n",
    "    df_filtrado = df_filtrado[df_filtrado[\"NOMBRE\"].str.contains(nombre_empresa, case=False, na=False)]\n",
    "\n",
    "if sector:\n",
    "    df_filtrado = df_filtrado[df_filtrado[\"SECTOR\"].str.contains(sector, case=False, na=False)]\n",
    "\n",
    "if industria:\n",
    "    df_filtrado = df_filtrado[df_filtrado[\"INDUSTRIA\"].str.contains(industria, case=False, na=False)]\n",
    "\n",
    "# Resultado final como lista de tickers\n",
    "tickers = df_filtrado[\"TICKER\"].tolist()\n",
    "\n",
    "print(\"tickers =\", tickers)\n"
   ]
  },
  {
   "cell_type": "code",
   "execution_count": 28,
   "id": "52133750",
   "metadata": {},
   "outputs": [],
   "source": [
    "# IBEX (mercado) - INDEX_DAILY\n",
    "# -----------------------------\n",
    "q_ibex = f\"\"\"\n",
    "    SELECT FECHA, CLOSE\n",
    "    FROM INDEX_DAILY\n",
    "    WHERE INDEX_NAME = '{ticker_ibex}'\n",
    "      AND FECHA BETWEEN '{start_date}' AND '{end_date}'\n",
    "    ORDER BY FECHA\n",
    "\"\"\"\n",
    "cursor.execute(q_ibex)\n",
    "df_ibex = pd.DataFrame(cursor.fetchall(), columns=['FECHA', 'IBEX'])\n",
    "df_ibex['FECHA'] = pd.to_datetime(df_ibex['FECHA'])\n",
    "df_ibex['IBEX'] = pd.to_numeric(df_ibex['IBEX'], errors='coerce').astype(float)\n",
    "df_ibex.rename(columns={'FECHA': 'DATE'}, inplace=True)  # mantener tu índice con 'DATE'\n",
    "df_ibex.set_index('DATE', inplace=True)\n",
    "df_ibex = df_ibex.sort_index()"
   ]
  },
  {
   "cell_type": "code",
   "execution_count": 29,
   "id": "fa77b11c",
   "metadata": {},
   "outputs": [
    {
     "data": {
      "text/html": [
       "<div>\n",
       "<style scoped>\n",
       "    .dataframe tbody tr th:only-of-type {\n",
       "        vertical-align: middle;\n",
       "    }\n",
       "\n",
       "    .dataframe tbody tr th {\n",
       "        vertical-align: top;\n",
       "    }\n",
       "\n",
       "    .dataframe thead th {\n",
       "        text-align: right;\n",
       "    }\n",
       "</style>\n",
       "<table border=\"1\" class=\"dataframe\">\n",
       "  <thead>\n",
       "    <tr style=\"text-align: right;\">\n",
       "      <th></th>\n",
       "      <th>IBEX</th>\n",
       "    </tr>\n",
       "    <tr>\n",
       "      <th>DATE</th>\n",
       "      <th></th>\n",
       "    </tr>\n",
       "  </thead>\n",
       "  <tbody>\n",
       "    <tr>\n",
       "      <th>2020-01-02</th>\n",
       "      <td>9691.200195</td>\n",
       "    </tr>\n",
       "    <tr>\n",
       "      <th>2020-01-03</th>\n",
       "      <td>9646.599609</td>\n",
       "    </tr>\n",
       "    <tr>\n",
       "      <th>2020-01-06</th>\n",
       "      <td>9600.900391</td>\n",
       "    </tr>\n",
       "    <tr>\n",
       "      <th>2020-01-07</th>\n",
       "      <td>9579.799805</td>\n",
       "    </tr>\n",
       "    <tr>\n",
       "      <th>2020-01-08</th>\n",
       "      <td>9591.400391</td>\n",
       "    </tr>\n",
       "    <tr>\n",
       "      <th>...</th>\n",
       "      <td>...</td>\n",
       "    </tr>\n",
       "    <tr>\n",
       "      <th>2024-12-23</th>\n",
       "      <td>11435.700195</td>\n",
       "    </tr>\n",
       "    <tr>\n",
       "      <th>2024-12-24</th>\n",
       "      <td>11473.900391</td>\n",
       "    </tr>\n",
       "    <tr>\n",
       "      <th>2024-12-27</th>\n",
       "      <td>11531.599609</td>\n",
       "    </tr>\n",
       "    <tr>\n",
       "      <th>2024-12-30</th>\n",
       "      <td>11536.799805</td>\n",
       "    </tr>\n",
       "    <tr>\n",
       "      <th>2024-12-31</th>\n",
       "      <td>11595.000000</td>\n",
       "    </tr>\n",
       "  </tbody>\n",
       "</table>\n",
       "<p>1281 rows × 1 columns</p>\n",
       "</div>"
      ],
      "text/plain": [
       "                    IBEX\n",
       "DATE                    \n",
       "2020-01-02   9691.200195\n",
       "2020-01-03   9646.599609\n",
       "2020-01-06   9600.900391\n",
       "2020-01-07   9579.799805\n",
       "2020-01-08   9591.400391\n",
       "...                  ...\n",
       "2024-12-23  11435.700195\n",
       "2024-12-24  11473.900391\n",
       "2024-12-27  11531.599609\n",
       "2024-12-30  11536.799805\n",
       "2024-12-31  11595.000000\n",
       "\n",
       "[1281 rows x 1 columns]"
      ]
     },
     "execution_count": 29,
     "metadata": {},
     "output_type": "execute_result"
    }
   ],
   "source": [
    "df_ibex"
   ]
  },
  {
   "cell_type": "markdown",
   "id": "1bea3a3a",
   "metadata": {},
   "source": [
    "## Preparación y Transformación de Datos\n",
    "\n",
    "Se combinan los precios en un único DataFrame, se realiza un resample anual para obtener el último precio de cada año, y se calculan los retornos anuales de cada activo y del índice de mercado.\n",
    "\n",
    "---"
   ]
  },
  {
   "cell_type": "code",
   "execution_count": 30,
   "id": "ac2b24d5",
   "metadata": {},
   "outputs": [],
   "source": [
    "# Activos (precios) - TICKERS_INDEX\n",
    "# -----------------------------\n",
    "dfs = {'IBEX': df_ibex['IBEX']}\n",
    "for tk in tickers:\n",
    "    q = f\"\"\"\n",
    "        SELECT FECHA, CLOSE\n",
    "        FROM TICKERS_INDEX\n",
    "        WHERE TICKER = '{tk}'\n",
    "          AND FECHA BETWEEN '{start_date}' AND '{end_date}'\n",
    "        ORDER BY FECHA\n",
    "    \"\"\"\n",
    "    cursor.execute(q)\n",
    "    df = pd.DataFrame(cursor.fetchall(), columns=['FECHA', tk])\n",
    "    df['FECHA'] = pd.to_datetime(df['FECHA'])\n",
    "    df[tk] = pd.to_numeric(df[tk], errors='coerce').astype(float)\n",
    "    df.set_index('FECHA', inplace=True)\n",
    "    df = df.sort_index()\n",
    "    dfs[tk] = df[tk]\n",
    "\n",
    "cursor.close()\n",
    "conn.close()"
   ]
  },
  {
   "cell_type": "code",
   "execution_count": 31,
   "id": "7802ef57",
   "metadata": {},
   "outputs": [
    {
     "name": "stderr",
     "output_type": "stream",
     "text": [
      "C:\\Users\\prios\\AppData\\Local\\Temp\\ipykernel_1392\\4263937866.py:8: FutureWarning: 'Y' is deprecated and will be removed in a future version, please use 'YE' instead.\n",
      "  panel_y = panel.resample('Y').apply(last_valid)\n"
     ]
    }
   ],
   "source": [
    "panel = pd.concat(dfs, axis=1, join='outer').sort_index()\n",
    "\n",
    "def last_valid(series: pd.Series):\n",
    "    s = series.dropna()\n",
    "    return s.iloc[-1] if not s.empty else np.nan\n",
    "\n",
    "# Fin de año ('Y'): tomamos el último precio válido del año\n",
    "panel_y = panel.resample('Y').apply(last_valid)\n",
    "rets    = panel_y.pct_change(fill_method=None)     # retornos anuales"
   ]
  },
  {
   "cell_type": "code",
   "execution_count": 32,
   "id": "b66f2c72",
   "metadata": {},
   "outputs": [],
   "source": [
    "# rf del periodo (ANUAL) para excesos\n",
    "# -----------------------------\n",
    "rf_period = rf_anual  # k = 1"
   ]
  },
  {
   "cell_type": "markdown",
   "id": "c19f0d59",
   "metadata": {},
   "source": [
    "## Cálculo de Rendimientos y Prima de Mercado\n",
    "\n",
    "Se calcula el rendimiento geométrico anualizado del mercado y la prima de mercado (diferencia entre el rendimiento del mercado y la tasa libre de riesgo).\n",
    "\n",
    "---"
   ]
  },
  {
   "cell_type": "code",
   "execution_count": 33,
   "id": "ca4b7b00",
   "metadata": {},
   "outputs": [],
   "source": [
    "def geometric_annualized(r: pd.Series, periods_per_year=1):\n",
    "    r = r.dropna()\n",
    "    n = r.shape[0]\n",
    "    if n == 0:\n",
    "        return np.nan\n",
    "    gross = (1 + r).prod()\n",
    "    return gross**(periods_per_year / n) - 1  # k=1 ⇒ media geométrica anual\n",
    "\n",
    "def estimate_beta_alpha_r2(ri: pd.Series, rm: pd.Series, rf_p: float):\n",
    "    \"\"\"OLS en EXCESOS con constante: (Ri - Rf) = α + β (Rm - Rf) + ε\"\"\"\n",
    "    pair = pd.concat([rm, ri], axis=1, join='inner').dropna()\n",
    "    pair.columns = ['Rm', 'Ri']\n",
    "    nobs = pair.shape[0]\n",
    "    if nobs < 3:  # mínimo 3 retornos anuales\n",
    "        return None, None, None, nobs\n",
    "    X = pair['Rm'] - rf_p\n",
    "    y = pair['Ri'] - rf_p\n",
    "    Xc = sm.add_constant(X)\n",
    "    res = sm.OLS(y, Xc).fit()\n",
    "    beta  = float(res.params.get('Rm', np.nan))\n",
    "    alpha = float(res.params.get('const', np.nan))\n",
    "    r2    = float(res.rsquared)\n",
    "    return beta, alpha, r2, nobs"
   ]
  },
  {
   "cell_type": "code",
   "execution_count": 34,
   "id": "540e0670",
   "metadata": {},
   "outputs": [
    {
     "name": "stdout",
     "output_type": "stream",
     "text": [
      "Chequeo SML: y(β=0) = 3.00% (Rf = 3.00%)\n"
     ]
    }
   ],
   "source": [
    "# E[Rm] (geom) anual y prima de mercado\n",
    "E_Rm_ann = geometric_annualized(rets['IBEX'], periods_per_year=1)\n",
    "if pd.isna(E_Rm_ann) or rets['IBEX'].dropna().shape[0] < 3:\n",
    "    raise RuntimeError(\"No hay años suficientes para β anual. Amplía el rango o revisa la cobertura del IBEX.\")\n",
    "market_premium = E_Rm_ann - rf_anual\n",
    "\n",
    "# Chequeo: en β=0, SML debe valer Rf\n",
    "print(f\"Chequeo SML: y(β=0) = {rf_anual + market_premium*0.0:.2%} (Rf = {rf_anual:.2%})\")\n"
   ]
  },
  {
   "cell_type": "markdown",
   "id": "106e5366",
   "metadata": {},
   "source": [
    "## Estimación de Beta, Alpha y R² para Cada Activo\n",
    "\n",
    "Para cada activo, se realiza una regresión OLS de los excesos de retorno (sobre Rf) frente al mercado, obteniendo:\n",
    "- **Beta**: sensibilidad del activo respecto al mercado.\n",
    "- **Alpha**: rendimiento adicional no explicado por el mercado.\n",
    "- **R²**: ajuste de la regresión.\n",
    "Se calcula el rendimiento anualizado real y el rendimiento esperado según el CAPM (SML).\n",
    "\n",
    "---"
   ]
  },
  {
   "cell_type": "code",
   "execution_count": 35,
   "id": "ee4fbafe",
   "metadata": {},
   "outputs": [
    {
     "name": "stdout",
     "output_type": "stream",
     "text": [
      "[AVISO] PUIG.MC: años insuficientes tras alinear (n=0). Se omite.\n"
     ]
    }
   ],
   "source": [
    "#β anual, α, R² y E[Ri] anual por activo\n",
    "\n",
    "rows = []\n",
    "for tk in tickers:\n",
    "    beta, alpha, r2, nobs = estimate_beta_alpha_r2(rets[tk], rets['IBEX'], rf_period)\n",
    "    if beta is None:\n",
    "        print(f\"[AVISO] {tk}: años insuficientes tras alinear (n={nobs}). Se omite.\")\n",
    "        continue\n",
    "\n",
    "    pair = pd.concat([rets['IBEX'], rets[tk]], axis=1, join='inner').dropna()\n",
    "    E_Ri_ann = geometric_annualized(pair[tk], periods_per_year=1)\n",
    "\n",
    "    E_Ri_capm = rf_anual + beta * (E_Rm_ann - rf_anual)   # Predicción CAPM anual\n",
    "    mispricing = E_Ri_ann - E_Ri_capm                     # Real - CAPM\n",
    "\n",
    "    rows.append({\n",
    "        'Ticker': tk,\n",
    "        'Beta': beta,\n",
    "        'Alpha_excesos': alpha,\n",
    "        'R2': r2,\n",
    "        'N_obs': nobs,\n",
    "        'E_Ri_ann_geom': E_Ri_ann,\n",
    "        'E_Ri_CAPM': E_Ri_capm,\n",
    "        'Mispricing': mispricing\n",
    "    })\n"
   ]
  },
  {
   "cell_type": "code",
   "execution_count": 36,
   "id": "eb550e2a",
   "metadata": {},
   "outputs": [],
   "source": [
    "df_points = pd.DataFrame(rows)\n",
    "if df_points.empty:\n",
    "    raise RuntimeError(\"No hay puntos para graficar (β anual). Amplía el rango o revisa cobertura.\")\n",
    "df_points = df_points.sort_values('Beta').reset_index(drop=True)\n"
   ]
  },
  {
   "cell_type": "markdown",
   "id": "009069a9",
   "metadata": {},
   "source": [
    "## Clasificación de Activos según Desempeño Relativo\n",
    "\n",
    "Se compara el rendimiento real de cada activo con el rendimiento medio del mercado y con la predicción del CAPM, clasificando los activos en cuatro categorías:\n",
    "- **TP**: arriba de la media y arriba de la SML.\n",
    "- **FP**: arriba de la media pero abajo de la SML.\n",
    "- **FN**: abajo de la media pero arriba de la SML.\n",
    "- **TN**: abajo de la media y abajo de la SML.\n",
    "\n",
    "---"
   ]
  },
  {
   "cell_type": "code",
   "execution_count": 37,
   "id": "5e7f00e0",
   "metadata": {},
   "outputs": [],
   "source": [
    "# Clasificación TP / FP / FN / TN\n",
    "above_mean = df_points['E_Ri_ann_geom'] >= E_Rm_ann\n",
    "above_sml  = df_points['E_Ri_ann_geom'] >= df_points['E_Ri_CAPM']\n",
    "\n",
    "def _class_row(am, asml):\n",
    "    if am and asml:        return 'TP'  # arriba media y arriba SML\n",
    "    if am and not asml:    return 'FP'  # arriba media pero abajo SML\n",
    "    if (not am) and asml:  return 'FN'  # abajo media pero arriba SML\n",
    "    return 'TN'                           # abajo media y abajo SML\n",
    "\n",
    "df_points['Class'] = [_class_row(am, asml) for am, asml in zip(above_mean, above_sml)]"
   ]
  },
  {
   "cell_type": "code",
   "execution_count": 38,
   "id": "3934bbc4",
   "metadata": {},
   "outputs": [],
   "source": [
    "# Colores y símbolos por clase\n",
    "class_color  = {'TP':'#2ca02c', 'FP':'#ff7f0e', 'FN':'#1f77b4', 'TN':'#d62728'}\n",
    "class_symbol = {'TP':'circle',  'FP':'diamond', 'FN':'triangle-up', 'TN':'x'}\n",
    "\n",
    "# Conteos para anotación\n",
    "cnt = df_points['Class'].value_counts().to_dict()\n",
    "cTP = cnt.get('TP', 0); cFP = cnt.get('FP', 0); cFN = cnt.get('FN', 0); cTN = cnt.get('TN', 0)"
   ]
  },
  {
   "cell_type": "code",
   "execution_count": 39,
   "id": "5332822f",
   "metadata": {},
   "outputs": [],
   "source": [
    "# SML y rangos de ejes (forzamos que arranque en β=0)\n",
    "# -----------------------------\n",
    "beta_min = 0.0\n",
    "beta_max = max(1.5, float(df_points['Beta'].max() + 0.2))\n",
    "betas_line = np.linspace(beta_min, beta_max, 200)\n",
    "E_R_line   = rf_anual + market_premium * betas_line\n",
    "\n",
    "y_vals = np.concatenate([\n",
    "    df_points['E_Ri_ann_geom'].values,\n",
    "    [rf_anual, E_Rm_ann, E_R_line.min(), E_R_line.max()]\n",
    "])\n",
    "y_min = float(np.nanmin(y_vals)) - 0.03\n",
    "y_max = float(np.nanmax(y_vals)) + 0.03"
   ]
  },
  {
   "cell_type": "markdown",
   "id": "4f19c18a",
   "metadata": {},
   "source": [
    "## Visualización de la Security Market Line (SML)\n",
    "\n",
    "Se genera un gráfico interactivo con Plotly:\n",
    "- Se dibuja la SML (recta CAPM).\n",
    "- Se marcan el activo sin riesgo (Rf) y el mercado.\n",
    "- Se representan los activos por clase, con colores y símbolos distintos.\n",
    "- Se añaden anotaciones con la fórmula CAPM y la leyenda de clases.\n",
    "\n",
    "---"
   ]
  },
  {
   "cell_type": "code",
   "execution_count": 40,
   "id": "5fe95b74",
   "metadata": {},
   "outputs": [
    {
     "data": {
      "application/vnd.plotly.v1+json": {
       "config": {
        "plotlyServerURL": "https://plot.ly"
       },
       "data": [
        {
         "line": {
          "width": 3
         },
         "mode": "lines",
         "name": "SML",
         "showlegend": false,
         "type": "scatter",
         "x": [
          0,
          0.018196491172527463,
          0.036392982345054926,
          0.05458947351758239,
          0.07278596469010985,
          0.09098245586263731,
          0.10917894703516479,
          0.12737543820769223,
          0.1455719293802197,
          0.16376842055274718,
          0.18196491172527463,
          0.2001614028978021,
          0.21835789407032957,
          0.23655438524285702,
          0.25475087641538446,
          0.27294736758791194,
          0.2911438587604394,
          0.3093403499329669,
          0.32753684110549436,
          0.3457333322780218,
          0.36392982345054925,
          0.3821263146230767,
          0.4003228057956042,
          0.41851929696813167,
          0.43671578814065914,
          0.45491227931318656,
          0.47310877048571404,
          0.4913052616582415,
          0.5095017528307689,
          0.5276982440032965,
          0.5458947351758239,
          0.5640912263483514,
          0.5822877175208788,
          0.6004842086934062,
          0.6186806998659338,
          0.6368771910384612,
          0.6550736822109887,
          0.6732701733835161,
          0.6914666645560436,
          0.7096631557285711,
          0.7278596469010985,
          0.746056138073626,
          0.7642526292461534,
          0.7824491204186809,
          0.8006456115912084,
          0.8188421027637358,
          0.8370385939362633,
          0.8552350851087908,
          0.8734315762813183,
          0.8916280674538457,
          0.9098245586263731,
          0.9280210497989007,
          0.9462175409714281,
          0.9644140321439556,
          0.982610523316483,
          1.0008070144890104,
          1.0190035056615379,
          1.0371999968340655,
          1.055396488006593,
          1.0735929791791203,
          1.0917894703516478,
          1.1099859615241752,
          1.1281824526967028,
          1.1463789438692302,
          1.1645754350417576,
          1.182771926214285,
          1.2009684173868125,
          1.2191649085593401,
          1.2373613997318675,
          1.255557890904395,
          1.2737543820769224,
          1.2919508732494498,
          1.3101473644219774,
          1.3283438555945049,
          1.3465403467670323,
          1.3647368379395597,
          1.382933329112087,
          1.4011298202846147,
          1.4193263114571422,
          1.4375228026296696,
          1.455719293802197,
          1.4739157849747244,
          1.492112276147252,
          1.5103087673197795,
          1.528505258492307,
          1.5467017496648343,
          1.5648982408373617,
          1.5830947320098894,
          1.6012912231824168,
          1.6194877143549442,
          1.6376842055274716,
          1.655880696699999,
          1.6740771878725267,
          1.692273679045054,
          1.7104701702175815,
          1.728666661390109,
          1.7468631525626366,
          1.765059643735164,
          1.7832561349076914,
          1.8014526260802188,
          1.8196491172527463,
          1.837845608425274,
          1.8560420995978013,
          1.8742385907703287,
          1.8924350819428561,
          1.9106315731153836,
          1.9288280642879112,
          1.9470245554604386,
          1.965221046632966,
          1.9834175378054935,
          2.001614028978021,
          2.0198105201505485,
          2.0380070113230757,
          2.0562035024956034,
          2.074399993668131,
          2.092596484840658,
          2.110792976013186,
          2.128989467185713,
          2.1471859583582407,
          2.1653824495307683,
          2.1835789407032955,
          2.201775431875823,
          2.2199719230483503,
          2.238168414220878,
          2.2563649053934056,
          2.274561396565933,
          2.2927578877384605,
          2.3109543789109876,
          2.3291508700835153,
          2.347347361256043,
          2.36554385242857,
          2.3837403436010978,
          2.401936834773625,
          2.4201333259461526,
          2.4383298171186802,
          2.4565263082912074,
          2.474722799463735,
          2.4929192906362623,
          2.51111578180879,
          2.5293122729813176,
          2.5475087641538448,
          2.5657052553263724,
          2.5839017464988996,
          2.6020982376714272,
          2.620294728843955,
          2.638491220016482,
          2.6566877111890097,
          2.674884202361537,
          2.6930806935340645,
          2.711277184706592,
          2.7294736758791194,
          2.747670167051647,
          2.765866658224174,
          2.784063149396702,
          2.8022596405692295,
          2.8204561317417567,
          2.8386526229142843,
          2.8568491140868115,
          2.875045605259339,
          2.893242096431867,
          2.911438587604394,
          2.9296350787769216,
          2.947831569949449,
          2.9660280611219765,
          2.984224552294504,
          3.0024210434670313,
          3.020617534639559,
          3.038814025812086,
          3.057010516984614,
          3.0752070081571414,
          3.0934034993296686,
          3.1115999905021963,
          3.1297964816747235,
          3.147992972847251,
          3.1661894640197787,
          3.184385955192306,
          3.2025824463648336,
          3.2207789375373608,
          3.2389754287098884,
          3.257171919882416,
          3.2753684110549433,
          3.293564902227471,
          3.311761393399998,
          3.3299578845725257,
          3.3481543757450534,
          3.3663508669175806,
          3.384547358090108,
          3.4027438492626354,
          3.420940340435163,
          3.4391368316076907,
          3.457333322780218,
          3.4755298139527455,
          3.493726305125273,
          3.5119227962978004,
          3.530119287470328,
          3.548315778642855,
          3.566512269815383,
          3.5847087609879105,
          3.6029052521604377,
          3.6211017433329653
         ],
         "y": [
          0.03,
          0.03117751550629233,
          0.03235503101258466,
          0.033532546518877,
          0.03471006202516933,
          0.03588757753146166,
          0.037065093037753995,
          0.038242608544046326,
          0.03942012405033866,
          0.040597639556630996,
          0.04177515506292333,
          0.04295267056921566,
          0.04413018607550799,
          0.04530770158180032,
          0.046485217088092654,
          0.047662732594384985,
          0.048840248100677316,
          0.050017763606969655,
          0.051195279113261986,
          0.05237279461955432,
          0.05355031012584665,
          0.05472782563213899,
          0.05590534113843132,
          0.05708285664472365,
          0.05826037215101598,
          0.059437887657308314,
          0.060615403163600645,
          0.061792918669892984,
          0.06297043417618531,
          0.06414794968247764,
          0.06532546518876997,
          0.06650298069506232,
          0.06768049620135463,
          0.06885801170764697,
          0.07003552721393931,
          0.07121304272023164,
          0.07239055822652397,
          0.0735680737328163,
          0.07474558923910864,
          0.07592310474540098,
          0.0771006202516933,
          0.07827813575798565,
          0.07945565126427798,
          0.08063316677057031,
          0.08181068227686264,
          0.08298819778315497,
          0.0841657132894473,
          0.08534322879573963,
          0.08652074430203197,
          0.0876982598083243,
          0.08887577531461663,
          0.09005329082090896,
          0.09123080632720129,
          0.09240832183349362,
          0.09358583733978597,
          0.09476335284607829,
          0.09594086835237062,
          0.09711838385866296,
          0.0982958993649553,
          0.09947341487124763,
          0.10065093037753996,
          0.10182844588383229,
          0.10300596139012463,
          0.10418347689641697,
          0.10536099240270928,
          0.10653850790900161,
          0.10771602341529395,
          0.10889353892158629,
          0.11007105442787862,
          0.11124856993417095,
          0.11242608544046329,
          0.11360360094675562,
          0.11478111645304795,
          0.11595863195934028,
          0.11713614746563261,
          0.11831366297192494,
          0.11949117847821727,
          0.12066869398450962,
          0.12184620949080195,
          0.12302372499709428,
          0.1242012405033866,
          0.12537875600967893,
          0.12655627151597126,
          0.12773378702226362,
          0.12891130252855593,
          0.13008881803484829,
          0.1312663335411406,
          0.13244384904743295,
          0.13362136455372528,
          0.1347988800600176,
          0.13597639556630992,
          0.13715391107260227,
          0.1383314265788946,
          0.13950894208518694,
          0.14068645759147927,
          0.1418639730977716,
          0.14304148860406396,
          0.14421900411035626,
          0.1453965196166486,
          0.14657403512294093,
          0.14775155062923326,
          0.1489290661355256,
          0.15010658164181795,
          0.15128409714811025,
          0.1524616126544026,
          0.15363912816069492,
          0.15481664366698727,
          0.1559941591732796,
          0.15717167467957194,
          0.15834919018586427,
          0.15952670569215657,
          0.16070422119844893,
          0.16188173670474124,
          0.1630592522110336,
          0.16423676771732593,
          0.16541428322361826,
          0.1665917987299106,
          0.16776931423620292,
          0.16894682974249525,
          0.17012434524878758,
          0.17130186075507992,
          0.17247937626137225,
          0.17365689176766458,
          0.1748344072739569,
          0.17601192278024927,
          0.17718943828654157,
          0.17836695379283393,
          0.17954446929912624,
          0.18072198480541857,
          0.18189950031171093,
          0.18307701581800323,
          0.1842545313242956,
          0.1854320468305879,
          0.18660956233688025,
          0.18778707784317258,
          0.1889645933494649,
          0.19014210885575725,
          0.19131962436204955,
          0.1924971398683419,
          0.19367465537463424,
          0.19485217088092657,
          0.1960296863872189,
          0.19720720189351124,
          0.19838471739980357,
          0.1995622329060959,
          0.20073974841238823,
          0.20191726391868056,
          0.2030947794249729,
          0.20427229493126522,
          0.20544981043755758,
          0.2066273259438499,
          0.20780484145014225,
          0.20898235695643455,
          0.21015987246272688,
          0.21133738796901924,
          0.21251490347531155,
          0.2136924189816039,
          0.2148699344878962,
          0.21604744999418857,
          0.2172249655004809,
          0.2184024810067732,
          0.21957999651306556,
          0.22075751201935787,
          0.22193502752565022,
          0.22311254303194256,
          0.2242900585382349,
          0.22546757404452722,
          0.22664508955081955,
          0.22782260505711188,
          0.2290001205634042,
          0.23017763606969655,
          0.23135515157598888,
          0.2325326670822812,
          0.23371018258857354,
          0.2348876980948659,
          0.2360652136011582,
          0.23724272910745056,
          0.23842024461374287,
          0.2395977601200352,
          0.24077527562632756,
          0.24195279113261986,
          0.24313030663891222,
          0.24430782214520452,
          0.24548533765149688,
          0.2466628531577892,
          0.24784036866408152,
          0.24901788417037388,
          0.25019539967666615,
          0.25137291518295857,
          0.25255043068925087,
          0.2537279461955432,
          0.25490546170183553,
          0.2560829772081279,
          0.2572604927144202,
          0.2584380082207125,
          0.25961552372700486,
          0.2607930392332972,
          0.2619705547395895,
          0.2631480702458818,
          0.26432558575217424
         ]
        },
        {
         "hovertemplate": "<b>Activo sin riesgo</b><br>β=0.00<br>Rendimiento= %{y:.2%}<extra></extra>",
         "marker": {
          "line": {
           "width": 1.5
          },
          "size": 12,
          "symbol": "x"
         },
         "mode": "markers",
         "name": "Rf",
         "showlegend": false,
         "type": "scatter",
         "x": [
          0
         ],
         "y": [
          0.03
         ]
        },
        {
         "hovertemplate": "<b>Mercado</b><br>β=1.00<br>E[Rm]= %{y:.2%}<extra></extra>",
         "marker": {
          "line": {
           "width": 1.5
          },
          "size": 12
         },
         "mode": "markers",
         "name": "Mercado",
         "showlegend": false,
         "type": "scatter",
         "x": [
          1
         ],
         "y": [
          0.09471113002654663
         ]
        },
        {
         "customdata": [
          [
           "BKT.MC",
           0.09471113002654663,
           0.03,
           -0.06504717277943413,
           0.33454155224792553,
           0.5943656719614794,
           0.30947367790783836,
           4,
           "↑media & ↑SML"
          ],
          [
           "CABK.MC",
           0.09471113002654663,
           0.03,
           -0.0638685828120413,
           0.3437118511613442,
           0.5642414937732327,
           0.32031332693767456,
           4,
           "↑media & ↑SML"
          ],
          [
           "LOG.MC",
           0.09471113002654663,
           0.03,
           -0.03279514830922885,
           0.20811055826951344,
           0.7622278567979437,
           0.197644929134484,
           4,
           "↑media & ↑SML"
          ],
          [
           "UNI.MC",
           0.09471113002654663,
           0.03,
           -0.015138382085376885,
           0.19278769321014266,
           0.12764515647798536,
           0.17049446350959896,
           4,
           "↑media & ↑SML"
          ],
          [
           "SAB.MC",
           0.09471113002654663,
           0.03,
           -0.004400378439088165,
           0.5346223811604243,
           0.10417217255319755,
           0.5218533852817654,
           4,
           "↑media & ↑SML"
          ],
          [
           "SCYR.MC",
           0.09471113002654663,
           0.03,
           0.040076403920183176,
           0.08936287072809433,
           0.044730359591440116,
           0.08752980838406045,
           4,
           "↑media & ↑SML"
          ],
          [
           "MAP.MC",
           0.09471113002654663,
           0.03,
           0.05801153355765469,
           0.056864138341073935,
           0.22871335555234606,
           0.0551550737914875,
           4,
           "↑media & ↑SML"
          ],
          [
           "IDR.MC",
           0.09471113002654663,
           0.03,
           0.06725984734027834,
           0.18411933235675593,
           0.4069397235048897,
           0.18345443764997627,
           4,
           "↑media & ↑SML"
          ],
          [
           "BBVA.MC",
           0.09471113002654663,
           0.03,
           0.10253882268628288,
           0.1376403781799937,
           0.616070830888549,
           0.13460458062335134,
           4,
           "↑media & ↑SML"
          ],
          [
           "ACS.MC",
           0.09471113002654663,
           0.03,
           0.11404366255174221,
           0.06047053104231659,
           0.35846727256383604,
           0.04503730285188094,
           4,
           "↑media & ↑SML"
          ],
          [
           "SAN.MC",
           0.09471113002654663,
           0.03,
           0.11582849885491264,
           0.03785231306019912,
           0.9641317300922413,
           0.03582093011604115,
           4,
           "↑media & ↑SML"
          ],
          [
           "FER.MC",
           0.09471113002654663,
           0.03,
           0.13275516023027956,
           0.030804239940649125,
           0.9252776424709395,
           0.024967123673555247,
           4,
           "↑media & ↑SML"
          ]
         ],
         "hovertemplate": "<b>%{customdata[0]}</b><br>Clase = TP (%{customdata[8]})<br>n = %{customdata[7]} años<br>β = %{x:.3f} | E[Ri] (geom, anual) = %{y:.2%}<br>E[Rm] = %{customdata[1]:.2%} | Rf = %{customdata[2]:.2%}<br><b>CAPM</b>: E[Ri]_CAPM = Rf + β·(E[Rm]−Rf) = %{customdata[2]:.2%} + %{x:.3f}·(%{customdata[1]:.2%} − %{customdata[2]:.2%}) = %{customdata[3]:.2%}<br>α (excesos) = %{customdata[4]:.2%} | R² = %{customdata[5]:.3f}<br>Mispricing = E[Ri] − E[Ri]_CAPM = %{customdata[6]:.2%}<extra></extra>",
         "marker": {
          "color": "#2ca02c",
          "line": {
           "color": "rgba(0,0,0,0.45)",
           "width": 1
          },
          "size": 10,
          "symbol": "circle"
         },
         "mode": "markers",
         "name": "Activos TP",
         "showlegend": false,
         "type": "scatter",
         "x": [
          -1.4687917324337043,
          -1.4505786372998482,
          -0.9703917746988533,
          -0.6975366071780795,
          -0.5315990993354003,
          0.15571361396485436,
          0.43287041265024184,
          0.5757873077628706,
          1.1209636218147492,
          1.29875127381124,
          1.326332870708686,
          1.5879055146792524
         ],
         "y": [
          0.24442650512840425,
          0.25644474412563323,
          0.16484978082525514,
          0.15535608142422208,
          0.5174530068426773,
          0.12760621230424363,
          0.11316660734914219,
          0.2507142849902546,
          0.23714340330963424,
          0.15908096540362315,
          0.1516494289709538,
          0.1577222839038348
         ]
        },
        {
         "customdata": [
          [
           "ITX.MC",
           0.09471113002654663,
           0.03,
           0.1880221102552329,
           0.002719046705877491,
           0.9470080324255508,
           -0.012995524067699604,
           4,
           "↑media & ↓SML"
          ],
          [
           "IAG.MC",
           0.09471113002654663,
           0.03,
           0.20267290897318171,
           0.05532564024235763,
           0.3430512667715282,
           -0.009583903793799614,
           4,
           "↑media & ↓SML"
          ],
          [
           "ROVI.MC",
           0.09471113002654663,
           0.03,
           0.2513833597468649,
           0.01908109944869013,
           0.39581807331347285,
           -0.11613958763318788,
           4,
           "↑media & ↓SML"
          ]
         ],
         "hovertemplate": "<b>%{customdata[0]}</b><br>Clase = FP (%{customdata[8]})<br>n = %{customdata[7]} años<br>β = %{x:.3f} | E[Ri] (geom, anual) = %{y:.2%}<br>E[Rm] = %{customdata[1]:.2%} | Rf = %{customdata[2]:.2%}<br><b>CAPM</b>: E[Ri]_CAPM = Rf + β·(E[Rm]−Rf) = %{customdata[2]:.2%} + %{x:.3f}·(%{customdata[1]:.2%} − %{customdata[2]:.2%}) = %{customdata[3]:.2%}<br>α (excesos) = %{customdata[4]:.2%} | R² = %{customdata[5]:.3f}<br>Mispricing = E[Ri] − E[Ri]_CAPM = %{customdata[6]:.2%}<extra></extra>",
         "marker": {
          "color": "#ff7f0e",
          "line": {
           "color": "rgba(0,0,0,0.45)",
           "width": 1
          },
          "size": 10,
          "symbol": "diamond"
         },
         "mode": "markers",
         "name": "Activos FP",
         "showlegend": false,
         "type": "scatter",
         "x": [
          2.441961841655478,
          2.66836491500528,
          3.421101743332965
         ],
         "y": [
          0.1750265861875333,
          0.1930890051793821,
          0.135243772113677
         ]
        },
        {
         "customdata": [
          [
           "REP.MC",
           0.09471113002654663,
           0.03,
           -0.10399783458404235,
           0.23015493119422567,
           0.836293334977501,
           0.19503648716368152,
           4,
           "↓media & ↑SML"
          ],
          [
           "ANA.MC",
           0.09471113002654663,
           0.03,
           -0.045024805826038544,
           0.06436900748409624,
           0.2087557283489867,
           0.027427787234523132,
           4,
           "↓media & ↑SML"
          ]
         ],
         "hovertemplate": "<b>%{customdata[0]}</b><br>Clase = FN (%{customdata[8]})<br>n = %{customdata[7]} años<br>β = %{x:.3f} | E[Ri] (geom, anual) = %{y:.2%}<br>E[Rm] = %{customdata[1]:.2%} | Rf = %{customdata[2]:.2%}<br><b>CAPM</b>: E[Ri]_CAPM = Rf + β·(E[Rm]−Rf) = %{customdata[2]:.2%} + %{x:.3f}·(%{customdata[1]:.2%} − %{customdata[2]:.2%}) = %{customdata[3]:.2%}<br>α (excesos) = %{customdata[4]:.2%} | R² = %{customdata[5]:.3f}<br>Mispricing = E[Ri] − E[Ri]_CAPM = %{customdata[6]:.2%}<extra></extra>",
         "marker": {
          "color": "#1f77b4",
          "line": {
           "color": "rgba(0,0,0,0.45)",
           "width": 1
          },
          "size": 10,
          "symbol": "triangle-up"
         },
         "mode": "markers",
         "name": "Activos FN",
         "showlegend": false,
         "type": "scatter",
         "x": [
          -2.0707076901465333,
          -1.1593802456433833
         ],
         "y": [
          0.09103865257963917,
          -0.017597018591515412
         ]
        },
        {
         "customdata": [
          [
           "ANE.MC",
           0.09471113002654663,
           0.03,
           -0.0607138740842602,
           -0.08258663056386562,
           0.704668735152742,
           -0.12178261510239387,
           3,
           "↓media & ↓SML"
          ],
          [
           "SLR.MC",
           0.09471113002654663,
           0.03,
           0.0134090712921631,
           -0.20432311820708937,
           0.010430415213555588,
           -0.2551451697719182,
           4,
           "↓media & ↓SML"
          ],
          [
           "MTS.MC",
           0.09471113002654663,
           0.03,
           0.045163912736380936,
           0.021512971367319906,
           0.00921980380746601,
           -0.004183016744263975,
           4,
           "↓media & ↓SML"
          ],
          [
           "IBE.MC",
           0.09471113002654663,
           0.03,
           0.04688528918533171,
           -0.011660782580748928,
           0.09424424736754489,
           -0.014322552399364162,
           4,
           "↓media & ↓SML"
          ],
          [
           "RED.MC",
           0.09471113002654663,
           0.03,
           0.051477007682987026,
           -0.05005137829684205,
           0.08301670244275994,
           -0.05560080120768097,
           4,
           "↓media & ↓SML"
          ],
          [
           "NTGY.MC",
           0.09471113002654663,
           0.03,
           0.06101163277506068,
           0.020495707063337688,
           0.03483183509821852,
           -0.0072277672590696646,
           4,
           "↓media & ↓SML"
          ],
          [
           "ENG.MC",
           0.09471113002654663,
           0.03,
           0.06182490711142463,
           -0.15142776970798824,
           0.10717880502508359,
           -0.16195544509463777,
           4,
           "↓media & ↓SML"
          ],
          [
           "TEF.MC",
           0.09471113002654663,
           0.03,
           0.0690994941958837,
           -0.016182430517384026,
           0.3028137826459023,
           -0.019586830598940966,
           4,
           "↓media & ↓SML"
          ],
          [
           "MRL.MC",
           0.09471113002654663,
           0.03,
           0.0710227484170694,
           0.0016216986388349272,
           0.2975352838090132,
           -0.002020735023943898,
           4,
           "↓media & ↓SML"
          ],
          [
           "ELE.MC",
           0.09471113002654663,
           0.03,
           0.08044993676907901,
           -0.09720215891009466,
           0.6170298992920119,
           -0.09861214870384098,
           4,
           "↓media & ↓SML"
          ],
          [
           "ACX.MC",
           0.09471113002654663,
           0.03,
           0.0869539992249263,
           -0.06344754581715897,
           0.2457875187339097,
           -0.07563556497621249,
           4,
           "↓media & ↓SML"
          ],
          [
           "COL.MC",
           0.09471113002654663,
           0.03,
           0.09442264761194852,
           -0.19033821691684968,
           0.4575610046325089,
           -0.19830230257569892,
           4,
           "↓media & ↓SML"
          ],
          [
           "CLNX.MC",
           0.09471113002654663,
           0.03,
           0.1372410425920768,
           -0.21112901054481562,
           0.5949354630096285,
           -0.23231225668844147,
           4,
           "↓media & ↓SML"
          ],
          [
           "AMS.MC",
           0.09471113002654663,
           0.03,
           0.1412970741814492,
           -0.09925319018428201,
           0.9128413207938061,
           -0.10685205214975402,
           4,
           "↓media & ↓SML"
          ],
          [
           "AENA.MC",
           0.09471113002654663,
           0.03,
           0.15774742724245897,
           -0.06194410755083378,
           0.934721851394506,
           -0.0722922686398019,
           4,
           "↓media & ↓SML"
          ],
          [
           "GRF.MC",
           0.09471113002654663,
           0.03,
           0.1771079229504164,
           -0.34563950991341147,
           0.47111970739703657,
           -0.3903829079608735,
           4,
           "↓media & ↓SML"
          ],
          [
           "FDR.MC",
           0.09471113002654663,
           0.03,
           0.22074482260271872,
           -0.07596987930069486,
           0.43855575252529266,
           -0.19139422572820936,
           4,
           "↓media & ↓SML"
          ]
         ],
         "hovertemplate": "<b>%{customdata[0]}</b><br>Clase = TN (%{customdata[8]})<br>n = %{customdata[7]} años<br>β = %{x:.3f} | E[Ri] (geom, anual) = %{y:.2%}<br>E[Rm] = %{customdata[1]:.2%} | Rf = %{customdata[2]:.2%}<br><b>CAPM</b>: E[Ri]_CAPM = Rf + β·(E[Rm]−Rf) = %{customdata[2]:.2%} + %{x:.3f}·(%{customdata[1]:.2%} − %{customdata[2]:.2%}) = %{customdata[3]:.2%}<br>α (excesos) = %{customdata[4]:.2%} | R² = %{customdata[5]:.3f}<br>Mispricing = E[Ri] − E[Ri]_CAPM = %{customdata[6]:.2%}<extra></extra>",
         "marker": {
          "color": "#d62728",
          "line": {
           "color": "rgba(0,0,0,0.45)",
           "width": 1
          },
          "size": 10,
          "symbol": "x"
         },
         "mode": "markers",
         "name": "Activos TN",
         "showlegend": false,
         "type": "scatter",
         "x": [
          -1.4018280015670626,
          -0.2563844689627697,
          0.23433237420147357,
          0.2609333074295691,
          0.33189047501065816,
          0.4792318224444341,
          0.4917995883918116,
          0.6042159081419811,
          0.6339365175703241,
          0.7796176136683564,
          0.8801267911959179,
          0.9955419969566321,
          1.6572271655290673,
          1.7199062067961335,
          1.9741183192142182,
          2.273301716259134,
          2.947635476686451
         ],
         "y": [
          -0.18249648918665407,
          -0.24173609847975508,
          0.04098089599211696,
          0.03256273678596755,
          -0.004123793524693942,
          0.053783865515991014,
          -0.10013053798321314,
          0.04951266359694273,
          0.0690020133931255,
          -0.018162211934761974,
          0.011318434248713816,
          -0.1038796549637504,
          -0.09507121409636465,
          0.034445022031695194,
          0.08545515860265707,
          -0.21327498501045705,
          0.02935059687450936
         ]
        },
        {
         "mode": "text",
         "name": "Etiquetas",
         "showlegend": false,
         "text": [
          "REP.MC",
          "BKT.MC",
          "CABK.MC",
          "ANE.MC",
          "ANA.MC",
          "LOG.MC",
          "UNI.MC",
          "SAB.MC",
          "SLR.MC",
          "SCYR.MC",
          "MTS.MC",
          "IBE.MC",
          "RED.MC",
          "MAP.MC",
          "NTGY.MC",
          "ENG.MC",
          "IDR.MC",
          "TEF.MC",
          "MRL.MC",
          "ELE.MC",
          "ACX.MC",
          "COL.MC",
          "BBVA.MC",
          "ACS.MC",
          "SAN.MC",
          "FER.MC",
          "CLNX.MC",
          "AMS.MC",
          "AENA.MC",
          "GRF.MC",
          "ITX.MC",
          "IAG.MC",
          "FDR.MC",
          "ROVI.MC"
         ],
         "textfont": {
          "size": 10
         },
         "textposition": "top center",
         "type": "scatter",
         "x": [
          -2.0707076901465333,
          -1.4687917324337043,
          -1.4505786372998482,
          -1.4018280015670626,
          -1.1593802456433833,
          -0.9703917746988533,
          -0.6975366071780795,
          -0.5315990993354003,
          -0.2563844689627697,
          0.15571361396485436,
          0.23433237420147357,
          0.2609333074295691,
          0.33189047501065816,
          0.43287041265024184,
          0.4792318224444341,
          0.4917995883918116,
          0.5757873077628706,
          0.6042159081419811,
          0.6339365175703241,
          0.7796176136683564,
          0.8801267911959179,
          0.9955419969566321,
          1.1209636218147492,
          1.29875127381124,
          1.326332870708686,
          1.5879055146792524,
          1.6572271655290673,
          1.7199062067961335,
          1.9741183192142182,
          2.273301716259134,
          2.441961841655478,
          2.66836491500528,
          2.947635476686451,
          3.421101743332965
         ],
         "y": [
          0.09103865257963917,
          0.24442650512840425,
          0.25644474412563323,
          -0.18249648918665407,
          -0.017597018591515412,
          0.16484978082525514,
          0.15535608142422208,
          0.5174530068426773,
          -0.24173609847975508,
          0.12760621230424363,
          0.04098089599211696,
          0.03256273678596755,
          -0.004123793524693942,
          0.11316660734914219,
          0.053783865515991014,
          -0.10013053798321314,
          0.2507142849902546,
          0.04951266359694273,
          0.0690020133931255,
          -0.018162211934761974,
          0.011318434248713816,
          -0.1038796549637504,
          0.23714340330963424,
          0.15908096540362315,
          0.1516494289709538,
          0.1577222839038348,
          -0.09507121409636465,
          0.034445022031695194,
          0.08545515860265707,
          -0.21327498501045705,
          0.1750265861875333,
          0.1930890051793821,
          0.02935059687450936,
          0.135243772113677
         ]
        }
       ],
       "layout": {
        "annotations": [
         {
          "showarrow": false,
          "text": "Ȳ = E[Rm] 9.47%",
          "x": 1,
          "xanchor": "right",
          "xref": "x domain",
          "y": 0.09471113002654663,
          "yanchor": "bottom",
          "yref": "y",
          "yshift": 6
         },
         {
          "align": "right",
          "bgcolor": "rgba(255,255,255,0.90)",
          "bordercolor": "rgba(0,0,0,0.15)",
          "borderpad": 6,
          "borderwidth": 1,
          "font": {
           "size": 11
          },
          "showarrow": false,
          "text": "CAPM:  E[Ri] = Rf + β·(E[Rm]−Rf)<br>Rf = 3.00% · E[Rm] (geom) = 9.47%<br>Prima de mercado = 6.47%",
          "x": 0.99,
          "xanchor": "right",
          "xref": "paper",
          "y": 0.98,
          "yanchor": "top",
          "yref": "paper"
         },
         {
          "align": "right",
          "bgcolor": "rgba(255,255,255,0.90)",
          "bordercolor": "rgba(0,0,0,0.15)",
          "borderpad": 6,
          "borderwidth": 1,
          "font": {
           "size": 11
          },
          "showarrow": false,
          "text": "<b>Clases</b>: <span style='color:#2ca02c'>■ TP</span> <span style='color:#ff7f0e'>■ FP</span> <span style='color:#1f77b4'>■ FN</span> <span style='color:#d62728'>■ TN</span><br>TP=12 · FP=3 · FN=2 · TN=17",
          "x": 0.98,
          "xanchor": "right",
          "xref": "paper",
          "y": 0.06,
          "yanchor": "bottom",
          "yref": "paper"
         }
        ],
        "hovermode": "closest",
        "margin": {
         "b": 80,
         "l": 40,
         "r": 60,
         "t": 90
        },
        "shapes": [
         {
          "line": {
           "dash": "dash",
           "width": 2
          },
          "type": "line",
          "x0": 0,
          "x1": 1,
          "xref": "x domain",
          "y0": 0.09471113002654663,
          "y1": 0.09471113002654663,
          "yref": "y"
         }
        ],
        "showlegend": false,
        "template": {
         "data": {
          "bar": [
           {
            "error_x": {
             "color": "rgb(36,36,36)"
            },
            "error_y": {
             "color": "rgb(36,36,36)"
            },
            "marker": {
             "line": {
              "color": "white",
              "width": 0.5
             },
             "pattern": {
              "fillmode": "overlay",
              "size": 10,
              "solidity": 0.2
             }
            },
            "type": "bar"
           }
          ],
          "barpolar": [
           {
            "marker": {
             "line": {
              "color": "white",
              "width": 0.5
             },
             "pattern": {
              "fillmode": "overlay",
              "size": 10,
              "solidity": 0.2
             }
            },
            "type": "barpolar"
           }
          ],
          "carpet": [
           {
            "aaxis": {
             "endlinecolor": "rgb(36,36,36)",
             "gridcolor": "white",
             "linecolor": "white",
             "minorgridcolor": "white",
             "startlinecolor": "rgb(36,36,36)"
            },
            "baxis": {
             "endlinecolor": "rgb(36,36,36)",
             "gridcolor": "white",
             "linecolor": "white",
             "minorgridcolor": "white",
             "startlinecolor": "rgb(36,36,36)"
            },
            "type": "carpet"
           }
          ],
          "choropleth": [
           {
            "colorbar": {
             "outlinewidth": 1,
             "tickcolor": "rgb(36,36,36)",
             "ticks": "outside"
            },
            "type": "choropleth"
           }
          ],
          "contour": [
           {
            "colorbar": {
             "outlinewidth": 1,
             "tickcolor": "rgb(36,36,36)",
             "ticks": "outside"
            },
            "colorscale": [
             [
              0,
              "#440154"
             ],
             [
              0.1111111111111111,
              "#482878"
             ],
             [
              0.2222222222222222,
              "#3e4989"
             ],
             [
              0.3333333333333333,
              "#31688e"
             ],
             [
              0.4444444444444444,
              "#26828e"
             ],
             [
              0.5555555555555556,
              "#1f9e89"
             ],
             [
              0.6666666666666666,
              "#35b779"
             ],
             [
              0.7777777777777778,
              "#6ece58"
             ],
             [
              0.8888888888888888,
              "#b5de2b"
             ],
             [
              1,
              "#fde725"
             ]
            ],
            "type": "contour"
           }
          ],
          "contourcarpet": [
           {
            "colorbar": {
             "outlinewidth": 1,
             "tickcolor": "rgb(36,36,36)",
             "ticks": "outside"
            },
            "type": "contourcarpet"
           }
          ],
          "heatmap": [
           {
            "colorbar": {
             "outlinewidth": 1,
             "tickcolor": "rgb(36,36,36)",
             "ticks": "outside"
            },
            "colorscale": [
             [
              0,
              "#440154"
             ],
             [
              0.1111111111111111,
              "#482878"
             ],
             [
              0.2222222222222222,
              "#3e4989"
             ],
             [
              0.3333333333333333,
              "#31688e"
             ],
             [
              0.4444444444444444,
              "#26828e"
             ],
             [
              0.5555555555555556,
              "#1f9e89"
             ],
             [
              0.6666666666666666,
              "#35b779"
             ],
             [
              0.7777777777777778,
              "#6ece58"
             ],
             [
              0.8888888888888888,
              "#b5de2b"
             ],
             [
              1,
              "#fde725"
             ]
            ],
            "type": "heatmap"
           }
          ],
          "heatmapgl": [
           {
            "colorbar": {
             "outlinewidth": 1,
             "tickcolor": "rgb(36,36,36)",
             "ticks": "outside"
            },
            "colorscale": [
             [
              0,
              "#440154"
             ],
             [
              0.1111111111111111,
              "#482878"
             ],
             [
              0.2222222222222222,
              "#3e4989"
             ],
             [
              0.3333333333333333,
              "#31688e"
             ],
             [
              0.4444444444444444,
              "#26828e"
             ],
             [
              0.5555555555555556,
              "#1f9e89"
             ],
             [
              0.6666666666666666,
              "#35b779"
             ],
             [
              0.7777777777777778,
              "#6ece58"
             ],
             [
              0.8888888888888888,
              "#b5de2b"
             ],
             [
              1,
              "#fde725"
             ]
            ],
            "type": "heatmapgl"
           }
          ],
          "histogram": [
           {
            "marker": {
             "line": {
              "color": "white",
              "width": 0.6
             }
            },
            "type": "histogram"
           }
          ],
          "histogram2d": [
           {
            "colorbar": {
             "outlinewidth": 1,
             "tickcolor": "rgb(36,36,36)",
             "ticks": "outside"
            },
            "colorscale": [
             [
              0,
              "#440154"
             ],
             [
              0.1111111111111111,
              "#482878"
             ],
             [
              0.2222222222222222,
              "#3e4989"
             ],
             [
              0.3333333333333333,
              "#31688e"
             ],
             [
              0.4444444444444444,
              "#26828e"
             ],
             [
              0.5555555555555556,
              "#1f9e89"
             ],
             [
              0.6666666666666666,
              "#35b779"
             ],
             [
              0.7777777777777778,
              "#6ece58"
             ],
             [
              0.8888888888888888,
              "#b5de2b"
             ],
             [
              1,
              "#fde725"
             ]
            ],
            "type": "histogram2d"
           }
          ],
          "histogram2dcontour": [
           {
            "colorbar": {
             "outlinewidth": 1,
             "tickcolor": "rgb(36,36,36)",
             "ticks": "outside"
            },
            "colorscale": [
             [
              0,
              "#440154"
             ],
             [
              0.1111111111111111,
              "#482878"
             ],
             [
              0.2222222222222222,
              "#3e4989"
             ],
             [
              0.3333333333333333,
              "#31688e"
             ],
             [
              0.4444444444444444,
              "#26828e"
             ],
             [
              0.5555555555555556,
              "#1f9e89"
             ],
             [
              0.6666666666666666,
              "#35b779"
             ],
             [
              0.7777777777777778,
              "#6ece58"
             ],
             [
              0.8888888888888888,
              "#b5de2b"
             ],
             [
              1,
              "#fde725"
             ]
            ],
            "type": "histogram2dcontour"
           }
          ],
          "mesh3d": [
           {
            "colorbar": {
             "outlinewidth": 1,
             "tickcolor": "rgb(36,36,36)",
             "ticks": "outside"
            },
            "type": "mesh3d"
           }
          ],
          "parcoords": [
           {
            "line": {
             "colorbar": {
              "outlinewidth": 1,
              "tickcolor": "rgb(36,36,36)",
              "ticks": "outside"
             }
            },
            "type": "parcoords"
           }
          ],
          "pie": [
           {
            "automargin": true,
            "type": "pie"
           }
          ],
          "scatter": [
           {
            "fillpattern": {
             "fillmode": "overlay",
             "size": 10,
             "solidity": 0.2
            },
            "type": "scatter"
           }
          ],
          "scatter3d": [
           {
            "line": {
             "colorbar": {
              "outlinewidth": 1,
              "tickcolor": "rgb(36,36,36)",
              "ticks": "outside"
             }
            },
            "marker": {
             "colorbar": {
              "outlinewidth": 1,
              "tickcolor": "rgb(36,36,36)",
              "ticks": "outside"
             }
            },
            "type": "scatter3d"
           }
          ],
          "scattercarpet": [
           {
            "marker": {
             "colorbar": {
              "outlinewidth": 1,
              "tickcolor": "rgb(36,36,36)",
              "ticks": "outside"
             }
            },
            "type": "scattercarpet"
           }
          ],
          "scattergeo": [
           {
            "marker": {
             "colorbar": {
              "outlinewidth": 1,
              "tickcolor": "rgb(36,36,36)",
              "ticks": "outside"
             }
            },
            "type": "scattergeo"
           }
          ],
          "scattergl": [
           {
            "marker": {
             "colorbar": {
              "outlinewidth": 1,
              "tickcolor": "rgb(36,36,36)",
              "ticks": "outside"
             }
            },
            "type": "scattergl"
           }
          ],
          "scattermapbox": [
           {
            "marker": {
             "colorbar": {
              "outlinewidth": 1,
              "tickcolor": "rgb(36,36,36)",
              "ticks": "outside"
             }
            },
            "type": "scattermapbox"
           }
          ],
          "scatterpolar": [
           {
            "marker": {
             "colorbar": {
              "outlinewidth": 1,
              "tickcolor": "rgb(36,36,36)",
              "ticks": "outside"
             }
            },
            "type": "scatterpolar"
           }
          ],
          "scatterpolargl": [
           {
            "marker": {
             "colorbar": {
              "outlinewidth": 1,
              "tickcolor": "rgb(36,36,36)",
              "ticks": "outside"
             }
            },
            "type": "scatterpolargl"
           }
          ],
          "scatterternary": [
           {
            "marker": {
             "colorbar": {
              "outlinewidth": 1,
              "tickcolor": "rgb(36,36,36)",
              "ticks": "outside"
             }
            },
            "type": "scatterternary"
           }
          ],
          "surface": [
           {
            "colorbar": {
             "outlinewidth": 1,
             "tickcolor": "rgb(36,36,36)",
             "ticks": "outside"
            },
            "colorscale": [
             [
              0,
              "#440154"
             ],
             [
              0.1111111111111111,
              "#482878"
             ],
             [
              0.2222222222222222,
              "#3e4989"
             ],
             [
              0.3333333333333333,
              "#31688e"
             ],
             [
              0.4444444444444444,
              "#26828e"
             ],
             [
              0.5555555555555556,
              "#1f9e89"
             ],
             [
              0.6666666666666666,
              "#35b779"
             ],
             [
              0.7777777777777778,
              "#6ece58"
             ],
             [
              0.8888888888888888,
              "#b5de2b"
             ],
             [
              1,
              "#fde725"
             ]
            ],
            "type": "surface"
           }
          ],
          "table": [
           {
            "cells": {
             "fill": {
              "color": "rgb(237,237,237)"
             },
             "line": {
              "color": "white"
             }
            },
            "header": {
             "fill": {
              "color": "rgb(217,217,217)"
             },
             "line": {
              "color": "white"
             }
            },
            "type": "table"
           }
          ]
         },
         "layout": {
          "annotationdefaults": {
           "arrowhead": 0,
           "arrowwidth": 1
          },
          "autotypenumbers": "strict",
          "coloraxis": {
           "colorbar": {
            "outlinewidth": 1,
            "tickcolor": "rgb(36,36,36)",
            "ticks": "outside"
           }
          },
          "colorscale": {
           "diverging": [
            [
             0,
             "rgb(103,0,31)"
            ],
            [
             0.1,
             "rgb(178,24,43)"
            ],
            [
             0.2,
             "rgb(214,96,77)"
            ],
            [
             0.3,
             "rgb(244,165,130)"
            ],
            [
             0.4,
             "rgb(253,219,199)"
            ],
            [
             0.5,
             "rgb(247,247,247)"
            ],
            [
             0.6,
             "rgb(209,229,240)"
            ],
            [
             0.7,
             "rgb(146,197,222)"
            ],
            [
             0.8,
             "rgb(67,147,195)"
            ],
            [
             0.9,
             "rgb(33,102,172)"
            ],
            [
             1,
             "rgb(5,48,97)"
            ]
           ],
           "sequential": [
            [
             0,
             "#440154"
            ],
            [
             0.1111111111111111,
             "#482878"
            ],
            [
             0.2222222222222222,
             "#3e4989"
            ],
            [
             0.3333333333333333,
             "#31688e"
            ],
            [
             0.4444444444444444,
             "#26828e"
            ],
            [
             0.5555555555555556,
             "#1f9e89"
            ],
            [
             0.6666666666666666,
             "#35b779"
            ],
            [
             0.7777777777777778,
             "#6ece58"
            ],
            [
             0.8888888888888888,
             "#b5de2b"
            ],
            [
             1,
             "#fde725"
            ]
           ],
           "sequentialminus": [
            [
             0,
             "#440154"
            ],
            [
             0.1111111111111111,
             "#482878"
            ],
            [
             0.2222222222222222,
             "#3e4989"
            ],
            [
             0.3333333333333333,
             "#31688e"
            ],
            [
             0.4444444444444444,
             "#26828e"
            ],
            [
             0.5555555555555556,
             "#1f9e89"
            ],
            [
             0.6666666666666666,
             "#35b779"
            ],
            [
             0.7777777777777778,
             "#6ece58"
            ],
            [
             0.8888888888888888,
             "#b5de2b"
            ],
            [
             1,
             "#fde725"
            ]
           ]
          },
          "colorway": [
           "#1F77B4",
           "#FF7F0E",
           "#2CA02C",
           "#D62728",
           "#9467BD",
           "#8C564B",
           "#E377C2",
           "#7F7F7F",
           "#BCBD22",
           "#17BECF"
          ],
          "font": {
           "color": "rgb(36,36,36)"
          },
          "geo": {
           "bgcolor": "white",
           "lakecolor": "white",
           "landcolor": "white",
           "showlakes": true,
           "showland": true,
           "subunitcolor": "white"
          },
          "hoverlabel": {
           "align": "left"
          },
          "hovermode": "closest",
          "mapbox": {
           "style": "light"
          },
          "paper_bgcolor": "white",
          "plot_bgcolor": "white",
          "polar": {
           "angularaxis": {
            "gridcolor": "rgb(232,232,232)",
            "linecolor": "rgb(36,36,36)",
            "showgrid": false,
            "showline": true,
            "ticks": "outside"
           },
           "bgcolor": "white",
           "radialaxis": {
            "gridcolor": "rgb(232,232,232)",
            "linecolor": "rgb(36,36,36)",
            "showgrid": false,
            "showline": true,
            "ticks": "outside"
           }
          },
          "scene": {
           "xaxis": {
            "backgroundcolor": "white",
            "gridcolor": "rgb(232,232,232)",
            "gridwidth": 2,
            "linecolor": "rgb(36,36,36)",
            "showbackground": true,
            "showgrid": false,
            "showline": true,
            "ticks": "outside",
            "zeroline": false,
            "zerolinecolor": "rgb(36,36,36)"
           },
           "yaxis": {
            "backgroundcolor": "white",
            "gridcolor": "rgb(232,232,232)",
            "gridwidth": 2,
            "linecolor": "rgb(36,36,36)",
            "showbackground": true,
            "showgrid": false,
            "showline": true,
            "ticks": "outside",
            "zeroline": false,
            "zerolinecolor": "rgb(36,36,36)"
           },
           "zaxis": {
            "backgroundcolor": "white",
            "gridcolor": "rgb(232,232,232)",
            "gridwidth": 2,
            "linecolor": "rgb(36,36,36)",
            "showbackground": true,
            "showgrid": false,
            "showline": true,
            "ticks": "outside",
            "zeroline": false,
            "zerolinecolor": "rgb(36,36,36)"
           }
          },
          "shapedefaults": {
           "fillcolor": "black",
           "line": {
            "width": 0
           },
           "opacity": 0.3
          },
          "ternary": {
           "aaxis": {
            "gridcolor": "rgb(232,232,232)",
            "linecolor": "rgb(36,36,36)",
            "showgrid": false,
            "showline": true,
            "ticks": "outside"
           },
           "baxis": {
            "gridcolor": "rgb(232,232,232)",
            "linecolor": "rgb(36,36,36)",
            "showgrid": false,
            "showline": true,
            "ticks": "outside"
           },
           "bgcolor": "white",
           "caxis": {
            "gridcolor": "rgb(232,232,232)",
            "linecolor": "rgb(36,36,36)",
            "showgrid": false,
            "showline": true,
            "ticks": "outside"
           }
          },
          "title": {
           "x": 0.05
          },
          "xaxis": {
           "automargin": true,
           "gridcolor": "rgb(232,232,232)",
           "linecolor": "rgb(36,36,36)",
           "showgrid": false,
           "showline": true,
           "ticks": "outside",
           "title": {
            "standoff": 15
           },
           "zeroline": false,
           "zerolinecolor": "rgb(36,36,36)"
          },
          "yaxis": {
           "automargin": true,
           "gridcolor": "rgb(232,232,232)",
           "linecolor": "rgb(36,36,36)",
           "showgrid": false,
           "showline": true,
           "ticks": "outside",
           "title": {
            "standoff": 15
           },
           "zeroline": false,
           "zerolinecolor": "rgb(36,36,36)"
          }
         }
        },
        "title": {
         "text": "SML (CAPM):  E[Ri] = Rf + β(E[Rm]−Rf)  ·  Periodo: 2020-01-01 → 2024-12-31  ·  Frecuencia β: anual"
        },
        "xaxis": {
         "dtick": 0.25,
         "linecolor": "#888",
         "range": [
          0,
          3.6211017433329653
         ],
         "showline": true,
         "title": {
          "text": "Beta (β)"
         },
         "zeroline": true,
         "zerolinecolor": "#B0B0B0",
         "zerolinewidth": 1
        },
        "yaxis": {
         "linecolor": "#888",
         "range": [
          -0.2717360984797551,
          0.5474530068426773
         ],
         "showline": true,
         "tickformat": ".0%",
         "title": {
          "text": "Rendimiento esperado ANUAL"
         },
         "zeroline": true,
         "zerolinecolor": "#B0B0B0",
         "zerolinewidth": 1
        }
       }
      }
     },
     "metadata": {},
     "output_type": "display_data"
    }
   ],
   "source": [
    "# GRÁFICO Plotly — SML ANUAL (uniforme con el mensual)\n",
    "# -----------------------------\n",
    "fig = go.Figure()\n",
    "\n",
    "# SML (desde β=0)\n",
    "fig.add_trace(go.Scatter(\n",
    "    x=betas_line, y=E_R_line, mode='lines',\n",
    "    line=dict(width=3),\n",
    "    showlegend=False,\n",
    "    name='SML'\n",
    "))\n",
    "\n",
    "# Y medio del mercado (E[Rm]) — etiqueta a la DERECHA\n",
    "fig.add_hline(\n",
    "    y=E_Rm_ann, line_dash=\"dash\", line_width=2,\n",
    "    annotation_text=f\"Ȳ = E[Rm] {E_Rm_ann:.2%}\",\n",
    "    annotation_position=\"top right\", annotation_yshift=6\n",
    ")\n",
    "\n",
    "# Rf (β=0)\n",
    "fig.add_trace(go.Scatter(\n",
    "    x=[0], y=[rf_anual], mode='markers',\n",
    "    marker=dict(symbol='x', size=12, line=dict(width=1.5)),\n",
    "    showlegend=False,\n",
    "    name='Rf',\n",
    "    hovertemplate=\"<b>Activo sin riesgo</b><br>β=0.00<br>Rendimiento= %{y:.2%}<extra></extra>\"\n",
    "))\n",
    "\n",
    "# Mercado (β=1)\n",
    "fig.add_trace(go.Scatter(\n",
    "    x=[1], y=[E_Rm_ann], mode='markers',\n",
    "    marker=dict(size=12, line=dict(width=1.5)),\n",
    "    showlegend=False,\n",
    "    name='Mercado',\n",
    "    hovertemplate=\"<b>Mercado</b><br>β=1.00<br>E[Rm]= %{y:.2%}<extra></extra>\"\n",
    "))\n",
    "\n",
    "# Activos por clase (4 trazas): colores/símbolos distintos, sin leyenda\n",
    "for cls in ['TP','FP','FN','TN']:\n",
    "    sub = df_points[df_points['Class'] == cls]\n",
    "    if sub.empty:\n",
    "        continue\n",
    "    fig.add_trace(go.Scatter(\n",
    "        x=sub['Beta'],\n",
    "        y=sub['E_Ri_ann_geom'],\n",
    "        mode='markers',\n",
    "        marker=dict(\n",
    "            size=10,\n",
    "            symbol=class_symbol[cls],\n",
    "            color=class_color[cls],\n",
    "            line=dict(width=1, color='rgba(0,0,0,0.45)')\n",
    "        ),\n",
    "        showlegend=False,\n",
    "        name=f'Activos {cls}',\n",
    "        hovertemplate=(\n",
    "            \"<b>%{customdata[0]}</b><br>\"\n",
    "            f\"Clase = {cls} \"\n",
    "            \"(%{customdata[8]})<br>\"\n",
    "            f\"n = %{{customdata[7]}} {periodo_label}<br>\"\n",
    "            \"β = %{x:.3f} | E[Ri] (geom, anual) = %{y:.2%}<br>\"\n",
    "            \"E[Rm] = %{customdata[1]:.2%} | Rf = %{customdata[2]:.2%}<br>\"\n",
    "            \"<b>CAPM</b>: E[Ri]_CAPM = Rf + β·(E[Rm]−Rf) = \"\n",
    "            \"%{customdata[2]:.2%} + %{x:.3f}·(%{customdata[1]:.2%} − %{customdata[2]:.2%}) \"\n",
    "            \"= %{customdata[3]:.2%}<br>\"\n",
    "            \"α (excesos) = %{customdata[4]:.2%} | R² = %{customdata[5]:.3f}<br>\"\n",
    "            \"Mispricing = E[Ri] − E[Ri]_CAPM = %{customdata[6]:.2%}\"\n",
    "            \"<extra></extra>\"\n",
    "        ),\n",
    "        customdata=np.stack([\n",
    "            sub['Ticker'],\n",
    "            np.full(len(sub), E_Rm_ann),\n",
    "            np.full(len(sub), rf_anual),\n",
    "            sub['E_Ri_CAPM'],\n",
    "            sub['Alpha_excesos'],\n",
    "            sub['R2'],\n",
    "            sub['Mispricing'],\n",
    "            sub['N_obs'],\n",
    "            np.where(\n",
    "                (sub['E_Ri_ann_geom'] >= E_Rm_ann) & (sub['E_Ri_ann_geom'] >= sub['E_Ri_CAPM']),\n",
    "                \"↑media & ↑SML\",\n",
    "                np.where(\n",
    "                    (sub['E_Ri_ann_geom'] >= E_Rm_ann) & (sub['E_Ri_ann_geom'] < sub['E_Ri_CAPM']),\n",
    "                    \"↑media & ↓SML\",\n",
    "                    np.where(\n",
    "                        (sub['E_Ri_ann_geom'] < E_Rm_ann) & (sub['E_Ri_ann_geom'] >= sub['E_Ri_CAPM']),\n",
    "                        \"↓media & ↑SML\",\n",
    "                        \"↓media & ↓SML\"\n",
    "                    )\n",
    "                )\n",
    "            )\n",
    "        ], axis=-1)\n",
    "    ))\n",
    "\n",
    "# Etiquetas (texto sobre cada punto)\n",
    "fig.add_trace(go.Scatter(\n",
    "    x=df_points['Beta'],\n",
    "    y=df_points['E_Ri_ann_geom'],\n",
    "    mode='text',\n",
    "    text=df_points['Ticker'],\n",
    "    textposition='top center',\n",
    "    textfont=dict(size=10),\n",
    "    showlegend=False,\n",
    "    name='Etiquetas'\n",
    "))\n",
    "\n",
    "# -----------------------------\n",
    "# Caja de FÓRMULA — ARRIBA-DERECHA (dentro del gráfico)\n",
    "# -----------------------------\n",
    "nota_formula = (\n",
    "    \"CAPM:  E[Ri] = Rf + β·(E[Rm]−Rf)\"\n",
    "    f\"<br>Rf = {rf_anual:.2%} · E[Rm] (geom) = {E_Rm_ann:.2%}\"\n",
    "    f\"<br>Prima de mercado = {market_premium:.2%}\"\n",
    ")\n",
    "fig.add_annotation(\n",
    "    xref=\"paper\", yref=\"paper\",\n",
    "    x=0.99, y=0.98, xanchor=\"right\", yanchor=\"top\",\n",
    "    text=nota_formula, showarrow=False, align=\"right\",\n",
    "    bordercolor=\"rgba(0,0,0,0.15)\", borderwidth=1,\n",
    "    bgcolor=\"rgba(255,255,255,0.90)\", font=dict(size=11),\n",
    "    borderpad=6\n",
    ")\n",
    "\n",
    "# -----------------------------\n",
    "# Caja de CLASES — ABAJO-DERECHA (dentro del gráfico)\n",
    "# -----------------------------\n",
    "nota_clases = (\n",
    "    \"<b>Clases</b>: \"\n",
    "    f\"<span style='color:{class_color['TP']}'>■ TP</span> \"\n",
    "    f\"<span style='color:{class_color['FP']}'>■ FP</span> \"\n",
    "    f\"<span style='color:{class_color['FN']}'>■ FN</span> \"\n",
    "    f\"<span style='color:{class_color['TN']}'>■ TN</span>\"\n",
    "    f\"<br>TP={cTP} · FP={cFP} · FN={cFN} · TN={cTN}\"\n",
    ")\n",
    "fig.add_annotation(\n",
    "    xref=\"paper\", yref=\"paper\",\n",
    "    x=0.98, y=0.06,                # abajo-derecha\n",
    "    xanchor=\"right\", yanchor=\"bottom\",\n",
    "    text=nota_clases, showarrow=False, align=\"right\",\n",
    "    bordercolor=\"rgba(0,0,0,0.15)\", borderwidth=1,\n",
    "    bgcolor=\"rgba(255,255,255,0.90)\", font=dict(size=11),\n",
    "    borderpad=6\n",
    ")\n",
    "\n",
    "# Layout (sin leyenda) con márgenes moderados\n",
    "fig.update_layout(\n",
    "    template='simple_white',\n",
    "    title=(\"SML (CAPM):  E[Ri] = Rf + β(E[Rm]−Rf)  ·  \"\n",
    "           f\"Periodo: {start_date} → {end_date}  ·  Frecuencia β: {freq_label}\"),\n",
    "    xaxis_title=\"Beta (β)\",\n",
    "    yaxis_title=\"Rendimiento esperado ANUAL\",\n",
    "    margin=dict(l=40, r=60, t=90, b=80),\n",
    "    hovermode='closest',\n",
    "    showlegend=False\n",
    ")\n",
    "\n",
    "# Ejes (β desde 0 para que la recta parta en Rf visible)\n",
    "fig.update_xaxes(\n",
    "    range=[beta_min, beta_max],\n",
    "    zeroline=True, zerolinewidth=1, zerolinecolor=\"#B0B0B0\",\n",
    "    showline=True, linecolor=\"#888\", dtick=0.25\n",
    ")\n",
    "fig.update_yaxes(\n",
    "    range=[y_min, y_max],\n",
    "    zeroline=True, zerolinewidth=1, zerolinecolor=\"#B0B0B0\",\n",
    "    showline=True, linecolor=\"#888\", tickformat=\".0%\"\n",
    ")\n",
    "\n",
    "fig.show()\n"
   ]
  },
  {
   "cell_type": "markdown",
   "id": "30ff648e",
   "metadata": {},
   "source": [
    "## Interpretación y Análisis de Resultados\n",
    "\n",
    "El gráfico permite comparar visualmente el rendimiento real de cada activo frente a la predicción teórica del CAPM, identificar activos infravalorados o sobrevalorados, y analizar la dispersión de betas y rendimientos en el mercado.\n",
    "\n",
    "---"
   ]
  },
  {
   "cell_type": "markdown",
   "id": "892bebab",
   "metadata": {},
   "source": [
    "### Conclusión general del análisis\n",
    "\n",
    "El análisis realizado sobre la Security Market Line (SML) y el modelo CAPM, utilizando Python y datos históricos, ha proporcionado una visión clara de la relación entre riesgo y rendimiento de los principales activos del mercado durante el periodo.  \n",
    "Mediante el cálculo de betas, rendimientos esperados y la comparación con el desempeño real, se identifican activos que superan o quedan por debajo de la predicción teórica del CAPM.  \n",
    "La visualización de la SML permite comparar de manera intuitiva el equilibrio entre riesgo sistemático y rendimiento esperado, facilitando la clasificación de los activos según su desempeño relativo y apoyando la toma de decisiones informadas en la gestión de inversiones.\n",
    "\n",
    "Es importante recordar que el modelo CAPM y la SML, aunque ofrecen una base sólida para la evaluación de activos, dependen de los datos históricos y las condiciones de mercado. Por ello, se recomienda complementar este análisis con consideraciones fundamentales y una adecuada gestión del riesgo. Los resultados históricos no garantizan rendimientos futuros y el mercado puede presentar cambios inesperados.\n",
    "\n",
    "---\n",
    "\n",
    "### Glosario por concepto\n",
    "\n",
    "**Security Market Line (SML):**  \n",
    "Recta que representa la relación entre el riesgo sistemático (beta) y el rendimiento esperado de los activos según el modelo CAPM.\n",
    "\n",
    "**Beta:**  \n",
    "Medida de la sensibilidad de un activo respecto al mercado. Un beta mayor a 1 indica mayor riesgo sistemático que el mercado; menor a 1, menor riesgo.\n",
    "\n",
    "**Rendimiento esperado (CAPM):**  \n",
    "Rendimiento teórico calculado como:  \n",
    "E[Ri] = Rf + β·(E[Rm]−Rf), donde Rf es la tasa libre de riesgo y E[Rm] el rendimiento esperado del mercado.\n",
    "\n",
    "**Prima de mercado:**  \n",
    "Diferencia entre el rendimiento esperado del mercado y la tasa libre de riesgo.\n",
    "\n",
    "**Clasificación de activos:**  \n",
    "Los activos se agrupan según su rendimiento real y teórico en cuatro categorías:  \n",
    "- TP: arriba de la media y arriba de la SML  \n",
    "- FP: arriba de la media pero abajo de la SML  \n",
    "- FN: abajo de la media pero arriba de la SML  \n",
    "- TN: abajo de la media y abajo de la SML\n",
    "\n",
    "**Visualización interactiva:**  \n",
    "Gráficos avanzados que permiten explorar la relación entre beta y rendimiento, identificar activos infravalorados o sobrevalorados y analizar la dispersión en el mercado.\n",
    "\n",
    "---\n",
    "\n",
    "**Consideraciones finales**  \n",
    "El análisis de la SML y el modelo CAPM es una herramienta útil para evaluar el riesgo y el rendimiento esperado de los activos, pero debe ser complementado con el análisis fundamental y una adecuada gestión del riesgo.  \n",
    "Los resultados históricos no garantizan rendimientos futuros y el mercado puede presentar cambios inesperados.  \n",
    "Se recomienda revisar periódicamente la composición de la cartera y adaptar la estrategia a las condiciones del mercado y los objetivos personales."
   ]
  },
  {
   "cell_type": "markdown",
   "id": "0f2918a6",
   "metadata": {},
   "source": [
    "# TFM GRUPO 4  "
   ]
  }
 ],
 "metadata": {
  "kernelspec": {
   "display_name": "base",
   "language": "python",
   "name": "python3"
  },
  "language_info": {
   "codemirror_mode": {
    "name": "ipython",
    "version": 3
   },
   "file_extension": ".py",
   "mimetype": "text/x-python",
   "name": "python",
   "nbconvert_exporter": "python",
   "pygments_lexer": "ipython3",
   "version": "3.12.7"
  }
 },
 "nbformat": 4,
 "nbformat_minor": 5
}
