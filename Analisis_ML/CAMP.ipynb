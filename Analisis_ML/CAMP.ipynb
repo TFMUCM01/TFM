{
 "cells": [
  {
   "cell_type": "code",
   "execution_count": 1,
   "id": "258abe67",
   "metadata": {},
   "outputs": [],
   "source": [
    "### 1. Librerías necesarias\n",
    "import pandas as pd\n",
    "import numpy as np\n",
    "import matplotlib.pyplot as plt\n",
    "import seaborn as sns\n",
    "from sklearn.linear_model import LinearRegression\n",
    "from sklearn.metrics import mean_squared_error\n",
    "import snowflake.connector\n",
    "import plotly.graph_objects as go\n",
    "import plotly.express as px\n",
    "from plotly.subplots import make_subplots"
   ]
  },
  {
   "cell_type": "code",
   "execution_count": 2,
   "id": "df4a8190",
   "metadata": {},
   "outputs": [],
   "source": [
    "\n",
    "\n",
    "conn = snowflake.connector.connect(\n",
    "    user='TFMGRUPO4',\n",
    "    password='TFMgrupo4ucm01_01#',\n",
    "    account='WYNIFVB-YE01854',\n",
    "    warehouse='COMPUTE_WH',\n",
    "    database='YAHOO_FINANCE',\n",
    "    schema='MACHINE_LEARNING',\n",
    "    role='ACCOUNTADMIN'\n",
    ")\n",
    "\n",
    "# Período de análisis\n",
    "start_date = '2022-01-01'\n",
    "end_date = '2024-12-31'\n"
   ]
  },
  {
   "cell_type": "code",
   "execution_count": 3,
   "id": "92aaa675",
   "metadata": {},
   "outputs": [
    {
     "data": {
      "application/vnd.microsoft.datawrangler.viewer.v0+json": {
       "columns": [
        {
         "name": "index",
         "rawType": "int64",
         "type": "integer"
        },
        {
         "name": "TICKER",
         "rawType": "object",
         "type": "string"
        },
        {
         "name": "STOCKOPEN",
         "rawType": "object",
         "type": "unknown"
        },
        {
         "name": "IBEX",
         "rawType": "object",
         "type": "unknown"
        },
        {
         "name": "PAIS",
         "rawType": "object",
         "type": "string"
        },
        {
         "name": "DATE",
         "rawType": "datetime64[ns]",
         "type": "datetime"
        }
       ],
       "ref": "6d7922e0-2e3e-4c5a-bcc6-982e992b32ae",
       "rows": [
        [
         "0",
         "^IBEX",
         "8729.7001950",
         "8761.2001950",
         "España",
         "2022-01-03 00:00:00"
        ],
        [
         "1",
         "^IBEX",
         "8821.5996090",
         "8795.7998050",
         "España",
         "2022-01-04 00:00:00"
        ],
        [
         "2",
         "^IBEX",
         "8799.5996090",
         "8790.7998050",
         "España",
         "2022-01-05 00:00:00"
        ],
        [
         "3",
         "^IBEX",
         "8664.5996090",
         "8789.9003910",
         "España",
         "2022-01-06 00:00:00"
        ],
        [
         "4",
         "^IBEX",
         "8781.9003910",
         "8751.7998050",
         "España",
         "2022-01-07 00:00:00"
        ]
       ],
       "shape": {
        "columns": 5,
        "rows": 5
       }
      },
      "text/html": [
       "<div>\n",
       "<style scoped>\n",
       "    .dataframe tbody tr th:only-of-type {\n",
       "        vertical-align: middle;\n",
       "    }\n",
       "\n",
       "    .dataframe tbody tr th {\n",
       "        vertical-align: top;\n",
       "    }\n",
       "\n",
       "    .dataframe thead th {\n",
       "        text-align: right;\n",
       "    }\n",
       "</style>\n",
       "<table border=\"1\" class=\"dataframe\">\n",
       "  <thead>\n",
       "    <tr style=\"text-align: right;\">\n",
       "      <th></th>\n",
       "      <th>TICKER</th>\n",
       "      <th>STOCKOPEN</th>\n",
       "      <th>IBEX</th>\n",
       "      <th>PAIS</th>\n",
       "      <th>DATE</th>\n",
       "    </tr>\n",
       "  </thead>\n",
       "  <tbody>\n",
       "    <tr>\n",
       "      <th>0</th>\n",
       "      <td>^IBEX</td>\n",
       "      <td>8729.7001950</td>\n",
       "      <td>8761.2001950</td>\n",
       "      <td>España</td>\n",
       "      <td>2022-01-03</td>\n",
       "    </tr>\n",
       "    <tr>\n",
       "      <th>1</th>\n",
       "      <td>^IBEX</td>\n",
       "      <td>8821.5996090</td>\n",
       "      <td>8795.7998050</td>\n",
       "      <td>España</td>\n",
       "      <td>2022-01-04</td>\n",
       "    </tr>\n",
       "    <tr>\n",
       "      <th>2</th>\n",
       "      <td>^IBEX</td>\n",
       "      <td>8799.5996090</td>\n",
       "      <td>8790.7998050</td>\n",
       "      <td>España</td>\n",
       "      <td>2022-01-05</td>\n",
       "    </tr>\n",
       "    <tr>\n",
       "      <th>3</th>\n",
       "      <td>^IBEX</td>\n",
       "      <td>8664.5996090</td>\n",
       "      <td>8789.9003910</td>\n",
       "      <td>España</td>\n",
       "      <td>2022-01-06</td>\n",
       "    </tr>\n",
       "    <tr>\n",
       "      <th>4</th>\n",
       "      <td>^IBEX</td>\n",
       "      <td>8781.9003910</td>\n",
       "      <td>8751.7998050</td>\n",
       "      <td>España</td>\n",
       "      <td>2022-01-07</td>\n",
       "    </tr>\n",
       "  </tbody>\n",
       "</table>\n",
       "</div>"
      ],
      "text/plain": [
       "  TICKER     STOCKOPEN          IBEX    PAIS       DATE\n",
       "0  ^IBEX  8729.7001950  8761.2001950  España 2022-01-03\n",
       "1  ^IBEX  8821.5996090  8795.7998050  España 2022-01-04\n",
       "2  ^IBEX  8799.5996090  8790.7998050  España 2022-01-05\n",
       "3  ^IBEX  8664.5996090  8789.9003910  España 2022-01-06\n",
       "4  ^IBEX  8781.9003910  8751.7998050  España 2022-01-07"
      ]
     },
     "execution_count": 3,
     "metadata": {},
     "output_type": "execute_result"
    }
   ],
   "source": [
    "# Ejecutar la consulta SQL\n",
    "cursor = conn.cursor()\n",
    "\n",
    "query_ibex = f\"\"\"\n",
    "    SELECT TICKER, STOCKOPEN, STOCKCLOSE, PAIS, DATE \n",
    "    FROM INDEX_TOTALES\n",
    "    WHERE TICKER = '^IBEX'\n",
    "      AND DATE BETWEEN '{start_date}' AND '{end_date}'\n",
    "    ORDER BY DATE\n",
    "\"\"\"\n",
    "\n",
    "cursor.execute(query_ibex)\n",
    "column_names = [desc[0] for desc in cursor.description]\n",
    "df_ibex = pd.DataFrame(cursor.fetchall(), columns=column_names)\n",
    "\n",
    "# Convertir DATE a tipo datetime\n",
    "df_ibex['DATE'] = pd.to_datetime(df_ibex['DATE'])\n",
    "\n",
    "# Renombrar la columna de cierre a \"IBEX\"\n",
    "df_ibex.rename(columns={'STOCKCLOSE': 'IBEX'}, inplace=True)\n",
    "\n",
    "# Mostrar el DataFrame sin mover DATE al índice\n",
    "df_ibex.head()\n",
    "\n"
   ]
  },
  {
   "cell_type": "code",
   "execution_count": 4,
   "id": "8d2e78af",
   "metadata": {},
   "outputs": [
    {
     "data": {
      "text/plain": [
       "Index(['TICKER', 'STOCKOPEN', 'IBEX', 'PAIS', 'DATE'], dtype='object')"
      ]
     },
     "execution_count": 4,
     "metadata": {},
     "output_type": "execute_result"
    }
   ],
   "source": [
    "df_ibex.columns"
   ]
  },
  {
   "cell_type": "code",
   "execution_count": 5,
   "id": "1e9461ee",
   "metadata": {},
   "outputs": [
    {
     "data": {
      "application/vnd.microsoft.datawrangler.viewer.v0+json": {
       "columns": [
        {
         "name": "index",
         "rawType": "object",
         "type": "string"
        },
        {
         "name": "0",
         "rawType": "object",
         "type": "unknown"
        }
       ],
       "ref": "dc82490a-2bff-43c2-98a1-90ff160204ec",
       "rows": [
        [
         "TICKER",
         "object"
        ],
        [
         "STOCKOPEN",
         "object"
        ],
        [
         "IBEX",
         "object"
        ],
        [
         "PAIS",
         "object"
        ],
        [
         "DATE",
         "datetime64[ns]"
        ]
       ],
       "shape": {
        "columns": 1,
        "rows": 5
       }
      },
      "text/plain": [
       "TICKER               object\n",
       "STOCKOPEN            object\n",
       "IBEX                 object\n",
       "PAIS                 object\n",
       "DATE         datetime64[ns]\n",
       "dtype: object"
      ]
     },
     "execution_count": 5,
     "metadata": {},
     "output_type": "execute_result"
    }
   ],
   "source": [
    "df_ibex.dtypes"
   ]
  },
  {
   "cell_type": "code",
   "execution_count": 6,
   "id": "7a48e21a",
   "metadata": {},
   "outputs": [],
   "source": [
    "df_ibex['IBEX'] = df_ibex['IBEX'].astype(float)"
   ]
  },
  {
   "cell_type": "code",
   "execution_count": 7,
   "id": "b46620e2",
   "metadata": {},
   "outputs": [
    {
     "data": {
      "application/vnd.microsoft.datawrangler.viewer.v0+json": {
       "columns": [
        {
         "name": "index",
         "rawType": "object",
         "type": "string"
        },
        {
         "name": "0",
         "rawType": "object",
         "type": "unknown"
        }
       ],
       "ref": "e5a60a07-9221-4a38-8338-319a2879735e",
       "rows": [
        [
         "TICKER",
         "object"
        ],
        [
         "STOCKOPEN",
         "object"
        ],
        [
         "IBEX",
         "float64"
        ],
        [
         "PAIS",
         "object"
        ],
        [
         "DATE",
         "datetime64[ns]"
        ]
       ],
       "shape": {
        "columns": 1,
        "rows": 5
       }
      },
      "text/plain": [
       "TICKER               object\n",
       "STOCKOPEN            object\n",
       "IBEX                float64\n",
       "PAIS                 object\n",
       "DATE         datetime64[ns]\n",
       "dtype: object"
      ]
     },
     "execution_count": 7,
     "metadata": {},
     "output_type": "execute_result"
    }
   ],
   "source": [
    "df_ibex.dtypes"
   ]
  },
  {
   "cell_type": "code",
   "execution_count": 8,
   "id": "73d22367",
   "metadata": {},
   "outputs": [
    {
     "data": {
      "application/vnd.microsoft.datawrangler.viewer.v0+json": {
       "columns": [
        {
         "name": "FECHA",
         "rawType": "datetime64[ns]",
         "type": "datetime"
        },
        {
         "name": "BBVA.MC",
         "rawType": "object",
         "type": "unknown"
        }
       ],
       "ref": "b32d0477-3396-43cf-96ff-ca77098ca54e",
       "rows": [
        [
         "2022-01-03 00:00:00",
         "5.260000229"
        ],
        [
         "2022-01-04 00:00:00",
         "5.393000126"
        ],
        [
         "2022-01-05 00:00:00",
         "5.380000114"
        ],
        [
         "2022-01-06 00:00:00",
         "5.458000183"
        ],
        [
         "2022-01-07 00:00:00",
         "5.586999893"
        ]
       ],
       "shape": {
        "columns": 1,
        "rows": 5
       }
      },
      "text/html": [
       "<div>\n",
       "<style scoped>\n",
       "    .dataframe tbody tr th:only-of-type {\n",
       "        vertical-align: middle;\n",
       "    }\n",
       "\n",
       "    .dataframe tbody tr th {\n",
       "        vertical-align: top;\n",
       "    }\n",
       "\n",
       "    .dataframe thead th {\n",
       "        text-align: right;\n",
       "    }\n",
       "</style>\n",
       "<table border=\"1\" class=\"dataframe\">\n",
       "  <thead>\n",
       "    <tr style=\"text-align: right;\">\n",
       "      <th></th>\n",
       "      <th>BBVA.MC</th>\n",
       "    </tr>\n",
       "    <tr>\n",
       "      <th>FECHA</th>\n",
       "      <th></th>\n",
       "    </tr>\n",
       "  </thead>\n",
       "  <tbody>\n",
       "    <tr>\n",
       "      <th>2022-01-03</th>\n",
       "      <td>5.260000229</td>\n",
       "    </tr>\n",
       "    <tr>\n",
       "      <th>2022-01-04</th>\n",
       "      <td>5.393000126</td>\n",
       "    </tr>\n",
       "    <tr>\n",
       "      <th>2022-01-05</th>\n",
       "      <td>5.380000114</td>\n",
       "    </tr>\n",
       "    <tr>\n",
       "      <th>2022-01-06</th>\n",
       "      <td>5.458000183</td>\n",
       "    </tr>\n",
       "    <tr>\n",
       "      <th>2022-01-07</th>\n",
       "      <td>5.586999893</td>\n",
       "    </tr>\n",
       "  </tbody>\n",
       "</table>\n",
       "</div>"
      ],
      "text/plain": [
       "                BBVA.MC\n",
       "FECHA                  \n",
       "2022-01-03  5.260000229\n",
       "2022-01-04  5.393000126\n",
       "2022-01-05  5.380000114\n",
       "2022-01-06  5.458000183\n",
       "2022-01-07  5.586999893"
      ]
     },
     "execution_count": 8,
     "metadata": {},
     "output_type": "execute_result"
    }
   ],
   "source": [
    "# Definir el ticker a analizar\n",
    "ticker_activo = 'BBVA.MC'\n",
    "\n",
    "# Consulta a Snowflake\n",
    "query_activo = f\"\"\"\n",
    "    SELECT FECHA, CLOSE\n",
    "    FROM TICKERS_INDEX\n",
    "    WHERE TICKER = '{ticker_activo}'\n",
    "      AND FECHA BETWEEN '{start_date}' AND '{end_date}'\n",
    "    ORDER BY FECHA\n",
    "\"\"\"\n",
    "cursor.execute(query_activo)\n",
    "\n",
    "# Crear DataFrame\n",
    "df_activo = pd.DataFrame(cursor.fetchall(), columns=[col[0] for col in cursor.description])\n",
    "df_activo['FECHA'] = pd.to_datetime(df_activo['FECHA'])\n",
    "df_activo.set_index('FECHA', inplace=True)\n",
    "\n",
    "# Renombrar la columna 'CLOSE' con el nombre del ticker\n",
    "df_activo.rename(columns={'CLOSE': ticker_activo}, inplace=True)\n",
    "\n",
    "# Vista previa\n",
    "df_activo.head()\n"
   ]
  },
  {
   "cell_type": "code",
   "execution_count": 9,
   "id": "e27fa0bb",
   "metadata": {},
   "outputs": [],
   "source": [
    "\n",
    "cursor.close()\n",
    "conn.close()\n"
   ]
  },
  {
   "cell_type": "code",
   "execution_count": 10,
   "id": "dba0e8e4",
   "metadata": {},
   "outputs": [],
   "source": [
    "# Antes del join, establecer DATE como índice en df_ibex\n",
    "df_ibex.set_index('DATE', inplace=True)\n"
   ]
  },
  {
   "cell_type": "code",
   "execution_count": 11,
   "id": "35576ecb",
   "metadata": {},
   "outputs": [
    {
     "data": {
      "application/vnd.microsoft.datawrangler.viewer.v0+json": {
       "columns": [
        {
         "name": "DATE",
         "rawType": "datetime64[ns]",
         "type": "datetime"
        },
        {
         "name": "IBEX",
         "rawType": "float64",
         "type": "float"
        },
        {
         "name": "BBVA.MC",
         "rawType": "object",
         "type": "unknown"
        }
       ],
       "ref": "4fe88aac-b69c-4805-a508-4e35282c0adc",
       "rows": [
        [
         "2022-01-03 00:00:00",
         "8761.200195",
         "5.260000229"
        ],
        [
         "2022-01-04 00:00:00",
         "8795.799805",
         "5.393000126"
        ],
        [
         "2022-01-05 00:00:00",
         "8790.799805",
         "5.380000114"
        ],
        [
         "2022-01-06 00:00:00",
         "8789.900391",
         "5.458000183"
        ],
        [
         "2022-01-07 00:00:00",
         "8751.799805",
         "5.586999893"
        ]
       ],
       "shape": {
        "columns": 2,
        "rows": 5
       }
      },
      "text/html": [
       "<div>\n",
       "<style scoped>\n",
       "    .dataframe tbody tr th:only-of-type {\n",
       "        vertical-align: middle;\n",
       "    }\n",
       "\n",
       "    .dataframe tbody tr th {\n",
       "        vertical-align: top;\n",
       "    }\n",
       "\n",
       "    .dataframe thead th {\n",
       "        text-align: right;\n",
       "    }\n",
       "</style>\n",
       "<table border=\"1\" class=\"dataframe\">\n",
       "  <thead>\n",
       "    <tr style=\"text-align: right;\">\n",
       "      <th></th>\n",
       "      <th>IBEX</th>\n",
       "      <th>BBVA.MC</th>\n",
       "    </tr>\n",
       "    <tr>\n",
       "      <th>DATE</th>\n",
       "      <th></th>\n",
       "      <th></th>\n",
       "    </tr>\n",
       "  </thead>\n",
       "  <tbody>\n",
       "    <tr>\n",
       "      <th>2022-01-03</th>\n",
       "      <td>8761.200195</td>\n",
       "      <td>5.260000229</td>\n",
       "    </tr>\n",
       "    <tr>\n",
       "      <th>2022-01-04</th>\n",
       "      <td>8795.799805</td>\n",
       "      <td>5.393000126</td>\n",
       "    </tr>\n",
       "    <tr>\n",
       "      <th>2022-01-05</th>\n",
       "      <td>8790.799805</td>\n",
       "      <td>5.380000114</td>\n",
       "    </tr>\n",
       "    <tr>\n",
       "      <th>2022-01-06</th>\n",
       "      <td>8789.900391</td>\n",
       "      <td>5.458000183</td>\n",
       "    </tr>\n",
       "    <tr>\n",
       "      <th>2022-01-07</th>\n",
       "      <td>8751.799805</td>\n",
       "      <td>5.586999893</td>\n",
       "    </tr>\n",
       "  </tbody>\n",
       "</table>\n",
       "</div>"
      ],
      "text/plain": [
       "                   IBEX      BBVA.MC\n",
       "DATE                                \n",
       "2022-01-03  8761.200195  5.260000229\n",
       "2022-01-04  8795.799805  5.393000126\n",
       "2022-01-05  8790.799805  5.380000114\n",
       "2022-01-06  8789.900391  5.458000183\n",
       "2022-01-07  8751.799805  5.586999893"
      ]
     },
     "execution_count": 11,
     "metadata": {},
     "output_type": "execute_result"
    }
   ],
   "source": [
    "\n",
    "# Unir dataframes por la fecha (índice)\n",
    "df = df_ibex[['IBEX']].join(df_activo, how='inner')\n",
    "\n",
    "# Eliminar fechas con valores nulos\n",
    "df.dropna(inplace=True)\n",
    "\n",
    "# Vista previa\n",
    "df.head()\n",
    "\n"
   ]
  },
  {
   "cell_type": "code",
   "execution_count": 12,
   "id": "f9fc26c7",
   "metadata": {},
   "outputs": [],
   "source": [
    "df['IBEX'] = df['IBEX'].astype(float)\n",
    "df[ticker_activo] = df[ticker_activo].astype(float)"
   ]
  },
  {
   "cell_type": "code",
   "execution_count": 13,
   "id": "ff3b04b9",
   "metadata": {},
   "outputs": [],
   "source": [
    "\n",
    "### 4. Calcular retornos diarios\n",
    "returns = df.pct_change().dropna()\n"
   ]
  },
  {
   "cell_type": "code",
   "execution_count": 14,
   "id": "6073d9ba",
   "metadata": {},
   "outputs": [],
   "source": [
    "\n",
    "### 5. Tasa libre de riesgo\n",
    "rf_annual = 0.03\n",
    "rf_daily = (1 + rf_annual)**(1/252) - 1\n"
   ]
  },
  {
   "cell_type": "code",
   "execution_count": 15,
   "id": "d5b30232",
   "metadata": {},
   "outputs": [],
   "source": [
    "### 6. Modelo CAPM: E(ri) = rf + β * (E(rm) - rf)\n",
    "\n",
    "# Calcular excesos de retorno para la regresión\n",
    "exceso_mercado = returns[\"IBEX\"] - rf_daily  # E(rm) - rf\n",
    "exceso_activo = returns[ticker_activo] - rf_daily  # ri - rf\n",
    "\n",
    "# Regresión: (ri - rf) = α + β * (rm - rf)\n",
    "X = exceso_mercado.values.reshape(-1,1)\n",
    "y = exceso_activo.values\n",
    "\n",
    "model = LinearRegression(fit_intercept=True)\n",
    "model.fit(X, y)\n",
    "\n",
    "beta = model.coef_[0]\n",
    "alpha = model.intercept_  # Alpha de Jensen\n",
    "predictions = model.predict(X)\n",
    "mse = mean_squared_error(y, predictions)\n",
    "\n",
    "# Calcular retornos esperados según CAPM\n",
    "retorno_esperado_mercado = returns[\"IBEX\"].mean()  # E(rm)\n",
    "retorno_esperado_activo = rf_daily + beta * (retorno_esperado_mercado - rf_daily)  # E(ri)"
   ]
  },
  {
   "cell_type": "code",
   "execution_count": null,
   "id": "6df642c0",
   "metadata": {},
   "outputs": [],
   "source": []
  },
  {
   "cell_type": "code",
   "execution_count": 16,
   "id": "0e553fea",
   "metadata": {},
   "outputs": [],
   "source": [
    "### 6. Modelo CAPM: E(ri) = rf + β * (E(rm) - rf)\n",
    "\n",
    "# Calcular excesos de retorno para la regresión\n",
    "exceso_mercado = returns[\"IBEX\"] - rf_daily  # E(rm) - rf\n",
    "exceso_activo = returns[ticker_activo] - rf_daily  # ri - rf\n",
    "\n",
    "# Regresión: (ri - rf) = α + β * (rm - rf)\n",
    "X = exceso_mercado.values.reshape(-1,1)\n",
    "y = exceso_activo.values\n",
    "\n",
    "model = LinearRegression(fit_intercept=True)\n",
    "model.fit(X, y)\n",
    "\n",
    "beta = model.coef_[0]\n",
    "alpha = model.intercept_  # Alpha de Jensen\n",
    "predictions = model.predict(X)\n",
    "mse = mean_squared_error(y, predictions)\n",
    "\n",
    "# Calcular retornos esperados según CAPM\n",
    "retorno_esperado_mercado = returns[\"IBEX\"].mean()  # E(rm)\n",
    "retorno_esperado_activo = rf_daily + beta * (retorno_esperado_mercado - rf_daily)  # E(ri)"
   ]
  },
  {
   "cell_type": "code",
   "execution_count": 20,
   "id": "124e9e75",
   "metadata": {},
   "outputs": [
    {
     "data": {
      "image/png": "[encoded data removed]",
      "text/plain": [
       "<Figure size 1200x800 with 1 Axes>"
      ]
     },
     "metadata": {},
     "output_type": "display_data"
    }
   ],
   "source": [
    "### 8. Gráfico CAPM Tradicional (Security Market Line) - Solo valores positivos\n",
    "plt.figure(figsize=(12, 8))\n",
    "\n",
    "# Convertir excesos a retornos absolutos para mostrar solo valores positivos\n",
    "retorno_mercado_abs = exceso_mercado + rf_daily\n",
    "retorno_activo_abs = exceso_activo + rf_daily\n",
    "\n",
    "# Filtrar solo valores positivos\n",
    "mask_positivos = (retorno_mercado_abs > 0) & (retorno_activo_abs > 0)\n",
    "retorno_mercado_pos = retorno_mercado_abs[mask_positivos]\n",
    "retorno_activo_pos = retorno_activo_abs[mask_positivos]\n",
    "\n",
    "# Datos de la regresión: solo valores positivos\n",
    "plt.scatter(retorno_mercado_pos, retorno_activo_pos, alpha=0.6, color='blue', s=20, label=\"Datos históricos\")\n",
    "\n",
    "# Crear rango para la línea SML que inicie desde 0\n",
    "x_range = np.linspace(0, retorno_mercado_pos.max() * 1.1, 100)\n",
    "\n",
    "# Security Market Line (SML): E(ri) = rf + β * (rm - rf)\n",
    "# Para valores absolutos: E(ri) = rf + β * (rm - rf)\n",
    "y_sml = rf_daily + beta * (x_range - rf_daily)\n",
    "\n",
    "# Línea SML principal (desde tasa libre de riesgo)\n",
    "plt.plot(x_range, y_sml, color='red', linewidth=3, \n",
    "         label=f'SML: E(ri) = {rf_daily:.4f} + {beta:.3f} × (rm - {rf_daily:.4f})')\n",
    "\n",
    "# Punto de la tasa libre de riesgo (cuando rm = rf, ri = rf)\n",
    "plt.scatter([rf_daily], [rf_daily], color='black', s=150, marker='s', \n",
    "           label=f'Tasa libre riesgo = {rf_daily:.4f}', zorder=5)\n",
    "\n",
    "# Punto del activo (con su retorno esperado)\n",
    "retorno_activo_esperado = rf_daily + beta * (retorno_esperado_mercado - rf_daily)\n",
    "plt.scatter([retorno_esperado_mercado], [retorno_activo_esperado], color='red', s=120, marker='o', \n",
    "           label=f'Activo {ticker_activo}: E(ri) = {retorno_activo_esperado:.4f}', zorder=5)\n",
    "\n",
    "# Líneas de referencia solo en valores positivos\n",
    "plt.axhline(rf_daily, color='gray', linestyle=':', alpha=0.7, label='Nivel tasa libre de riesgo')\n",
    "plt.axvline(rf_daily, color='gray', linestyle=':', alpha=0.5)\n",
    "\n",
    "# Configuración del gráfico - solo valores positivos\n",
    "plt.xlim(0, retorno_mercado_pos.max() * 1.1)\n",
    "plt.ylim(0, retorno_activo_pos.max() * 1.1)\n",
    "\n",
    "plt.title(f'Security Market Line (SML): {ticker_activo} - Cuadrante Positivo', fontsize=16, fontweight='bold')\n",
    "plt.xlabel('Retorno del mercado: E(rm)', fontsize=12)\n",
    "plt.ylabel('Retorno del activo: E(ri)', fontsize=12)\n",
    "plt.legend(loc='upper left', fontsize=9)\n",
    "plt.grid(True, alpha=0.3)\n",
    "\n",
    "# Añadir interpretación en el gráfico\n",
    "textstr = f'''Análisis CAPM (Valores Positivos):\n",
    "• β = {beta:.3f}: {\"Mayor\" if beta > 1 else \"Menor\" if beta < 1 else \"Igual\"} riesgo sistemático\n",
    "• α = {alpha:.4f}: {\"Outperformance\" if alpha > 0 else \"Underperformance\"} vs CAPM\n",
    "• R² = {1 - mse/np.var(exceso_activo):.3f}: Calidad del ajuste\n",
    "• Rf = {rf_daily:.4f}: Punto de partida de la SML'''\n",
    "\n",
    "props = dict(boxstyle='round', facecolor='lightblue', alpha=0.8)\n",
    "plt.text(0.02, 0.98, textstr, transform=plt.gca().transAxes, fontsize=9,\n",
    "         verticalalignment='top', bbox=props)\n",
    "\n",
    "plt.tight_layout()\n",
    "plt.show()"
   ]
  },
  {
   "cell_type": "code",
   "execution_count": 21,
   "id": "150aff4c",
   "metadata": {},
   "outputs": [
    {
     "data": {
      "application/vnd.plotly.v1+json": {
       "config": {
        "plotlyServerURL": "https://plot.ly"
       },
       "data": [
        {
         "hovertemplate": "<b>Retorno IBEX</b>: %{x:.4f}<br><b>Retorno BBVA.MC</b>: %{y:.4f}<extra></extra>",
         "marker": {
          "color": "blue",
          "opacity": 0.6,
          "size": 6
         },
         "mode": "markers",
         "name": "Datos históricos",
         "type": "scatter",
         "x": [
          0.003949186096643187,
          0.005627720290753535,
          0.0016445383520811152,
          0.005313454161901321,
          0.003645060230420105,
          0.004524178763410047,
          0.00732972943397292,
          0.01659298248717489,
          0.009953342504709806,
          0.013224548646060041,
          0.013577212176494546,
          0.019805038819515453,
          0.004498982890316805,
          0.016818703291381576,
          0.0005065207272969552,
          0.035140526803683736,
          0.016218436510760048,
          0.018156581406568728,
          0.04878333386190703,
          0.009021884768104727,
          0.01133617763096173,
          0.00020635600885499095,
          0.017520524137701443,
          0.011681685705677625,
          0.00420137824919431,
          0.029764752275750483,
          0.006939004714349162,
          0.0020108434690648824,
          0.016415900226915303,
          0.009422381215317577,
          0.008684149988497758,
          0.005142779976053502,
          0.004550186731990147,
          0.004069499888701866,
          0.00845844768104631,
          0.018278828236130806,
          0.021304232583752025,
          0.016791767649678047,
          0.01460430673260471,
          0.016653875302021337,
          0.014945777769669766,
          0.014679985289993924,
          0.0050400284608502766,
          0.0127796628566883,
          0.01342610015815704,
          0.008393038360194005,
          0.017198848461862593,
          0.016986542566944873,
          0.02187805397880771,
          0.018143856660821855,
          0.02034383569292153,
          0.004222763126107809,
          0.006790894633500022,
          0.008818945672087075,
          0.0014594505766130084,
          0.00558240765565543,
          0.002333550284485897,
          0.0008454622437104042,
          0.01279382957884434,
          0.004762815472952431,
          0.0049205851942459855,
          0.003256416487285696,
          0.0024344142004772973,
          0.003166469187409149,
          0.010074806099442224,
          0.01616707596720479,
          0.007752123087069185,
          0.014690316272308435,
          0.02006693618073241,
          0.0037116914489614405,
          0.00913682087979506,
          0.012922869837644457,
          0.03143930554811036,
          0.01207801928307739,
          0.004585809369452631,
          0.023650538164578405,
          0.007172024493144358,
          0.008017274541683106,
          0.017877955397577416,
          0.014894850856064012,
          0.006416283303840142,
          0.005341544649029029,
          0.00937873068905648,
          0.002467625557910136,
          0.011541750924219274,
          0.0040943053412692,
          0.0026816753811302885,
          0.01083234144884071,
          0.00745590423655873,
          0.01668214787197142,
          0.0007447681681680418,
          0.006829677917732591,
          0.0033976706677900648,
          0.0077809656279133055,
          0.0083303830707262,
          0.002995353466872075,
          0.0059483324107665325,
          0.014306260960059491,
          0.007241000787068019,
          0.017085780058638145,
          0.0033095804335439016,
          0.019339248629141714,
          0.005584219851973549,
          0.010862494103726306,
          0.0020471544468094738,
          0.011665861393126864,
          0.006071588266330252,
          0.0021756921746676205,
          0.004825363550940764,
          0.014227131678566929,
          0.0029041077160973927,
          0.00871890694948374,
          0.0027226290522539554,
          0.007095374031436785,
          0.014464623564883539,
          0.0017556810055332495,
          0.010189243645776891,
          0.005743612164642142,
          0.0034113059563429804,
          0.003496578805550765,
          0.006421164188066042,
          0.012258849644079861,
          0.00862113155912092,
          0.0004718932752139082,
          0.014677387117610685,
          0.004944929738988968,
          0.0058441629867993505,
          0.022335286727935832,
          0.014967358730033409,
          0.013051484241285438,
          0.024487528905437816,
          0.012920057890247527,
          0.004289217241787435,
          0.014131949147024203,
          0.01503736327601124,
          0.0028173720595809915,
          0.007775003537315417,
          0.00623475876189028,
          0.004438334123702203,
          0.003373296296055317,
          0.005682104296455437,
          0.00462764738497623,
          0.007737230386094529,
          0.0003660150986912747,
          0.0022487721318193987,
          0.011466694732570781,
          0.00699660023879578,
          0.0016470444799487893,
          0.0055865101155823105,
          0.002197621378759562,
          0.00016283816749207425,
          0.004168020821405882,
          0.005782846024968924,
          0.008227202774962583,
          0.01296101770928848,
          0.016340311426233933,
          0.0023360925077147154,
          0.005262705785348931,
          0.0037273161619786332,
          0.010617398023250013,
          0.006807502685611144,
          0.0008849959175218913,
          0.012831572137157687,
          0.009400596720962495,
          0.003090272916435932,
          0.008664058459786572,
          0.005399750338788811,
          0.008451319553387071,
          0.013138921578090157,
          0.0018754179910998037,
          0.0071732162549755785,
          0.00981200927035042,
          0.006586453844409368,
          0.005654882614408052,
          0.015800029699626794,
          0.005527507457557368,
          0.0009769189726882566,
          0.01619025920286221,
          0.009599539494148601,
          0.005864619656283709,
          0.007539092854770502,
          0.002140939840439726,
          0.01325329699197142,
          0.004756392345550919,
          0.012448527119462094,
          0.010169355653595114,
          0.0001273173319500387,
          0.006020037751284235,
          0.008528299500636827,
          0.021942216764692768,
          0.0008875848576301859,
          0.005870226657360478,
          0.0012275512786523723,
          0.0010026961602893625,
          0.010719597691299931,
          0.00639883293755017,
          0.020429795151515107,
          0.0036175541645648845,
          0.005186220289542964,
          0.013076584216585196,
          0.00960338019007656,
          0.017079341626719202,
          0.0018081521258392907,
          0.009723399900505969,
          0.00794963897511547,
          0.00609518097176287,
          0.0018305730813203969,
          0.006773360136108186,
          0.005917909679910238,
          0.008212165035251573,
          0.0036979331748567823,
          0.007628660555884181,
          0.0051516979771888405,
          0.00032668052668061165,
          0.0007522134289799087,
          0.0009789861072790895,
          0.001576352807274306,
          0.007919145829923258,
          0.012831479399578516,
          0.0043779821929263996,
          0.008985537736073246,
          0.011137803289803738,
          0.011643926761748968,
          0.0020168203606656387,
          0.01506526575915057,
          0.0038250077958623674,
          0.00484321949271016,
          0.00620645149127963,
          0.008902106731677684,
          0.005907045202535377,
          0.009391882876620627,
          0.006873742167445407,
          0.003136396763962601,
          0.0007700215486061701,
          0.006339216028700356,
          0.0005066817588865735,
          0.004697194675111538,
          0.007917347173376221,
          0.01200323692772054,
          0.0019406735701470446,
          0.006120668698089915,
          0.0165175912327713,
          0.010237871407464016,
          0.009880452218512525,
          0.004775039540409143,
          0.010695187165775444,
          0.006965741890959221,
          0.010899313105581676,
          0.00516602208669692,
          0.005311729291475498,
          0.00011231517873855346,
          0.010164435497237667,
          0.012328459473184727,
          0.014977417400624304,
          0.017006132724722622,
          0.015559365868343722,
          0.014966832150217657,
          0.006506656270014455,
          0.005013564760073752,
          0.004187114492818944,
          0.007828174318508019,
          0.010988228999817329,
          0.002513465480400656,
          0.007069180152943222,
          0.01732605331106596,
          0.005909698193863111,
          0.008006658368427733,
          0.00987273142022893,
          0.009415325632938565,
          0.012671864664156374,
          0.010352970012829976,
          0.013195513767236822,
          0.0008591997840099452,
          0.015854939366809706,
          0.00888763985929586,
          0.007215721575648981,
          0.0013254767593886552,
          0.0038090083238662142,
          0.005077772266065539,
          0.006182846177835932,
          0.0018214165868462029,
          0.007627391347701629,
          0.02006640681391647,
          0.0076245501041865005,
          0.0007238050477040847,
          0.007288948032369458,
          0.012331406119222565,
          0.005888567676245904,
          0.013954701700417349,
          0.002444181035808457,
          0.01091758129339615,
          0.00545030313789896,
          0.0004502211394479261,
          0.002347300564772281,
          0.003812158319400627,
          0.005314797521578374,
          0.008932229481786402,
          0.010754577645489594,
          0.012280486091814424,
          0.0035354499309292464,
          0.010569069165011769,
          0.007993308206572625,
          0.013618760520268447,
          0.0007063170891197235,
          0.0035462385952831355,
          0.005000325837101638,
          0.005430336108326772,
          0.011168975255972713,
          0.006691458656332472,
          0.0017388550548111947,
          0.002746625829326721,
          0.007746031746031834,
          0.01459832391184035,
          0.0028886321273489113,
          0.006506990796359968,
          0.003956178498468743,
          0.012938287880561283,
          0.009683936719522057,
          0.0033430511345242664,
          0.0019155442426332936,
          0.004735531102281865,
          0.0027030355369404013,
          0.0026268646885119207,
          0.008074699699770704,
          0.01178494050914658,
          0.004884786577370459,
          0.01568109860501754,
          0.0022549162174774207,
          0.0025716710248404606,
          0.0050287363528347395
         ],
         "y": [
          0.02528515042009505,
          0.0032274786704187264,
          0.018409324015363326,
          0.010705488152413567,
          0.002601516395406289,
          0.0019325645063361652,
          0.011968252110365896,
          0.022925838480191363,
          0.010850207870064965,
          0.020944272926029184,
          0.023478300695652266,
          0.022089996931417222,
          0.006816353767812311,
          0.02495203739704377,
          0.003913950139104783,
          0.025665250517524774,
          0.02045635104825827,
          0.024746419460315527,
          0.08669639354633096,
          0.0003005369187125684,
          0.02243140142291744,
          0.005680667167887732,
          0.046357693827930646,
          0.01417765775779789,
          0.007820223028510487,
          0.06711924421046733,
          0.01535507167303396,
          0.006049161669162251,
          0.009802937587126914,
          0.016251161673107806,
          0.0017710156220767104,
          0.011981903170585007,
          0.0026695752919023708,
          0.011288598734475075,
          0.0655012343096717,
          0.010319957310049643,
          0.02316812071218277,
          0.030052033506379194,
          0.010829160573131658,
          0.026013664346030252,
          0.01042417490400016,
          0.022880487933550464,
          0.0067904773737776924,
          0.029551207576696603,
          0.016094448915118242,
          0.024089191913268193,
          0.013341172496907028,
          0.023568207228231275,
          0.036346445174205266,
          0.025378121036726542,
          0.039146354321683896,
          0.01181298621014415,
          0.013151461445939372,
          0.05974078282084627,
          0.011453485582234357,
          0.03238583256453942,
          0.011187917098199218,
          0.002494822035392641,
          0.005518350796782423,
          0.006779266382761717,
          0.006626793112211038,
          0.004247182104175629,
          0.010150107224823568,
          0.004186724138441678,
          0.012507805683351858,
          0.0281817147815695,
          0.029952127337425027,
          0.04908113232432432,
          0.021434379414684956,
          0.022345266676695896,
          0.014936918269204735,
          0.013418417231723545,
          0.04687668325551364,
          0.030111282236446657,
          0.005401359658278704,
          0.023490948414123247,
          0.0175998854435524,
          0.016515564042924202,
          0.0379038583171476,
          0.007901308146623709,
          0.007086707645679313,
          0.008830870036431904,
          0.014731138417585665,
          0.00622171806484717,
          0.0035937305384381446,
          0.013592604858955859,
          0.007822651765422073,
          0.021755472582137836,
          0.0012848696877942878,
          0.011732379448517127,
          0.0030802177634985384,
          0.007948004116383967,
          0.010931876492978887,
          0.0038098526269905175,
          0.012206301859023938,
          0.001111530615678591,
          0.02831242792763211,
          0.023393851764798246,
          0.008311216490653361,
          0.026269123996644828,
          0.015046677969900779,
          0.03935933696593841,
          0.008852442760816759,
          0.009099810655583962,
          0.005257287440316061,
          0.007651895076279169,
          0.006486297952516429,
          0.0026571115395022105,
          0.004364751078076434,
          0.009033305945308712,
          0.013035920316836869,
          0.01986649771703264,
          0.002649243958985803,
          0.04703703936556236,
          0.00458100489034452,
          0.006959930328787944,
          0.013501496007691793,
          0.006441245785352878,
          0.0010181773090909285,
          0.01859928226919183,
          0.012379439278214388,
          0.02262377956176742,
          0.025880110230663833,
          0.0048443355654272935,
          0.016253381580988435,
          0.009216632962863791,
          0.004665832189490349,
          0.03416296161390098,
          0.03406090158772934,
          0.032306192721818006,
          0.05392392358497311,
          0.020721137400089296,
          0.014066467456714804,
          0.0215952217778288,
          0.02129301220930868,
          0.017527108444371553,
          0.011587829657422333,
          0.01857583363686044,
          0.01789573870022565,
          0.004546791872182654,
          0.02685583220092269,
          0.022348048032068135,
          0.008160919861522897,
          0.005114379995804663,
          0.031128359925091553,
          0.017799374929044154,
          0.015580294052790489,
          0.03744843847625701,
          0.009177109516373294,
          0.01079362506959014,
          0.015075407275857877,
          0.004331664143776948,
          0.0018484417451649637,
          0.009975082778558964,
          0.02222224812636231,
          0.03740404850208279,
          0.002165832071888474,
          0.0015436480004387132,
          0.0067587819435082075,
          0.03735455535394272,
          0.008315971827577817,
          0.014431779272638057,
          0.00533488059075915,
          0.010318421701868141,
          0.015173634316315354,
          0.010635222772887865,
          0.008248021539231987,
          0.009305049581156632,
          0.023624321100394807,
          0.009016642511858075,
          0.01266887300597741,
          0.015185573842384947,
          0.007566875343129942,
          0.011120827445944892,
          0.03704776377254815,
          0.004509524678782739,
          0.013280568110149993,
          0.018181834024157295,
          0.009615342442414576,
          0.003744243069183195,
          0.01434725753413546,
          0.003111716473095383,
          0.017701591240692593,
          0.022079372551023768,
          0.02461031238729272,
          0.0325006849022873,
          0.0028615810902654637,
          0.002098120921985913,
          0.0044490865112643,
          0.030719505001299607,
          0.017254897824939164,
          0.0023430940673139222,
          0.005714305206679482,
          0.005140642448884236,
          0.00833113084293724,
          0.02263543836726556,
          0.006060606333692542,
          0.012833950759285617,
          0.013982366949973457,
          0.01787542734301195,
          0.013164508069540837,
          0.026736720359026522,
          0.0004867011194304993,
          0.014201784140720486,
          0.00024141174603564686,
          0.00916106778365311,
          0.008600155903898843,
          0.02214295624243623,
          0.012811512965816618,
          0.005878226376325957,
          0.012155223698676165,
          0.005675027306865754,
          0.0014545556363636525,
          0.007588772879222994,
          0.0007288101001199365,
          0.00048551954852915635,
          0.004150322434756326,
          0.024313130693484952,
          0.016826964919738563,
          0.010335952387889868,
          0.0009662287751186494,
          0.02201102077489514,
          0.01131054941963927,
          0.00024720086059049073,
          0.06162188566440685,
          0.007197506233665996,
          0.033202687814776866,
          0.019028439300937228,
          0.01070799480197615,
          0.0011091647325296439,
          0.00797690558570019,
          0.021543208199489072,
          0.004088671007218103,
          0.002757160356210653,
          0.01915965572509859,
          0.005554271460934013,
          0.00786067160423598,
          0.018338932076356507,
          0.019250659981028484,
          0.00383917032833736,
          0.02606680992237176,
          0.007356623078033753,
          0.022080509251600988,
          0.011555115776824554,
          0.0019038086426064194,
          0.026128321133374266,
          0.009259206318587898,
          0.005996271134737885,
          0.007292608753965091,
          0.016742033196290862,
          0.011940287336452249,
          0.025898452095074687,
          0.01956945251626685,
          0.022048054067990597,
          0.022051728970658102,
          0.04569248405272042,
          0.03607718815855576,
          0.009318320047933204,
          0.011458297149415708,
          0.0014418062765408912,
          0.01809951073799776,
          0.03030305076216777,
          0.004612039613603125,
          0.0016057601771026775,
          0.020888846744122613,
          0.009940763508822892,
          0.025968601051308493,
          0.01631031046336795,
          0.010810851999999871,
          0.021980481744483304,
          0.01582546613017155,
          0.020638324666298002,
          0.001250790511919897,
          0.017052600210526236,
          0.004967950474068505,
          0.007827004500779777,
          0.01425614986073076,
          0.013240997771293506,
          0.02074898012496118,
          0.010907253303292785,
          0.000997529214868953,
          0.01445667636124659,
          0.02784220118027947,
          0.009301245251760237,
          0.0029220076076101886,
          0.005154693198465399,
          0.025005578524668337,
          0.005445457430704348,
          0.018197493675550236,
          0.0025706097751949653,
          0.009841678562515721,
          0.005310029211611056,
          0.00021136795731169222,
          0.004647197938884018,
          0.00820017539015816,
          0.006632812639544738,
          0.013689485982884664,
          0.019563726777954038,
          0.020291135669009863,
          0.007565898843175045,
          0.009440066643212841,
          0.03276267422380119,
          0.03000837430605441,
          0.008644902367302976,
          0.023355519664465474,
          0.010469051561811549,
          0.006283918513329878,
          0.012058517518275025,
          0.004468167202379858,
          0.020879073960996974,
          0.0015313868624791116,
          0.001769497270937448,
          0.029071121101212682,
          0.005653255940112123,
          0.04147154179789281,
          0.0024169807105225427,
          0.02342872019959019,
          0.031917229458581,
          0.005546079752494215,
          0.0026002350152662945,
          0.008942178660893418,
          0.008642280740808417,
          0.007440810016713817,
          0.00447627155124386,
          0.01938500337084248,
          0.010054645992439326,
          0.0421986971199213,
          0.006595133231708683,
          0.0042016764785326455,
          0.012950559968466946
         ]
        },
        {
         "hovertemplate": "<b>Security Market Line</b><br>Retorno mercado: %{x:.4f}<br>Retorno esperado: %{y:.4f}<extra></extra>",
         "line": {
          "color": "red",
          "width": 3
         },
         "mode": "lines",
         "name": "SML: E(ri) = 0.0001 + 1.518 × (rm - 0.0001)",
         "type": "scatter",
         "x": [
          0,
          0.0005420370429100781,
          0.0010840740858201563,
          0.0016261111287302343,
          0.0021681481716403126,
          0.002710185214550391,
          0.0032522222574604687,
          0.003794259300370547,
          0.004336296343280625,
          0.004878333386190703,
          0.005420370429100782,
          0.0059624074720108595,
          0.006504444514920937,
          0.007046481557831016,
          0.007588518600741094,
          0.008130555643651172,
          0.00867259268656125,
          0.009214629729471329,
          0.009756666772381406,
          0.010298703815291485,
          0.010840740858201563,
          0.01138277790111164,
          0.011924814944021719,
          0.012466851986931798,
          0.013008889029841875,
          0.013550926072751953,
          0.014092963115662032,
          0.01463500015857211,
          0.015177037201482188,
          0.015719074244392266,
          0.016261111287302343,
          0.016803148330212424,
          0.0173451853731225,
          0.017887222416032578,
          0.018429259458942658,
          0.018971296501852735,
          0.019513333544762812,
          0.020055370587672892,
          0.02059740763058297,
          0.021139444673493046,
          0.021681481716403127,
          0.022223518759313204,
          0.02276555580222328,
          0.02330759284513336,
          0.023849629888043438,
          0.024391666930953515,
          0.024933703973863595,
          0.025475741016773672,
          0.02601777805968375,
          0.02655981510259383,
          0.027101852145503907,
          0.027643889188413987,
          0.028185926231324064,
          0.02872796327423414,
          0.02927000031714422,
          0.0298120373600543,
          0.030354074402964375,
          0.030896111445874456,
          0.03143814848878453,
          0.03198018553169461,
          0.03252222257460469,
          0.03306425961751477,
          0.03360629666042485,
          0.03414833370333492,
          0.034690370746245,
          0.03523240778915508,
          0.035774444832065155,
          0.036316481874975236,
          0.036858518917885316,
          0.03740055596079539,
          0.03794259300370547,
          0.03848463004661555,
          0.039026667089525624,
          0.039568704132435704,
          0.040110741175345785,
          0.04065277821825586,
          0.04119481526116594,
          0.04173685230407602,
          0.04227888934698609,
          0.04282092638989617,
          0.043362963432806254,
          0.04390500047571633,
          0.04444703751862641,
          0.04498907456153649,
          0.04553111160444656,
          0.04607314864735664,
          0.04661518569026672,
          0.047157222733176796,
          0.047699259776086876,
          0.04824129681899696,
          0.04878333386190703,
          0.04932537090481711,
          0.04986740794772719,
          0.050409444990637264,
          0.050951482033547345,
          0.051493519076457425,
          0.0520355561193675,
          0.05257759316227758,
          0.05311963020518766,
          0.05366166724809774
         ],
         "y": [
          -0.0000607325392043052,
          0.0007619374426183552,
          0.0015846074244410158,
          0.002407277406263676,
          0.003229947388086337,
          0.004052617369908997,
          0.0048752873517316575,
          0.005697957333554318,
          0.006520627315376978,
          0.0073432972971996385,
          0.0081659672790223,
          0.00898863726084496,
          0.00981130724266762,
          0.010633977224490282,
          0.011456647206312941,
          0.0122793171881356,
          0.013101987169958262,
          0.013924657151780923,
          0.014747327133603582,
          0.015569997115426244,
          0.016392667097248906,
          0.017215337079071562,
          0.018038007060894225,
          0.018860677042716885,
          0.019683347024539544,
          0.020506017006362207,
          0.021328686988184867,
          0.02215135697000753,
          0.02297402695183019,
          0.02379669693365285,
          0.024619366915475508,
          0.02544203689729817,
          0.02626470687912083,
          0.02708737686094349,
          0.027910046842766153,
          0.028732716824588812,
          0.02955538680641147,
          0.030378056788234135,
          0.031200726770056794,
          0.03202339675187945,
          0.03284606673370211,
          0.033668736715524776,
          0.03449140669734743,
          0.035314076679170095,
          0.03613674666099276,
          0.036959416642815414,
          0.03778208662463808,
          0.03860475660646074,
          0.039427426588283396,
          0.04025009657010606,
          0.041072766551928715,
          0.041895436533751385,
          0.04271810651557404,
          0.0435407764973967,
          0.04436344647921936,
          0.04518611646104202,
          0.04600878644286468,
          0.04683145642468734,
          0.047654126406510004,
          0.04847679638833267,
          0.04929946637015532,
          0.050122136351977986,
          0.05094480633380065,
          0.0517674763156233,
          0.05259014629744597,
          0.05341281627926863,
          0.05423548626109128,
          0.05505815624291395,
          0.05588082622473661,
          0.05670349620655926,
          0.057526166188381925,
          0.058348836170204595,
          0.059171506152027244,
          0.05999417613384991,
          0.06081684611567257,
          0.061639516097495226,
          0.06246218607931789,
          0.06328485606114055,
          0.06410752604296321,
          0.06493019602478588,
          0.06575286600660854,
          0.06657553598843119,
          0.06739820597025385,
          0.06822087595207652,
          0.06904354593389916,
          0.06986621591572183,
          0.0706888858975445,
          0.07151155587936715,
          0.07233422586118982,
          0.07315689584301248,
          0.07397956582483513,
          0.07480223580665779,
          0.07562490578848045,
          0.07644757577030312,
          0.07727024575212578,
          0.07809291573394844,
          0.07891558571577109,
          0.07973825569759375,
          0.08056092567941642,
          0.08138359566123908
         ]
        },
        {
         "hovertemplate": "<b>Tasa Libre de Riesgo</b><br>Retorno: %{y:.4f}<extra></extra>",
         "marker": {
          "color": "black",
          "size": 15,
          "symbol": "square"
         },
         "mode": "markers",
         "name": "Tasa libre riesgo = 0.0001",
         "type": "scatter",
         "x": [
          0.00011730371383444904
         ],
         "y": [
          0.00011730371383444904
         ]
        },
        {
         "hovertemplate": "<b>Activo BBVA.MC</b><br>Retorno esperado: %{y:.4f}<extra></extra>",
         "marker": {
          "color": "red",
          "size": 12,
          "symbol": "circle"
         },
         "mode": "markers",
         "name": "Activo BBVA.MC: E(ri) = 0.0006",
         "type": "scatter",
         "x": [
          0.00040881042166898457
         ],
         "y": [
          0.0005597343948593346
         ]
        }
       ],
       "layout": {
        "annotations": [
         {
          "align": "left",
          "bgcolor": "rgba(255,255,255,0.8)",
          "bordercolor": "rgba(0,0,0,0.2)",
          "borderwidth": 1,
          "font": {
           "size": 10
          },
          "showarrow": false,
          "text": "<b>Métricas CAPM:</b><br>Beta (β): 1.518<br>Alpha (α): 0.0004<br>R²: 0.614<br>Tasa libre riesgo: 0.0001<br>Punto de partida SML: (0.0001, 0.0001)",
          "x": 0.02,
          "xref": "paper",
          "y": 0.98,
          "yref": "paper"
         }
        ],
        "height": 600,
        "hovermode": "closest",
        "legend": {
         "bgcolor": "rgba(255,255,255,0.8)",
         "bordercolor": "rgba(0,0,0,0.2)",
         "borderwidth": 1,
         "x": 0.01,
         "xanchor": "left",
         "y": 0.99,
         "yanchor": "top"
        },
        "shapes": [
         {
          "line": {
           "color": "gray",
           "dash": "dot"
          },
          "opacity": 0.7,
          "type": "line",
          "x0": 0,
          "x1": 1,
          "xref": "x domain",
          "y0": 0.00011730371383444904,
          "y1": 0.00011730371383444904,
          "yref": "y"
         },
         {
          "line": {
           "color": "gray",
           "dash": "dot"
          },
          "opacity": 0.5,
          "type": "line",
          "x0": 0.00011730371383444904,
          "x1": 0.00011730371383444904,
          "xref": "x",
          "y0": 0,
          "y1": 1,
          "yref": "y domain"
         }
        ],
        "template": {
         "data": {
          "bar": [
           {
            "error_x": {
             "color": "#2a3f5f"
            },
            "error_y": {
             "color": "#2a3f5f"
            },
            "marker": {
             "line": {
              "color": "white",
              "width": 0.5
             },
             "pattern": {
              "fillmode": "overlay",
              "size": 10,
              "solidity": 0.2
             }
            },
            "type": "bar"
           }
          ],
          "barpolar": [
           {
            "marker": {
             "line": {
              "color": "white",
              "width": 0.5
             },
             "pattern": {
              "fillmode": "overlay",
              "size": 10,
              "solidity": 0.2
             }
            },
            "type": "barpolar"
           }
          ],
          "carpet": [
           {
            "aaxis": {
             "endlinecolor": "#2a3f5f",
             "gridcolor": "#C8D4E3",
             "linecolor": "#C8D4E3",
             "minorgridcolor": "#C8D4E3",
             "startlinecolor": "#2a3f5f"
            },
            "baxis": {
             "endlinecolor": "#2a3f5f",
             "gridcolor": "#C8D4E3",
             "linecolor": "#C8D4E3",
             "minorgridcolor": "#C8D4E3",
             "startlinecolor": "#2a3f5f"
            },
            "type": "carpet"
           }
          ],
          "choropleth": [
           {
            "colorbar": {
             "outlinewidth": 0,
             "ticks": ""
            },
            "type": "choropleth"
           }
          ],
          "contour": [
           {
            "colorbar": {
             "outlinewidth": 0,
             "ticks": ""
            },
            "colorscale": [
             [
              0,
              "#0d0887"
             ],
             [
              0.1111111111111111,
              "#46039f"
             ],
             [
              0.2222222222222222,
              "#7201a8"
             ],
             [
              0.3333333333333333,
              "#9c179e"
             ],
             [
              0.4444444444444444,
              "#bd3786"
             ],
             [
              0.5555555555555556,
              "#d8576b"
             ],
             [
              0.6666666666666666,
              "#ed7953"
             ],
             [
              0.7777777777777778,
              "#fb9f3a"
             ],
             [
              0.8888888888888888,
              "#fdca26"
             ],
             [
              1,
              "#f0f921"
             ]
            ],
            "type": "contour"
           }
          ],
          "contourcarpet": [
           {
            "colorbar": {
             "outlinewidth": 0,
             "ticks": ""
            },
            "type": "contourcarpet"
           }
          ],
          "heatmap": [
           {
            "colorbar": {
             "outlinewidth": 0,
             "ticks": ""
            },
            "colorscale": [
             [
              0,
              "#0d0887"
             ],
             [
              0.1111111111111111,
              "#46039f"
             ],
             [
              0.2222222222222222,
              "#7201a8"
             ],
             [
              0.3333333333333333,
              "#9c179e"
             ],
             [
              0.4444444444444444,
              "#bd3786"
             ],
             [
              0.5555555555555556,
              "#d8576b"
             ],
             [
              0.6666666666666666,
              "#ed7953"
             ],
             [
              0.7777777777777778,
              "#fb9f3a"
             ],
             [
              0.8888888888888888,
              "#fdca26"
             ],
             [
              1,
              "#f0f921"
             ]
            ],
            "type": "heatmap"
           }
          ],
          "heatmapgl": [
           {
            "colorbar": {
             "outlinewidth": 0,
             "ticks": ""
            },
            "colorscale": [
             [
              0,
              "#0d0887"
             ],
             [
              0.1111111111111111,
              "#46039f"
             ],
             [
              0.2222222222222222,
              "#7201a8"
             ],
             [
              0.3333333333333333,
              "#9c179e"
             ],
             [
              0.4444444444444444,
              "#bd3786"
             ],
             [
              0.5555555555555556,
              "#d8576b"
             ],
             [
              0.6666666666666666,
              "#ed7953"
             ],
             [
              0.7777777777777778,
              "#fb9f3a"
             ],
             [
              0.8888888888888888,
              "#fdca26"
             ],
             [
              1,
              "#f0f921"
             ]
            ],
            "type": "heatmapgl"
           }
          ],
          "histogram": [
           {
            "marker": {
             "pattern": {
              "fillmode": "overlay",
              "size": 10,
              "solidity": 0.2
             }
            },
            "type": "histogram"
           }
          ],
          "histogram2d": [
           {
            "colorbar": {
             "outlinewidth": 0,
             "ticks": ""
            },
            "colorscale": [
             [
              0,
              "#0d0887"
             ],
             [
              0.1111111111111111,
              "#46039f"
             ],
             [
              0.2222222222222222,
              "#7201a8"
             ],
             [
              0.3333333333333333,
              "#9c179e"
             ],
             [
              0.4444444444444444,
              "#bd3786"
             ],
             [
              0.5555555555555556,
              "#d8576b"
             ],
             [
              0.6666666666666666,
              "#ed7953"
             ],
             [
              0.7777777777777778,
              "#fb9f3a"
             ],
             [
              0.8888888888888888,
              "#fdca26"
             ],
             [
              1,
              "#f0f921"
             ]
            ],
            "type": "histogram2d"
           }
          ],
          "histogram2dcontour": [
           {
            "colorbar": {
             "outlinewidth": 0,
             "ticks": ""
            },
            "colorscale": [
             [
              0,
              "#0d0887"
             ],
             [
              0.1111111111111111,
              "#46039f"
             ],
             [
              0.2222222222222222,
              "#7201a8"
             ],
             [
              0.3333333333333333,
              "#9c179e"
             ],
             [
              0.4444444444444444,
              "#bd3786"
             ],
             [
              0.5555555555555556,
              "#d8576b"
             ],
             [
              0.6666666666666666,
              "#ed7953"
             ],
             [
              0.7777777777777778,
              "#fb9f3a"
             ],
             [
              0.8888888888888888,
              "#fdca26"
             ],
             [
              1,
              "#f0f921"
             ]
            ],
            "type": "histogram2dcontour"
           }
          ],
          "mesh3d": [
           {
            "colorbar": {
             "outlinewidth": 0,
             "ticks": ""
            },
            "type": "mesh3d"
           }
          ],
          "parcoords": [
           {
            "line": {
             "colorbar": {
              "outlinewidth": 0,
              "ticks": ""
             }
            },
            "type": "parcoords"
           }
          ],
          "pie": [
           {
            "automargin": true,
            "type": "pie"
           }
          ],
          "scatter": [
           {
            "fillpattern": {
             "fillmode": "overlay",
             "size": 10,
             "solidity": 0.2
            },
            "type": "scatter"
           }
          ],
          "scatter3d": [
           {
            "line": {
             "colorbar": {
              "outlinewidth": 0,
              "ticks": ""
             }
            },
            "marker": {
             "colorbar": {
              "outlinewidth": 0,
              "ticks": ""
             }
            },
            "type": "scatter3d"
           }
          ],
          "scattercarpet": [
           {
            "marker": {
             "colorbar": {
              "outlinewidth": 0,
              "ticks": ""
             }
            },
            "type": "scattercarpet"
           }
          ],
          "scattergeo": [
           {
            "marker": {
             "colorbar": {
              "outlinewidth": 0,
              "ticks": ""
             }
            },
            "type": "scattergeo"
           }
          ],
          "scattergl": [
           {
            "marker": {
             "colorbar": {
              "outlinewidth": 0,
              "ticks": ""
             }
            },
            "type": "scattergl"
           }
          ],
          "scattermapbox": [
           {
            "marker": {
             "colorbar": {
              "outlinewidth": 0,
              "ticks": ""
             }
            },
            "type": "scattermapbox"
           }
          ],
          "scatterpolar": [
           {
            "marker": {
             "colorbar": {
              "outlinewidth": 0,
              "ticks": ""
             }
            },
            "type": "scatterpolar"
           }
          ],
          "scatterpolargl": [
           {
            "marker": {
             "colorbar": {
              "outlinewidth": 0,
              "ticks": ""
             }
            },
            "type": "scatterpolargl"
           }
          ],
          "scatterternary": [
           {
            "marker": {
             "colorbar": {
              "outlinewidth": 0,
              "ticks": ""
             }
            },
            "type": "scatterternary"
           }
          ],
          "surface": [
           {
            "colorbar": {
             "outlinewidth": 0,
             "ticks": ""
            },
            "colorscale": [
             [
              0,
              "#0d0887"
             ],
             [
              0.1111111111111111,
              "#46039f"
             ],
             [
              0.2222222222222222,
              "#7201a8"
             ],
             [
              0.3333333333333333,
              "#9c179e"
             ],
             [
              0.4444444444444444,
              "#bd3786"
             ],
             [
              0.5555555555555556,
              "#d8576b"
             ],
             [
              0.6666666666666666,
              "#ed7953"
             ],
             [
              0.7777777777777778,
              "#fb9f3a"
             ],
             [
              0.8888888888888888,
              "#fdca26"
             ],
             [
              1,
              "#f0f921"
             ]
            ],
            "type": "surface"
           }
          ],
          "table": [
           {
            "cells": {
             "fill": {
              "color": "#EBF0F8"
             },
             "line": {
              "color": "white"
             }
            },
            "header": {
             "fill": {
              "color": "#C8D4E3"
             },
             "line": {
              "color": "white"
             }
            },
            "type": "table"
           }
          ]
         },
         "layout": {
          "annotationdefaults": {
           "arrowcolor": "#2a3f5f",
           "arrowhead": 0,
           "arrowwidth": 1
          },
          "autotypenumbers": "strict",
          "coloraxis": {
           "colorbar": {
            "outlinewidth": 0,
            "ticks": ""
           }
          },
          "colorscale": {
           "diverging": [
            [
             0,
             "#8e0152"
            ],
            [
             0.1,
             "#c51b7d"
            ],
            [
             0.2,
             "#de77ae"
            ],
            [
             0.3,
             "#f1b6da"
            ],
            [
             0.4,
             "#fde0ef"
            ],
            [
             0.5,
             "#f7f7f7"
            ],
            [
             0.6,
             "#e6f5d0"
            ],
            [
             0.7,
             "#b8e186"
            ],
            [
             0.8,
             "#7fbc41"
            ],
            [
             0.9,
             "#4d9221"
            ],
            [
             1,
             "#276419"
            ]
           ],
           "sequential": [
            [
             0,
             "#0d0887"
            ],
            [
             0.1111111111111111,
             "#46039f"
            ],
            [
             0.2222222222222222,
             "#7201a8"
            ],
            [
             0.3333333333333333,
             "#9c179e"
            ],
            [
             0.4444444444444444,
             "#bd3786"
            ],
            [
             0.5555555555555556,
             "#d8576b"
            ],
            [
             0.6666666666666666,
             "#ed7953"
            ],
            [
             0.7777777777777778,
             "#fb9f3a"
            ],
            [
             0.8888888888888888,
             "#fdca26"
            ],
            [
             1,
             "#f0f921"
            ]
           ],
           "sequentialminus": [
            [
             0,
             "#0d0887"
            ],
            [
             0.1111111111111111,
             "#46039f"
            ],
            [
             0.2222222222222222,
             "#7201a8"
            ],
            [
             0.3333333333333333,
             "#9c179e"
            ],
            [
             0.4444444444444444,
             "#bd3786"
            ],
            [
             0.5555555555555556,
             "#d8576b"
            ],
            [
             0.6666666666666666,
             "#ed7953"
            ],
            [
             0.7777777777777778,
             "#fb9f3a"
            ],
            [
             0.8888888888888888,
             "#fdca26"
            ],
            [
             1,
             "#f0f921"
            ]
           ]
          },
          "colorway": [
           "#636efa",
           "#EF553B",
           "#00cc96",
           "#ab63fa",
           "#FFA15A",
           "#19d3f3",
           "#FF6692",
           "#B6E880",
           "#FF97FF",
           "#FECB52"
          ],
          "font": {
           "color": "#2a3f5f"
          },
          "geo": {
           "bgcolor": "white",
           "lakecolor": "white",
           "landcolor": "white",
           "showlakes": true,
           "showland": true,
           "subunitcolor": "#C8D4E3"
          },
          "hoverlabel": {
           "align": "left"
          },
          "hovermode": "closest",
          "mapbox": {
           "style": "light"
          },
          "paper_bgcolor": "white",
          "plot_bgcolor": "white",
          "polar": {
           "angularaxis": {
            "gridcolor": "#EBF0F8",
            "linecolor": "#EBF0F8",
            "ticks": ""
           },
           "bgcolor": "white",
           "radialaxis": {
            "gridcolor": "#EBF0F8",
            "linecolor": "#EBF0F8",
            "ticks": ""
           }
          },
          "scene": {
           "xaxis": {
            "backgroundcolor": "white",
            "gridcolor": "#DFE8F3",
            "gridwidth": 2,
            "linecolor": "#EBF0F8",
            "showbackground": true,
            "ticks": "",
            "zerolinecolor": "#EBF0F8"
           },
           "yaxis": {
            "backgroundcolor": "white",
            "gridcolor": "#DFE8F3",
            "gridwidth": 2,
            "linecolor": "#EBF0F8",
            "showbackground": true,
            "ticks": "",
            "zerolinecolor": "#EBF0F8"
           },
           "zaxis": {
            "backgroundcolor": "white",
            "gridcolor": "#DFE8F3",
            "gridwidth": 2,
            "linecolor": "#EBF0F8",
            "showbackground": true,
            "ticks": "",
            "zerolinecolor": "#EBF0F8"
           }
          },
          "shapedefaults": {
           "line": {
            "color": "#2a3f5f"
           }
          },
          "ternary": {
           "aaxis": {
            "gridcolor": "#DFE8F3",
            "linecolor": "#A2B1C6",
            "ticks": ""
           },
           "baxis": {
            "gridcolor": "#DFE8F3",
            "linecolor": "#A2B1C6",
            "ticks": ""
           },
           "bgcolor": "white",
           "caxis": {
            "gridcolor": "#DFE8F3",
            "linecolor": "#A2B1C6",
            "ticks": ""
           }
          },
          "title": {
           "x": 0.05
          },
          "xaxis": {
           "automargin": true,
           "gridcolor": "#EBF0F8",
           "linecolor": "#EBF0F8",
           "ticks": "",
           "title": {
            "standoff": 15
           },
           "zerolinecolor": "#EBF0F8",
           "zerolinewidth": 2
          },
          "yaxis": {
           "automargin": true,
           "gridcolor": "#EBF0F8",
           "linecolor": "#EBF0F8",
           "ticks": "",
           "title": {
            "standoff": 15
           },
           "zerolinecolor": "#EBF0F8",
           "zerolinewidth": 2
          }
         }
        },
        "title": {
         "font": {
          "size": 18
         },
         "text": "Security Market Line Interactiva: BBVA.MC (Cuadrante Positivo)",
         "x": 0.5
        },
        "width": 900,
        "xaxis": {
         "range": [
          0,
          0.05366166724809774
         ],
         "title": {
          "text": "Retorno del mercado: E(rm)"
         }
        },
        "yaxis": {
         "range": [
          0,
          0.09536603290096407
         ],
         "title": {
          "text": "Retorno del activo: E(ri)"
         }
        }
       }
      }
     },
     "metadata": {},
     "output_type": "display_data"
    }
   ],
   "source": [
    "### 8b. Visualización CAPM Interactiva (Plotly) - Solo valores positivos\n",
    "\n",
    "# Crear figura interactiva\n",
    "fig = go.Figure()\n",
    "\n",
    "# Convertir excesos a retornos absolutos para mostrar solo valores positivos\n",
    "retorno_mercado_abs = exceso_mercado + rf_daily\n",
    "retorno_activo_abs = exceso_activo + rf_daily\n",
    "\n",
    "# Filtrar solo valores positivos\n",
    "mask_positivos = (retorno_mercado_abs > 0) & (retorno_activo_abs > 0)\n",
    "retorno_mercado_pos = retorno_mercado_abs[mask_positivos]\n",
    "retorno_activo_pos = retorno_activo_abs[mask_positivos]\n",
    "\n",
    "# Datos reales (scatter plot) - solo valores positivos\n",
    "fig.add_trace(go.Scatter(\n",
    "    x=retorno_mercado_pos,\n",
    "    y=retorno_activo_pos,\n",
    "    mode='markers',\n",
    "    name='Datos históricos',\n",
    "    marker=dict(\n",
    "        color='blue',\n",
    "        size=6,\n",
    "        opacity=0.6\n",
    "    ),\n",
    "    hovertemplate='<b>Retorno IBEX</b>: %{x:.4f}<br><b>Retorno ' + ticker_activo + '</b>: %{y:.4f}<extra></extra>'\n",
    "))\n",
    "\n",
    "# Rango para las líneas - desde 0 hasta máximo valor positivo\n",
    "x_range = np.linspace(0, retorno_mercado_pos.max() * 1.1, 100)\n",
    "\n",
    "# Security Market Line (SML) - desde tasa libre de riesgo\n",
    "y_sml = rf_daily + beta * (x_range - rf_daily)\n",
    "fig.add_trace(go.Scatter(\n",
    "    x=x_range,\n",
    "    y=y_sml,\n",
    "    mode='lines',\n",
    "    name=f'SML: E(ri) = {rf_daily:.4f} + {beta:.3f} × (rm - {rf_daily:.4f})',\n",
    "    line=dict(color='red', width=3),\n",
    "    hovertemplate='<b>Security Market Line</b><br>Retorno mercado: %{x:.4f}<br>Retorno esperado: %{y:.4f}<extra></extra>'\n",
    "))\n",
    "\n",
    "# Punto de tasa libre de riesgo (cuando rm = rf, ri = rf)\n",
    "fig.add_trace(go.Scatter(\n",
    "    x=[rf_daily],\n",
    "    y=[rf_daily],\n",
    "    mode='markers',\n",
    "    name=f'Tasa libre riesgo = {rf_daily:.4f}',\n",
    "    marker=dict(\n",
    "        color='black',\n",
    "        size=15,\n",
    "        symbol='square'\n",
    "    ),\n",
    "    hovertemplate='<b>Tasa Libre de Riesgo</b><br>Retorno: %{y:.4f}<extra></extra>'\n",
    "))\n",
    "\n",
    "# Punto del activo (con su retorno esperado)\n",
    "retorno_activo_esperado = rf_daily + beta * (retorno_esperado_mercado - rf_daily)\n",
    "fig.add_trace(go.Scatter(\n",
    "    x=[retorno_esperado_mercado],\n",
    "    y=[retorno_activo_esperado],\n",
    "    mode='markers',\n",
    "    name=f'Activo {ticker_activo}: E(ri) = {retorno_activo_esperado:.4f}',\n",
    "    marker=dict(\n",
    "        color='red',\n",
    "        size=12,\n",
    "        symbol='circle'\n",
    "    ),\n",
    "    hovertemplate='<b>Activo ' + ticker_activo + '</b><br>Retorno esperado: %{y:.4f}<extra></extra>'\n",
    "))\n",
    "\n",
    "# Líneas de referencia\n",
    "fig.add_hline(y=rf_daily, line_dash=\"dot\", line_color=\"gray\", opacity=0.7)\n",
    "fig.add_vline(x=rf_daily, line_dash=\"dot\", line_color=\"gray\", opacity=0.5)\n",
    "\n",
    "# Configurar layout - solo valores positivos\n",
    "fig.update_layout(\n",
    "    title=dict(\n",
    "        text=f\"Security Market Line Interactiva: {ticker_activo} (Cuadrante Positivo)\",\n",
    "        x=0.5,\n",
    "        font=dict(size=18)\n",
    "    ),\n",
    "    xaxis_title=\"Retorno del mercado: E(rm)\",\n",
    "    yaxis_title=\"Retorno del activo: E(ri)\",\n",
    "    hovermode='closest',\n",
    "    width=900,\n",
    "    height=600,\n",
    "    template='plotly_white',\n",
    "    xaxis=dict(range=[0, retorno_mercado_pos.max() * 1.1]),\n",
    "    yaxis=dict(range=[0, retorno_activo_pos.max() * 1.1]),\n",
    "    legend=dict(\n",
    "        yanchor=\"top\",\n",
    "        y=0.99,\n",
    "        xanchor=\"left\",\n",
    "        x=0.01,\n",
    "        bgcolor='rgba(255,255,255,0.8)',\n",
    "        bordercolor='rgba(0,0,0,0.2)',\n",
    "        borderwidth=1\n",
    "    )\n",
    ")\n",
    "\n",
    "# Añadir información del modelo como anotación\n",
    "fig.add_annotation(\n",
    "    x=0.02, y=0.98,\n",
    "    xref=\"paper\", yref=\"paper\",\n",
    "    text=f\"<b>Métricas CAPM:</b><br>\" +\n",
    "         f\"Beta (β): {beta:.3f}<br>\" +\n",
    "         f\"Alpha (α): {alpha:.4f}<br>\" +\n",
    "         f\"R²: {1 - mse/np.var(exceso_activo):.3f}<br>\" +\n",
    "         f\"Tasa libre riesgo: {rf_daily:.4f}<br>\" +\n",
    "         f\"Punto de partida SML: ({rf_daily:.4f}, {rf_daily:.4f})\",\n",
    "    showarrow=False,\n",
    "    align=\"left\",\n",
    "    bgcolor=\"rgba(255,255,255,0.8)\",\n",
    "    bordercolor=\"rgba(0,0,0,0.2)\",\n",
    "    borderwidth=1,\n",
    "    font=dict(size=10)\n",
    ")\n",
    "\n",
    "fig.show()"
   ]
  },
  {
   "cell_type": "code",
   "execution_count": 22,
   "id": "21eebe71",
   "metadata": {},
   "outputs": [
    {
     "data": {
      "application/vnd.plotly.v1+json": {
       "config": {
        "plotlyServerURL": "https://plot.ly"
       },
       "data": [
        {
         "hovertemplate": "IBEX: %{x:.4f}<br>BBVA.MC: %{y:.4f}<extra></extra>",
         "marker": {
          "color": "blue",
          "opacity": 0.6,
          "size": 4
         },
         "mode": "markers",
         "name": "Datos reales",
         "type": "scatter",
         "x": [
          0.003949186096643187,
          0.005627720290753535,
          0.0016445383520811152,
          0.005313454161901321,
          0.003645060230420105,
          0.004524178763410047,
          0.00732972943397292,
          0.01659298248717489,
          0.009953342504709806,
          0.013224548646060041,
          0.013577212176494546,
          0.019805038819515453,
          0.004498982890316805,
          0.016818703291381576,
          0.0005065207272969552,
          0.035140526803683736,
          0.016218436510760048,
          0.018156581406568728,
          0.04878333386190703,
          0.009021884768104727,
          0.01133617763096173,
          0.00020635600885499095,
          0.017520524137701443,
          0.011681685705677625,
          0.00420137824919431,
          0.029764752275750483,
          0.006939004714349162,
          0.0020108434690648824,
          0.016415900226915303,
          0.009422381215317577,
          0.008684149988497758,
          0.005142779976053502,
          0.004550186731990147,
          0.004069499888701866,
          0.00845844768104631,
          0.018278828236130806,
          0.021304232583752025,
          0.016791767649678047,
          0.01460430673260471,
          0.016653875302021337,
          0.014945777769669766,
          0.014679985289993924,
          0.0050400284608502766,
          0.0127796628566883,
          0.01342610015815704,
          0.008393038360194005,
          0.017198848461862593,
          0.016986542566944873,
          0.02187805397880771,
          0.018143856660821855,
          0.02034383569292153,
          0.004222763126107809,
          0.006790894633500022,
          0.008818945672087075,
          0.0014594505766130084,
          0.00558240765565543,
          0.002333550284485897,
          0.0008454622437104042,
          0.01279382957884434,
          0.004762815472952431,
          0.0049205851942459855,
          0.003256416487285696,
          0.0024344142004772973,
          0.003166469187409149,
          0.010074806099442224,
          0.01616707596720479,
          0.007752123087069185,
          0.014690316272308435,
          0.02006693618073241,
          0.0037116914489614405,
          0.00913682087979506,
          0.012922869837644457,
          0.03143930554811036,
          0.01207801928307739,
          0.004585809369452631,
          0.023650538164578405,
          0.007172024493144358,
          0.008017274541683106,
          0.017877955397577416,
          0.014894850856064012,
          0.006416283303840142,
          0.005341544649029029,
          0.00937873068905648,
          0.002467625557910136,
          0.011541750924219274,
          0.0040943053412692,
          0.0026816753811302885,
          0.01083234144884071,
          0.00745590423655873,
          0.01668214787197142,
          0.0007447681681680418,
          0.006829677917732591,
          0.0033976706677900648,
          0.0077809656279133055,
          0.0083303830707262,
          0.002995353466872075,
          0.0059483324107665325,
          0.014306260960059491,
          0.007241000787068019,
          0.017085780058638145,
          0.0033095804335439016,
          0.019339248629141714,
          0.005584219851973549,
          0.010862494103726306,
          0.0020471544468094738,
          0.011665861393126864,
          0.006071588266330252,
          0.0021756921746676205,
          0.004825363550940764,
          0.014227131678566929,
          0.0029041077160973927,
          0.00871890694948374,
          0.0027226290522539554,
          0.007095374031436785,
          0.014464623564883539,
          0.0017556810055332495,
          0.010189243645776891,
          0.005743612164642142,
          0.0034113059563429804,
          0.003496578805550765,
          0.006421164188066042,
          0.012258849644079861,
          0.00862113155912092,
          0.0004718932752139082,
          0.014677387117610685,
          0.004944929738988968,
          0.0058441629867993505,
          0.022335286727935832,
          0.014967358730033409,
          0.013051484241285438,
          0.024487528905437816,
          0.012920057890247527,
          0.004289217241787435,
          0.014131949147024203,
          0.01503736327601124,
          0.0028173720595809915,
          0.007775003537315417,
          0.00623475876189028,
          0.004438334123702203,
          0.003373296296055317,
          0.005682104296455437,
          0.00462764738497623,
          0.007737230386094529,
          0.0003660150986912747,
          0.0022487721318193987,
          0.011466694732570781,
          0.00699660023879578,
          0.0016470444799487893,
          0.0055865101155823105,
          0.002197621378759562,
          0.00016283816749207425,
          0.004168020821405882,
          0.005782846024968924,
          0.008227202774962583,
          0.01296101770928848,
          0.016340311426233933,
          0.0023360925077147154,
          0.005262705785348931,
          0.0037273161619786332,
          0.010617398023250013,
          0.006807502685611144,
          0.0008849959175218913,
          0.012831572137157687,
          0.009400596720962495,
          0.003090272916435932,
          0.008664058459786572,
          0.005399750338788811,
          0.008451319553387071,
          0.013138921578090157,
          0.0018754179910998037,
          0.0071732162549755785,
          0.00981200927035042,
          0.006586453844409368,
          0.005654882614408052,
          0.015800029699626794,
          0.005527507457557368,
          0.0009769189726882566,
          0.01619025920286221,
          0.009599539494148601,
          0.005864619656283709,
          0.007539092854770502,
          0.002140939840439726,
          0.01325329699197142,
          0.004756392345550919,
          0.012448527119462094,
          0.010169355653595114,
          0.0001273173319500387,
          0.006020037751284235,
          0.008528299500636827,
          0.021942216764692768,
          0.0008875848576301859,
          0.005870226657360478,
          0.0012275512786523723,
          0.0010026961602893625,
          0.010719597691299931,
          0.00639883293755017,
          0.020429795151515107,
          0.0036175541645648845,
          0.005186220289542964,
          0.013076584216585196,
          0.00960338019007656,
          0.017079341626719202,
          0.0018081521258392907,
          0.009723399900505969,
          0.00794963897511547,
          0.00609518097176287,
          0.0018305730813203969,
          0.006773360136108186,
          0.005917909679910238,
          0.008212165035251573,
          0.0036979331748567823,
          0.007628660555884181,
          0.0051516979771888405,
          0.00032668052668061165,
          0.0007522134289799087,
          0.0009789861072790895,
          0.001576352807274306,
          0.007919145829923258,
          0.012831479399578516,
          0.0043779821929263996,
          0.008985537736073246,
          0.011137803289803738,
          0.011643926761748968,
          0.0020168203606656387,
          0.01506526575915057,
          0.0038250077958623674,
          0.00484321949271016,
          0.00620645149127963,
          0.008902106731677684,
          0.005907045202535377,
          0.009391882876620627,
          0.006873742167445407,
          0.003136396763962601,
          0.0007700215486061701,
          0.006339216028700356,
          0.0005066817588865735,
          0.004697194675111538,
          0.007917347173376221,
          0.01200323692772054,
          0.0019406735701470446,
          0.006120668698089915,
          0.0165175912327713,
          0.010237871407464016,
          0.009880452218512525,
          0.004775039540409143,
          0.010695187165775444,
          0.006965741890959221,
          0.010899313105581676,
          0.00516602208669692,
          0.005311729291475498,
          0.00011231517873855346,
          0.010164435497237667,
          0.012328459473184727,
          0.014977417400624304,
          0.017006132724722622,
          0.015559365868343722,
          0.014966832150217657,
          0.006506656270014455,
          0.005013564760073752,
          0.004187114492818944,
          0.007828174318508019,
          0.010988228999817329,
          0.002513465480400656,
          0.007069180152943222,
          0.01732605331106596,
          0.005909698193863111,
          0.008006658368427733,
          0.00987273142022893,
          0.009415325632938565,
          0.012671864664156374,
          0.010352970012829976,
          0.013195513767236822,
          0.0008591997840099452,
          0.015854939366809706,
          0.00888763985929586,
          0.007215721575648981,
          0.0013254767593886552,
          0.0038090083238662142,
          0.005077772266065539,
          0.006182846177835932,
          0.0018214165868462029,
          0.007627391347701629,
          0.02006640681391647,
          0.0076245501041865005,
          0.0007238050477040847,
          0.007288948032369458,
          0.012331406119222565,
          0.005888567676245904,
          0.013954701700417349,
          0.002444181035808457,
          0.01091758129339615,
          0.00545030313789896,
          0.0004502211394479261,
          0.002347300564772281,
          0.003812158319400627,
          0.005314797521578374,
          0.008932229481786402,
          0.010754577645489594,
          0.012280486091814424,
          0.0035354499309292464,
          0.010569069165011769,
          0.007993308206572625,
          0.013618760520268447,
          0.0007063170891197235,
          0.0035462385952831355,
          0.005000325837101638,
          0.005430336108326772,
          0.011168975255972713,
          0.006691458656332472,
          0.0017388550548111947,
          0.002746625829326721,
          0.007746031746031834,
          0.01459832391184035,
          0.0028886321273489113,
          0.006506990796359968,
          0.003956178498468743,
          0.012938287880561283,
          0.009683936719522057,
          0.0033430511345242664,
          0.0019155442426332936,
          0.004735531102281865,
          0.0027030355369404013,
          0.0026268646885119207,
          0.008074699699770704,
          0.01178494050914658,
          0.004884786577370459,
          0.01568109860501754,
          0.0022549162174774207,
          0.0025716710248404606,
          0.0050287363528347395
         ],
         "xaxis": "x",
         "y": [
          0.02528515042009505,
          0.0032274786704187264,
          0.018409324015363326,
          0.010705488152413567,
          0.002601516395406289,
          0.0019325645063361652,
          0.011968252110365896,
          0.022925838480191363,
          0.010850207870064965,
          0.020944272926029184,
          0.023478300695652266,
          0.022089996931417222,
          0.006816353767812311,
          0.02495203739704377,
          0.003913950139104783,
          0.025665250517524774,
          0.02045635104825827,
          0.024746419460315527,
          0.08669639354633096,
          0.0003005369187125684,
          0.02243140142291744,
          0.005680667167887732,
          0.046357693827930646,
          0.01417765775779789,
          0.007820223028510487,
          0.06711924421046733,
          0.01535507167303396,
          0.006049161669162251,
          0.009802937587126914,
          0.016251161673107806,
          0.0017710156220767104,
          0.011981903170585007,
          0.0026695752919023708,
          0.011288598734475075,
          0.0655012343096717,
          0.010319957310049643,
          0.02316812071218277,
          0.030052033506379194,
          0.010829160573131658,
          0.026013664346030252,
          0.01042417490400016,
          0.022880487933550464,
          0.0067904773737776924,
          0.029551207576696603,
          0.016094448915118242,
          0.024089191913268193,
          0.013341172496907028,
          0.023568207228231275,
          0.036346445174205266,
          0.025378121036726542,
          0.039146354321683896,
          0.01181298621014415,
          0.013151461445939372,
          0.05974078282084627,
          0.011453485582234357,
          0.03238583256453942,
          0.011187917098199218,
          0.002494822035392641,
          0.005518350796782423,
          0.006779266382761717,
          0.006626793112211038,
          0.004247182104175629,
          0.010150107224823568,
          0.004186724138441678,
          0.012507805683351858,
          0.0281817147815695,
          0.029952127337425027,
          0.04908113232432432,
          0.021434379414684956,
          0.022345266676695896,
          0.014936918269204735,
          0.013418417231723545,
          0.04687668325551364,
          0.030111282236446657,
          0.005401359658278704,
          0.023490948414123247,
          0.0175998854435524,
          0.016515564042924202,
          0.0379038583171476,
          0.007901308146623709,
          0.007086707645679313,
          0.008830870036431904,
          0.014731138417585665,
          0.00622171806484717,
          0.0035937305384381446,
          0.013592604858955859,
          0.007822651765422073,
          0.021755472582137836,
          0.0012848696877942878,
          0.011732379448517127,
          0.0030802177634985384,
          0.007948004116383967,
          0.010931876492978887,
          0.0038098526269905175,
          0.012206301859023938,
          0.001111530615678591,
          0.02831242792763211,
          0.023393851764798246,
          0.008311216490653361,
          0.026269123996644828,
          0.015046677969900779,
          0.03935933696593841,
          0.008852442760816759,
          0.009099810655583962,
          0.005257287440316061,
          0.007651895076279169,
          0.006486297952516429,
          0.0026571115395022105,
          0.004364751078076434,
          0.009033305945308712,
          0.013035920316836869,
          0.01986649771703264,
          0.002649243958985803,
          0.04703703936556236,
          0.00458100489034452,
          0.006959930328787944,
          0.013501496007691793,
          0.006441245785352878,
          0.0010181773090909285,
          0.01859928226919183,
          0.012379439278214388,
          0.02262377956176742,
          0.025880110230663833,
          0.0048443355654272935,
          0.016253381580988435,
          0.009216632962863791,
          0.004665832189490349,
          0.03416296161390098,
          0.03406090158772934,
          0.032306192721818006,
          0.05392392358497311,
          0.020721137400089296,
          0.014066467456714804,
          0.0215952217778288,
          0.02129301220930868,
          0.017527108444371553,
          0.011587829657422333,
          0.01857583363686044,
          0.01789573870022565,
          0.004546791872182654,
          0.02685583220092269,
          0.022348048032068135,
          0.008160919861522897,
          0.005114379995804663,
          0.031128359925091553,
          0.017799374929044154,
          0.015580294052790489,
          0.03744843847625701,
          0.009177109516373294,
          0.01079362506959014,
          0.015075407275857877,
          0.004331664143776948,
          0.0018484417451649637,
          0.009975082778558964,
          0.02222224812636231,
          0.03740404850208279,
          0.002165832071888474,
          0.0015436480004387132,
          0.0067587819435082075,
          0.03735455535394272,
          0.008315971827577817,
          0.014431779272638057,
          0.00533488059075915,
          0.010318421701868141,
          0.015173634316315354,
          0.010635222772887865,
          0.008248021539231987,
          0.009305049581156632,
          0.023624321100394807,
          0.009016642511858075,
          0.01266887300597741,
          0.015185573842384947,
          0.007566875343129942,
          0.011120827445944892,
          0.03704776377254815,
          0.004509524678782739,
          0.013280568110149993,
          0.018181834024157295,
          0.009615342442414576,
          0.003744243069183195,
          0.01434725753413546,
          0.003111716473095383,
          0.017701591240692593,
          0.022079372551023768,
          0.02461031238729272,
          0.0325006849022873,
          0.0028615810902654637,
          0.002098120921985913,
          0.0044490865112643,
          0.030719505001299607,
          0.017254897824939164,
          0.0023430940673139222,
          0.005714305206679482,
          0.005140642448884236,
          0.00833113084293724,
          0.02263543836726556,
          0.006060606333692542,
          0.012833950759285617,
          0.013982366949973457,
          0.01787542734301195,
          0.013164508069540837,
          0.026736720359026522,
          0.0004867011194304993,
          0.014201784140720486,
          0.00024141174603564686,
          0.00916106778365311,
          0.008600155903898843,
          0.02214295624243623,
          0.012811512965816618,
          0.005878226376325957,
          0.012155223698676165,
          0.005675027306865754,
          0.0014545556363636525,
          0.007588772879222994,
          0.0007288101001199365,
          0.00048551954852915635,
          0.004150322434756326,
          0.024313130693484952,
          0.016826964919738563,
          0.010335952387889868,
          0.0009662287751186494,
          0.02201102077489514,
          0.01131054941963927,
          0.00024720086059049073,
          0.06162188566440685,
          0.007197506233665996,
          0.033202687814776866,
          0.019028439300937228,
          0.01070799480197615,
          0.0011091647325296439,
          0.00797690558570019,
          0.021543208199489072,
          0.004088671007218103,
          0.002757160356210653,
          0.01915965572509859,
          0.005554271460934013,
          0.00786067160423598,
          0.018338932076356507,
          0.019250659981028484,
          0.00383917032833736,
          0.02606680992237176,
          0.007356623078033753,
          0.022080509251600988,
          0.011555115776824554,
          0.0019038086426064194,
          0.026128321133374266,
          0.009259206318587898,
          0.005996271134737885,
          0.007292608753965091,
          0.016742033196290862,
          0.011940287336452249,
          0.025898452095074687,
          0.01956945251626685,
          0.022048054067990597,
          0.022051728970658102,
          0.04569248405272042,
          0.03607718815855576,
          0.009318320047933204,
          0.011458297149415708,
          0.0014418062765408912,
          0.01809951073799776,
          0.03030305076216777,
          0.004612039613603125,
          0.0016057601771026775,
          0.020888846744122613,
          0.009940763508822892,
          0.025968601051308493,
          0.01631031046336795,
          0.010810851999999871,
          0.021980481744483304,
          0.01582546613017155,
          0.020638324666298002,
          0.001250790511919897,
          0.017052600210526236,
          0.004967950474068505,
          0.007827004500779777,
          0.01425614986073076,
          0.013240997771293506,
          0.02074898012496118,
          0.010907253303292785,
          0.000997529214868953,
          0.01445667636124659,
          0.02784220118027947,
          0.009301245251760237,
          0.0029220076076101886,
          0.005154693198465399,
          0.025005578524668337,
          0.005445457430704348,
          0.018197493675550236,
          0.0025706097751949653,
          0.009841678562515721,
          0.005310029211611056,
          0.00021136795731169222,
          0.004647197938884018,
          0.00820017539015816,
          0.006632812639544738,
          0.013689485982884664,
          0.019563726777954038,
          0.020291135669009863,
          0.007565898843175045,
          0.009440066643212841,
          0.03276267422380119,
          0.03000837430605441,
          0.008644902367302976,
          0.023355519664465474,
          0.010469051561811549,
          0.006283918513329878,
          0.012058517518275025,
          0.004468167202379858,
          0.020879073960996974,
          0.0015313868624791116,
          0.001769497270937448,
          0.029071121101212682,
          0.005653255940112123,
          0.04147154179789281,
          0.0024169807105225427,
          0.02342872019959019,
          0.031917229458581,
          0.005546079752494215,
          0.0026002350152662945,
          0.008942178660893418,
          0.008642280740808417,
          0.007440810016713817,
          0.00447627155124386,
          0.01938500337084248,
          0.010054645992439326,
          0.0421986971199213,
          0.006595133231708683,
          0.0042016764785326455,
          0.012950559968466946
         ],
         "yaxis": "y"
        },
        {
         "line": {
          "color": "red",
          "width": 2
         },
         "mode": "lines",
         "name": "SML: β=1.518",
         "showlegend": false,
         "type": "scatter",
         "x": [
          0,
          0.0005420370429100781,
          0.0010840740858201563,
          0.0016261111287302343,
          0.0021681481716403126,
          0.002710185214550391,
          0.0032522222574604687,
          0.003794259300370547,
          0.004336296343280625,
          0.004878333386190703,
          0.005420370429100782,
          0.0059624074720108595,
          0.006504444514920937,
          0.007046481557831016,
          0.007588518600741094,
          0.008130555643651172,
          0.00867259268656125,
          0.009214629729471329,
          0.009756666772381406,
          0.010298703815291485,
          0.010840740858201563,
          0.01138277790111164,
          0.011924814944021719,
          0.012466851986931798,
          0.013008889029841875,
          0.013550926072751953,
          0.014092963115662032,
          0.01463500015857211,
          0.015177037201482188,
          0.015719074244392266,
          0.016261111287302343,
          0.016803148330212424,
          0.0173451853731225,
          0.017887222416032578,
          0.018429259458942658,
          0.018971296501852735,
          0.019513333544762812,
          0.020055370587672892,
          0.02059740763058297,
          0.021139444673493046,
          0.021681481716403127,
          0.022223518759313204,
          0.02276555580222328,
          0.02330759284513336,
          0.023849629888043438,
          0.024391666930953515,
          0.024933703973863595,
          0.025475741016773672,
          0.02601777805968375,
          0.02655981510259383,
          0.027101852145503907,
          0.027643889188413987,
          0.028185926231324064,
          0.02872796327423414,
          0.02927000031714422,
          0.0298120373600543,
          0.030354074402964375,
          0.030896111445874456,
          0.03143814848878453,
          0.03198018553169461,
          0.03252222257460469,
          0.03306425961751477,
          0.03360629666042485,
          0.03414833370333492,
          0.034690370746245,
          0.03523240778915508,
          0.035774444832065155,
          0.036316481874975236,
          0.036858518917885316,
          0.03740055596079539,
          0.03794259300370547,
          0.03848463004661555,
          0.039026667089525624,
          0.039568704132435704,
          0.040110741175345785,
          0.04065277821825586,
          0.04119481526116594,
          0.04173685230407602,
          0.04227888934698609,
          0.04282092638989617,
          0.043362963432806254,
          0.04390500047571633,
          0.04444703751862641,
          0.04498907456153649,
          0.04553111160444656,
          0.04607314864735664,
          0.04661518569026672,
          0.047157222733176796,
          0.047699259776086876,
          0.04824129681899696,
          0.04878333386190703,
          0.04932537090481711,
          0.04986740794772719,
          0.050409444990637264,
          0.050951482033547345,
          0.051493519076457425,
          0.0520355561193675,
          0.05257759316227758,
          0.05311963020518766,
          0.05366166724809774
         ],
         "xaxis": "x",
         "y": [
          -0.0000607325392043052,
          0.0007619374426183552,
          0.0015846074244410158,
          0.002407277406263676,
          0.003229947388086337,
          0.004052617369908997,
          0.0048752873517316575,
          0.005697957333554318,
          0.006520627315376978,
          0.0073432972971996385,
          0.0081659672790223,
          0.00898863726084496,
          0.00981130724266762,
          0.010633977224490282,
          0.011456647206312941,
          0.0122793171881356,
          0.013101987169958262,
          0.013924657151780923,
          0.014747327133603582,
          0.015569997115426244,
          0.016392667097248906,
          0.017215337079071562,
          0.018038007060894225,
          0.018860677042716885,
          0.019683347024539544,
          0.020506017006362207,
          0.021328686988184867,
          0.02215135697000753,
          0.02297402695183019,
          0.02379669693365285,
          0.024619366915475508,
          0.02544203689729817,
          0.02626470687912083,
          0.02708737686094349,
          0.027910046842766153,
          0.028732716824588812,
          0.02955538680641147,
          0.030378056788234135,
          0.031200726770056794,
          0.03202339675187945,
          0.03284606673370211,
          0.033668736715524776,
          0.03449140669734743,
          0.035314076679170095,
          0.03613674666099276,
          0.036959416642815414,
          0.03778208662463808,
          0.03860475660646074,
          0.039427426588283396,
          0.04025009657010606,
          0.041072766551928715,
          0.041895436533751385,
          0.04271810651557404,
          0.0435407764973967,
          0.04436344647921936,
          0.04518611646104202,
          0.04600878644286468,
          0.04683145642468734,
          0.047654126406510004,
          0.04847679638833267,
          0.04929946637015532,
          0.050122136351977986,
          0.05094480633380065,
          0.0517674763156233,
          0.05259014629744597,
          0.05341281627926863,
          0.05423548626109128,
          0.05505815624291395,
          0.05588082622473661,
          0.05670349620655926,
          0.057526166188381925,
          0.058348836170204595,
          0.059171506152027244,
          0.05999417613384991,
          0.06081684611567257,
          0.061639516097495226,
          0.06246218607931789,
          0.06328485606114055,
          0.06410752604296321,
          0.06493019602478588,
          0.06575286600660854,
          0.06657553598843119,
          0.06739820597025385,
          0.06822087595207652,
          0.06904354593389916,
          0.06986621591572183,
          0.0706888858975445,
          0.07151155587936715,
          0.07233422586118982,
          0.07315689584301248,
          0.07397956582483513,
          0.07480223580665779,
          0.07562490578848045,
          0.07644757577030312,
          0.07727024575212578,
          0.07809291573394844,
          0.07891558571577109,
          0.07973825569759375,
          0.08056092567941642,
          0.08138359566123908
         ],
         "yaxis": "y"
        },
        {
         "marker": {
          "color": "black",
          "size": 10,
          "symbol": "square"
         },
         "mode": "markers",
         "name": "Tasa libre riesgo",
         "showlegend": false,
         "type": "scatter",
         "x": [
          0.00011730371383444904
         ],
         "xaxis": "x",
         "y": [
          0.00011730371383444904
         ],
         "yaxis": "y"
        },
        {
         "hovertemplate": "Residuo: %{x:.4f}<br>Frecuencia: %{y}<extra></extra>",
         "marker": {
          "color": "lightblue"
         },
         "name": "Residuos",
         "nbinsx": 30,
         "opacity": 0.7,
         "type": "histogram",
         "x": [
          0.018971238499998436,
          -0.0018678554872746,
          0.014333354392079363,
          0.0298936585732981,
          0.0056765498355212714,
          -0.005634007650762787,
          0.01559326255203162,
          0.0023209753405005317,
          0.0026685719536141688,
          -0.003250812272936345,
          0.009484944338541782,
          -0.014557546418103298,
          -0.005254035383899287,
          0.006823048360760656,
          0.01335490101938698,
          0.0005235625759925852,
          -0.0025780381901441586,
          -0.004576437778645115,
          0.009588144993470334,
          -0.0026207579798624894,
          0.0005527948326678606,
          0.012980567990826433,
          -0.01681070182177651,
          0.015583638115466827,
          0.01639561136065163,
          0.0025515719142301246,
          -0.008288938296453725,
          -0.0003320053993383495,
          0.000031038482720551624,
          -0.0011775740126597628,
          -0.000894424217111757,
          -0.01353672770548391,
          -0.0005296192121744155,
          0.007612016391811733,
          0.0016114716254062127,
          0.0028251007749106735,
          0.011118268521295431,
          -0.019661942616280702,
          -0.027988930906518605,
          -0.0256757074074239,
          0.012826197488599922,
          -0.004479063123730871,
          0.03726074222963467,
          -0.0023583839215549143,
          -0.050744942231639306,
          -0.003130590027086627,
          0.012336011353532086,
          0.016419189377365372,
          -0.013712400332638772,
          0.004905974956442967,
          0.005047389072658391,
          0.01944605235118681,
          -0.02093505706613665,
          -0.003597894435193653,
          0.006694372512646934,
          -0.0038721592927962387,
          -0.0028637138547251625,
          -0.011269063018106304,
          -0.005956734281801511,
          0.0011235496048066984,
          0.021624077730189047,
          -0.009222595475844565,
          -0.014988903308149608,
          0.004503399723334963,
          0.0026771451694132713,
          -0.032106290246205434,
          -0.05042059933703888,
          0.00004507081686467044,
          -0.01543217468465986,
          0.017555602348478434,
          0.0025296748337562385,
          -0.01068193076957636,
          0.0016303759190420576,
          0.010087412459292214,
          -0.011729328867148153,
          0.0038564289819645776,
          -0.0007130624031442198,
          -0.02574346961523731,
          -0.0029800046500900214,
          -0.0045564978692449075,
          0.004792082052544226,
          0.052343446691046576,
          -0.016418303696913442,
          -0.017742590782820842,
          -0.010007895734894853,
          -0.026307548545751104,
          0.01974130812525342,
          0.030839138320389536,
          0.01300157375003211,
          -0.009486197209372,
          0.011950704181296505,
          0.004246453127483264,
          -0.0035721123556575517,
          -0.011656428199240357,
          -0.009934240141901361,
          -0.005740967027207718,
          -0.018479743302443376,
          0.00041736836314385656,
          -0.00671060983166309,
          -0.0125796772887962,
          0.00028003897173918546,
          -0.00117904698032467,
          0.02118314132602805,
          -0.00005509136214999766,
          0.0035847111203265412,
          -0.003675823221318862,
          -0.003184483632901817,
          0.00983494935814433,
          -0.013965507838954559,
          -0.012812997207844175,
          -0.024665584548673222,
          -0.03574521218252742,
          0.0008706683171674987,
          0.030990333349125876,
          -0.0046029314795008845,
          -0.0033870249403520174,
          0.011030678478023056,
          -0.013082249722764665,
          0.0039457441339454166,
          0.03127491915583999,
          -0.022670093140524254,
          -0.0025329903593837126,
          0.016304235440402107,
          -0.01524452974703125,
          0.002557494369752212,
          0.019243640274184615,
          -0.018750908211138274,
          0.01624429853448843,
          0.0010765068834613992,
          0.00043433723342897247,
          0.0028212169655869104,
          0.01173638273675429,
          -0.019215448655476877,
          -0.028525173173481085,
          0.01400792699058768,
          -0.004589650622082286,
          -0.0024795756260463653,
          -0.0038492994464802183,
          0.007949666838964534,
          -0.0035918657262305025,
          0.010056349591210934,
          -0.020186938098192726,
          0.005083856155418878,
          -0.01899891730729508,
          0.002524581729748534,
          0.008982167623264327,
          0.046035853858994155,
          0.001251037157972949,
          0.008918338788613157,
          0.023593118931830193,
          0.007326116342099152,
          0.0008915483992893978,
          -0.014219408788163603,
          -0.0007695214060119181,
          -0.0011614477092407845,
          -0.0010152873556831376,
          0.006135221514437503,
          -0.0009392289254948416,
          -0.0031031898259031056,
          0.006633229986938457,
          0.007537711792570484,
          -0.01727377451143159,
          -0.021289155965102988,
          0.017977522832406022,
          -0.004298394211560526,
          -0.003178290826229238,
          0.007442130110679561,
          0.009285039876579948,
          0.013496052686001604,
          0.018615841561730028,
          0.0026278240447421154,
          0.003324252435909718,
          -0.006976007441725714,
          0.008782968979962023,
          -0.003416606157528658,
          0.017866355088392384,
          0.02646500364256759,
          -0.009342047276564628,
          0.00989140522667541,
          -0.0005808078294133564,
          0.016391809304949653,
          0.006670087400102807,
          -0.00477695506653014,
          0.02197553909117334,
          0.003925978825834357,
          0.012190850923324097,
          0.008025417441321313,
          0.011222334714644244,
          -0.008610845569170376,
          0.0007164208223428498,
          0.009062033138678018,
          0.0007495381635285094,
          -0.006515191601442764,
          -0.001160015631364239,
          0.005964888954546239,
          0.009202680037953768,
          -0.022726501532391686,
          0.0044554154731456744,
          0.002273025679554074,
          0.020441490429067573,
          0.011459934827032999,
          -0.0018787793179213643,
          -0.012724445627184958,
          0.006394550622112057,
          0.009552567033074411,
          0.004027361470723268,
          0.009884309097235994,
          0.010449729990268324,
          -0.015025250356307106,
          -0.016780404821239478,
          -0.002971610383090132,
          -0.0017209258474543418,
          -0.01504175022944145,
          0.00040372323697684953,
          0.0113471003750685,
          0.007507818917516725,
          0.00017660270697261726,
          0.0021564262296898283,
          -0.010481886617202653,
          -0.014397436270441766,
          -0.014243702237641011,
          -0.0020163336600398083,
          0.007058440009838665,
          0.003432488472712189,
          0.006749965376456085,
          0.00545659248645238,
          0.004994737216038693,
          -0.010351320084261055,
          -0.013906826875850806,
          0.001629771308451678,
          -0.002737738447193343,
          0.005455020257109349,
          -0.0013822741791035577,
          0.015043083127338718,
          -0.009949504164930206,
          -0.01662891188885565,
          0.012511506529934288,
          -0.008391869705382627,
          0.004626025907941958,
          0.002530799670076787,
          0.010728007561615108,
          -0.008319695029760689,
          -0.0027245575536200394,
          -0.0007571172897295579,
          -0.009735794145390057,
          -0.010879805753026335,
          0.03092908893354625,
          -0.0037547136911810445,
          0.018964336548008172,
          0.0013606182576046157,
          -0.0028878314878575196,
          0.004662201610398298,
          -0.0035039308971140668,
          0.002870831171589105,
          -0.002998806243191864,
          0.004029480466212886,
          0.0000173099399982668,
          0.00970351959168498,
          0.009687349007557872,
          0.000056978689679779496,
          -0.00770668852752935,
          0.011550284841456648,
          0.001830160405610411,
          -0.00855284975450658,
          -0.010373904820711218,
          -0.0030488634692429194,
          0.007149945670552447,
          -0.0009651020333353547,
          -0.0032789682782990133,
          0.002856915184542501,
          -0.012879830078846428,
          0.00830816311360431,
          -0.007168658821858335,
          -0.020309410917432512,
          0.0063134012824627925,
          -0.0018030762588264627,
          0.0022830562278038785,
          0.005973219653102057,
          0.03594803982925516,
          -0.01769258149113339,
          0.016388377370265144,
          -0.006335821931178272,
          -0.004422022072451981,
          -0.012945587650355004,
          0.003975183485201962,
          0.011561265314246207,
          -0.0022831856645189885,
          -0.0025961339863453583,
          -0.0044793737164294245,
          0.012972309437126472,
          -0.006097889611421267,
          0.0076574155311990785,
          0.0037378511968092195,
          0.009691030580510913,
          0.0023137133481032895,
          0.003917545586501528,
          0.0036979791205089124,
          0.012475411179012018,
          -0.008810042251094437,
          0.003808041586051139,
          -0.00634312403699561,
          0.001391443511344793,
          -0.005732007539404345,
          -0.004524157342220262,
          0.0035530539242518283,
          -0.012175226374522535,
          -0.02942683087637627,
          -0.00005622591416625661,
          -0.030016758551404288,
          0.011024295160693278,
          -0.0060016754102441144,
          0.012177380976803823,
          0.016438197254432824,
          0.009146459801562092,
          -0.01981946279925354,
          -0.014571848182376779,
          0.0007917963651190262,
          0.007236477494252067,
          -0.00017345214264115338,
          -0.0018498427469015033,
          -0.011759022083408292,
          -0.032868646179632005,
          0.012930993205287122,
          -0.0005326691104605829,
          0.008793022224436833,
          -0.003055312432304738,
          0.01083942844445664,
          -0.0008930704640738455,
          0.017911805231334517,
          -0.016660191877000262,
          0.015004409928049224,
          -0.0039022491757913502,
          -0.008336050367330943,
          0.0006527108845788693,
          0.005881156033804975,
          -0.0059487326852930705,
          0.004238781302285091,
          0.027395230156012345,
          -0.023160690420665438,
          -0.01119852166207291,
          -0.01723575758804573,
          -0.012273350418623586,
          0.0000758577545401963,
          0.0046412072120442256,
          -0.007900541533108861,
          0.0009738393925490677,
          0.03462857336851702,
          0.0003781694261227979,
          -0.0367927991246151,
          -0.0021340935148355467,
          0.007138128719924542,
          0.014508177843226918,
          -0.0023143814586897068,
          -0.00724848473018397,
          0.004033060837735763,
          -0.006782408285583817,
          0.019518115772823322,
          -0.0028317357593126806,
          -0.010849307568246558,
          -0.004799547552465239,
          -0.018333502788412025,
          0.002230740835364644,
          0.012283660192608042,
          0.0002674815174199315,
          -0.0016998271119054139,
          -0.006763842094001469,
          0.01827106367781314,
          -0.007211428785677241,
          0.0007816103578683386,
          -0.001938838774081335,
          0.02092004769928236,
          -0.006196603891811703,
          -0.0023361145531889567,
          0.010944322988564568,
          -0.010123155083265176,
          0.004677546198047146,
          0.005599062015919512,
          0.003825178536635304,
          0.012768503894695788,
          -0.014460162292750538,
          -0.004269300906773275,
          0.01016332719517262,
          -0.0028346280484672134,
          -0.00026746622208718117,
          -0.00075376912678949,
          0.006444954911668001,
          0.01492749090552891,
          0.0134919667923806,
          -0.003313892075373537,
          -0.0038419194103496233,
          0.003362802424700072,
          -0.006303848512188059,
          0.00445680188015847,
          0.002270517393240822,
          0.005850166347318877,
          -0.007792339450238766,
          0.0014617294028369046,
          -0.018047014033597784,
          0.0029971967261673204,
          0.005230281137418996,
          -0.01580705469084414,
          -0.000026565047308918163,
          0.016695384147873398,
          -0.010127008058685275,
          -0.007628345465001903,
          0.010073364956284848,
          0.002321950823311613,
          -0.0027497169075731912,
          0.007622432151080745,
          -0.010339279262235485,
          0.0022181158457913845,
          0.012747381335404064,
          0.012478957866588829,
          0.003500168023655613,
          0.00039767744551399455,
          -0.0039005289653421967,
          0.00975530369071349,
          -0.001178303785726701,
          0.0055816211015100314,
          -0.004199864860929237,
          -0.007595294205481387,
          0.01147777765826223,
          -0.005698844725801041,
          -0.0067108143891455516,
          -0.005274323086441454,
          0.010434500814818549,
          -0.01044897547544052,
          0.008393815445053882,
          0.008332317301940659,
          -0.014515354363229203,
          -0.0067851187984917915,
          -0.010429302231809597,
          -0.005476794318265279,
          0.002584809271212577,
          -0.00045775217660175456,
          0.008370280231108626,
          -0.002733519297199404,
          -0.005124902716857034,
          0.002934119579779534,
          0.01454033338399428,
          0.005396631316350466,
          0.014659886472075194,
          0.003664066463734978,
          0.008028881056856303,
          0.00006200913434116018,
          0.015663141070330525,
          0.016746187982909704,
          0.002348262964088406,
          0.014892299042589995,
          0.02987987423795774,
          -0.0036633149021953696,
          -0.007358800346576209,
          -0.008814717837959698,
          -0.01952420377949212,
          -0.0029031054777524518,
          0.015587693115340159,
          0.0056923059331410245,
          0.0015650726153300931,
          -0.0068864532762975845,
          0.0035311206889457863,
          0.006453122683340917,
          0.0022119349850653856,
          0.008192173723735825,
          0.002940524575010506,
          -0.014278819972295582,
          0.0032987289910458278,
          0.007703090744650099,
          0.004535188132239876,
          -0.008258489087086294,
          -0.011820007663995064,
          0.012603605414943098,
          -0.02526654504842935,
          0.007023369080365773,
          0.006168323863781916,
          0.0013769525259197525,
          0.0057909617657205485,
          -0.0022914795774034193,
          -0.0039457300175829504,
          -0.0017309866278020503,
          0.0004946781523651328,
          -0.0025776831145386835,
          -0.0110912345300518,
          -0.0008758689797206225,
          -0.012144137786033501,
          0.002660642512636417,
          -0.0004099011734089858,
          0.00550174254354549,
          -0.01184807234861083,
          0.0013146299002660428,
          0.011542689291626084,
          0.0035095953076530705,
          -0.02150570990699614,
          -0.0069057688190886975,
          0.00622264777637261,
          -0.012977088219001159,
          -0.005558377809881665,
          -0.0011599879472306979,
          -0.0062233612206772215,
          0.0018048974426686936,
          0.0030033506544983306,
          0.003782391390231039,
          -0.01809377573707765,
          0.0005238713379961089,
          0.0016941511234001881,
          -0.006684453737587496,
          -0.010599395855157234,
          0.006772873743260011,
          -0.0007329363069447413,
          -0.0013204082711796984,
          -0.0010484127776921584,
          0.0014377487341901093,
          0.011973861753358954,
          0.006283640192748099,
          -0.0029679372124634985,
          0.008731025575891246,
          0.003371240524599229,
          -0.00006878801180588978,
          -0.002772021813878924,
          -0.005463229951476949,
          -0.012991543220330418,
          -0.0019725948617734593,
          -0.001179061825144944,
          0.012964830600813233,
          -0.0034781838317625756,
          -0.007826287301868509,
          0.004786674497992877,
          0.01161084576732142,
          -0.006681959463327312,
          -0.008118406582672665,
          -0.003133886992064836,
          0.009470620779833485,
          0.038436682061370235,
          0.0010720643854627426,
          0.009042889033718656,
          0.025531867824813738,
          0.014836381309988957,
          0.009288590896491245,
          -0.0007183542550448976,
          0.01641116819194722,
          0.004977528575625908,
          -0.003123150823988922,
          0.01128847410306817,
          -0.008463242356350594,
          -0.017633785710265266,
          0.003057360068454624,
          -0.008176263500194446,
          -0.006597591694045174,
          0.010790587668834731,
          -0.00099164000997321,
          0.011424054062769763,
          0.001268385897021385,
          -0.0057321304177986275,
          0.0011267285168463249,
          -0.004552995553881396,
          0.009218305594866086,
          0.004465177693047136,
          0.0004114789654121095,
          0.006002393024839065,
          0.0007128125615634487,
          0.006801340806068462,
          0.0005736533201310874,
          0.016457157285608367,
          -0.018032829453396418,
          0.0019504361949345041,
          0.006222023398759949,
          -0.003028638192173461,
          -0.0037609015463765764,
          -0.005663532072547343,
          0.009575749974928587,
          -0.0016330456484429327,
          -0.005696762346398631,
          -0.0071479798535870435,
          -0.010866109630609116,
          0.01707260793522362,
          0.006906989918173562,
          -0.0008681408590763082,
          0.008360138285018418,
          0.0031425114397978134,
          -0.031994205618219404,
          -0.0029576044433135204,
          0.00018514451331984663,
          -0.011941342831427837,
          -0.012396058405295894,
          0.011449738541765033,
          0.0019924871818667103,
          0.010151422681828063,
          0.0005380026224599856,
          -0.0159484165826891,
          -0.0010038187812585059,
          -0.004079201335326833,
          -0.004115968301152166,
          0.0014838597044055267,
          0.02175736615292985,
          -0.0007377037158073146,
          -0.033145264101734975,
          -0.0412084807628641,
          0.008840683748054474,
          -0.01011619653832321,
          0.013041380941487206,
          -0.0008771604264888998,
          -0.05337240731785386,
          0.003528937748099415,
          -0.005233218508289352,
          0.005898312678121121,
          0.013305719003984796,
          -0.01399518869351011,
          0.00047717480609030336,
          -0.010683540171336273,
          0.0057325132093222824,
          0.002873357098379835,
          0.004575482365004689,
          0.001339816738647557,
          -0.009443483925833268,
          0.001904658150380661,
          0.0001894602796189762,
          -0.005727639053676615,
          -0.001160612267574494,
          -0.02770464322148963,
          -0.01750610488239497,
          0.000651308731500216,
          0.013496511044057245,
          0.014663312311798158,
          -0.007515797600063604,
          0.006338768903375702,
          -0.03526173329174945,
          -0.000521372444809421,
          -0.0007291965178073592,
          0.010195361208939154,
          0.0010060112857561334,
          0.00426568792412841,
          -0.0037992252316440007,
          0.0000017201155091232934,
          0.002427832892210942,
          -0.005018024339433656,
          0.0031259486098500332,
          0.014897713981657687,
          0.01288213135759028,
          -0.00020770919974999816,
          0.008947180649794235,
          0.0002909138992313598,
          -0.00037333310515113476,
          0.006382739314059895,
          -0.004287870259116108,
          0.008928933940036295,
          -0.007331120691200881,
          -0.008841238236229901,
          -0.0034446510242729655,
          0.017056624313432987,
          -0.006823242304721423,
          0.011924340162281034,
          0.0071398389227641905,
          0.0010134166719957642,
          0.01272217057982528,
          0.0012032315698015886,
          -0.00928629698940006,
          0.000986766166980249,
          -0.002086986989854218,
          0.00571977488153028,
          0.0025602141586404947,
          -0.027967871186132993,
          -0.02232614552667901,
          -0.011437457328395975,
          0.01487610787190962,
          -0.004041159636333947,
          -0.0029334220710677296,
          0.0005848612733717045,
          -0.002590904688830711,
          0.001503377667977923,
          -0.006228100870727704,
          -0.005790585144884577,
          0.00596965639547813,
          -0.0038119267662559166,
          -0.0033021651368464397,
          -0.005118955562811033,
          -0.0014590994280675512,
          -0.007255225809414799,
          -0.007048428517727731,
          -0.0011667952213673973,
          -0.003282184431949945,
          -0.0007920334074915933,
          0.0007645278658595495,
          0.0020942356750756584,
          -0.0034039335678902084,
          -0.01375127734059104,
          -0.016328516584733575,
          -0.0017537390398139046,
          -0.008094552650380176,
          -0.0001873780724913291,
          -0.003387416776088205,
          -0.013672866907024472,
          0.002921016457423483,
          0.0013324967782444054,
          0.001879929843916283,
          -0.006921090487810037,
          0.007631062797279932,
          0.020310846258700617,
          -0.00039907344310927085,
          -0.006079486892628303,
          -0.0069927314810605545,
          -0.0007974189751639195,
          0.009018586042509557,
          -0.003994994577533073,
          -0.011777184641768398,
          -0.016304773566110486,
          0.00301565021955953,
          0.007252814559355054,
          0.017653176304037125,
          0.0025597853712144856,
          -0.03777385550482677,
          -0.005495081850638345,
          0.006111514155583546,
          -0.002277990419381445,
          -0.005213139622666951,
          -0.006007794795918925,
          -0.025090221374960413,
          -0.00889670902894268,
          0.017919864494894175,
          -0.012867244161645391,
          0.008250434513696848,
          -0.0029573541653432353,
          -0.010832502439538266,
          0.004508375839229991,
          -0.0103070299209796,
          0.0091230049479231,
          0.018439952156603913,
          0.01133098095091397,
          0.006594612680661346,
          0.018980499810922365,
          0.0009489866192686673,
          -0.0224420306036532,
          0.031275553600269526,
          -0.02358370454140471,
          -0.003907543840496567,
          0.004761484172773989,
          -0.00362523508375781,
          0.0034717108235052113,
          0.01689947109036642,
          0.0001521216340627336,
          0.0003051967120584493,
          -0.01097016005210996,
          -0.0006271422685809871,
          -0.015265894897471188,
          0.0014348013864327706,
          -0.021225519864629804,
          -0.012294420753203097,
          0.004219698337224316,
          0.0031338349711723477,
          -0.008099087340581386,
          0.0011784726262231981,
          0.002320738076606191,
          0.01807882087275098,
          -0.002569397064989527,
          0.01021690223940514,
          0.006535987315921211,
          0.01327238393316216,
          0.019451594765630135,
          0.005249641833205574,
          0.002852678353021716,
          -0.001162050947459279,
          -0.000021529070286698503,
          0.0034773017527014033,
          -0.011635949490698072,
          0.0036472427238086616,
          -0.009045941025603755,
          0.004998174070891478,
          -0.002709154213737663
         ],
         "xaxis": "x2",
         "yaxis": "y2"
        }
       ],
       "layout": {
        "annotations": [
         {
          "font": {
           "size": 16
          },
          "showarrow": false,
          "text": "Security Market Line (SML)",
          "x": 0.225,
          "xanchor": "center",
          "xref": "paper",
          "y": 1,
          "yanchor": "bottom",
          "yref": "paper"
         },
         {
          "font": {
           "size": 16
          },
          "showarrow": false,
          "text": "Distribución de Residuos del Modelo",
          "x": 0.775,
          "xanchor": "center",
          "xref": "paper",
          "y": 1,
          "yanchor": "bottom",
          "yref": "paper"
         }
        ],
        "height": 500,
        "shapes": [
         {
          "line": {
           "color": "gray",
           "dash": "dot"
          },
          "opacity": 0.5,
          "type": "line",
          "x0": 0,
          "x1": 1,
          "xref": "x domain",
          "y0": 0.00011730371383444904,
          "y1": 0.00011730371383444904,
          "yref": "y"
         },
         {
          "line": {
           "color": "gray",
           "dash": "dot"
          },
          "opacity": 0.5,
          "type": "line",
          "x0": 0.00011730371383444904,
          "x1": 0.00011730371383444904,
          "xref": "x",
          "y0": 0,
          "y1": 1,
          "yref": "y domain"
         },
         {
          "line": {
           "color": "gray",
           "dash": "dot"
          },
          "opacity": 0.5,
          "type": "line",
          "x0": 0,
          "x1": 0,
          "xref": "x2",
          "y0": 0,
          "y1": 1,
          "yref": "y2 domain"
         }
        ],
        "showlegend": true,
        "template": {
         "data": {
          "bar": [
           {
            "error_x": {
             "color": "#2a3f5f"
            },
            "error_y": {
             "color": "#2a3f5f"
            },
            "marker": {
             "line": {
              "color": "white",
              "width": 0.5
             },
             "pattern": {
              "fillmode": "overlay",
              "size": 10,
              "solidity": 0.2
             }
            },
            "type": "bar"
           }
          ],
          "barpolar": [
           {
            "marker": {
             "line": {
              "color": "white",
              "width": 0.5
             },
             "pattern": {
              "fillmode": "overlay",
              "size": 10,
              "solidity": 0.2
             }
            },
            "type": "barpolar"
           }
          ],
          "carpet": [
           {
            "aaxis": {
             "endlinecolor": "#2a3f5f",
             "gridcolor": "#C8D4E3",
             "linecolor": "#C8D4E3",
             "minorgridcolor": "#C8D4E3",
             "startlinecolor": "#2a3f5f"
            },
            "baxis": {
             "endlinecolor": "#2a3f5f",
             "gridcolor": "#C8D4E3",
             "linecolor": "#C8D4E3",
             "minorgridcolor": "#C8D4E3",
             "startlinecolor": "#2a3f5f"
            },
            "type": "carpet"
           }
          ],
          "choropleth": [
           {
            "colorbar": {
             "outlinewidth": 0,
             "ticks": ""
            },
            "type": "choropleth"
           }
          ],
          "contour": [
           {
            "colorbar": {
             "outlinewidth": 0,
             "ticks": ""
            },
            "colorscale": [
             [
              0,
              "#0d0887"
             ],
             [
              0.1111111111111111,
              "#46039f"
             ],
             [
              0.2222222222222222,
              "#7201a8"
             ],
             [
              0.3333333333333333,
              "#9c179e"
             ],
             [
              0.4444444444444444,
              "#bd3786"
             ],
             [
              0.5555555555555556,
              "#d8576b"
             ],
             [
              0.6666666666666666,
              "#ed7953"
             ],
             [
              0.7777777777777778,
              "#fb9f3a"
             ],
             [
              0.8888888888888888,
              "#fdca26"
             ],
             [
              1,
              "#f0f921"
             ]
            ],
            "type": "contour"
           }
          ],
          "contourcarpet": [
           {
            "colorbar": {
             "outlinewidth": 0,
             "ticks": ""
            },
            "type": "contourcarpet"
           }
          ],
          "heatmap": [
           {
            "colorbar": {
             "outlinewidth": 0,
             "ticks": ""
            },
            "colorscale": [
             [
              0,
              "#0d0887"
             ],
             [
              0.1111111111111111,
              "#46039f"
             ],
             [
              0.2222222222222222,
              "#7201a8"
             ],
             [
              0.3333333333333333,
              "#9c179e"
             ],
             [
              0.4444444444444444,
              "#bd3786"
             ],
             [
              0.5555555555555556,
              "#d8576b"
             ],
             [
              0.6666666666666666,
              "#ed7953"
             ],
             [
              0.7777777777777778,
              "#fb9f3a"
             ],
             [
              0.8888888888888888,
              "#fdca26"
             ],
             [
              1,
              "#f0f921"
             ]
            ],
            "type": "heatmap"
           }
          ],
          "heatmapgl": [
           {
            "colorbar": {
             "outlinewidth": 0,
             "ticks": ""
            },
            "colorscale": [
             [
              0,
              "#0d0887"
             ],
             [
              0.1111111111111111,
              "#46039f"
             ],
             [
              0.2222222222222222,
              "#7201a8"
             ],
             [
              0.3333333333333333,
              "#9c179e"
             ],
             [
              0.4444444444444444,
              "#bd3786"
             ],
             [
              0.5555555555555556,
              "#d8576b"
             ],
             [
              0.6666666666666666,
              "#ed7953"
             ],
             [
              0.7777777777777778,
              "#fb9f3a"
             ],
             [
              0.8888888888888888,
              "#fdca26"
             ],
             [
              1,
              "#f0f921"
             ]
            ],
            "type": "heatmapgl"
           }
          ],
          "histogram": [
           {
            "marker": {
             "pattern": {
              "fillmode": "overlay",
              "size": 10,
              "solidity": 0.2
             }
            },
            "type": "histogram"
           }
          ],
          "histogram2d": [
           {
            "colorbar": {
             "outlinewidth": 0,
             "ticks": ""
            },
            "colorscale": [
             [
              0,
              "#0d0887"
             ],
             [
              0.1111111111111111,
              "#46039f"
             ],
             [
              0.2222222222222222,
              "#7201a8"
             ],
             [
              0.3333333333333333,
              "#9c179e"
             ],
             [
              0.4444444444444444,
              "#bd3786"
             ],
             [
              0.5555555555555556,
              "#d8576b"
             ],
             [
              0.6666666666666666,
              "#ed7953"
             ],
             [
              0.7777777777777778,
              "#fb9f3a"
             ],
             [
              0.8888888888888888,
              "#fdca26"
             ],
             [
              1,
              "#f0f921"
             ]
            ],
            "type": "histogram2d"
           }
          ],
          "histogram2dcontour": [
           {
            "colorbar": {
             "outlinewidth": 0,
             "ticks": ""
            },
            "colorscale": [
             [
              0,
              "#0d0887"
             ],
             [
              0.1111111111111111,
              "#46039f"
             ],
             [
              0.2222222222222222,
              "#7201a8"
             ],
             [
              0.3333333333333333,
              "#9c179e"
             ],
             [
              0.4444444444444444,
              "#bd3786"
             ],
             [
              0.5555555555555556,
              "#d8576b"
             ],
             [
              0.6666666666666666,
              "#ed7953"
             ],
             [
              0.7777777777777778,
              "#fb9f3a"
             ],
             [
              0.8888888888888888,
              "#fdca26"
             ],
             [
              1,
              "#f0f921"
             ]
            ],
            "type": "histogram2dcontour"
           }
          ],
          "mesh3d": [
           {
            "colorbar": {
             "outlinewidth": 0,
             "ticks": ""
            },
            "type": "mesh3d"
           }
          ],
          "parcoords": [
           {
            "line": {
             "colorbar": {
              "outlinewidth": 0,
              "ticks": ""
             }
            },
            "type": "parcoords"
           }
          ],
          "pie": [
           {
            "automargin": true,
            "type": "pie"
           }
          ],
          "scatter": [
           {
            "fillpattern": {
             "fillmode": "overlay",
             "size": 10,
             "solidity": 0.2
            },
            "type": "scatter"
           }
          ],
          "scatter3d": [
           {
            "line": {
             "colorbar": {
              "outlinewidth": 0,
              "ticks": ""
             }
            },
            "marker": {
             "colorbar": {
              "outlinewidth": 0,
              "ticks": ""
             }
            },
            "type": "scatter3d"
           }
          ],
          "scattercarpet": [
           {
            "marker": {
             "colorbar": {
              "outlinewidth": 0,
              "ticks": ""
             }
            },
            "type": "scattercarpet"
           }
          ],
          "scattergeo": [
           {
            "marker": {
             "colorbar": {
              "outlinewidth": 0,
              "ticks": ""
             }
            },
            "type": "scattergeo"
           }
          ],
          "scattergl": [
           {
            "marker": {
             "colorbar": {
              "outlinewidth": 0,
              "ticks": ""
             }
            },
            "type": "scattergl"
           }
          ],
          "scattermapbox": [
           {
            "marker": {
             "colorbar": {
              "outlinewidth": 0,
              "ticks": ""
             }
            },
            "type": "scattermapbox"
           }
          ],
          "scatterpolar": [
           {
            "marker": {
             "colorbar": {
              "outlinewidth": 0,
              "ticks": ""
             }
            },
            "type": "scatterpolar"
           }
          ],
          "scatterpolargl": [
           {
            "marker": {
             "colorbar": {
              "outlinewidth": 0,
              "ticks": ""
             }
            },
            "type": "scatterpolargl"
           }
          ],
          "scatterternary": [
           {
            "marker": {
             "colorbar": {
              "outlinewidth": 0,
              "ticks": ""
             }
            },
            "type": "scatterternary"
           }
          ],
          "surface": [
           {
            "colorbar": {
             "outlinewidth": 0,
             "ticks": ""
            },
            "colorscale": [
             [
              0,
              "#0d0887"
             ],
             [
              0.1111111111111111,
              "#46039f"
             ],
             [
              0.2222222222222222,
              "#7201a8"
             ],
             [
              0.3333333333333333,
              "#9c179e"
             ],
             [
              0.4444444444444444,
              "#bd3786"
             ],
             [
              0.5555555555555556,
              "#d8576b"
             ],
             [
              0.6666666666666666,
              "#ed7953"
             ],
             [
              0.7777777777777778,
              "#fb9f3a"
             ],
             [
              0.8888888888888888,
              "#fdca26"
             ],
             [
              1,
              "#f0f921"
             ]
            ],
            "type": "surface"
           }
          ],
          "table": [
           {
            "cells": {
             "fill": {
              "color": "#EBF0F8"
             },
             "line": {
              "color": "white"
             }
            },
            "header": {
             "fill": {
              "color": "#C8D4E3"
             },
             "line": {
              "color": "white"
             }
            },
            "type": "table"
           }
          ]
         },
         "layout": {
          "annotationdefaults": {
           "arrowcolor": "#2a3f5f",
           "arrowhead": 0,
           "arrowwidth": 1
          },
          "autotypenumbers": "strict",
          "coloraxis": {
           "colorbar": {
            "outlinewidth": 0,
            "ticks": ""
           }
          },
          "colorscale": {
           "diverging": [
            [
             0,
             "#8e0152"
            ],
            [
             0.1,
             "#c51b7d"
            ],
            [
             0.2,
             "#de77ae"
            ],
            [
             0.3,
             "#f1b6da"
            ],
            [
             0.4,
             "#fde0ef"
            ],
            [
             0.5,
             "#f7f7f7"
            ],
            [
             0.6,
             "#e6f5d0"
            ],
            [
             0.7,
             "#b8e186"
            ],
            [
             0.8,
             "#7fbc41"
            ],
            [
             0.9,
             "#4d9221"
            ],
            [
             1,
             "#276419"
            ]
           ],
           "sequential": [
            [
             0,
             "#0d0887"
            ],
            [
             0.1111111111111111,
             "#46039f"
            ],
            [
             0.2222222222222222,
             "#7201a8"
            ],
            [
             0.3333333333333333,
             "#9c179e"
            ],
            [
             0.4444444444444444,
             "#bd3786"
            ],
            [
             0.5555555555555556,
             "#d8576b"
            ],
            [
             0.6666666666666666,
             "#ed7953"
            ],
            [
             0.7777777777777778,
             "#fb9f3a"
            ],
            [
             0.8888888888888888,
             "#fdca26"
            ],
            [
             1,
             "#f0f921"
            ]
           ],
           "sequentialminus": [
            [
             0,
             "#0d0887"
            ],
            [
             0.1111111111111111,
             "#46039f"
            ],
            [
             0.2222222222222222,
             "#7201a8"
            ],
            [
             0.3333333333333333,
             "#9c179e"
            ],
            [
             0.4444444444444444,
             "#bd3786"
            ],
            [
             0.5555555555555556,
             "#d8576b"
            ],
            [
             0.6666666666666666,
             "#ed7953"
            ],
            [
             0.7777777777777778,
             "#fb9f3a"
            ],
            [
             0.8888888888888888,
             "#fdca26"
            ],
            [
             1,
             "#f0f921"
            ]
           ]
          },
          "colorway": [
           "#636efa",
           "#EF553B",
           "#00cc96",
           "#ab63fa",
           "#FFA15A",
           "#19d3f3",
           "#FF6692",
           "#B6E880",
           "#FF97FF",
           "#FECB52"
          ],
          "font": {
           "color": "#2a3f5f"
          },
          "geo": {
           "bgcolor": "white",
           "lakecolor": "white",
           "landcolor": "white",
           "showlakes": true,
           "showland": true,
           "subunitcolor": "#C8D4E3"
          },
          "hoverlabel": {
           "align": "left"
          },
          "hovermode": "closest",
          "mapbox": {
           "style": "light"
          },
          "paper_bgcolor": "white",
          "plot_bgcolor": "white",
          "polar": {
           "angularaxis": {
            "gridcolor": "#EBF0F8",
            "linecolor": "#EBF0F8",
            "ticks": ""
           },
           "bgcolor": "white",
           "radialaxis": {
            "gridcolor": "#EBF0F8",
            "linecolor": "#EBF0F8",
            "ticks": ""
           }
          },
          "scene": {
           "xaxis": {
            "backgroundcolor": "white",
            "gridcolor": "#DFE8F3",
            "gridwidth": 2,
            "linecolor": "#EBF0F8",
            "showbackground": true,
            "ticks": "",
            "zerolinecolor": "#EBF0F8"
           },
           "yaxis": {
            "backgroundcolor": "white",
            "gridcolor": "#DFE8F3",
            "gridwidth": 2,
            "linecolor": "#EBF0F8",
            "showbackground": true,
            "ticks": "",
            "zerolinecolor": "#EBF0F8"
           },
           "zaxis": {
            "backgroundcolor": "white",
            "gridcolor": "#DFE8F3",
            "gridwidth": 2,
            "linecolor": "#EBF0F8",
            "showbackground": true,
            "ticks": "",
            "zerolinecolor": "#EBF0F8"
           }
          },
          "shapedefaults": {
           "line": {
            "color": "#2a3f5f"
           }
          },
          "ternary": {
           "aaxis": {
            "gridcolor": "#DFE8F3",
            "linecolor": "#A2B1C6",
            "ticks": ""
           },
           "baxis": {
            "gridcolor": "#DFE8F3",
            "linecolor": "#A2B1C6",
            "ticks": ""
           },
           "bgcolor": "white",
           "caxis": {
            "gridcolor": "#DFE8F3",
            "linecolor": "#A2B1C6",
            "ticks": ""
           }
          },
          "title": {
           "x": 0.05
          },
          "xaxis": {
           "automargin": true,
           "gridcolor": "#EBF0F8",
           "linecolor": "#EBF0F8",
           "ticks": "",
           "title": {
            "standoff": 15
           },
           "zerolinecolor": "#EBF0F8",
           "zerolinewidth": 2
          },
          "yaxis": {
           "automargin": true,
           "gridcolor": "#EBF0F8",
           "linecolor": "#EBF0F8",
           "ticks": "",
           "title": {
            "standoff": 15
           },
           "zerolinecolor": "#EBF0F8",
           "zerolinewidth": 2
          }
         }
        },
        "title": {
         "text": "Dashboard CAPM: BBVA.MC vs IBEX 35",
         "x": 0.5
        },
        "width": 1200,
        "xaxis": {
         "anchor": "y",
         "domain": [
          0,
          0.45
         ],
         "range": [
          0,
          0.05366166724809774
         ],
         "title": {
          "text": "Retorno del mercado E(rm)"
         }
        },
        "xaxis2": {
         "anchor": "y2",
         "domain": [
          0.55,
          1
         ],
         "title": {
          "text": "Residuos"
         }
        },
        "yaxis": {
         "anchor": "x",
         "domain": [
          0,
          1
         ],
         "range": [
          0,
          0.09536603290096407
         ],
         "title": {
          "text": "Retorno del activo E(ri)"
         }
        },
        "yaxis2": {
         "anchor": "x2",
         "domain": [
          0,
          1
         ],
         "title": {
          "text": "Frecuencia"
         }
        }
       }
      }
     },
     "metadata": {},
     "output_type": "display_data"
    }
   ],
   "source": [
    "### 8c. Dashboard CAPM Simplificado\n",
    "\n",
    "# Crear subgráficos\n",
    "fig = make_subplots(\n",
    "    rows=1, cols=2,\n",
    "    subplot_titles=(\n",
    "        'Security Market Line (SML)', \n",
    "        'Distribución de Residuos del Modelo'\n",
    "    )\n",
    ")\n",
    "\n",
    "# Convertir a retornos absolutos\n",
    "retorno_mercado_abs = exceso_mercado + rf_daily\n",
    "retorno_activo_abs = exceso_activo + rf_daily\n",
    "mask_positivos = (retorno_mercado_abs > 0) & (retorno_activo_abs > 0)\n",
    "retorno_mercado_pos = retorno_mercado_abs[mask_positivos]\n",
    "retorno_activo_pos = retorno_activo_abs[mask_positivos]\n",
    "\n",
    "# 1. Gráfico principal CAPM (izquierda)\n",
    "fig.add_trace(\n",
    "    go.Scatter(\n",
    "        x=retorno_mercado_pos,\n",
    "        y=retorno_activo_pos,\n",
    "        mode='markers',\n",
    "        name='Datos reales',\n",
    "        marker=dict(color='blue', size=4, opacity=0.6),\n",
    "        hovertemplate='IBEX: %{x:.4f}<br>' + ticker_activo + ': %{y:.4f}<extra></extra>'\n",
    "    ),\n",
    "    row=1, col=1\n",
    ")\n",
    "\n",
    "# Línea SML\n",
    "x_range_dash = np.linspace(0, retorno_mercado_pos.max() * 1.1, 100)\n",
    "y_sml_dash = rf_daily + beta * (x_range_dash - rf_daily)\n",
    "fig.add_trace(\n",
    "    go.Scatter(\n",
    "        x=x_range_dash,\n",
    "        y=y_sml_dash,\n",
    "        mode='lines',\n",
    "        name=f'SML: β={beta:.3f}',\n",
    "        line=dict(color='red', width=2),\n",
    "        showlegend=False\n",
    "    ),\n",
    "    row=1, col=1\n",
    ")\n",
    "\n",
    "# Punto de tasa libre de riesgo\n",
    "fig.add_trace(\n",
    "    go.Scatter(\n",
    "        x=[rf_daily],\n",
    "        y=[rf_daily],\n",
    "        mode='markers',\n",
    "        name='Tasa libre riesgo',\n",
    "        marker=dict(color='black', size=10, symbol='square'),\n",
    "        showlegend=False\n",
    "    ),\n",
    "    row=1, col=1\n",
    ")\n",
    "\n",
    "# 2. Histograma de residuos (derecha)\n",
    "residuals = y - predictions\n",
    "fig.add_trace(\n",
    "    go.Histogram(\n",
    "        x=residuals,\n",
    "        name='Residuos',\n",
    "        marker_color='lightblue',\n",
    "        opacity=0.7,\n",
    "        nbinsx=30,\n",
    "        hovertemplate='Residuo: %{x:.4f}<br>Frecuencia: %{y}<extra></extra>'\n",
    "    ),\n",
    "    row=1, col=2\n",
    ")\n",
    "\n",
    "# Actualizar layout\n",
    "fig.update_layout(\n",
    "    title_text=f\"Dashboard CAPM: {ticker_activo} vs IBEX 35\",\n",
    "    title_x=0.5,\n",
    "    height=500,\n",
    "    width=1200,\n",
    "    showlegend=True,\n",
    "    template='plotly_white'\n",
    ")\n",
    "\n",
    "# Configurar ejes específicos\n",
    "fig.update_xaxes(title_text=\"Retorno del mercado E(rm)\", row=1, col=1, range=[0, retorno_mercado_pos.max() * 1.1])\n",
    "fig.update_yaxes(title_text=f\"Retorno del activo E(ri)\", row=1, col=1, range=[0, retorno_activo_pos.max() * 1.1])\n",
    "\n",
    "fig.update_xaxes(title_text=\"Residuos\", row=1, col=2)\n",
    "fig.update_yaxes(title_text=\"Frecuencia\", row=1, col=2)\n",
    "\n",
    "# Añadir líneas de referencia\n",
    "fig.add_hline(y=rf_daily, line_dash=\"dot\", line_color=\"gray\", opacity=0.5, row=1, col=1)\n",
    "fig.add_vline(x=rf_daily, line_dash=\"dot\", line_color=\"gray\", opacity=0.5, row=1, col=1)\n",
    "fig.add_vline(x=0, line_dash=\"dot\", line_color=\"gray\", opacity=0.5, row=1, col=2)\n",
    "\n",
    "fig.show()"
   ]
  },
  {
   "cell_type": "code",
   "execution_count": 23,
   "id": "24af94a6",
   "metadata": {},
   "outputs": [
    {
     "data": {
      "application/vnd.microsoft.datawrangler.viewer.v0+json": {
       "columns": [
        {
         "name": "index",
         "rawType": "int64",
         "type": "integer"
        },
        {
         "name": "Métrica CAPM",
         "rawType": "object",
         "type": "string"
        },
        {
         "name": "Valor",
         "rawType": "object",
         "type": "unknown"
        }
       ],
       "ref": "a286aa0b-94bc-4063-8aa4-3407478449c7",
       "rows": [
        [
         "0",
         "Activo analizado",
         "BBVA.MC"
        ],
        [
         "1",
         "Período de análisis",
         "2022-01-01 a 2024-12-31"
        ],
        [
         "2",
         "Observaciones totales",
         "766"
        ],
        [
         "3",
         "Tasa libre de riesgo (anual)",
         "3.0%"
        ],
        [
         "4",
         "Tasa libre de riesgo (diaria)",
         "0.000117"
        ],
        [
         "5",
         "Beta (β) - Riesgo sistemático",
         "1.5177"
        ],
        [
         "6",
         "Alpha (α) - Alpha de Jensen",
         "0.000381"
        ],
        [
         "7",
         "R² del modelo",
         "0.6144"
        ],
        [
         "8",
         "Error Cuadrado Medio",
         "0.00014276"
        ],
        [
         "9",
         "Retorno esperado E(ri)",
         "0.000560"
        ],
        [
         "10",
         "Retorno esperado mercado E(rm)",
         "0.000409"
        ],
        [
         "11",
         "Ratio de Sharpe (activo)",
         "0.0428"
        ],
        [
         "12",
         "Ratio de Sharpe (mercado)",
         "0.0293"
        ],
        [
         "13",
         "Ratio de Treynor",
         "0.000542"
        ]
       ],
       "shape": {
        "columns": 2,
        "rows": 14
       }
      },
      "text/html": [
       "<div>\n",
       "<style scoped>\n",
       "    .dataframe tbody tr th:only-of-type {\n",
       "        vertical-align: middle;\n",
       "    }\n",
       "\n",
       "    .dataframe tbody tr th {\n",
       "        vertical-align: top;\n",
       "    }\n",
       "\n",
       "    .dataframe thead th {\n",
       "        text-align: right;\n",
       "    }\n",
       "</style>\n",
       "<table border=\"1\" class=\"dataframe\">\n",
       "  <thead>\n",
       "    <tr style=\"text-align: right;\">\n",
       "      <th></th>\n",
       "      <th>Métrica CAPM</th>\n",
       "      <th>Valor</th>\n",
       "    </tr>\n",
       "  </thead>\n",
       "  <tbody>\n",
       "    <tr>\n",
       "      <th>0</th>\n",
       "      <td>Activo analizado</td>\n",
       "      <td>BBVA.MC</td>\n",
       "    </tr>\n",
       "    <tr>\n",
       "      <th>1</th>\n",
       "      <td>Período de análisis</td>\n",
       "      <td>2022-01-01 a 2024-12-31</td>\n",
       "    </tr>\n",
       "    <tr>\n",
       "      <th>2</th>\n",
       "      <td>Observaciones totales</td>\n",
       "      <td>766</td>\n",
       "    </tr>\n",
       "    <tr>\n",
       "      <th>3</th>\n",
       "      <td>Tasa libre de riesgo (anual)</td>\n",
       "      <td>3.0%</td>\n",
       "    </tr>\n",
       "    <tr>\n",
       "      <th>4</th>\n",
       "      <td>Tasa libre de riesgo (diaria)</td>\n",
       "      <td>0.000117</td>\n",
       "    </tr>\n",
       "    <tr>\n",
       "      <th>5</th>\n",
       "      <td>Beta (β) - Riesgo sistemático</td>\n",
       "      <td>1.5177</td>\n",
       "    </tr>\n",
       "    <tr>\n",
       "      <th>6</th>\n",
       "      <td>Alpha (α) - Alpha de Jensen</td>\n",
       "      <td>0.000381</td>\n",
       "    </tr>\n",
       "    <tr>\n",
       "      <th>7</th>\n",
       "      <td>R² del modelo</td>\n",
       "      <td>0.6144</td>\n",
       "    </tr>\n",
       "    <tr>\n",
       "      <th>8</th>\n",
       "      <td>Error Cuadrado Medio</td>\n",
       "      <td>0.00014276</td>\n",
       "    </tr>\n",
       "    <tr>\n",
       "      <th>9</th>\n",
       "      <td>Retorno esperado E(ri)</td>\n",
       "      <td>0.000560</td>\n",
       "    </tr>\n",
       "    <tr>\n",
       "      <th>10</th>\n",
       "      <td>Retorno esperado mercado E(rm)</td>\n",
       "      <td>0.000409</td>\n",
       "    </tr>\n",
       "    <tr>\n",
       "      <th>11</th>\n",
       "      <td>Ratio de Sharpe (activo)</td>\n",
       "      <td>0.0428</td>\n",
       "    </tr>\n",
       "    <tr>\n",
       "      <th>12</th>\n",
       "      <td>Ratio de Sharpe (mercado)</td>\n",
       "      <td>0.0293</td>\n",
       "    </tr>\n",
       "    <tr>\n",
       "      <th>13</th>\n",
       "      <td>Ratio de Treynor</td>\n",
       "      <td>0.000542</td>\n",
       "    </tr>\n",
       "  </tbody>\n",
       "</table>\n",
       "</div>"
      ],
      "text/plain": [
       "                      Métrica CAPM                    Valor\n",
       "0                 Activo analizado                  BBVA.MC\n",
       "1              Período de análisis  2022-01-01 a 2024-12-31\n",
       "2            Observaciones totales                      766\n",
       "3     Tasa libre de riesgo (anual)                     3.0%\n",
       "4    Tasa libre de riesgo (diaria)                 0.000117\n",
       "5    Beta (β) - Riesgo sistemático                   1.5177\n",
       "6      Alpha (α) - Alpha de Jensen                 0.000381\n",
       "7                    R² del modelo                   0.6144\n",
       "8             Error Cuadrado Medio               0.00014276\n",
       "9           Retorno esperado E(ri)                 0.000560\n",
       "10  Retorno esperado mercado E(rm)                 0.000409\n",
       "11        Ratio de Sharpe (activo)                   0.0428\n",
       "12       Ratio de Sharpe (mercado)                   0.0293\n",
       "13                Ratio de Treynor                 0.000542"
      ]
     },
     "execution_count": 23,
     "metadata": {},
     "output_type": "execute_result"
    }
   ],
   "source": [
    "### 9. Resultados del análisis CAPM\n",
    "\n",
    "# Calcular métricas CAPM relevantes\n",
    "r_squared = 1 - mse/np.var(exceso_activo)\n",
    "sharpe_ratio_activo = (returns[ticker_activo].mean() - rf_daily) / returns[ticker_activo].std()\n",
    "sharpe_ratio_mercado = (returns[\"IBEX\"].mean() - rf_daily) / returns[\"IBEX\"].std()\n",
    "treynor_ratio = (returns[ticker_activo].mean() - rf_daily) / beta\n",
    "\n",
    "# Crear DataFrame resumen\n",
    "resultados = pd.DataFrame({\n",
    "    'Métrica CAPM': [\n",
    "        'Activo analizado',\n",
    "        'Período de análisis',\n",
    "        'Observaciones totales',\n",
    "        'Tasa libre de riesgo (anual)',\n",
    "        'Tasa libre de riesgo (diaria)',\n",
    "        'Beta (β) - Riesgo sistemático',\n",
    "        'Alpha (α) - Alpha de Jensen',\n",
    "        'R² del modelo',\n",
    "        'Error Cuadrado Medio',\n",
    "        'Retorno esperado E(ri)',\n",
    "        'Retorno esperado mercado E(rm)',\n",
    "        'Ratio de Sharpe (activo)',\n",
    "        'Ratio de Sharpe (mercado)',\n",
    "        'Ratio de Treynor'\n",
    "    ],\n",
    "    'Valor': [\n",
    "        ticker_activo,\n",
    "        f\"{start_date} a {end_date}\",\n",
    "        len(returns),\n",
    "        f\"{rf_annual:.1%}\",\n",
    "        f\"{rf_daily:.6f}\",\n",
    "        f\"{beta:.4f}\",\n",
    "        f\"{alpha:.6f}\",\n",
    "        f\"{r_squared:.4f}\",\n",
    "        f\"{mse:.8f}\",\n",
    "        f\"{retorno_esperado_activo:.6f}\",\n",
    "        f\"{retorno_esperado_mercado:.6f}\",\n",
    "        f\"{sharpe_ratio_activo:.4f}\",\n",
    "        f\"{sharpe_ratio_mercado:.4f}\",\n",
    "        f\"{treynor_ratio:.6f}\"\n",
    "    ]\n",
    "})\n",
    "\n",
    "resultados"
   ]
  },
  {
   "cell_type": "code",
   "execution_count": 24,
   "id": "1283b0b1",
   "metadata": {},
   "outputs": [
    {
     "data": {
      "application/vnd.microsoft.datawrangler.viewer.v0+json": {
       "columns": [
        {
         "name": "index",
         "rawType": "int64",
         "type": "integer"
        },
        {
         "name": "Aspecto",
         "rawType": "object",
         "type": "string"
        },
        {
         "name": "Interpretación",
         "rawType": "object",
         "type": "string"
        }
       ],
       "ref": "c143b01c-878c-4e20-827b-0ae677027772",
       "rows": [
        [
         "0",
         "Riesgo sistemático (Beta)",
         "β = 1.518: El activo tiene 51.8% más riesgo sistemático que el mercado"
        ],
        [
         "1",
         "Alpha de Jensen",
         "α = 0.0004: Alpha positivo indica outperformance vs CAPM"
        ],
        [
         "2",
         "Calidad del modelo (R²)",
         "R² = 0.614: El 61.4% de la variabilidad se explica por el mercado"
        ],
        [
         "3",
         "Eficiencia de riesgo (Sharpe)",
         "Sharpe = 0.043 vs mercado 0.029: Mejor eficiencia riesgo-retorno"
        ],
        [
         "4",
         "Eficiencia de riesgo sistemático (Treynor)",
         "Treynor = 0.0005: Retorno por unidad de riesgo sistemático"
        ],
        [
         "5",
         "Valoración del activo",
         "Activo está sobrevalorado según CAPM"
        ],
        [
         "6",
         "Recomendación de inversión",
         "Recomendado para carteras diversificadas"
        ]
       ],
       "shape": {
        "columns": 2,
        "rows": 7
       }
      },
      "text/html": [
       "<div>\n",
       "<style scoped>\n",
       "    .dataframe tbody tr th:only-of-type {\n",
       "        vertical-align: middle;\n",
       "    }\n",
       "\n",
       "    .dataframe tbody tr th {\n",
       "        vertical-align: top;\n",
       "    }\n",
       "\n",
       "    .dataframe thead th {\n",
       "        text-align: right;\n",
       "    }\n",
       "</style>\n",
       "<table border=\"1\" class=\"dataframe\">\n",
       "  <thead>\n",
       "    <tr style=\"text-align: right;\">\n",
       "      <th></th>\n",
       "      <th>Aspecto</th>\n",
       "      <th>Interpretación</th>\n",
       "    </tr>\n",
       "  </thead>\n",
       "  <tbody>\n",
       "    <tr>\n",
       "      <th>0</th>\n",
       "      <td>Riesgo sistemático (Beta)</td>\n",
       "      <td>β = 1.518: El activo tiene 51.8% más riesgo si...</td>\n",
       "    </tr>\n",
       "    <tr>\n",
       "      <th>1</th>\n",
       "      <td>Alpha de Jensen</td>\n",
       "      <td>α = 0.0004: Alpha positivo indica outperforman...</td>\n",
       "    </tr>\n",
       "    <tr>\n",
       "      <th>2</th>\n",
       "      <td>Calidad del modelo (R²)</td>\n",
       "      <td>R² = 0.614: El 61.4% de la variabilidad se exp...</td>\n",
       "    </tr>\n",
       "    <tr>\n",
       "      <th>3</th>\n",
       "      <td>Eficiencia de riesgo (Sharpe)</td>\n",
       "      <td>Sharpe = 0.043 vs mercado 0.029: Mejor eficien...</td>\n",
       "    </tr>\n",
       "    <tr>\n",
       "      <th>4</th>\n",
       "      <td>Eficiencia de riesgo sistemático (Treynor)</td>\n",
       "      <td>Treynor = 0.0005: Retorno por unidad de riesgo...</td>\n",
       "    </tr>\n",
       "    <tr>\n",
       "      <th>5</th>\n",
       "      <td>Valoración del activo</td>\n",
       "      <td>Activo está sobrevalorado según CAPM</td>\n",
       "    </tr>\n",
       "    <tr>\n",
       "      <th>6</th>\n",
       "      <td>Recomendación de inversión</td>\n",
       "      <td>Recomendado para carteras diversificadas</td>\n",
       "    </tr>\n",
       "  </tbody>\n",
       "</table>\n",
       "</div>"
      ],
      "text/plain": [
       "                                      Aspecto  \\\n",
       "0                   Riesgo sistemático (Beta)   \n",
       "1                             Alpha de Jensen   \n",
       "2                     Calidad del modelo (R²)   \n",
       "3               Eficiencia de riesgo (Sharpe)   \n",
       "4  Eficiencia de riesgo sistemático (Treynor)   \n",
       "5                       Valoración del activo   \n",
       "6                  Recomendación de inversión   \n",
       "\n",
       "                                      Interpretación  \n",
       "0  β = 1.518: El activo tiene 51.8% más riesgo si...  \n",
       "1  α = 0.0004: Alpha positivo indica outperforman...  \n",
       "2  R² = 0.614: El 61.4% de la variabilidad se exp...  \n",
       "3  Sharpe = 0.043 vs mercado 0.029: Mejor eficien...  \n",
       "4  Treynor = 0.0005: Retorno por unidad de riesgo...  \n",
       "5               Activo está sobrevalorado según CAPM  \n",
       "6           Recomendado para carteras diversificadas  "
      ]
     },
     "execution_count": 24,
     "metadata": {},
     "output_type": "execute_result"
    }
   ],
   "source": [
    "### 10. Interpretación financiera CAPM\n",
    "\n",
    "# Interpretaciones del análisis CAPM\n",
    "interpretacion = pd.DataFrame({\n",
    "    'Aspecto': [\n",
    "        'Riesgo sistemático (Beta)',\n",
    "        'Alpha de Jensen',\n",
    "        'Calidad del modelo (R²)',\n",
    "        'Eficiencia de riesgo (Sharpe)',\n",
    "        'Eficiencia de riesgo sistemático (Treynor)',\n",
    "        'Valoración del activo',\n",
    "        'Recomendación de inversión'\n",
    "    ],\n",
    "    'Interpretación': [\n",
    "        f\"β = {beta:.3f}: El activo tiene {abs((beta-1)*100):.1f}% {'más' if beta > 1 else 'menos'} riesgo sistemático que el mercado\",\n",
    "        f\"α = {alpha:.4f}: {'Alpha positivo indica outperformance' if alpha > 0 else 'Alpha negativo indica underperformance'} vs CAPM\",\n",
    "        f\"R² = {r_squared:.3f}: El {r_squared*100:.1f}% de la variabilidad se explica por el mercado\",\n",
    "        f\"Sharpe = {sharpe_ratio_activo:.3f} vs mercado {sharpe_ratio_mercado:.3f}: {'Mejor' if sharpe_ratio_activo > sharpe_ratio_mercado else 'Peor'} eficiencia riesgo-retorno\",\n",
    "        f\"Treynor = {treynor_ratio:.4f}: Retorno por unidad de riesgo sistemático\",\n",
    "        \"Activo está \" + (\"sobrevalorado\" if alpha > 0 else \"infravalorado\" if alpha < 0 else \"correctamente valorado\") + \" según CAPM\",\n",
    "        f\"{'Recomendado' if alpha > 0 and sharpe_ratio_activo > sharpe_ratio_mercado else 'No recomendado'} para carteras diversificadas\"\n",
    "    ]\n",
    "})\n",
    "\n",
    "interpretacion"
   ]
  }
 ],
 "metadata": {
  "kernelspec": {
   "display_name": "base",
   "language": "python",
   "name": "python3"
  },
  "language_info": {
   "codemirror_mode": {
    "name": "ipython",
    "version": 3
   },
   "file_extension": ".py",
   "mimetype": "text/x-python",
   "name": "python",
   "nbconvert_exporter": "python",
   "pygments_lexer": "ipython3",
   "version": "3.12.7"
  }
 },
 "nbformat": 4,
 "nbformat_minor": 5
}
