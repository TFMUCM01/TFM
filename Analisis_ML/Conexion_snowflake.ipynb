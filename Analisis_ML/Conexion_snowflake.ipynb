{
 "cells": [
  {
   "cell_type": "markdown",
   "id": "d582b8ef",
   "metadata": {
    "vscode": {
     "languageId": "plaintext"
    }
   },
   "source": [
    "# Optimización de Portafolio "
   ]
  },
  {
   "cell_type": "code",
   "execution_count": 20,
   "id": "0aeb1667",
   "metadata": {},
   "outputs": [
    {
     "name": "stdout",
     "output_type": "stream",
     "text": [
      "Requirement already satisfied: snowflake-connector-python in c:\\users\\jcrom\\anaconda3\\lib\\site-packages (3.16.0)\n",
      "Requirement already satisfied: pandas in c:\\users\\jcrom\\anaconda3\\lib\\site-packages (2.2.3)\n",
      "Requirement already satisfied: asn1crypto<2.0.0,>0.24.0 in c:\\users\\jcrom\\anaconda3\\lib\\site-packages (from snowflake-connector-python) (1.5.1)\n",
      "Requirement already satisfied: boto3>=1.24 in c:\\users\\jcrom\\anaconda3\\lib\\site-packages (from snowflake-connector-python) (1.40.2)\n",
      "Requirement already satisfied: botocore>=1.24 in c:\\users\\jcrom\\anaconda3\\lib\\site-packages (from snowflake-connector-python) (1.40.2)\n",
      "Requirement already satisfied: cffi<2.0.0,>=1.9 in c:\\users\\jcrom\\anaconda3\\lib\\site-packages (from snowflake-connector-python) (1.17.1)\n",
      "Requirement already satisfied: cryptography>=3.1.0 in c:\\users\\jcrom\\anaconda3\\lib\\site-packages (from snowflake-connector-python) (43.0.0)\n",
      "Requirement already satisfied: pyOpenSSL<26.0.0,>=22.0.0 in c:\\users\\jcrom\\anaconda3\\lib\\site-packages (from snowflake-connector-python) (24.2.1)\n",
      "Requirement already satisfied: pyjwt<3.0.0 in c:\\users\\jcrom\\anaconda3\\lib\\site-packages (from snowflake-connector-python) (2.10.1)\n",
      "Requirement already satisfied: pytz in c:\\users\\jcrom\\anaconda3\\lib\\site-packages (from snowflake-connector-python) (2025.2)\n",
      "Requirement already satisfied: requests<3.0.0 in c:\\users\\jcrom\\anaconda3\\lib\\site-packages (from snowflake-connector-python) (2.32.3)\n",
      "Requirement already satisfied: packaging in c:\\users\\jcrom\\appdata\\roaming\\python\\python312\\site-packages (from snowflake-connector-python) (24.2)\n",
      "Requirement already satisfied: charset_normalizer<4,>=2 in c:\\users\\jcrom\\anaconda3\\lib\\site-packages (from snowflake-connector-python) (3.4.2)\n",
      "Requirement already satisfied: idna<4,>=2.5 in c:\\users\\jcrom\\anaconda3\\lib\\site-packages (from snowflake-connector-python) (3.7)\n",
      "Requirement already satisfied: certifi>=2017.4.17 in c:\\users\\jcrom\\anaconda3\\lib\\site-packages (from snowflake-connector-python) (2025.4.26)\n",
      "Requirement already satisfied: typing_extensions<5,>=4.3 in c:\\users\\jcrom\\appdata\\roaming\\python\\python312\\site-packages (from snowflake-connector-python) (4.13.2)\n",
      "Requirement already satisfied: filelock<4,>=3.5 in c:\\users\\jcrom\\anaconda3\\lib\\site-packages (from snowflake-connector-python) (3.13.1)\n",
      "Requirement already satisfied: sortedcontainers>=2.4.0 in c:\\users\\jcrom\\anaconda3\\lib\\site-packages (from snowflake-connector-python) (2.4.0)\n",
      "Requirement already satisfied: platformdirs<5.0.0,>=2.6.0 in c:\\users\\jcrom\\appdata\\roaming\\python\\python312\\site-packages (from snowflake-connector-python) (4.3.6)\n",
      "Requirement already satisfied: tomlkit in c:\\users\\jcrom\\anaconda3\\lib\\site-packages (from snowflake-connector-python) (0.13.2)\n",
      "Requirement already satisfied: numpy>=1.26.0 in c:\\users\\jcrom\\anaconda3\\lib\\site-packages (from pandas) (1.26.4)\n",
      "Requirement already satisfied: python-dateutil>=2.8.2 in c:\\users\\jcrom\\appdata\\roaming\\python\\python312\\site-packages (from pandas) (2.9.0.post0)\n",
      "Requirement already satisfied: tzdata>=2022.7 in c:\\users\\jcrom\\anaconda3\\lib\\site-packages (from pandas) (2023.3)\n",
      "Requirement already satisfied: jmespath<2.0.0,>=0.7.1 in c:\\users\\jcrom\\anaconda3\\lib\\site-packages (from boto3>=1.24->snowflake-connector-python) (1.0.1)\n",
      "Requirement already satisfied: s3transfer<0.14.0,>=0.13.0 in c:\\users\\jcrom\\anaconda3\\lib\\site-packages (from boto3>=1.24->snowflake-connector-python) (0.13.1)\n",
      "Requirement already satisfied: urllib3!=2.2.0,<3,>=1.25.4 in c:\\users\\jcrom\\anaconda3\\lib\\site-packages (from botocore>=1.24->snowflake-connector-python) (2.2.3)\n",
      "Requirement already satisfied: pycparser in c:\\users\\jcrom\\anaconda3\\lib\\site-packages (from cffi<2.0.0,>=1.9->snowflake-connector-python) (2.21)\n",
      "Requirement already satisfied: six>=1.5 in c:\\users\\jcrom\\appdata\\roaming\\python\\python312\\site-packages (from python-dateutil>=2.8.2->pandas) (1.17.0)\n"
     ]
    }
   ],
   "source": [
    "! pip install snowflake-connector-python pandas\n"
   ]
  },
  {
   "cell_type": "code",
   "execution_count": 21,
   "id": "eb1f5b70",
   "metadata": {},
   "outputs": [],
   "source": [
    "import numpy as np\n",
    "import pandas as pd\n",
    "import matplotlib.pyplot as plt\n",
    "import seaborn as sns\n",
    "import plotly.express as px\n",
    "import scipy.optimize as optimization\n",
    "import snowflake.connector\n",
    "import os\n"
   ]
  },
  {
   "cell_type": "code",
   "execution_count": 25,
   "id": "89643c1e",
   "metadata": {},
   "outputs": [],
   "source": [
    "SNOWFLAKE_CONFIG = {\n",
    "    'user': 'tfmgrupo4',\n",
    "    'password': 'TFMgrupo4ucm01_01#',\n",
    "    'account': 'WYNIFVB-YE01854',          # ejemplo: xy12345.eu-central-1\n",
    "    'warehouse': 'TFM_WH',\n",
    "    'database': 'YAHOO_FINANCE',\n",
    "    'schema': 'MACHINE_LEARNING'\n",
    "}"
   ]
  },
  {
   "cell_type": "code",
   "execution_count": 26,
   "id": "5b8eb529",
   "metadata": {},
   "outputs": [
    {
     "ename": "ModuleNotFoundError",
     "evalue": "No module named 'config'",
     "output_type": "error",
     "traceback": [
      "\u001b[31m---------------------------------------------------------------------------\u001b[39m",
      "\u001b[31mModuleNotFoundError\u001b[39m                       Traceback (most recent call last)",
      "\u001b[36mCell\u001b[39m\u001b[36m \u001b[39m\u001b[32mIn[26]\u001b[39m\u001b[32m, line 2\u001b[39m\n\u001b[32m      1\u001b[39m \u001b[38;5;28;01mimport\u001b[39;00m\u001b[38;5;250m \u001b[39m\u001b[34;01msnowflake\u001b[39;00m\u001b[34;01m.\u001b[39;00m\u001b[34;01mconnector\u001b[39;00m\n\u001b[32m----> \u001b[39m\u001b[32m2\u001b[39m \u001b[38;5;28;01mfrom\u001b[39;00m\u001b[38;5;250m \u001b[39m\u001b[34;01mconfig\u001b[39;00m\u001b[38;5;250m \u001b[39m\u001b[38;5;28;01mimport\u001b[39;00m SNOWFLAKE_CONFIG\n\u001b[32m      4\u001b[39m \u001b[38;5;28;01mtry\u001b[39;00m:\n\u001b[32m      5\u001b[39m     conn = snowflake.connector.connect(\n\u001b[32m      6\u001b[39m         user=SNOWFLAKE_CONFIG[\u001b[33m'\u001b[39m\u001b[33muser\u001b[39m\u001b[33m'\u001b[39m],\n\u001b[32m      7\u001b[39m         password=SNOWFLAKE_CONFIG[\u001b[33m'\u001b[39m\u001b[33mpassword\u001b[39m\u001b[33m'\u001b[39m],\n\u001b[32m   (...)\u001b[39m\u001b[32m     11\u001b[39m         schema=SNOWFLAKE_CONFIG[\u001b[33m'\u001b[39m\u001b[33mschema\u001b[39m\u001b[33m'\u001b[39m]\n\u001b[32m     12\u001b[39m     )\n",
      "\u001b[31mModuleNotFoundError\u001b[39m: No module named 'config'"
     ]
    }
   ],
   "source": [
    "import snowflake.connector\n",
    "from config import SNOWFLAKE_CONFIG\n",
    "\n",
    "try:\n",
    "    conn = snowflake.connector.connect(\n",
    "        user=SNOWFLAKE_CONFIG['user'],\n",
    "        password=SNOWFLAKE_CONFIG['password'],\n",
    "        account=SNOWFLAKE_CONFIG['account'],\n",
    "        warehouse=SNOWFLAKE_CONFIG['warehouse'],\n",
    "        database=SNOWFLAKE_CONFIG['database'],\n",
    "        schema=SNOWFLAKE_CONFIG['schema']\n",
    "    )\n",
    "    print(\"✅ Conexión a Snowflake exitosa.\")\n",
    "    conn.close()\n",
    "except Exception as e:\n",
    "    print(\"❌ Error de conexión:\", e)"
   ]
  },
  {
   "cell_type": "code",
   "execution_count": 18,
   "id": "24a79d70",
   "metadata": {},
   "outputs": [],
   "source": [
    "NUM_TRADING_DAYS = 252\n",
    "NUM_PORTFOLIOS = 10000\n",
    "START_DATE = '2020-01-01'\n",
    "END_DATE = '2024-12-31'\n"
   ]
  },
  {
   "cell_type": "code",
   "execution_count": null,
   "id": "3e8266d6",
   "metadata": {},
   "outputs": [
    {
     "ename": "ModuleNotFoundError",
     "evalue": "No module named 'config'",
     "output_type": "error",
     "traceback": [
      "\u001b[31m---------------------------------------------------------------------------\u001b[39m",
      "\u001b[31mModuleNotFoundError\u001b[39m                       Traceback (most recent call last)",
      "\u001b[36mCell\u001b[39m\u001b[36m \u001b[39m\u001b[32mIn[24]\u001b[39m\u001b[32m, line 2\u001b[39m\n\u001b[32m      1\u001b[39m \u001b[38;5;28;01mimport\u001b[39;00m\u001b[38;5;250m \u001b[39m\u001b[34;01msnowflake\u001b[39;00m\u001b[34;01m.\u001b[39;00m\u001b[34;01mconnector\u001b[39;00m\n\u001b[32m----> \u001b[39m\u001b[32m2\u001b[39m \u001b[38;5;28;01mfrom\u001b[39;00m\u001b[38;5;250m \u001b[39m\u001b[34;01mconfig\u001b[39;00m\u001b[38;5;250m \u001b[39m\u001b[38;5;28;01mimport\u001b[39;00m SNOWFLAKE_CONFIG\n\u001b[32m      4\u001b[39m \u001b[38;5;28;01mtry\u001b[39;00m:\n\u001b[32m      5\u001b[39m     conn = snowflake.connector.connect(\n\u001b[32m      6\u001b[39m         user=SNOWFLAKE_CONFIG[\u001b[33m'\u001b[39m\u001b[33muser\u001b[39m\u001b[33m'\u001b[39m],\n\u001b[32m      7\u001b[39m         password=SNOWFLAKE_CONFIG[\u001b[33m'\u001b[39m\u001b[33mpassword\u001b[39m\u001b[33m'\u001b[39m],\n\u001b[32m   (...)\u001b[39m\u001b[32m     11\u001b[39m         schema=SNOWFLAKE_CONFIG[\u001b[33m'\u001b[39m\u001b[33mschema\u001b[39m\u001b[33m'\u001b[39m]\n\u001b[32m     12\u001b[39m     )\n",
      "\u001b[31mModuleNotFoundError\u001b[39m: No module named 'config'"
     ]
    }
   ],
   "source": [
    "conn = snowflake.connector.connect(\n",
    "    user='TFMGRUPO4',\n",
    "    password=os.getenv('SNOWFLAKE_PASSWORD'),  # o reemplaza con 'tu_password' temporalmente\n",
    "    account='WYNIFVB-YE01854',\n",
    "    warehouse='COMPUTE_WH',\n",
    "    database='YAHOO_FINANCE',\n",
    "    schema='MACHINE_LEARNING',\n",
    "    role='ACCOUNTADMIN'\n",
    ")\n",
    "\n",
    "query = f\"\"\"\n",
    "    SELECT TICKER, DATE, CLOSE\n",
    "    FROM YAHOO_FINANCE.MACHINE_LEARNING.TICKERS_INDEX\n",
    "    WHERE DATE BETWEEN '{START_DATE}' AND '{END_DATE}'\n",
    "\"\"\"\n",
    "cursor = conn.cursor()\n",
    "cursor.execute(query)\n",
    "raw_df = pd.DataFrame(cursor.fetchall(), columns=[col[0] for col in cursor.description])\n",
    "cursor.close()\n",
    "conn.close()\n"
   ]
  }
 ],
 "metadata": {
  "kernelspec": {
   "display_name": "base",
   "language": "python",
   "name": "python3"
  },
  "language_info": {
   "codemirror_mode": {
    "name": "ipython",
    "version": 3
   },
   "file_extension": ".py",
   "mimetype": "text/x-python",
   "name": "python",
   "nbconvert_exporter": "python",
   "pygments_lexer": "ipython3",
   "version": "3.12.7"
  }
 },
 "nbformat": 4,
 "nbformat_minor": 5
}
