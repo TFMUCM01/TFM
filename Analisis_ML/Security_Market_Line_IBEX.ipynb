{
 "cells": [
  {
   "cell_type": "code",
   "execution_count": 1,
   "id": "cb4d3b20",
   "metadata": {},
   "outputs": [],
   "source": [
    "import pandas as pd\n",
    "import numpy as np\n",
    "import snowflake.connector\n",
    "import statsmodels.api as sm\n",
    "import plotly.graph_objects as go"
   ]
  },
  {
   "cell_type": "code",
   "execution_count": 2,
   "id": "071c0b2d",
   "metadata": {},
   "outputs": [],
   "source": [
    "# Configuración (ANUAL)\n",
    "\n",
    "start_date   = '2020-01-01'\n",
    "end_date     = '2024-12-31'\n",
    "ticker_ibex  = 'IBEX 35'          # usamos el nombre del índice en INDEX_DAILY\n",
    "rf_anual     = 0.03               # 3% anual\n",
    "freq_label   = 'anual'\n",
    "periodo_label = 'años'"
   ]
  },
  {
   "cell_type": "code",
   "execution_count": 3,
   "id": "dbb7cf94",
   "metadata": {},
   "outputs": [],
   "source": [
    "tickers = [\n",
    "    \"IBE.MC\", \"ITX.MC\", \"TEF.MC\", \"BBVA.MC\", \"SAN.MC\", \"REP.MC\",\n",
    "    \"AENA.MC\", \"IAG.MC\", \"ENG.MC\", \"ACS.MC\", \"FER.MC\", \"CABK.MC\",\n",
    "    \"ELE.MC\", \"MAP.MC\"\n",
    "]\n"
   ]
  },
  {
   "cell_type": "code",
   "execution_count": 4,
   "id": "61291123",
   "metadata": {},
   "outputs": [],
   "source": [
    "# Conexión Snowflake (DB/Schema correctos)\n",
    "# -----------------------------\n",
    "conn = snowflake.connector.connect(\n",
    "    user='TFMGRUPO4',\n",
    "    password='TFMgrupo4ucm01_01#',\n",
    "    account='WYNIFVB-YE01854',\n",
    "    warehouse='COMPUTE_WH',\n",
    "    database='YAHOO_PRUEBA',   # <<<<<<<<<<\n",
    "    schema='IBEX',             # <<<<<<<<<<\n",
    "    role='ACCOUNTADMIN'\n",
    ")\n",
    "cursor = conn.cursor()"
   ]
  },
  {
   "cell_type": "code",
   "execution_count": 5,
   "id": "52133750",
   "metadata": {},
   "outputs": [],
   "source": [
    "# IBEX (mercado) - INDEX_DAILY\n",
    "# -----------------------------\n",
    "q_ibex = f\"\"\"\n",
    "    SELECT FECHA, CLOSE\n",
    "    FROM INDEX_DAILY\n",
    "    WHERE INDEX_NAME = '{ticker_ibex}'\n",
    "      AND FECHA BETWEEN '{start_date}' AND '{end_date}'\n",
    "    ORDER BY FECHA\n",
    "\"\"\"\n",
    "cursor.execute(q_ibex)\n",
    "df_ibex = pd.DataFrame(cursor.fetchall(), columns=['FECHA', 'IBEX'])\n",
    "df_ibex['FECHA'] = pd.to_datetime(df_ibex['FECHA'])\n",
    "df_ibex['IBEX'] = pd.to_numeric(df_ibex['IBEX'], errors='coerce').astype(float)\n",
    "df_ibex.rename(columns={'FECHA': 'DATE'}, inplace=True)  # mantener tu índice con 'DATE'\n",
    "df_ibex.set_index('DATE', inplace=True)\n",
    "df_ibex = df_ibex.sort_index()"
   ]
  },
  {
   "cell_type": "code",
   "execution_count": 6,
   "id": "fa77b11c",
   "metadata": {},
   "outputs": [
    {
     "data": {
      "application/vnd.microsoft.datawrangler.viewer.v0+json": {
       "columns": [
        {
         "name": "DATE",
         "rawType": "datetime64[ns]",
         "type": "datetime"
        },
        {
         "name": "IBEX",
         "rawType": "float64",
         "type": "float"
        }
       ],
       "ref": "b6d8296d-d17a-43da-91d7-128266fbb935",
       "rows": [
        [
         "2020-01-02 00:00:00",
         "9691.2001953125"
        ],
        [
         "2020-01-03 00:00:00",
         "9646.599609375"
        ],
        [
         "2020-01-06 00:00:00",
         "9600.900390625"
        ],
        [
         "2020-01-07 00:00:00",
         "9579.7998046875"
        ],
        [
         "2020-01-08 00:00:00",
         "9591.400390625"
        ],
        [
         "2020-01-09 00:00:00",
         "9581.7998046875"
        ],
        [
         "2020-01-10 00:00:00",
         "9573.599609375"
        ],
        [
         "2020-01-13 00:00:00",
         "9543.900390625"
        ],
        [
         "2020-01-14 00:00:00",
         "9528.2998046875"
        ],
        [
         "2020-01-15 00:00:00",
         "9511.7001953125"
        ],
        [
         "2020-01-16 00:00:00",
         "9572.5"
        ],
        [
         "2020-01-17 00:00:00",
         "9681.2998046875"
        ],
        [
         "2020-01-20 00:00:00",
         "9658.7998046875"
        ],
        [
         "2020-01-21 00:00:00",
         "9611.2998046875"
        ],
        [
         "2020-01-22 00:00:00",
         "9573.7001953125"
        ],
        [
         "2020-01-23 00:00:00",
         "9518.5"
        ],
        [
         "2020-01-24 00:00:00",
         "9562.0"
        ],
        [
         "2020-01-27 00:00:00",
         "9366.2998046875"
        ],
        [
         "2020-01-28 00:00:00",
         "9484.2001953125"
        ],
        [
         "2020-01-29 00:00:00",
         "9546.7001953125"
        ],
        [
         "2020-01-30 00:00:00",
         "9477.900390625"
        ],
        [
         "2020-01-31 00:00:00",
         "9367.900390625"
        ],
        [
         "2020-02-03 00:00:00",
         "9404.7001953125"
        ],
        [
         "2020-02-04 00:00:00",
         "9562.900390625"
        ],
        [
         "2020-02-05 00:00:00",
         "9717.7998046875"
        ],
        [
         "2020-02-06 00:00:00",
         "9811.2998046875"
        ],
        [
         "2020-02-07 00:00:00",
         "9811.0"
        ],
        [
         "2020-02-10 00:00:00",
         "9816.0"
        ],
        [
         "2020-02-11 00:00:00",
         "9882.599609375"
        ],
        [
         "2020-02-12 00:00:00",
         "9940.400390625"
        ],
        [
         "2020-02-13 00:00:00",
         "9909.7998046875"
        ],
        [
         "2020-02-14 00:00:00",
         "9956.7998046875"
        ],
        [
         "2020-02-17 00:00:00",
         "10022.2001953125"
        ],
        [
         "2020-02-18 00:00:00",
         "10005.7998046875"
        ],
        [
         "2020-02-19 00:00:00",
         "10083.599609375"
        ],
        [
         "2020-02-20 00:00:00",
         "9931.0"
        ],
        [
         "2020-02-21 00:00:00",
         "9886.2001953125"
        ],
        [
         "2020-02-24 00:00:00",
         "9483.5"
        ],
        [
         "2020-02-25 00:00:00",
         "9250.7998046875"
        ],
        [
         "2020-02-26 00:00:00",
         "9316.7998046875"
        ],
        [
         "2020-02-27 00:00:00",
         "8985.900390625"
        ],
        [
         "2020-02-28 00:00:00",
         "8723.2001953125"
        ],
        [
         "2020-03-02 00:00:00",
         "8741.5"
        ],
        [
         "2020-03-03 00:00:00",
         "8811.599609375"
        ],
        [
         "2020-03-04 00:00:00",
         "8910.0"
        ],
        [
         "2020-03-05 00:00:00",
         "8683.0"
        ],
        [
         "2020-03-06 00:00:00",
         "8375.599609375"
        ],
        [
         "2020-03-09 00:00:00",
         "7708.7001953125"
        ],
        [
         "2020-03-10 00:00:00",
         "7461.5"
        ],
        [
         "2020-03-11 00:00:00",
         "7436.39990234375"
        ]
       ],
       "shape": {
        "columns": 1,
        "rows": 1281
       }
      },
      "text/html": [
       "<div>\n",
       "<style scoped>\n",
       "    .dataframe tbody tr th:only-of-type {\n",
       "        vertical-align: middle;\n",
       "    }\n",
       "\n",
       "    .dataframe tbody tr th {\n",
       "        vertical-align: top;\n",
       "    }\n",
       "\n",
       "    .dataframe thead th {\n",
       "        text-align: right;\n",
       "    }\n",
       "</style>\n",
       "<table border=\"1\" class=\"dataframe\">\n",
       "  <thead>\n",
       "    <tr style=\"text-align: right;\">\n",
       "      <th></th>\n",
       "      <th>IBEX</th>\n",
       "    </tr>\n",
       "    <tr>\n",
       "      <th>DATE</th>\n",
       "      <th></th>\n",
       "    </tr>\n",
       "  </thead>\n",
       "  <tbody>\n",
       "    <tr>\n",
       "      <th>2020-01-02</th>\n",
       "      <td>9691.200195</td>\n",
       "    </tr>\n",
       "    <tr>\n",
       "      <th>2020-01-03</th>\n",
       "      <td>9646.599609</td>\n",
       "    </tr>\n",
       "    <tr>\n",
       "      <th>2020-01-06</th>\n",
       "      <td>9600.900391</td>\n",
       "    </tr>\n",
       "    <tr>\n",
       "      <th>2020-01-07</th>\n",
       "      <td>9579.799805</td>\n",
       "    </tr>\n",
       "    <tr>\n",
       "      <th>2020-01-08</th>\n",
       "      <td>9591.400391</td>\n",
       "    </tr>\n",
       "    <tr>\n",
       "      <th>...</th>\n",
       "      <td>...</td>\n",
       "    </tr>\n",
       "    <tr>\n",
       "      <th>2024-12-23</th>\n",
       "      <td>11435.700195</td>\n",
       "    </tr>\n",
       "    <tr>\n",
       "      <th>2024-12-24</th>\n",
       "      <td>11473.900391</td>\n",
       "    </tr>\n",
       "    <tr>\n",
       "      <th>2024-12-27</th>\n",
       "      <td>11531.599609</td>\n",
       "    </tr>\n",
       "    <tr>\n",
       "      <th>2024-12-30</th>\n",
       "      <td>11536.799805</td>\n",
       "    </tr>\n",
       "    <tr>\n",
       "      <th>2024-12-31</th>\n",
       "      <td>11595.000000</td>\n",
       "    </tr>\n",
       "  </tbody>\n",
       "</table>\n",
       "<p>1281 rows × 1 columns</p>\n",
       "</div>"
      ],
      "text/plain": [
       "                    IBEX\n",
       "DATE                    \n",
       "2020-01-02   9691.200195\n",
       "2020-01-03   9646.599609\n",
       "2020-01-06   9600.900391\n",
       "2020-01-07   9579.799805\n",
       "2020-01-08   9591.400391\n",
       "...                  ...\n",
       "2024-12-23  11435.700195\n",
       "2024-12-24  11473.900391\n",
       "2024-12-27  11531.599609\n",
       "2024-12-30  11536.799805\n",
       "2024-12-31  11595.000000\n",
       "\n",
       "[1281 rows x 1 columns]"
      ]
     },
     "execution_count": 6,
     "metadata": {},
     "output_type": "execute_result"
    }
   ],
   "source": [
    "df_ibex"
   ]
  },
  {
   "cell_type": "code",
   "execution_count": 7,
   "id": "ac2b24d5",
   "metadata": {},
   "outputs": [],
   "source": [
    "# Activos (precios) - TICKERS_INDEX\n",
    "# -----------------------------\n",
    "dfs = {'IBEX': df_ibex['IBEX']}\n",
    "for tk in tickers:\n",
    "    q = f\"\"\"\n",
    "        SELECT FECHA, CLOSE\n",
    "        FROM TICKERS_INDEX\n",
    "        WHERE TICKER = '{tk}'\n",
    "          AND FECHA BETWEEN '{start_date}' AND '{end_date}'\n",
    "        ORDER BY FECHA\n",
    "    \"\"\"\n",
    "    cursor.execute(q)\n",
    "    df = pd.DataFrame(cursor.fetchall(), columns=['FECHA', tk])\n",
    "    df['FECHA'] = pd.to_datetime(df['FECHA'])\n",
    "    df[tk] = pd.to_numeric(df[tk], errors='coerce').astype(float)\n",
    "    df.set_index('FECHA', inplace=True)\n",
    "    df = df.sort_index()\n",
    "    dfs[tk] = df[tk]\n",
    "\n",
    "cursor.close()\n",
    "conn.close()"
   ]
  },
  {
   "cell_type": "code",
   "execution_count": 8,
   "id": "7802ef57",
   "metadata": {},
   "outputs": [
    {
     "name": "stderr",
     "output_type": "stream",
     "text": [
      "C:\\Users\\jcrom\\AppData\\Local\\Temp\\ipykernel_9628\\4263937866.py:8: FutureWarning: 'Y' is deprecated and will be removed in a future version, please use 'YE' instead.\n",
      "  panel_y = panel.resample('Y').apply(last_valid)\n"
     ]
    }
   ],
   "source": [
    "panel = pd.concat(dfs, axis=1, join='outer').sort_index()\n",
    "\n",
    "def last_valid(series: pd.Series):\n",
    "    s = series.dropna()\n",
    "    return s.iloc[-1] if not s.empty else np.nan\n",
    "\n",
    "# Fin de año ('Y'): tomamos el último precio válido del año\n",
    "panel_y = panel.resample('Y').apply(last_valid)\n",
    "rets    = panel_y.pct_change(fill_method=None)     # retornos anuales"
   ]
  },
  {
   "cell_type": "code",
   "execution_count": 9,
   "id": "b66f2c72",
   "metadata": {},
   "outputs": [],
   "source": [
    "# rf del periodo (ANUAL) para excesos\n",
    "# -----------------------------\n",
    "rf_period = rf_anual  # k = 1"
   ]
  },
  {
   "cell_type": "code",
   "execution_count": 10,
   "id": "ca4b7b00",
   "metadata": {},
   "outputs": [],
   "source": [
    "def geometric_annualized(r: pd.Series, periods_per_year=1):\n",
    "    r = r.dropna()\n",
    "    n = r.shape[0]\n",
    "    if n == 0:\n",
    "        return np.nan\n",
    "    gross = (1 + r).prod()\n",
    "    return gross**(periods_per_year / n) - 1  # k=1 ⇒ media geométrica anual\n",
    "\n",
    "def estimate_beta_alpha_r2(ri: pd.Series, rm: pd.Series, rf_p: float):\n",
    "    \"\"\"OLS en EXCESOS con constante: (Ri - Rf) = α + β (Rm - Rf) + ε\"\"\"\n",
    "    pair = pd.concat([rm, ri], axis=1, join='inner').dropna()\n",
    "    pair.columns = ['Rm', 'Ri']\n",
    "    nobs = pair.shape[0]\n",
    "    if nobs < 3:  # mínimo 3 retornos anuales\n",
    "        return None, None, None, nobs\n",
    "    X = pair['Rm'] - rf_p\n",
    "    y = pair['Ri'] - rf_p\n",
    "    Xc = sm.add_constant(X)\n",
    "    res = sm.OLS(y, Xc).fit()\n",
    "    beta  = float(res.params.get('Rm', np.nan))\n",
    "    alpha = float(res.params.get('const', np.nan))\n",
    "    r2    = float(res.rsquared)\n",
    "    return beta, alpha, r2, nobs"
   ]
  },
  {
   "cell_type": "code",
   "execution_count": 11,
   "id": "540e0670",
   "metadata": {},
   "outputs": [
    {
     "name": "stdout",
     "output_type": "stream",
     "text": [
      "Chequeo SML: y(β=0) = 3.00% (Rf = 3.00%)\n"
     ]
    }
   ],
   "source": [
    "# E[Rm] (geom) anual y prima de mercado\n",
    "E_Rm_ann = geometric_annualized(rets['IBEX'], periods_per_year=1)\n",
    "if pd.isna(E_Rm_ann) or rets['IBEX'].dropna().shape[0] < 3:\n",
    "    raise RuntimeError(\"No hay años suficientes para β anual. Amplía el rango o revisa la cobertura del IBEX.\")\n",
    "market_premium = E_Rm_ann - rf_anual\n",
    "\n",
    "# Chequeo: en β=0, SML debe valer Rf\n",
    "print(f\"Chequeo SML: y(β=0) = {rf_anual + market_premium*0.0:.2%} (Rf = {rf_anual:.2%})\")\n"
   ]
  },
  {
   "cell_type": "code",
   "execution_count": 12,
   "id": "ee4fbafe",
   "metadata": {},
   "outputs": [],
   "source": [
    "#β anual, α, R² y E[Ri] anual por activo\n",
    "\n",
    "rows = []\n",
    "for tk in tickers:\n",
    "    beta, alpha, r2, nobs = estimate_beta_alpha_r2(rets[tk], rets['IBEX'], rf_period)\n",
    "    if beta is None:\n",
    "        print(f\"[AVISO] {tk}: años insuficientes tras alinear (n={nobs}). Se omite.\")\n",
    "        continue\n",
    "\n",
    "    pair = pd.concat([rets['IBEX'], rets[tk]], axis=1, join='inner').dropna()\n",
    "    E_Ri_ann = geometric_annualized(pair[tk], periods_per_year=1)\n",
    "\n",
    "    E_Ri_capm = rf_anual + beta * (E_Rm_ann - rf_anual)   # Predicción CAPM anual\n",
    "    mispricing = E_Ri_ann - E_Ri_capm                     # Real - CAPM\n",
    "\n",
    "    rows.append({\n",
    "        'Ticker': tk,\n",
    "        'Beta': beta,\n",
    "        'Alpha_excesos': alpha,\n",
    "        'R2': r2,\n",
    "        'N_obs': nobs,\n",
    "        'E_Ri_ann_geom': E_Ri_ann,\n",
    "        'E_Ri_CAPM': E_Ri_capm,\n",
    "        'Mispricing': mispricing\n",
    "    })\n"
   ]
  },
  {
   "cell_type": "code",
   "execution_count": 13,
   "id": "eb550e2a",
   "metadata": {},
   "outputs": [],
   "source": [
    "df_points = pd.DataFrame(rows)\n",
    "if df_points.empty:\n",
    "    raise RuntimeError(\"No hay puntos para graficar (β anual). Amplía el rango o revisa cobertura.\")\n",
    "df_points = df_points.sort_values('Beta').reset_index(drop=True)\n"
   ]
  },
  {
   "cell_type": "code",
   "execution_count": 14,
   "id": "5e7f00e0",
   "metadata": {},
   "outputs": [],
   "source": [
    "# Clasificación TP / FP / FN / TN\n",
    "above_mean = df_points['E_Ri_ann_geom'] >= E_Rm_ann\n",
    "above_sml  = df_points['E_Ri_ann_geom'] >= df_points['E_Ri_CAPM']\n",
    "\n",
    "def _class_row(am, asml):\n",
    "    if am and asml:        return 'TP'  # arriba media y arriba SML\n",
    "    if am and not asml:    return 'FP'  # arriba media pero abajo SML\n",
    "    if (not am) and asml:  return 'FN'  # abajo media pero arriba SML\n",
    "    return 'TN'                           # abajo media y abajo SML\n",
    "\n",
    "df_points['Class'] = [_class_row(am, asml) for am, asml in zip(above_mean, above_sml)]"
   ]
  },
  {
   "cell_type": "code",
   "execution_count": 15,
   "id": "3934bbc4",
   "metadata": {},
   "outputs": [],
   "source": [
    "# Colores y símbolos por clase\n",
    "class_color  = {'TP':'#2ca02c', 'FP':'#ff7f0e', 'FN':'#1f77b4', 'TN':'#d62728'}\n",
    "class_symbol = {'TP':'circle',  'FP':'diamond', 'FN':'triangle-up', 'TN':'x'}\n",
    "\n",
    "# Conteos para anotación\n",
    "cnt = df_points['Class'].value_counts().to_dict()\n",
    "cTP = cnt.get('TP', 0); cFP = cnt.get('FP', 0); cFN = cnt.get('FN', 0); cTN = cnt.get('TN', 0)"
   ]
  },
  {
   "cell_type": "code",
   "execution_count": 16,
   "id": "5332822f",
   "metadata": {},
   "outputs": [],
   "source": [
    "# SML y rangos de ejes (forzamos que arranque en β=0)\n",
    "# -----------------------------\n",
    "beta_min = 0.0\n",
    "beta_max = max(1.5, float(df_points['Beta'].max() + 0.2))\n",
    "betas_line = np.linspace(beta_min, beta_max, 200)\n",
    "E_R_line   = rf_anual + market_premium * betas_line\n",
    "\n",
    "y_vals = np.concatenate([\n",
    "    df_points['E_Ri_ann_geom'].values,\n",
    "    [rf_anual, E_Rm_ann, E_R_line.min(), E_R_line.max()]\n",
    "])\n",
    "y_min = float(np.nanmin(y_vals)) - 0.03\n",
    "y_max = float(np.nanmax(y_vals)) + 0.03"
   ]
  },
  {
   "cell_type": "code",
   "execution_count": 17,
   "id": "5fe95b74",
   "metadata": {},
   "outputs": [
    {
     "data": {
      "application/vnd.plotly.v1+json": {
       "config": {
        "plotlyServerURL": "https://plot.ly"
       },
       "data": [
        {
         "line": {
          "width": 3
         },
         "mode": "lines",
         "name": "SML",
         "showlegend": false,
         "type": "scatter",
         "x": [
          0,
          0.014413894033978903,
          0.028827788067957806,
          0.04324168210193671,
          0.05765557613591561,
          0.07206947016989451,
          0.08648336420387343,
          0.10089725823785232,
          0.11531115227183122,
          0.12972504630581014,
          0.14413894033978902,
          0.15855283437376794,
          0.17296672840774685,
          0.18738062244172574,
          0.20179451647570465,
          0.21620841050968354,
          0.23062230454366245,
          0.24503619857764136,
          0.2594500926116203,
          0.27386398664559913,
          0.28827788067957805,
          0.30269177471355696,
          0.3171056687475359,
          0.3315195627815148,
          0.3459334568154937,
          0.36034735084947256,
          0.37476124488345147,
          0.3891751389174304,
          0.4035890329514093,
          0.4180029269853882,
          0.43241682101936707,
          0.446830715053346,
          0.4612446090873249,
          0.4756585031213038,
          0.4900723971552827,
          0.5044862911892616,
          0.5189001852232406,
          0.5333140792572194,
          0.5477279732911983,
          0.5621418673251772,
          0.5765557613591561,
          0.5909696553931351,
          0.6053835494271139,
          0.6197974434610928,
          0.6342113374950717,
          0.6486252315290506,
          0.6630391255630296,
          0.6774530195970084,
          0.6918669136309874,
          0.7062808076649663,
          0.7206947016989451,
          0.7351085957329241,
          0.7495224897669029,
          0.7639363838008819,
          0.7783502778348608,
          0.7927641718688396,
          0.8071780659028186,
          0.8215919599367975,
          0.8360058539707764,
          0.8504197480047553,
          0.8648336420387341,
          0.8792475360727131,
          0.893661430106692,
          0.9080753241406709,
          0.9224892181746498,
          0.9369031122086287,
          0.9513170062426076,
          0.9657309002765865,
          0.9801447943105654,
          0.9945586883445443,
          1.0089725823785232,
          1.023386476412502,
          1.037800370446481,
          1.05221426448046,
          1.0666281585144388,
          1.0810420525484177,
          1.0954559465823965,
          1.1098698406163756,
          1.1242837346503545,
          1.1386976286843333,
          1.1531115227183122,
          1.167525416752291,
          1.1819393107862701,
          1.196353204820249,
          1.2107670988542278,
          1.2251809928882067,
          1.2395948869221856,
          1.2540087809561646,
          1.2684226749901435,
          1.2828365690241224,
          1.2972504630581012,
          1.31166435709208,
          1.3260782511260591,
          1.340492145160038,
          1.3549060391940169,
          1.3693199332279957,
          1.3837338272619748,
          1.3981477212959537,
          1.4125616153299325,
          1.4269755093639114,
          1.4413894033978902,
          1.4558032974318693,
          1.4702171914658482,
          1.484631085499827,
          1.4990449795338059,
          1.5134588735677847,
          1.5278727676017638,
          1.5422866616357427,
          1.5567005556697215,
          1.5711144497037004,
          1.5855283437376793,
          1.5999422377716583,
          1.6143561318056372,
          1.628770025839616,
          1.643183919873595,
          1.6575978139075738,
          1.6720117079415528,
          1.6864256019755317,
          1.7008394960095106,
          1.7152533900434894,
          1.7296672840774683,
          1.7440811781114474,
          1.7584950721454262,
          1.772908966179405,
          1.787322860213384,
          1.8017367542473628,
          1.8161506482813419,
          1.8305645423153207,
          1.8449784363492996,
          1.8593923303832784,
          1.8738062244172573,
          1.8882201184512364,
          1.9026340124852152,
          1.917047906519194,
          1.931461800553173,
          1.9458756945871518,
          1.960289588621131,
          1.9747034826551098,
          1.9891173766890886,
          2.0035312707230677,
          2.0179451647570463,
          2.0323590587910254,
          2.046772952825004,
          2.061186846858983,
          2.075600740892962,
          2.090014634926941,
          2.10442852896092,
          2.1188424229948986,
          2.1332563170288776,
          2.1476702110628567,
          2.1620841050968354,
          2.1764979991308144,
          2.190911893164793,
          2.205325787198772,
          2.2197396812327512,
          2.23415357526673,
          2.248567469300709,
          2.2629813633346876,
          2.2773952573686667,
          2.2918091514026457,
          2.3062230454366244,
          2.3206369394706035,
          2.335050833504582,
          2.349464727538561,
          2.3638786215725403,
          2.378292515606519,
          2.392706409640498,
          2.4071203036744766,
          2.4215341977084557,
          2.4359480917424348,
          2.4503619857764134,
          2.4647758798103925,
          2.479189773844371,
          2.49360366787835,
          2.5080175619123293,
          2.522431455946308,
          2.536845349980287,
          2.5512592440142656,
          2.5656731380482447,
          2.580087032082224,
          2.5945009261162024,
          2.6089148201501815,
          2.62332871418416,
          2.637742608218139,
          2.6521565022521183,
          2.666570396286097,
          2.680984290320076,
          2.6953981843540546,
          2.7098120783880337,
          2.724225972422013,
          2.7386398664559914,
          2.7530537604899705,
          2.7674676545239496,
          2.7818815485579282,
          2.7962954425919073,
          2.810709336625886,
          2.825123230659865,
          2.839537124693844,
          2.8539510187278228,
          2.868364912761802
         ],
         "y": [
          0.03,
          0.030932739371021426,
          0.03186547874204285,
          0.03279821811306428,
          0.03373095748408571,
          0.03466369685510713,
          0.03559643622612856,
          0.036529175597149986,
          0.03746191496817142,
          0.03839465433919284,
          0.03932739371021427,
          0.040260133081235695,
          0.041192872452257126,
          0.04212561182327855,
          0.04305835119429998,
          0.043991090565321404,
          0.044923829936342835,
          0.04585656930736426,
          0.04678930867838569,
          0.04772204804940711,
          0.048654787420428544,
          0.04958752679144997,
          0.05052026616247139,
          0.05145300553349282,
          0.05238574490451425,
          0.05331848427553568,
          0.0542512236465571,
          0.05518396301757853,
          0.05611670238859996,
          0.057049441759621386,
          0.05798218113064281,
          0.058914920501664234,
          0.05984765987268567,
          0.060780399243707095,
          0.06171313861472852,
          0.06264587798574994,
          0.06357861735677138,
          0.0645113567277928,
          0.06544409609881423,
          0.06637683546983567,
          0.06730957484085709,
          0.06824231421187851,
          0.06917505358289994,
          0.07010779295392136,
          0.07104053232494278,
          0.07197327169596421,
          0.07290601106698565,
          0.07383875043800707,
          0.07477148980902851,
          0.07570422918004993,
          0.07663696855107135,
          0.07756970792209278,
          0.0785024472931142,
          0.07943518666413564,
          0.08036792603515706,
          0.08130066540617849,
          0.08223340477719993,
          0.08316614414822135,
          0.08409888351924277,
          0.0850316228902642,
          0.08596436226128562,
          0.08689710163230704,
          0.08782984100332847,
          0.08876258037434992,
          0.08969531974537134,
          0.09062805911639277,
          0.09156079848741419,
          0.09249353785843561,
          0.09342627722945704,
          0.09435901660047846,
          0.09529175597149989,
          0.09622449534252132,
          0.09715723471354276,
          0.09808997408456419,
          0.09902271345558561,
          0.09995545282660703,
          0.10088819219762846,
          0.1018209315686499,
          0.10275367093967132,
          0.10368641031069274,
          0.10461914968171417,
          0.10555188905273559,
          0.10648462842375703,
          0.10741736779477845,
          0.10835010716579987,
          0.1092828465368213,
          0.11021558590784272,
          0.11114832527886416,
          0.11208106464988558,
          0.11301380402090701,
          0.11394654339192843,
          0.11487928276294986,
          0.11581202213397129,
          0.11674476150499272,
          0.11767750087601414,
          0.11861024024703556,
          0.119542979618057,
          0.12047571898907843,
          0.12140845836009986,
          0.12234119773112129,
          0.12327393710214271,
          0.12420667647316415,
          0.1251394158441856,
          0.12607215521520698,
          0.12700489458622843,
          0.12793763395724983,
          0.12887037332827128,
          0.1298031126992927,
          0.13073585207031413,
          0.13166859144133555,
          0.13260133081235698,
          0.13353407018337843,
          0.13446680955439982,
          0.13539954892542128,
          0.13633228829644267,
          0.13726502766746412,
          0.13819776703848555,
          0.13913050640950697,
          0.1400632457805284,
          0.14099598515154982,
          0.14192872452257124,
          0.14286146389359267,
          0.14379420326461412,
          0.1447269426356355,
          0.14565968200665697,
          0.14659242137767836,
          0.1475251607486998,
          0.14845790011972126,
          0.14939063949074266,
          0.1503233788617641,
          0.1512561182327855,
          0.15218885760380696,
          0.15312159697482838,
          0.1540543363458498,
          0.15498707571687123,
          0.15591981508789265,
          0.15685255445891408,
          0.1577852938299355,
          0.15871803320095693,
          0.15965077257197838,
          0.16058351194299977,
          0.16151625131402123,
          0.16244899068504265,
          0.16338173005606407,
          0.16431446942708552,
          0.16524720879810692,
          0.16617994816912837,
          0.16711268754014977,
          0.16804542691117122,
          0.16897816628219264,
          0.16991090565321407,
          0.1708436450242355,
          0.17177638439525691,
          0.17270912376627834,
          0.1736418631372998,
          0.17457460250832119,
          0.17550734187934264,
          0.17644008125036403,
          0.17737282062138549,
          0.1783055599924069,
          0.17923829936342833,
          0.18017103873444976,
          0.18110377810547118,
          0.1820365174764926,
          0.18296925684751406,
          0.18390199621853545,
          0.1848347355895569,
          0.1857674749605783,
          0.18670021433159975,
          0.1876329537026212,
          0.1885656930736426,
          0.18949843244466405,
          0.19043117181568545,
          0.1913639111867069,
          0.19229665055772832,
          0.19322938992874975,
          0.19416212929977117,
          0.1950948686707926,
          0.19602760804181402,
          0.19696034741283547,
          0.19789308678385686,
          0.19882582615487832,
          0.1997585655258997,
          0.20069130489692116,
          0.2016240442679426,
          0.202556783638964,
          0.20348952300998543,
          0.20442226238100686,
          0.20535500175202828,
          0.20628774112304973,
          0.20722048049407113,
          0.20815321986509258,
          0.209085959236114,
          0.21001869860713543,
          0.21095143797815685,
          0.21188417734917828,
          0.21281691672019973,
          0.21374965609122115,
          0.21468239546224258,
          0.215615134833264
         ]
        },
        {
         "hovertemplate": "<b>Activo sin riesgo</b><br>β=0.00<br>Rendimiento= %{y:.2%}<extra></extra>",
         "marker": {
          "line": {
           "width": 1.5
          },
          "size": 12,
          "symbol": "x"
         },
         "mode": "markers",
         "name": "Rf",
         "showlegend": false,
         "type": "scatter",
         "x": [
          0
         ],
         "y": [
          0.03
         ]
        },
        {
         "hovertemplate": "<b>Mercado</b><br>β=1.00<br>E[Rm]= %{y:.2%}<extra></extra>",
         "marker": {
          "line": {
           "width": 1.5
          },
          "size": 12
         },
         "mode": "markers",
         "name": "Mercado",
         "showlegend": false,
         "type": "scatter",
         "x": [
          1
         ],
         "y": [
          0.09471113002652953
         ]
        },
        {
         "customdata": [
          [
           "CABK.MC",
           0.09471113002652953,
           0.03,
           -0.06386858283541927,
           0.3437118512574119,
           0.5642414939796918,
           0.320313327027165,
           4,
           "↑media & ↑SML"
          ],
          [
           "MAP.MC",
           0.09471113002652953,
           0.03,
           0.05801153357215491,
           0.05686413827855102,
           0.22871335601272502,
           0.05515507373491671,
           4,
           "↑media & ↑SML"
          ],
          [
           "BBVA.MC",
           0.09471113002652953,
           0.03,
           0.10253882274140276,
           0.13764037810629282,
           0.6160708312792376,
           0.13460458054667673,
           4,
           "↑media & ↑SML"
          ],
          [
           "ACS.MC",
           0.09471113002652953,
           0.03,
           0.11404366255910231,
           0.060470531030817495,
           0.358467272598639,
           0.04503730283931101,
           4,
           "↑media & ↑SML"
          ],
          [
           "SAN.MC",
           0.09471113002652953,
           0.03,
           0.11582849892117177,
           0.03785231304923682,
           0.964131730285561,
           0.03582093009753494,
           4,
           "↑media & ↑SML"
          ],
          [
           "FER.MC",
           0.09471113002652953,
           0.03,
           0.13275516022298345,
           0.030804239941036364,
           0.9252776424966509,
           0.024967123675699032,
           4,
           "↑media & ↑SML"
          ]
         ],
         "hovertemplate": "<b>%{customdata[0]}</b><br>Clase = TP (%{customdata[8]})<br>n = %{customdata[7]} años<br>β = %{x:.3f} | E[Ri] (geom, anual) = %{y:.2%}<br>E[Rm] = %{customdata[1]:.2%} | Rf = %{customdata[2]:.2%}<br><b>CAPM</b>: E[Ri]_CAPM = Rf + β·(E[Rm]−Rf) = %{customdata[2]:.2%} + %{x:.3f}·(%{customdata[1]:.2%} − %{customdata[2]:.2%}) = %{customdata[3]:.2%}<br>α (excesos) = %{customdata[4]:.2%} | R² = %{customdata[5]:.3f}<br>Mispricing = E[Ri] − E[Ri]_CAPM = %{customdata[6]:.2%}<extra></extra>",
         "marker": {
          "color": "#2ca02c",
          "line": {
           "color": "rgba(0,0,0,0.45)",
           "width": 1
          },
          "size": 10,
          "symbol": "circle"
         },
         "mode": "markers",
         "name": "Activos TP",
         "showlegend": false,
         "type": "scatter",
         "x": [
          -1.450578637661498,
          0.4328704128744323,
          1.120963622666829,
          1.2987512739253209,
          1.326332871732958,
          1.587905514566923
         ],
         "y": [
          0.2564447441917457,
          0.11316660730707162,
          0.23714340328807948,
          0.15908096539841332,
          0.1516494290187067,
          0.15772228389868248
         ]
        },
        {
         "customdata": [
          [
           "ITX.MC",
           0.09471113002652953,
           0.03,
           0.18802211024325333,
           0.002719046717820958,
           0.947008032416823,
           -0.012995524052468399,
           4,
           "↑media & ↓SML"
          ],
          [
           "IAG.MC",
           0.09471113002652953,
           0.03,
           0.20267290882795808,
           0.05532564033723214,
           0.3430512665830282,
           -0.009583903620105638,
           4,
           "↑media & ↓SML"
          ]
         ],
         "hovertemplate": "<b>%{customdata[0]}</b><br>Clase = FP (%{customdata[8]})<br>n = %{customdata[7]} años<br>β = %{x:.3f} | E[Ri] (geom, anual) = %{y:.2%}<br>E[Rm] = %{customdata[1]:.2%} | Rf = %{customdata[2]:.2%}<br><b>CAPM</b>: E[Ri]_CAPM = Rf + β·(E[Rm]−Rf) = %{customdata[2]:.2%} + %{x:.3f}·(%{customdata[1]:.2%} − %{customdata[2]:.2%}) = %{customdata[3]:.2%}<br>α (excesos) = %{customdata[4]:.2%} | R² = %{customdata[5]:.3f}<br>Mispricing = E[Ri] − E[Ri]_CAPM = %{customdata[6]:.2%}<extra></extra>",
         "marker": {
          "color": "#ff7f0e",
          "line": {
           "color": "rgba(0,0,0,0.45)",
           "width": 1
          },
          "size": 10,
          "symbol": "diamond"
         },
         "mode": "markers",
         "name": "Activos FP",
         "showlegend": false,
         "type": "scatter",
         "x": [
          2.441961841470999,
          2.6683649127618017
         ],
         "y": [
          0.17502658619078493,
          0.19308900520785244
         ]
        },
        {
         "customdata": [
          [
           "REP.MC",
           0.09471113002652953,
           0.03,
           -0.10399783458735815,
           0.23015493120805816,
           0.8362933349727057,
           0.1950364871759406,
           4,
           "↓media & ↑SML"
          ]
         ],
         "hovertemplate": "<b>%{customdata[0]}</b><br>Clase = FN (%{customdata[8]})<br>n = %{customdata[7]} años<br>β = %{x:.3f} | E[Ri] (geom, anual) = %{y:.2%}<br>E[Rm] = %{customdata[1]:.2%} | Rf = %{customdata[2]:.2%}<br><b>CAPM</b>: E[Ri]_CAPM = Rf + β·(E[Rm]−Rf) = %{customdata[2]:.2%} + %{x:.3f}·(%{customdata[1]:.2%} − %{customdata[2]:.2%}) = %{customdata[3]:.2%}<br>α (excesos) = %{customdata[4]:.2%} | R² = %{customdata[5]:.3f}<br>Mispricing = E[Ri] − E[Ri]_CAPM = %{customdata[6]:.2%}<extra></extra>",
         "marker": {
          "color": "#1f77b4",
          "line": {
           "color": "rgba(0,0,0,0.45)",
           "width": 1
          },
          "size": 10,
          "symbol": "triangle-up"
         },
         "mode": "markers",
         "name": "Activos FN",
         "showlegend": false,
         "type": "scatter",
         "x": [
          -2.0707076901983203
         ],
         "y": [
          0.09103865258858246
         ]
        },
        {
         "customdata": [
          [
           "IBE.MC",
           0.09471113002652953,
           0.03,
           0.046885289180962075,
           -0.011660782588073536,
           0.09424424734162729,
           -0.014322552405990396,
           4,
           "↓media & ↓SML"
          ],
          [
           "ENG.MC",
           0.09471113002652953,
           0.03,
           0.06182490712101895,
           -0.1514277697116476,
           0.1071788050744793,
           -0.16195544509962156,
           4,
           "↓media & ↓SML"
          ],
          [
           "TEF.MC",
           0.09471113002652953,
           0.03,
           0.0690994941407981,
           -0.016182430403986675,
           0.30281378161444905,
           -0.01958683049223489,
           4,
           "↓media & ↓SML"
          ],
          [
           "ELE.MC",
           0.09471113002652953,
           0.03,
           0.08044993677398557,
           -0.09720215892356673,
           0.6170298994570116,
           -0.09861214871669918,
           4,
           "↓media & ↓SML"
          ],
          [
           "AENA.MC",
           0.09471113002652953,
           0.03,
           0.15774742724285937,
           -0.06194410755085833,
           0.9347218513925706,
           -0.07229226863999846,
           4,
           "↓media & ↓SML"
          ]
         ],
         "hovertemplate": "<b>%{customdata[0]}</b><br>Clase = TN (%{customdata[8]})<br>n = %{customdata[7]} años<br>β = %{x:.3f} | E[Ri] (geom, anual) = %{y:.2%}<br>E[Rm] = %{customdata[1]:.2%} | Rf = %{customdata[2]:.2%}<br><b>CAPM</b>: E[Ri]_CAPM = Rf + β·(E[Rm]−Rf) = %{customdata[2]:.2%} + %{x:.3f}·(%{customdata[1]:.2%} − %{customdata[2]:.2%}) = %{customdata[3]:.2%}<br>α (excesos) = %{customdata[4]:.2%} | R² = %{customdata[5]:.3f}<br>Mispricing = E[Ri] − E[Ri]_CAPM = %{customdata[6]:.2%}<extra></extra>",
         "marker": {
          "color": "#d62728",
          "line": {
           "color": "rgba(0,0,0,0.45)",
           "width": 1
          },
          "size": 10,
          "symbol": "x"
         },
         "mode": "markers",
         "name": "Activos TN",
         "showlegend": false,
         "type": "scatter",
         "x": [
          0.26093330736211284,
          0.4917995885402053,
          0.6042159072908871,
          0.7796176137443848,
          1.9741183192209275
         ],
         "y": [
          0.03256273677497168,
          -0.10013053797860261,
          0.049512663648563215,
          -0.018162211942713613,
          0.0854551586028609
         ]
        },
        {
         "mode": "text",
         "name": "Etiquetas",
         "showlegend": false,
         "text": [
          "REP.MC",
          "CABK.MC",
          "IBE.MC",
          "MAP.MC",
          "ENG.MC",
          "TEF.MC",
          "ELE.MC",
          "BBVA.MC",
          "ACS.MC",
          "SAN.MC",
          "FER.MC",
          "AENA.MC",
          "ITX.MC",
          "IAG.MC"
         ],
         "textfont": {
          "size": 10
         },
         "textposition": "top center",
         "type": "scatter",
         "x": [
          -2.0707076901983203,
          -1.450578637661498,
          0.26093330736211284,
          0.4328704128744323,
          0.4917995885402053,
          0.6042159072908871,
          0.7796176137443848,
          1.120963622666829,
          1.2987512739253209,
          1.326332871732958,
          1.587905514566923,
          1.9741183192209275,
          2.441961841470999,
          2.6683649127618017
         ],
         "y": [
          0.09103865258858246,
          0.2564447441917457,
          0.03256273677497168,
          0.11316660730707162,
          -0.10013053797860261,
          0.049512663648563215,
          -0.018162211942713613,
          0.23714340328807948,
          0.15908096539841332,
          0.1516494290187067,
          0.15772228389868248,
          0.0854551586028609,
          0.17502658619078493,
          0.19308900520785244
         ]
        }
       ],
       "layout": {
        "annotations": [
         {
          "showarrow": false,
          "text": "Ȳ = E[Rm] 9.47%",
          "x": 1,
          "xanchor": "right",
          "xref": "x domain",
          "y": 0.09471113002652953,
          "yanchor": "bottom",
          "yref": "y",
          "yshift": 6
         },
         {
          "align": "right",
          "bgcolor": "rgba(255,255,255,0.90)",
          "bordercolor": "rgba(0,0,0,0.15)",
          "borderpad": 6,
          "borderwidth": 1,
          "font": {
           "size": 11
          },
          "showarrow": false,
          "text": "CAPM:  E[Ri] = Rf + β·(E[Rm]−Rf)<br>Rf = 3.00% · E[Rm] (geom) = 9.47%<br>Prima de mercado = 6.47%",
          "x": 0.99,
          "xanchor": "right",
          "xref": "paper",
          "y": 0.98,
          "yanchor": "top",
          "yref": "paper"
         },
         {
          "align": "right",
          "bgcolor": "rgba(255,255,255,0.90)",
          "bordercolor": "rgba(0,0,0,0.15)",
          "borderpad": 6,
          "borderwidth": 1,
          "font": {
           "size": 11
          },
          "showarrow": false,
          "text": "<b>Clases</b>: <span style='color:#2ca02c'>■ TP</span> <span style='color:#ff7f0e'>■ FP</span> <span style='color:#1f77b4'>■ FN</span> <span style='color:#d62728'>■ TN</span><br>TP=6 · FP=2 · FN=1 · TN=5",
          "x": 0.98,
          "xanchor": "right",
          "xref": "paper",
          "y": 0.06,
          "yanchor": "bottom",
          "yref": "paper"
         }
        ],
        "hovermode": "closest",
        "margin": {
         "b": 80,
         "l": 40,
         "r": 60,
         "t": 90
        },
        "shapes": [
         {
          "line": {
           "dash": "dash",
           "width": 2
          },
          "type": "line",
          "x0": 0,
          "x1": 1,
          "xref": "x domain",
          "y0": 0.09471113002652953,
          "y1": 0.09471113002652953,
          "yref": "y"
         }
        ],
        "showlegend": false,
        "template": {
         "data": {
          "bar": [
           {
            "error_x": {
             "color": "rgb(36,36,36)"
            },
            "error_y": {
             "color": "rgb(36,36,36)"
            },
            "marker": {
             "line": {
              "color": "white",
              "width": 0.5
             },
             "pattern": {
              "fillmode": "overlay",
              "size": 10,
              "solidity": 0.2
             }
            },
            "type": "bar"
           }
          ],
          "barpolar": [
           {
            "marker": {
             "line": {
              "color": "white",
              "width": 0.5
             },
             "pattern": {
              "fillmode": "overlay",
              "size": 10,
              "solidity": 0.2
             }
            },
            "type": "barpolar"
           }
          ],
          "carpet": [
           {
            "aaxis": {
             "endlinecolor": "rgb(36,36,36)",
             "gridcolor": "white",
             "linecolor": "white",
             "minorgridcolor": "white",
             "startlinecolor": "rgb(36,36,36)"
            },
            "baxis": {
             "endlinecolor": "rgb(36,36,36)",
             "gridcolor": "white",
             "linecolor": "white",
             "minorgridcolor": "white",
             "startlinecolor": "rgb(36,36,36)"
            },
            "type": "carpet"
           }
          ],
          "choropleth": [
           {
            "colorbar": {
             "outlinewidth": 1,
             "tickcolor": "rgb(36,36,36)",
             "ticks": "outside"
            },
            "type": "choropleth"
           }
          ],
          "contour": [
           {
            "colorbar": {
             "outlinewidth": 1,
             "tickcolor": "rgb(36,36,36)",
             "ticks": "outside"
            },
            "colorscale": [
             [
              0,
              "#440154"
             ],
             [
              0.1111111111111111,
              "#482878"
             ],
             [
              0.2222222222222222,
              "#3e4989"
             ],
             [
              0.3333333333333333,
              "#31688e"
             ],
             [
              0.4444444444444444,
              "#26828e"
             ],
             [
              0.5555555555555556,
              "#1f9e89"
             ],
             [
              0.6666666666666666,
              "#35b779"
             ],
             [
              0.7777777777777778,
              "#6ece58"
             ],
             [
              0.8888888888888888,
              "#b5de2b"
             ],
             [
              1,
              "#fde725"
             ]
            ],
            "type": "contour"
           }
          ],
          "contourcarpet": [
           {
            "colorbar": {
             "outlinewidth": 1,
             "tickcolor": "rgb(36,36,36)",
             "ticks": "outside"
            },
            "type": "contourcarpet"
           }
          ],
          "heatmap": [
           {
            "colorbar": {
             "outlinewidth": 1,
             "tickcolor": "rgb(36,36,36)",
             "ticks": "outside"
            },
            "colorscale": [
             [
              0,
              "#440154"
             ],
             [
              0.1111111111111111,
              "#482878"
             ],
             [
              0.2222222222222222,
              "#3e4989"
             ],
             [
              0.3333333333333333,
              "#31688e"
             ],
             [
              0.4444444444444444,
              "#26828e"
             ],
             [
              0.5555555555555556,
              "#1f9e89"
             ],
             [
              0.6666666666666666,
              "#35b779"
             ],
             [
              0.7777777777777778,
              "#6ece58"
             ],
             [
              0.8888888888888888,
              "#b5de2b"
             ],
             [
              1,
              "#fde725"
             ]
            ],
            "type": "heatmap"
           }
          ],
          "heatmapgl": [
           {
            "colorbar": {
             "outlinewidth": 1,
             "tickcolor": "rgb(36,36,36)",
             "ticks": "outside"
            },
            "colorscale": [
             [
              0,
              "#440154"
             ],
             [
              0.1111111111111111,
              "#482878"
             ],
             [
              0.2222222222222222,
              "#3e4989"
             ],
             [
              0.3333333333333333,
              "#31688e"
             ],
             [
              0.4444444444444444,
              "#26828e"
             ],
             [
              0.5555555555555556,
              "#1f9e89"
             ],
             [
              0.6666666666666666,
              "#35b779"
             ],
             [
              0.7777777777777778,
              "#6ece58"
             ],
             [
              0.8888888888888888,
              "#b5de2b"
             ],
             [
              1,
              "#fde725"
             ]
            ],
            "type": "heatmapgl"
           }
          ],
          "histogram": [
           {
            "marker": {
             "line": {
              "color": "white",
              "width": 0.6
             }
            },
            "type": "histogram"
           }
          ],
          "histogram2d": [
           {
            "colorbar": {
             "outlinewidth": 1,
             "tickcolor": "rgb(36,36,36)",
             "ticks": "outside"
            },
            "colorscale": [
             [
              0,
              "#440154"
             ],
             [
              0.1111111111111111,
              "#482878"
             ],
             [
              0.2222222222222222,
              "#3e4989"
             ],
             [
              0.3333333333333333,
              "#31688e"
             ],
             [
              0.4444444444444444,
              "#26828e"
             ],
             [
              0.5555555555555556,
              "#1f9e89"
             ],
             [
              0.6666666666666666,
              "#35b779"
             ],
             [
              0.7777777777777778,
              "#6ece58"
             ],
             [
              0.8888888888888888,
              "#b5de2b"
             ],
             [
              1,
              "#fde725"
             ]
            ],
            "type": "histogram2d"
           }
          ],
          "histogram2dcontour": [
           {
            "colorbar": {
             "outlinewidth": 1,
             "tickcolor": "rgb(36,36,36)",
             "ticks": "outside"
            },
            "colorscale": [
             [
              0,
              "#440154"
             ],
             [
              0.1111111111111111,
              "#482878"
             ],
             [
              0.2222222222222222,
              "#3e4989"
             ],
             [
              0.3333333333333333,
              "#31688e"
             ],
             [
              0.4444444444444444,
              "#26828e"
             ],
             [
              0.5555555555555556,
              "#1f9e89"
             ],
             [
              0.6666666666666666,
              "#35b779"
             ],
             [
              0.7777777777777778,
              "#6ece58"
             ],
             [
              0.8888888888888888,
              "#b5de2b"
             ],
             [
              1,
              "#fde725"
             ]
            ],
            "type": "histogram2dcontour"
           }
          ],
          "mesh3d": [
           {
            "colorbar": {
             "outlinewidth": 1,
             "tickcolor": "rgb(36,36,36)",
             "ticks": "outside"
            },
            "type": "mesh3d"
           }
          ],
          "parcoords": [
           {
            "line": {
             "colorbar": {
              "outlinewidth": 1,
              "tickcolor": "rgb(36,36,36)",
              "ticks": "outside"
             }
            },
            "type": "parcoords"
           }
          ],
          "pie": [
           {
            "automargin": true,
            "type": "pie"
           }
          ],
          "scatter": [
           {
            "fillpattern": {
             "fillmode": "overlay",
             "size": 10,
             "solidity": 0.2
            },
            "type": "scatter"
           }
          ],
          "scatter3d": [
           {
            "line": {
             "colorbar": {
              "outlinewidth": 1,
              "tickcolor": "rgb(36,36,36)",
              "ticks": "outside"
             }
            },
            "marker": {
             "colorbar": {
              "outlinewidth": 1,
              "tickcolor": "rgb(36,36,36)",
              "ticks": "outside"
             }
            },
            "type": "scatter3d"
           }
          ],
          "scattercarpet": [
           {
            "marker": {
             "colorbar": {
              "outlinewidth": 1,
              "tickcolor": "rgb(36,36,36)",
              "ticks": "outside"
             }
            },
            "type": "scattercarpet"
           }
          ],
          "scattergeo": [
           {
            "marker": {
             "colorbar": {
              "outlinewidth": 1,
              "tickcolor": "rgb(36,36,36)",
              "ticks": "outside"
             }
            },
            "type": "scattergeo"
           }
          ],
          "scattergl": [
           {
            "marker": {
             "colorbar": {
              "outlinewidth": 1,
              "tickcolor": "rgb(36,36,36)",
              "ticks": "outside"
             }
            },
            "type": "scattergl"
           }
          ],
          "scattermapbox": [
           {
            "marker": {
             "colorbar": {
              "outlinewidth": 1,
              "tickcolor": "rgb(36,36,36)",
              "ticks": "outside"
             }
            },
            "type": "scattermapbox"
           }
          ],
          "scatterpolar": [
           {
            "marker": {
             "colorbar": {
              "outlinewidth": 1,
              "tickcolor": "rgb(36,36,36)",
              "ticks": "outside"
             }
            },
            "type": "scatterpolar"
           }
          ],
          "scatterpolargl": [
           {
            "marker": {
             "colorbar": {
              "outlinewidth": 1,
              "tickcolor": "rgb(36,36,36)",
              "ticks": "outside"
             }
            },
            "type": "scatterpolargl"
           }
          ],
          "scatterternary": [
           {
            "marker": {
             "colorbar": {
              "outlinewidth": 1,
              "tickcolor": "rgb(36,36,36)",
              "ticks": "outside"
             }
            },
            "type": "scatterternary"
           }
          ],
          "surface": [
           {
            "colorbar": {
             "outlinewidth": 1,
             "tickcolor": "rgb(36,36,36)",
             "ticks": "outside"
            },
            "colorscale": [
             [
              0,
              "#440154"
             ],
             [
              0.1111111111111111,
              "#482878"
             ],
             [
              0.2222222222222222,
              "#3e4989"
             ],
             [
              0.3333333333333333,
              "#31688e"
             ],
             [
              0.4444444444444444,
              "#26828e"
             ],
             [
              0.5555555555555556,
              "#1f9e89"
             ],
             [
              0.6666666666666666,
              "#35b779"
             ],
             [
              0.7777777777777778,
              "#6ece58"
             ],
             [
              0.8888888888888888,
              "#b5de2b"
             ],
             [
              1,
              "#fde725"
             ]
            ],
            "type": "surface"
           }
          ],
          "table": [
           {
            "cells": {
             "fill": {
              "color": "rgb(237,237,237)"
             },
             "line": {
              "color": "white"
             }
            },
            "header": {
             "fill": {
              "color": "rgb(217,217,217)"
             },
             "line": {
              "color": "white"
             }
            },
            "type": "table"
           }
          ]
         },
         "layout": {
          "annotationdefaults": {
           "arrowhead": 0,
           "arrowwidth": 1
          },
          "autotypenumbers": "strict",
          "coloraxis": {
           "colorbar": {
            "outlinewidth": 1,
            "tickcolor": "rgb(36,36,36)",
            "ticks": "outside"
           }
          },
          "colorscale": {
           "diverging": [
            [
             0,
             "rgb(103,0,31)"
            ],
            [
             0.1,
             "rgb(178,24,43)"
            ],
            [
             0.2,
             "rgb(214,96,77)"
            ],
            [
             0.3,
             "rgb(244,165,130)"
            ],
            [
             0.4,
             "rgb(253,219,199)"
            ],
            [
             0.5,
             "rgb(247,247,247)"
            ],
            [
             0.6,
             "rgb(209,229,240)"
            ],
            [
             0.7,
             "rgb(146,197,222)"
            ],
            [
             0.8,
             "rgb(67,147,195)"
            ],
            [
             0.9,
             "rgb(33,102,172)"
            ],
            [
             1,
             "rgb(5,48,97)"
            ]
           ],
           "sequential": [
            [
             0,
             "#440154"
            ],
            [
             0.1111111111111111,
             "#482878"
            ],
            [
             0.2222222222222222,
             "#3e4989"
            ],
            [
             0.3333333333333333,
             "#31688e"
            ],
            [
             0.4444444444444444,
             "#26828e"
            ],
            [
             0.5555555555555556,
             "#1f9e89"
            ],
            [
             0.6666666666666666,
             "#35b779"
            ],
            [
             0.7777777777777778,
             "#6ece58"
            ],
            [
             0.8888888888888888,
             "#b5de2b"
            ],
            [
             1,
             "#fde725"
            ]
           ],
           "sequentialminus": [
            [
             0,
             "#440154"
            ],
            [
             0.1111111111111111,
             "#482878"
            ],
            [
             0.2222222222222222,
             "#3e4989"
            ],
            [
             0.3333333333333333,
             "#31688e"
            ],
            [
             0.4444444444444444,
             "#26828e"
            ],
            [
             0.5555555555555556,
             "#1f9e89"
            ],
            [
             0.6666666666666666,
             "#35b779"
            ],
            [
             0.7777777777777778,
             "#6ece58"
            ],
            [
             0.8888888888888888,
             "#b5de2b"
            ],
            [
             1,
             "#fde725"
            ]
           ]
          },
          "colorway": [
           "#1F77B4",
           "#FF7F0E",
           "#2CA02C",
           "#D62728",
           "#9467BD",
           "#8C564B",
           "#E377C2",
           "#7F7F7F",
           "#BCBD22",
           "#17BECF"
          ],
          "font": {
           "color": "rgb(36,36,36)"
          },
          "geo": {
           "bgcolor": "white",
           "lakecolor": "white",
           "landcolor": "white",
           "showlakes": true,
           "showland": true,
           "subunitcolor": "white"
          },
          "hoverlabel": {
           "align": "left"
          },
          "hovermode": "closest",
          "mapbox": {
           "style": "light"
          },
          "paper_bgcolor": "white",
          "plot_bgcolor": "white",
          "polar": {
           "angularaxis": {
            "gridcolor": "rgb(232,232,232)",
            "linecolor": "rgb(36,36,36)",
            "showgrid": false,
            "showline": true,
            "ticks": "outside"
           },
           "bgcolor": "white",
           "radialaxis": {
            "gridcolor": "rgb(232,232,232)",
            "linecolor": "rgb(36,36,36)",
            "showgrid": false,
            "showline": true,
            "ticks": "outside"
           }
          },
          "scene": {
           "xaxis": {
            "backgroundcolor": "white",
            "gridcolor": "rgb(232,232,232)",
            "gridwidth": 2,
            "linecolor": "rgb(36,36,36)",
            "showbackground": true,
            "showgrid": false,
            "showline": true,
            "ticks": "outside",
            "zeroline": false,
            "zerolinecolor": "rgb(36,36,36)"
           },
           "yaxis": {
            "backgroundcolor": "white",
            "gridcolor": "rgb(232,232,232)",
            "gridwidth": 2,
            "linecolor": "rgb(36,36,36)",
            "showbackground": true,
            "showgrid": false,
            "showline": true,
            "ticks": "outside",
            "zeroline": false,
            "zerolinecolor": "rgb(36,36,36)"
           },
           "zaxis": {
            "backgroundcolor": "white",
            "gridcolor": "rgb(232,232,232)",
            "gridwidth": 2,
            "linecolor": "rgb(36,36,36)",
            "showbackground": true,
            "showgrid": false,
            "showline": true,
            "ticks": "outside",
            "zeroline": false,
            "zerolinecolor": "rgb(36,36,36)"
           }
          },
          "shapedefaults": {
           "fillcolor": "black",
           "line": {
            "width": 0
           },
           "opacity": 0.3
          },
          "ternary": {
           "aaxis": {
            "gridcolor": "rgb(232,232,232)",
            "linecolor": "rgb(36,36,36)",
            "showgrid": false,
            "showline": true,
            "ticks": "outside"
           },
           "baxis": {
            "gridcolor": "rgb(232,232,232)",
            "linecolor": "rgb(36,36,36)",
            "showgrid": false,
            "showline": true,
            "ticks": "outside"
           },
           "bgcolor": "white",
           "caxis": {
            "gridcolor": "rgb(232,232,232)",
            "linecolor": "rgb(36,36,36)",
            "showgrid": false,
            "showline": true,
            "ticks": "outside"
           }
          },
          "title": {
           "x": 0.05
          },
          "xaxis": {
           "automargin": true,
           "gridcolor": "rgb(232,232,232)",
           "linecolor": "rgb(36,36,36)",
           "showgrid": false,
           "showline": true,
           "ticks": "outside",
           "title": {
            "standoff": 15
           },
           "zeroline": false,
           "zerolinecolor": "rgb(36,36,36)"
          },
          "yaxis": {
           "automargin": true,
           "gridcolor": "rgb(232,232,232)",
           "linecolor": "rgb(36,36,36)",
           "showgrid": false,
           "showline": true,
           "ticks": "outside",
           "title": {
            "standoff": 15
           },
           "zeroline": false,
           "zerolinecolor": "rgb(36,36,36)"
          }
         }
        },
        "title": {
         "text": "SML (CAPM):  E[Ri] = Rf + β(E[Rm]−Rf)  ·  Periodo: 2020-01-01 → 2024-12-31  ·  Frecuencia β: anual"
        },
        "xaxis": {
         "dtick": 0.25,
         "linecolor": "#888",
         "range": [
          0,
          2.868364912761802
         ],
         "showline": true,
         "title": {
          "text": "Beta (β)"
         },
         "zeroline": true,
         "zerolinecolor": "#B0B0B0",
         "zerolinewidth": 1
        },
        "yaxis": {
         "linecolor": "#888",
         "range": [
          -0.1301305379786026,
          0.2864447441917457
         ],
         "showline": true,
         "tickformat": ".0%",
         "title": {
          "text": "Rendimiento esperado ANUAL"
         },
         "zeroline": true,
         "zerolinecolor": "#B0B0B0",
         "zerolinewidth": 1
        }
       }
      }
     },
     "metadata": {},
     "output_type": "display_data"
    }
   ],
   "source": [
    "# GRÁFICO Plotly — SML ANUAL (uniforme con el mensual)\n",
    "# -----------------------------\n",
    "fig = go.Figure()\n",
    "\n",
    "# SML (desde β=0)\n",
    "fig.add_trace(go.Scatter(\n",
    "    x=betas_line, y=E_R_line, mode='lines',\n",
    "    line=dict(width=3),\n",
    "    showlegend=False,\n",
    "    name='SML'\n",
    "))\n",
    "\n",
    "# Y medio del mercado (E[Rm]) — etiqueta a la DERECHA\n",
    "fig.add_hline(\n",
    "    y=E_Rm_ann, line_dash=\"dash\", line_width=2,\n",
    "    annotation_text=f\"Ȳ = E[Rm] {E_Rm_ann:.2%}\",\n",
    "    annotation_position=\"top right\", annotation_yshift=6\n",
    ")\n",
    "\n",
    "# Rf (β=0)\n",
    "fig.add_trace(go.Scatter(\n",
    "    x=[0], y=[rf_anual], mode='markers',\n",
    "    marker=dict(symbol='x', size=12, line=dict(width=1.5)),\n",
    "    showlegend=False,\n",
    "    name='Rf',\n",
    "    hovertemplate=\"<b>Activo sin riesgo</b><br>β=0.00<br>Rendimiento= %{y:.2%}<extra></extra>\"\n",
    "))\n",
    "\n",
    "# Mercado (β=1)\n",
    "fig.add_trace(go.Scatter(\n",
    "    x=[1], y=[E_Rm_ann], mode='markers',\n",
    "    marker=dict(size=12, line=dict(width=1.5)),\n",
    "    showlegend=False,\n",
    "    name='Mercado',\n",
    "    hovertemplate=\"<b>Mercado</b><br>β=1.00<br>E[Rm]= %{y:.2%}<extra></extra>\"\n",
    "))\n",
    "\n",
    "# Activos por clase (4 trazas): colores/símbolos distintos, sin leyenda\n",
    "for cls in ['TP','FP','FN','TN']:\n",
    "    sub = df_points[df_points['Class'] == cls]\n",
    "    if sub.empty:\n",
    "        continue\n",
    "    fig.add_trace(go.Scatter(\n",
    "        x=sub['Beta'],\n",
    "        y=sub['E_Ri_ann_geom'],\n",
    "        mode='markers',\n",
    "        marker=dict(\n",
    "            size=10,\n",
    "            symbol=class_symbol[cls],\n",
    "            color=class_color[cls],\n",
    "            line=dict(width=1, color='rgba(0,0,0,0.45)')\n",
    "        ),\n",
    "        showlegend=False,\n",
    "        name=f'Activos {cls}',\n",
    "        hovertemplate=(\n",
    "            \"<b>%{customdata[0]}</b><br>\"\n",
    "            f\"Clase = {cls} \"\n",
    "            \"(%{customdata[8]})<br>\"\n",
    "            f\"n = %{{customdata[7]}} {periodo_label}<br>\"\n",
    "            \"β = %{x:.3f} | E[Ri] (geom, anual) = %{y:.2%}<br>\"\n",
    "            \"E[Rm] = %{customdata[1]:.2%} | Rf = %{customdata[2]:.2%}<br>\"\n",
    "            \"<b>CAPM</b>: E[Ri]_CAPM = Rf + β·(E[Rm]−Rf) = \"\n",
    "            \"%{customdata[2]:.2%} + %{x:.3f}·(%{customdata[1]:.2%} − %{customdata[2]:.2%}) \"\n",
    "            \"= %{customdata[3]:.2%}<br>\"\n",
    "            \"α (excesos) = %{customdata[4]:.2%} | R² = %{customdata[5]:.3f}<br>\"\n",
    "            \"Mispricing = E[Ri] − E[Ri]_CAPM = %{customdata[6]:.2%}\"\n",
    "            \"<extra></extra>\"\n",
    "        ),\n",
    "        customdata=np.stack([\n",
    "            sub['Ticker'],\n",
    "            np.full(len(sub), E_Rm_ann),\n",
    "            np.full(len(sub), rf_anual),\n",
    "            sub['E_Ri_CAPM'],\n",
    "            sub['Alpha_excesos'],\n",
    "            sub['R2'],\n",
    "            sub['Mispricing'],\n",
    "            sub['N_obs'],\n",
    "            np.where(\n",
    "                (sub['E_Ri_ann_geom'] >= E_Rm_ann) & (sub['E_Ri_ann_geom'] >= sub['E_Ri_CAPM']),\n",
    "                \"↑media & ↑SML\",\n",
    "                np.where(\n",
    "                    (sub['E_Ri_ann_geom'] >= E_Rm_ann) & (sub['E_Ri_ann_geom'] < sub['E_Ri_CAPM']),\n",
    "                    \"↑media & ↓SML\",\n",
    "                    np.where(\n",
    "                        (sub['E_Ri_ann_geom'] < E_Rm_ann) & (sub['E_Ri_ann_geom'] >= sub['E_Ri_CAPM']),\n",
    "                        \"↓media & ↑SML\",\n",
    "                        \"↓media & ↓SML\"\n",
    "                    )\n",
    "                )\n",
    "            )\n",
    "        ], axis=-1)\n",
    "    ))\n",
    "\n",
    "# Etiquetas (texto sobre cada punto)\n",
    "fig.add_trace(go.Scatter(\n",
    "    x=df_points['Beta'],\n",
    "    y=df_points['E_Ri_ann_geom'],\n",
    "    mode='text',\n",
    "    text=df_points['Ticker'],\n",
    "    textposition='top center',\n",
    "    textfont=dict(size=10),\n",
    "    showlegend=False,\n",
    "    name='Etiquetas'\n",
    "))\n",
    "\n",
    "# -----------------------------\n",
    "# Caja de FÓRMULA — ARRIBA-DERECHA (dentro del gráfico)\n",
    "# -----------------------------\n",
    "nota_formula = (\n",
    "    \"CAPM:  E[Ri] = Rf + β·(E[Rm]−Rf)\"\n",
    "    f\"<br>Rf = {rf_anual:.2%} · E[Rm] (geom) = {E_Rm_ann:.2%}\"\n",
    "    f\"<br>Prima de mercado = {market_premium:.2%}\"\n",
    ")\n",
    "fig.add_annotation(\n",
    "    xref=\"paper\", yref=\"paper\",\n",
    "    x=0.99, y=0.98, xanchor=\"right\", yanchor=\"top\",\n",
    "    text=nota_formula, showarrow=False, align=\"right\",\n",
    "    bordercolor=\"rgba(0,0,0,0.15)\", borderwidth=1,\n",
    "    bgcolor=\"rgba(255,255,255,0.90)\", font=dict(size=11),\n",
    "    borderpad=6\n",
    ")\n",
    "\n",
    "# -----------------------------\n",
    "# Caja de CLASES — ABAJO-DERECHA (dentro del gráfico)\n",
    "# -----------------------------\n",
    "nota_clases = (\n",
    "    \"<b>Clases</b>: \"\n",
    "    f\"<span style='color:{class_color['TP']}'>■ TP</span> \"\n",
    "    f\"<span style='color:{class_color['FP']}'>■ FP</span> \"\n",
    "    f\"<span style='color:{class_color['FN']}'>■ FN</span> \"\n",
    "    f\"<span style='color:{class_color['TN']}'>■ TN</span>\"\n",
    "    f\"<br>TP={cTP} · FP={cFP} · FN={cFN} · TN={cTN}\"\n",
    ")\n",
    "fig.add_annotation(\n",
    "    xref=\"paper\", yref=\"paper\",\n",
    "    x=0.98, y=0.06,                # abajo-derecha\n",
    "    xanchor=\"right\", yanchor=\"bottom\",\n",
    "    text=nota_clases, showarrow=False, align=\"right\",\n",
    "    bordercolor=\"rgba(0,0,0,0.15)\", borderwidth=1,\n",
    "    bgcolor=\"rgba(255,255,255,0.90)\", font=dict(size=11),\n",
    "    borderpad=6\n",
    ")\n",
    "\n",
    "# Layout (sin leyenda) con márgenes moderados\n",
    "fig.update_layout(\n",
    "    template='simple_white',\n",
    "    title=(\"SML (CAPM):  E[Ri] = Rf + β(E[Rm]−Rf)  ·  \"\n",
    "           f\"Periodo: {start_date} → {end_date}  ·  Frecuencia β: {freq_label}\"),\n",
    "    xaxis_title=\"Beta (β)\",\n",
    "    yaxis_title=\"Rendimiento esperado ANUAL\",\n",
    "    margin=dict(l=40, r=60, t=90, b=80),\n",
    "    hovermode='closest',\n",
    "    showlegend=False\n",
    ")\n",
    "\n",
    "# Ejes (β desde 0 para que la recta parta en Rf visible)\n",
    "fig.update_xaxes(\n",
    "    range=[beta_min, beta_max],\n",
    "    zeroline=True, zerolinewidth=1, zerolinecolor=\"#B0B0B0\",\n",
    "    showline=True, linecolor=\"#888\", dtick=0.25\n",
    ")\n",
    "fig.update_yaxes(\n",
    "    range=[y_min, y_max],\n",
    "    zeroline=True, zerolinewidth=1, zerolinecolor=\"#B0B0B0\",\n",
    "    showline=True, linecolor=\"#888\", tickformat=\".0%\"\n",
    ")\n",
    "\n",
    "fig.show()\n"
   ]
  }
 ],
 "metadata": {
  "kernelspec": {
   "display_name": "base",
   "language": "python",
   "name": "python3"
  },
  "language_info": {
   "codemirror_mode": {
    "name": "ipython",
    "version": 3
   },
   "file_extension": ".py",
   "mimetype": "text/x-python",
   "name": "python",
   "nbconvert_exporter": "python",
   "pygments_lexer": "ipython3",
   "version": "3.12.7"
  }
 },
 "nbformat": 4,
 "nbformat_minor": 5
}
