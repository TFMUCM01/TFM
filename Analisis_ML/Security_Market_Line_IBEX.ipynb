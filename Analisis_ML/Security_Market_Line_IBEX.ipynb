{
 "cells": [
  {
   "cell_type": "code",
   "execution_count": 25,
   "id": "cb4d3b20",
   "metadata": {},
   "outputs": [],
   "source": [
    "import pandas as pd\n",
    "import numpy as np\n",
    "import snowflake.connector\n",
    "import statsmodels.api as sm\n",
    "import plotly.graph_objects as go"
   ]
  },
  {
   "cell_type": "code",
   "execution_count": 26,
   "id": "071c0b2d",
   "metadata": {},
   "outputs": [],
   "source": [
    "# Configuración (ANUAL)\n",
    "\n",
    "start_date   = '2020-01-01'\n",
    "end_date     = '2024-12-31'\n",
    "ticker_ibex  = 'IBEX 35'          # usamos el nombre del índice en INDEX_DAILY\n",
    "rf_anual     = 0.03               # 3% anual\n",
    "freq_label   = 'anual'\n",
    "periodo_label = 'años'"
   ]
  },
  {
   "cell_type": "code",
   "execution_count": 27,
   "id": "dbb7cf94",
   "metadata": {},
   "outputs": [],
   "source": [
    "tickers = [\n",
    "    \"IBE.MC\", \"ITX.MC\", \"TEF.MC\", \"BBVA.MC\", \"SAN.MC\", \"REP.MC\",\n",
    "    \"AENA.MC\", \"IAG.MC\", \"ENG.MC\", \"ACS.MC\", \"FER.MC\", \"CABK.MC\",\n",
    "    \"ELE.MC\", \"MAP.MC\"\n",
    "]\n"
   ]
  },
  {
   "cell_type": "code",
   "execution_count": 28,
   "id": "61291123",
   "metadata": {},
   "outputs": [],
   "source": [
    "conn = snowflake.connector.connect(\n",
    "    user='TFMGRUPO4',\n",
    "    password='TFMgrupo4ucm01_01#',\n",
    "    account='valklxh-zn41709',   # <<<<<< usa el account de tu nueva URL\n",
    "    warehouse='COMPUTE_WH',\n",
    "    database='TFM',              # <<<<<< Database\n",
    "    schema='YAHOO_FINANCE',      # <<<<<< Schema\n",
    "    role='ACCOUNTADMIN'\n",
    ")\n",
    "cursor = conn.cursor()"
   ]
  },
  {
   "cell_type": "code",
   "execution_count": 29,
   "id": "52133750",
   "metadata": {},
   "outputs": [],
   "source": [
    "# IBEX (mercado) - INDEX_DAILY\n",
    "# -----------------------------\n",
    "q_ibex = f\"\"\"\n",
    "    SELECT FECHA, CLOSE\n",
    "    FROM INDEX_DAILY\n",
    "    WHERE INDEX_NAME = '{ticker_ibex}'\n",
    "      AND FECHA BETWEEN '{start_date}' AND '{end_date}'\n",
    "    ORDER BY FECHA\n",
    "\"\"\"\n",
    "cursor.execute(q_ibex)\n",
    "df_ibex = pd.DataFrame(cursor.fetchall(), columns=['FECHA', 'IBEX'])\n",
    "df_ibex['FECHA'] = pd.to_datetime(df_ibex['FECHA'])\n",
    "df_ibex['IBEX'] = pd.to_numeric(df_ibex['IBEX'], errors='coerce').astype(float)\n",
    "df_ibex.rename(columns={'FECHA': 'DATE'}, inplace=True)  # mantener tu índice con 'DATE'\n",
    "df_ibex.set_index('DATE', inplace=True)\n",
    "df_ibex = df_ibex.sort_index()"
   ]
  },
  {
   "cell_type": "code",
   "execution_count": 30,
   "id": "fa77b11c",
   "metadata": {},
   "outputs": [
    {
     "data": {
      "application/vnd.microsoft.datawrangler.viewer.v0+json": {
       "columns": [
        {
         "name": "DATE",
         "rawType": "datetime64[ns]",
         "type": "datetime"
        },
        {
         "name": "IBEX",
         "rawType": "float64",
         "type": "float"
        }
       ],
       "ref": "3292216b-a834-4a0f-8271-5baebed34abe",
       "rows": [
        [
         "2020-01-02 00:00:00",
         "9691.200195312"
        ],
        [
         "2020-01-03 00:00:00",
         "9646.599609375"
        ],
        [
         "2020-01-06 00:00:00",
         "9600.900390625"
        ],
        [
         "2020-01-07 00:00:00",
         "9579.799804688"
        ],
        [
         "2020-01-08 00:00:00",
         "9591.400390625"
        ],
        [
         "2020-01-09 00:00:00",
         "9581.799804688"
        ],
        [
         "2020-01-10 00:00:00",
         "9573.599609375"
        ],
        [
         "2020-01-13 00:00:00",
         "9543.900390625"
        ],
        [
         "2020-01-14 00:00:00",
         "9528.299804688"
        ],
        [
         "2020-01-15 00:00:00",
         "9511.700195312"
        ],
        [
         "2020-01-16 00:00:00",
         "9572.5"
        ],
        [
         "2020-01-17 00:00:00",
         "9681.299804688"
        ],
        [
         "2020-01-20 00:00:00",
         "9658.799804688"
        ],
        [
         "2020-01-21 00:00:00",
         "9611.299804688"
        ],
        [
         "2020-01-22 00:00:00",
         "9573.700195312"
        ],
        [
         "2020-01-23 00:00:00",
         "9518.5"
        ],
        [
         "2020-01-24 00:00:00",
         "9562.0"
        ],
        [
         "2020-01-27 00:00:00",
         "9366.299804688"
        ],
        [
         "2020-01-28 00:00:00",
         "9484.200195312"
        ],
        [
         "2020-01-29 00:00:00",
         "9546.700195312"
        ],
        [
         "2020-01-30 00:00:00",
         "9477.900390625"
        ],
        [
         "2020-01-31 00:00:00",
         "9367.900390625"
        ],
        [
         "2020-02-03 00:00:00",
         "9404.700195312"
        ],
        [
         "2020-02-04 00:00:00",
         "9562.900390625"
        ],
        [
         "2020-02-05 00:00:00",
         "9717.799804688"
        ],
        [
         "2020-02-06 00:00:00",
         "9811.299804688"
        ],
        [
         "2020-02-07 00:00:00",
         "9811.0"
        ],
        [
         "2020-02-10 00:00:00",
         "9816.0"
        ],
        [
         "2020-02-11 00:00:00",
         "9882.599609375"
        ],
        [
         "2020-02-12 00:00:00",
         "9940.400390625"
        ],
        [
         "2020-02-13 00:00:00",
         "9909.799804688"
        ],
        [
         "2020-02-14 00:00:00",
         "9956.799804688"
        ],
        [
         "2020-02-17 00:00:00",
         "10022.200195312"
        ],
        [
         "2020-02-18 00:00:00",
         "10005.799804688"
        ],
        [
         "2020-02-19 00:00:00",
         "10083.599609375"
        ],
        [
         "2020-02-20 00:00:00",
         "9931.0"
        ],
        [
         "2020-02-21 00:00:00",
         "9886.200195312"
        ],
        [
         "2020-02-24 00:00:00",
         "9483.5"
        ],
        [
         "2020-02-25 00:00:00",
         "9250.799804688"
        ],
        [
         "2020-02-26 00:00:00",
         "9316.799804688"
        ],
        [
         "2020-02-27 00:00:00",
         "8985.900390625"
        ],
        [
         "2020-02-28 00:00:00",
         "8723.200195312"
        ],
        [
         "2020-03-02 00:00:00",
         "8741.5"
        ],
        [
         "2020-03-03 00:00:00",
         "8811.599609375"
        ],
        [
         "2020-03-04 00:00:00",
         "8910.0"
        ],
        [
         "2020-03-05 00:00:00",
         "8683.0"
        ],
        [
         "2020-03-06 00:00:00",
         "8375.599609375"
        ],
        [
         "2020-03-09 00:00:00",
         "7708.700195312"
        ],
        [
         "2020-03-10 00:00:00",
         "7461.5"
        ],
        [
         "2020-03-11 00:00:00",
         "7436.399902344"
        ]
       ],
       "shape": {
        "columns": 1,
        "rows": 1281
       }
      },
      "text/html": [
       "<div>\n",
       "<style scoped>\n",
       "    .dataframe tbody tr th:only-of-type {\n",
       "        vertical-align: middle;\n",
       "    }\n",
       "\n",
       "    .dataframe tbody tr th {\n",
       "        vertical-align: top;\n",
       "    }\n",
       "\n",
       "    .dataframe thead th {\n",
       "        text-align: right;\n",
       "    }\n",
       "</style>\n",
       "<table border=\"1\" class=\"dataframe\">\n",
       "  <thead>\n",
       "    <tr style=\"text-align: right;\">\n",
       "      <th></th>\n",
       "      <th>IBEX</th>\n",
       "    </tr>\n",
       "    <tr>\n",
       "      <th>DATE</th>\n",
       "      <th></th>\n",
       "    </tr>\n",
       "  </thead>\n",
       "  <tbody>\n",
       "    <tr>\n",
       "      <th>2020-01-02</th>\n",
       "      <td>9691.200195</td>\n",
       "    </tr>\n",
       "    <tr>\n",
       "      <th>2020-01-03</th>\n",
       "      <td>9646.599609</td>\n",
       "    </tr>\n",
       "    <tr>\n",
       "      <th>2020-01-06</th>\n",
       "      <td>9600.900391</td>\n",
       "    </tr>\n",
       "    <tr>\n",
       "      <th>2020-01-07</th>\n",
       "      <td>9579.799805</td>\n",
       "    </tr>\n",
       "    <tr>\n",
       "      <th>2020-01-08</th>\n",
       "      <td>9591.400391</td>\n",
       "    </tr>\n",
       "    <tr>\n",
       "      <th>...</th>\n",
       "      <td>...</td>\n",
       "    </tr>\n",
       "    <tr>\n",
       "      <th>2024-12-23</th>\n",
       "      <td>11435.700195</td>\n",
       "    </tr>\n",
       "    <tr>\n",
       "      <th>2024-12-24</th>\n",
       "      <td>11473.900391</td>\n",
       "    </tr>\n",
       "    <tr>\n",
       "      <th>2024-12-27</th>\n",
       "      <td>11531.599609</td>\n",
       "    </tr>\n",
       "    <tr>\n",
       "      <th>2024-12-30</th>\n",
       "      <td>11536.799805</td>\n",
       "    </tr>\n",
       "    <tr>\n",
       "      <th>2024-12-31</th>\n",
       "      <td>11595.000000</td>\n",
       "    </tr>\n",
       "  </tbody>\n",
       "</table>\n",
       "<p>1281 rows × 1 columns</p>\n",
       "</div>"
      ],
      "text/plain": [
       "                    IBEX\n",
       "DATE                    \n",
       "2020-01-02   9691.200195\n",
       "2020-01-03   9646.599609\n",
       "2020-01-06   9600.900391\n",
       "2020-01-07   9579.799805\n",
       "2020-01-08   9591.400391\n",
       "...                  ...\n",
       "2024-12-23  11435.700195\n",
       "2024-12-24  11473.900391\n",
       "2024-12-27  11531.599609\n",
       "2024-12-30  11536.799805\n",
       "2024-12-31  11595.000000\n",
       "\n",
       "[1281 rows x 1 columns]"
      ]
     },
     "execution_count": 30,
     "metadata": {},
     "output_type": "execute_result"
    }
   ],
   "source": [
    "df_ibex"
   ]
  },
  {
   "cell_type": "code",
   "execution_count": 31,
   "id": "ac2b24d5",
   "metadata": {},
   "outputs": [],
   "source": [
    "# Activos (precios) - TICKERS_INDEX\n",
    "# -----------------------------\n",
    "dfs = {'IBEX': df_ibex['IBEX']}\n",
    "for tk in tickers:\n",
    "    q = f\"\"\"\n",
    "        SELECT FECHA, CLOSE\n",
    "        FROM TICKERS_INDEX\n",
    "        WHERE TICKER = '{tk}'\n",
    "          AND FECHA BETWEEN '{start_date}' AND '{end_date}'\n",
    "        ORDER BY FECHA\n",
    "    \"\"\"\n",
    "    cursor.execute(q)\n",
    "    df = pd.DataFrame(cursor.fetchall(), columns=['FECHA', tk])\n",
    "    df['FECHA'] = pd.to_datetime(df['FECHA'])\n",
    "    df[tk] = pd.to_numeric(df[tk], errors='coerce').astype(float)\n",
    "    df.set_index('FECHA', inplace=True)\n",
    "    df = df.sort_index()\n",
    "    dfs[tk] = df[tk]\n",
    "\n",
    "cursor.close()\n",
    "conn.close()"
   ]
  },
  {
   "cell_type": "code",
   "execution_count": 32,
   "id": "7802ef57",
   "metadata": {},
   "outputs": [
    {
     "name": "stderr",
     "output_type": "stream",
     "text": [
      "C:\\Users\\jcrom\\AppData\\Local\\Temp\\ipykernel_20796\\4263937866.py:8: FutureWarning:\n",
      "\n",
      "'Y' is deprecated and will be removed in a future version, please use 'YE' instead.\n",
      "\n"
     ]
    }
   ],
   "source": [
    "panel = pd.concat(dfs, axis=1, join='outer').sort_index()\n",
    "\n",
    "def last_valid(series: pd.Series):\n",
    "    s = series.dropna()\n",
    "    return s.iloc[-1] if not s.empty else np.nan\n",
    "\n",
    "# Fin de año ('Y'): tomamos el último precio válido del año\n",
    "panel_y = panel.resample('Y').apply(last_valid)\n",
    "rets    = panel_y.pct_change(fill_method=None)     # retornos anuales"
   ]
  },
  {
   "cell_type": "code",
   "execution_count": 33,
   "id": "b66f2c72",
   "metadata": {},
   "outputs": [],
   "source": [
    "# rf del periodo (ANUAL) para excesos\n",
    "# -----------------------------\n",
    "rf_period = rf_anual  # k = 1"
   ]
  },
  {
   "cell_type": "code",
   "execution_count": 34,
   "id": "ca4b7b00",
   "metadata": {},
   "outputs": [],
   "source": [
    "def geometric_annualized(r: pd.Series, periods_per_year=1):\n",
    "    r = r.dropna()\n",
    "    n = r.shape[0]\n",
    "    if n == 0:\n",
    "        return np.nan\n",
    "    gross = (1 + r).prod()\n",
    "    return gross**(periods_per_year / n) - 1  # k=1 ⇒ media geométrica anual\n",
    "\n",
    "def estimate_beta_alpha_r2(ri: pd.Series, rm: pd.Series, rf_p: float):\n",
    "    \"\"\"OLS en EXCESOS con constante: (Ri - Rf) = α + β (Rm - Rf) + ε\"\"\"\n",
    "    pair = pd.concat([rm, ri], axis=1, join='inner').dropna()\n",
    "    pair.columns = ['Rm', 'Ri']\n",
    "    nobs = pair.shape[0]\n",
    "    if nobs < 3:  # mínimo 3 retornos anuales\n",
    "        return None, None, None, nobs\n",
    "    X = pair['Rm'] - rf_p\n",
    "    y = pair['Ri'] - rf_p\n",
    "    Xc = sm.add_constant(X)\n",
    "    res = sm.OLS(y, Xc).fit()\n",
    "    beta  = float(res.params.get('Rm', np.nan))\n",
    "    alpha = float(res.params.get('const', np.nan))\n",
    "    r2    = float(res.rsquared)\n",
    "    return beta, alpha, r2, nobs"
   ]
  },
  {
   "cell_type": "code",
   "execution_count": 35,
   "id": "540e0670",
   "metadata": {},
   "outputs": [
    {
     "name": "stdout",
     "output_type": "stream",
     "text": [
      "Chequeo SML: y(β=0) = 3.00% (Rf = 3.00%)\n"
     ]
    }
   ],
   "source": [
    "# E[Rm] (geom) anual y prima de mercado\n",
    "E_Rm_ann = geometric_annualized(rets['IBEX'], periods_per_year=1)\n",
    "if pd.isna(E_Rm_ann) or rets['IBEX'].dropna().shape[0] < 3:\n",
    "    raise RuntimeError(\"No hay años suficientes para β anual. Amplía el rango o revisa la cobertura del IBEX.\")\n",
    "market_premium = E_Rm_ann - rf_anual\n",
    "\n",
    "# Chequeo: en β=0, SML debe valer Rf\n",
    "print(f\"Chequeo SML: y(β=0) = {rf_anual + market_premium*0.0:.2%} (Rf = {rf_anual:.2%})\")\n"
   ]
  },
  {
   "cell_type": "code",
   "execution_count": 36,
   "id": "ee4fbafe",
   "metadata": {},
   "outputs": [],
   "source": [
    "#β anual, α, R² y E[Ri] anual por activo\n",
    "\n",
    "rows = []\n",
    "for tk in tickers:\n",
    "    beta, alpha, r2, nobs = estimate_beta_alpha_r2(rets[tk], rets['IBEX'], rf_period)\n",
    "    if beta is None:\n",
    "        print(f\"[AVISO] {tk}: años insuficientes tras alinear (n={nobs}). Se omite.\")\n",
    "        continue\n",
    "\n",
    "    pair = pd.concat([rets['IBEX'], rets[tk]], axis=1, join='inner').dropna()\n",
    "    E_Ri_ann = geometric_annualized(pair[tk], periods_per_year=1)\n",
    "\n",
    "    E_Ri_capm = rf_anual + beta * (E_Rm_ann - rf_anual)   # Predicción CAPM anual\n",
    "    mispricing = E_Ri_ann - E_Ri_capm                     # Real - CAPM\n",
    "\n",
    "    rows.append({\n",
    "        'Ticker': tk,\n",
    "        'Beta': beta,\n",
    "        'Alpha_excesos': alpha,\n",
    "        'R2': r2,\n",
    "        'N_obs': nobs,\n",
    "        'E_Ri_ann_geom': E_Ri_ann,\n",
    "        'E_Ri_CAPM': E_Ri_capm,\n",
    "        'Mispricing': mispricing\n",
    "    })\n"
   ]
  },
  {
   "cell_type": "code",
   "execution_count": 37,
   "id": "eb550e2a",
   "metadata": {},
   "outputs": [],
   "source": [
    "df_points = pd.DataFrame(rows)\n",
    "if df_points.empty:\n",
    "    raise RuntimeError(\"No hay puntos para graficar (β anual). Amplía el rango o revisa cobertura.\")\n",
    "df_points = df_points.sort_values('Beta').reset_index(drop=True)\n"
   ]
  },
  {
   "cell_type": "code",
   "execution_count": 38,
   "id": "5e7f00e0",
   "metadata": {},
   "outputs": [],
   "source": [
    "# Clasificación TP / FP / FN / TN\n",
    "above_mean = df_points['E_Ri_ann_geom'] >= E_Rm_ann\n",
    "above_sml  = df_points['E_Ri_ann_geom'] >= df_points['E_Ri_CAPM']\n",
    "\n",
    "def _class_row(am, asml):\n",
    "    if am and asml:        return 'TP'  # arriba media y arriba SML\n",
    "    if am and not asml:    return 'FP'  # arriba media pero abajo SML\n",
    "    if (not am) and asml:  return 'FN'  # abajo media pero arriba SML\n",
    "    return 'TN'                           # abajo media y abajo SML\n",
    "\n",
    "df_points['Class'] = [_class_row(am, asml) for am, asml in zip(above_mean, above_sml)]"
   ]
  },
  {
   "cell_type": "code",
   "execution_count": 39,
   "id": "3934bbc4",
   "metadata": {},
   "outputs": [],
   "source": [
    "# Colores y símbolos por clase\n",
    "class_color  = {'TP':'#2ca02c', 'FP':'#ff7f0e', 'FN':'#1f77b4', 'TN':'#d62728'}\n",
    "class_symbol = {'TP':'circle',  'FP':'diamond', 'FN':'triangle-up', 'TN':'x'}\n",
    "\n",
    "# Conteos para anotación\n",
    "cnt = df_points['Class'].value_counts().to_dict()\n",
    "cTP = cnt.get('TP', 0); cFP = cnt.get('FP', 0); cFN = cnt.get('FN', 0); cTN = cnt.get('TN', 0)"
   ]
  },
  {
   "cell_type": "code",
   "execution_count": 40,
   "id": "5332822f",
   "metadata": {},
   "outputs": [],
   "source": [
    "# SML y rangos de ejes (forzamos que arranque en β=0)\n",
    "# -----------------------------\n",
    "beta_min = 0.0\n",
    "beta_max = max(1.5, float(df_points['Beta'].max() + 0.2))\n",
    "betas_line = np.linspace(beta_min, beta_max, 200)\n",
    "E_R_line   = rf_anual + market_premium * betas_line\n",
    "\n",
    "y_vals = np.concatenate([\n",
    "    df_points['E_Ri_ann_geom'].values,\n",
    "    [rf_anual, E_Rm_ann, E_R_line.min(), E_R_line.max()]\n",
    "])\n",
    "y_min = float(np.nanmin(y_vals)) - 0.03\n",
    "y_max = float(np.nanmax(y_vals)) + 0.03"
   ]
  },
  {
   "cell_type": "code",
   "execution_count": 41,
   "id": "5fe95b74",
   "metadata": {},
   "outputs": [
    {
     "data": {
      "application/vnd.plotly.v1+json": {
       "config": {
        "plotlyServerURL": "https://plot.ly"
       },
       "data": [
        {
         "line": {
          "width": 3
         },
         "mode": "lines",
         "name": "SML",
         "showlegend": false,
         "type": "scatter",
         "x": [
          0,
          0.014413894045252666,
          0.028827788090505332,
          0.043241682135758,
          0.057655576181010665,
          0.07206947022626334,
          0.086483364271516,
          0.10089725831676866,
          0.11531115236202133,
          0.129725046407274,
          0.14413894045252668,
          0.15855283449777932,
          0.172966728543032,
          0.18738062258828467,
          0.2017945166335373,
          0.21620841067879,
          0.23062230472404266,
          0.24503619876929533,
          0.259450092814548,
          0.2738639868598007,
          0.28827788090505335,
          0.30269177495030597,
          0.31710566899555864,
          0.3315195630408113,
          0.345933457086064,
          0.36034735113131666,
          0.37476124517656934,
          0.389175139221822,
          0.4035890332670746,
          0.4180029273123273,
          0.43241682135758,
          0.44683071540283265,
          0.4612446094480853,
          0.475658503493338,
          0.49007239753859067,
          0.5044862915838433,
          0.518900185629096,
          0.5333140796743486,
          0.5477279737196014,
          0.562141867764854,
          0.5765557618101067,
          0.5909696558553593,
          0.6053835499006119,
          0.6197974439458647,
          0.6342113379911173,
          0.64862523203637,
          0.6630391260816226,
          0.6774530201268754,
          0.691866914172128,
          0.7062808082173806,
          0.7206947022626333,
          0.7351085963078859,
          0.7495224903531387,
          0.7639363843983913,
          0.778350278443644,
          0.7927641724888966,
          0.8071780665341493,
          0.821591960579402,
          0.8360058546246546,
          0.8504197486699073,
          0.86483364271516,
          0.8792475367604127,
          0.8936614308056653,
          0.908075324850918,
          0.9224892188961706,
          0.9369031129414233,
          0.951317006986676,
          0.9657309010319286,
          0.9801447950771813,
          0.994558689122434,
          1.0089725831676866,
          1.0233864772129393,
          1.037800371258192,
          1.0522142653034445,
          1.0666281593486973,
          1.08104205339395,
          1.0954559474392027,
          1.1098698414844552,
          1.124283735529708,
          1.1386976295749607,
          1.1531115236202134,
          1.167525417665466,
          1.1819393117107186,
          1.1963532057559714,
          1.2107670998012239,
          1.2251809938464766,
          1.2395948878917293,
          1.254008781936982,
          1.2684226759822346,
          1.2828365700274873,
          1.29725046407274,
          1.3116643581179925,
          1.3260782521632453,
          1.340492146208498,
          1.3549060402537507,
          1.3693199342990032,
          1.383733828344256,
          1.3981477223895087,
          1.4125616164347612,
          1.426975510480014,
          1.4413894045252666,
          1.4558032985705194,
          1.4702171926157719,
          1.4846310866610246,
          1.4990449807062773,
          1.5134588747515298,
          1.5278727687967826,
          1.5422866628420353,
          1.556700556887288,
          1.5711144509325405,
          1.5855283449777933,
          1.599942239023046,
          1.6143561330682985,
          1.6287700271135512,
          1.643183921158804,
          1.6575978152040567,
          1.6720117092493092,
          1.686425603294562,
          1.7008394973398147,
          1.7152533913850674,
          1.72966728543032,
          1.7440811794755726,
          1.7584950735208253,
          1.7729089675660779,
          1.7873228616113306,
          1.8017367556565833,
          1.816150649701836,
          1.8305645437470885,
          1.8449784377923413,
          1.859392331837594,
          1.8738062258828465,
          1.8882201199280992,
          1.902634013973352,
          1.9170479080186047,
          1.9314618020638572,
          1.94587569610911,
          1.9602895901543627,
          1.9747034841996152,
          1.989117378244868,
          2.0035312722901204,
          2.017945166335373,
          2.032359060380626,
          2.0467729544258786,
          2.0611868484711313,
          2.075600742516384,
          2.0900146365616368,
          2.104428530606889,
          2.118842424652142,
          2.1332563186973945,
          2.1476702127426472,
          2.1620841067879,
          2.1764980008331527,
          2.1909118948784054,
          2.2053257889236577,
          2.2197396829689104,
          2.234153577014163,
          2.248567471059416,
          2.2629813651046686,
          2.2773952591499214,
          2.291809153195174,
          2.306223047240427,
          2.320636941285679,
          2.335050835330932,
          2.3494647293761846,
          2.3638786234214373,
          2.37829251746669,
          2.3927064115119427,
          2.4071203055571955,
          2.4215341996024478,
          2.4359480936477005,
          2.450361987692953,
          2.464775881738206,
          2.4791897757834587,
          2.4936036698287114,
          2.508017563873964,
          2.5224314579192164,
          2.536845351964469,
          2.551259246009722,
          2.5656731400549746,
          2.5800870341002273,
          2.59450092814548,
          2.608914822190733,
          2.623328716235985,
          2.637742610281238,
          2.6521565043264905,
          2.6665703983717433,
          2.680984292416996,
          2.6953981864622487,
          2.7098120805075014,
          2.7242259745527537,
          2.7386398685980065,
          2.753053762643259,
          2.767467656688512,
          2.7818815507337646,
          2.7962954447790174,
          2.81070933882427,
          2.8251232328695224,
          2.839537126914775,
          2.853951020960028,
          2.8683649150052806
         ],
         "y": [
          0.03,
          0.03093273937175121,
          0.03186547874350242,
          0.03279821811525363,
          0.033730957487004845,
          0.03466369685875606,
          0.03559643623050727,
          0.036529175602258476,
          0.03746191497400969,
          0.038394654345760906,
          0.039327393717512114,
          0.04026013308926332,
          0.04119287246101454,
          0.04212561183276575,
          0.04305835120451696,
          0.04399109057626817,
          0.044923829948019384,
          0.0458565693197706,
          0.04678930869152181,
          0.047722048063273015,
          0.04865478743502423,
          0.04958752680677544,
          0.050520266178526646,
          0.05145300555027786,
          0.052385744922029076,
          0.05331848429378029,
          0.0542512236655315,
          0.05518396303728271,
          0.05611670240903392,
          0.05704944178078513,
          0.05798218115253634,
          0.05891492052428755,
          0.05984765989603877,
          0.060780399267789983,
          0.06171313863954119,
          0.0626458780112924,
          0.06357861738304361,
          0.06451135675479483,
          0.06544409612654603,
          0.06637683549829725,
          0.06730957487004846,
          0.06824231424179966,
          0.06917505361355088,
          0.07010779298530209,
          0.0710405323570533,
          0.07197327172880452,
          0.07290601110055572,
          0.07383875047230695,
          0.07477148984405815,
          0.07570422921580935,
          0.07663696858756058,
          0.07756970795931178,
          0.078502447331063,
          0.07943518670281421,
          0.08036792607456542,
          0.08130066544631663,
          0.08223340481806785,
          0.08316614418981905,
          0.08409888356157026,
          0.08503162293332148,
          0.08596436230507268,
          0.0868971016768239,
          0.08782984104857511,
          0.08876258042032634,
          0.08969531979207754,
          0.09062805916382874,
          0.09156079853557997,
          0.09249353790733117,
          0.09342627727908238,
          0.09435901665083359,
          0.0952917560225848,
          0.09622449539433602,
          0.09715723476608723,
          0.09808997413783843,
          0.09902271350958965,
          0.09995545288134086,
          0.10088819225309208,
          0.10182093162484328,
          0.10275367099659449,
          0.10368641036834571,
          0.10461914974009692,
          0.10555188911184812,
          0.10648462848359934,
          0.10741736785535055,
          0.10835010722710176,
          0.10928284659885297,
          0.11021558597060419,
          0.1111483253423554,
          0.1120810647141066,
          0.11301380408585782,
          0.11394654345760905,
          0.11487928282936025,
          0.11581202220111146,
          0.11674476157286268,
          0.11767750094461389,
          0.11861024031636509,
          0.11954297968811631,
          0.12047571905986752,
          0.12140845843161872,
          0.12234119780336994,
          0.12327393717512115,
          0.12420667654687237,
          0.12513941591862357,
          0.1260721552903748,
          0.127004894662126,
          0.1279376340338772,
          0.1288703734056284,
          0.12980311277737963,
          0.13073585214913086,
          0.13166859152088206,
          0.13260133089263326,
          0.13353407026438446,
          0.13446680963613566,
          0.1353995490078869,
          0.13633228837963812,
          0.13726502775138932,
          0.13819776712314052,
          0.13913050649489173,
          0.14006324586664295,
          0.14099598523839418,
          0.14192872461014538,
          0.14286146398189659,
          0.1437942033536478,
          0.144726942725399,
          0.14565968209715022,
          0.14659242146890145,
          0.14752516084065265,
          0.14845790021240385,
          0.14939063958415508,
          0.1503233789559063,
          0.1512561183276575,
          0.1521888576994087,
          0.1531215970711599,
          0.15405433644291114,
          0.15498707581466234,
          0.15591981518641354,
          0.15685255455816477,
          0.15778529392991597,
          0.15871803330166717,
          0.15965077267341837,
          0.1605835120451696,
          0.1615162514169208,
          0.16244899078867203,
          0.16338173016042323,
          0.16431446953217446,
          0.1652472089039257,
          0.16617994827567686,
          0.1671126876474281,
          0.1680454270191793,
          0.16897816639093052,
          0.16991090576268172,
          0.17084364513443295,
          0.17177638450618415,
          0.17270912387793536,
          0.17364186324968656,
          0.17457460262143779,
          0.175507341993189,
          0.17644008136494022,
          0.17737282073669142,
          0.17830556010844265,
          0.17923829948019385,
          0.18017103885194505,
          0.18110377822369625,
          0.18203651759544748,
          0.18296925696719868,
          0.1839019963389499,
          0.1848347357107011,
          0.18576747508245234,
          0.1867002144542035,
          0.18763295382595474,
          0.18856569319770594,
          0.18949843256945717,
          0.19043117194120837,
          0.1913639113129596,
          0.1922966506847108,
          0.193229390056462,
          0.1941621294282132,
          0.19509486879996443,
          0.19602760817171563,
          0.19696034754346686,
          0.1978930869152181,
          0.1988258262869693,
          0.1997585656587205,
          0.2006913050304717,
          0.20162404440222292,
          0.20255678377397413,
          0.20348952314572535,
          0.20442226251747656,
          0.20535500188922778,
          0.20628774126097896,
          0.2072204806327302,
          0.2081532200044814,
          0.20908595937623262,
          0.21001869874798382,
          0.21095143811973505,
          0.21188417749148625,
          0.21281691686323745,
          0.21374965623498865,
          0.21468239560673988,
          0.21561513497849108
         ]
        },
        {
         "hovertemplate": "<b>Activo sin riesgo</b><br>β=0.00<br>Rendimiento= %{y:.2%}<extra></extra>",
         "marker": {
          "line": {
           "width": 1.5
          },
          "size": 12,
          "symbol": "x"
         },
         "mode": "markers",
         "name": "Rf",
         "showlegend": false,
         "type": "scatter",
         "x": [
          0
         ],
         "y": [
          0.03
         ]
        },
        {
         "hovertemplate": "<b>Mercado</b><br>β=1.00<br>E[Rm]= %{y:.2%}<extra></extra>",
         "marker": {
          "line": {
           "width": 1.5
          },
          "size": 12
         },
         "mode": "markers",
         "name": "Mercado",
         "showlegend": false,
         "type": "scatter",
         "x": [
          1
         ],
         "y": [
          0.09471113002654663
         ]
        },
        {
         "customdata": [
          [
           "CABK.MC",
           0.09471113002654663,
           0.03,
           -0.0638685828120413,
           0.3437118511613442,
           0.5642414937732327,
           0.32031332693767456,
           4,
           "↑media & ↑SML"
          ],
          [
           "MAP.MC",
           0.09471113002654663,
           0.03,
           0.05801153355765469,
           0.056864138341073935,
           0.22871335555234606,
           0.0551550737914875,
           4,
           "↑media & ↑SML"
          ],
          [
           "BBVA.MC",
           0.09471113002654663,
           0.03,
           0.10253882268628288,
           0.13764037817999367,
           0.6160708308885487,
           0.13460458062335134,
           4,
           "↑media & ↑SML"
          ],
          [
           "ACS.MC",
           0.09471113002654663,
           0.03,
           0.11404366255174223,
           0.06047053104231658,
           0.35846727256383604,
           0.04503730285188093,
           4,
           "↑media & ↑SML"
          ],
          [
           "SAN.MC",
           0.09471113002654663,
           0.03,
           0.11582849885491264,
           0.03785231306019912,
           0.9641317300922413,
           0.03582093011604115,
           4,
           "↑media & ↑SML"
          ],
          [
           "FER.MC",
           0.09471113002654663,
           0.03,
           0.13275516023027956,
           0.030804239940649118,
           0.9252776424709395,
           0.024967123673555247,
           4,
           "↑media & ↑SML"
          ]
         ],
         "hovertemplate": "<b>%{customdata[0]}</b><br>Clase = TP (%{customdata[8]})<br>n = %{customdata[7]} años<br>β = %{x:.3f} | E[Ri] (geom, anual) = %{y:.2%}<br>E[Rm] = %{customdata[1]:.2%} | Rf = %{customdata[2]:.2%}<br><b>CAPM</b>: E[Ri]_CAPM = Rf + β·(E[Rm]−Rf) = %{customdata[2]:.2%} + %{x:.3f}·(%{customdata[1]:.2%} − %{customdata[2]:.2%}) = %{customdata[3]:.2%}<br>α (excesos) = %{customdata[4]:.2%} | R² = %{customdata[5]:.3f}<br>Mispricing = E[Ri] − E[Ri]_CAPM = %{customdata[6]:.2%}<extra></extra>",
         "marker": {
          "color": "#2ca02c",
          "line": {
           "color": "rgba(0,0,0,0.45)",
           "width": 1
          },
          "size": 10,
          "symbol": "circle"
         },
         "mode": "markers",
         "name": "Activos TP",
         "showlegend": false,
         "type": "scatter",
         "x": [
          -1.4505786372998482,
          0.43287041265024184,
          1.1209636218147492,
          1.2987512738112401,
          1.326332870708686,
          1.5879055146792524
         ],
         "y": [
          0.25644474412563323,
          0.11316660734914219,
          0.23714340330963424,
          0.15908096540362315,
          0.1516494289709538,
          0.1577222839038348
         ]
        },
        {
         "customdata": [
          [
           "ITX.MC",
           0.09471113002654663,
           0.03,
           0.1880221102552329,
           0.002719046705877491,
           0.9470080324255508,
           -0.012995524067699604,
           4,
           "↑media & ↓SML"
          ],
          [
           "IAG.MC",
           0.09471113002654663,
           0.03,
           0.20267290897318174,
           0.05532564024235762,
           0.3430512667715282,
           -0.009583903793799642,
           4,
           "↑media & ↓SML"
          ]
         ],
         "hovertemplate": "<b>%{customdata[0]}</b><br>Clase = FP (%{customdata[8]})<br>n = %{customdata[7]} años<br>β = %{x:.3f} | E[Ri] (geom, anual) = %{y:.2%}<br>E[Rm] = %{customdata[1]:.2%} | Rf = %{customdata[2]:.2%}<br><b>CAPM</b>: E[Ri]_CAPM = Rf + β·(E[Rm]−Rf) = %{customdata[2]:.2%} + %{x:.3f}·(%{customdata[1]:.2%} − %{customdata[2]:.2%}) = %{customdata[3]:.2%}<br>α (excesos) = %{customdata[4]:.2%} | R² = %{customdata[5]:.3f}<br>Mispricing = E[Ri] − E[Ri]_CAPM = %{customdata[6]:.2%}<extra></extra>",
         "marker": {
          "color": "#ff7f0e",
          "line": {
           "color": "rgba(0,0,0,0.45)",
           "width": 1
          },
          "size": 10,
          "symbol": "diamond"
         },
         "mode": "markers",
         "name": "Activos FP",
         "showlegend": false,
         "type": "scatter",
         "x": [
          2.441961841655478,
          2.6683649150052804
         ],
         "y": [
          0.1750265861875333,
          0.1930890051793821
         ]
        },
        {
         "customdata": [
          [
           "REP.MC",
           0.09471113002654663,
           0.03,
           -0.10399783458404238,
           0.2301549311942257,
           0.836293334977501,
           0.19503648716368155,
           4,
           "↓media & ↑SML"
          ]
         ],
         "hovertemplate": "<b>%{customdata[0]}</b><br>Clase = FN (%{customdata[8]})<br>n = %{customdata[7]} años<br>β = %{x:.3f} | E[Ri] (geom, anual) = %{y:.2%}<br>E[Rm] = %{customdata[1]:.2%} | Rf = %{customdata[2]:.2%}<br><b>CAPM</b>: E[Ri]_CAPM = Rf + β·(E[Rm]−Rf) = %{customdata[2]:.2%} + %{x:.3f}·(%{customdata[1]:.2%} − %{customdata[2]:.2%}) = %{customdata[3]:.2%}<br>α (excesos) = %{customdata[4]:.2%} | R² = %{customdata[5]:.3f}<br>Mispricing = E[Ri] − E[Ri]_CAPM = %{customdata[6]:.2%}<extra></extra>",
         "marker": {
          "color": "#1f77b4",
          "line": {
           "color": "rgba(0,0,0,0.45)",
           "width": 1
          },
          "size": 10,
          "symbol": "triangle-up"
         },
         "mode": "markers",
         "name": "Activos FN",
         "showlegend": false,
         "type": "scatter",
         "x": [
          -2.0707076901465338
         ],
         "y": [
          0.09103865257963917
         ]
        },
        {
         "customdata": [
          [
           "IBE.MC",
           0.09471113002654663,
           0.03,
           0.04688528918533172,
           -0.01166078258074893,
           0.09424424736754489,
           -0.014322552399364169,
           4,
           "↓media & ↓SML"
          ],
          [
           "ENG.MC",
           0.09471113002654663,
           0.03,
           0.061824907111424625,
           -0.15142776970798824,
           0.10717880502508348,
           -0.16195544509463777,
           4,
           "↓media & ↓SML"
          ],
          [
           "TEF.MC",
           0.09471113002654663,
           0.03,
           0.06909949419588368,
           -0.016182430517384022,
           0.3028137826459023,
           -0.019586830598940952,
           4,
           "↓media & ↓SML"
          ],
          [
           "ELE.MC",
           0.09471113002654663,
           0.03,
           0.08044993676907901,
           -0.09720215891009465,
           0.6170298992920118,
           -0.09861214870384098,
           4,
           "↓media & ↓SML"
          ],
          [
           "AENA.MC",
           0.09471113002654663,
           0.03,
           0.15774742724245897,
           -0.061944107550833766,
           0.934721851394506,
           -0.0722922686398019,
           4,
           "↓media & ↓SML"
          ]
         ],
         "hovertemplate": "<b>%{customdata[0]}</b><br>Clase = TN (%{customdata[8]})<br>n = %{customdata[7]} años<br>β = %{x:.3f} | E[Ri] (geom, anual) = %{y:.2%}<br>E[Rm] = %{customdata[1]:.2%} | Rf = %{customdata[2]:.2%}<br><b>CAPM</b>: E[Ri]_CAPM = Rf + β·(E[Rm]−Rf) = %{customdata[2]:.2%} + %{x:.3f}·(%{customdata[1]:.2%} − %{customdata[2]:.2%}) = %{customdata[3]:.2%}<br>α (excesos) = %{customdata[4]:.2%} | R² = %{customdata[5]:.3f}<br>Mispricing = E[Ri] − E[Ri]_CAPM = %{customdata[6]:.2%}<extra></extra>",
         "marker": {
          "color": "#d62728",
          "line": {
           "color": "rgba(0,0,0,0.45)",
           "width": 1
          },
          "size": 10,
          "symbol": "x"
         },
         "mode": "markers",
         "name": "Activos TN",
         "showlegend": false,
         "type": "scatter",
         "x": [
          0.26093330742956916,
          0.4917995883918115,
          0.604215908141981,
          0.7796176136683564,
          1.9741183192142182
         ],
         "y": [
          0.03256273678596755,
          -0.10013053798321314,
          0.04951266359694273,
          -0.018162211934761974,
          0.08545515860265707
         ]
        },
        {
         "mode": "text",
         "name": "Etiquetas",
         "showlegend": false,
         "text": [
          "REP.MC",
          "CABK.MC",
          "IBE.MC",
          "MAP.MC",
          "ENG.MC",
          "TEF.MC",
          "ELE.MC",
          "BBVA.MC",
          "ACS.MC",
          "SAN.MC",
          "FER.MC",
          "AENA.MC",
          "ITX.MC",
          "IAG.MC"
         ],
         "textfont": {
          "size": 10
         },
         "textposition": "top center",
         "type": "scatter",
         "x": [
          -2.0707076901465338,
          -1.4505786372998482,
          0.26093330742956916,
          0.43287041265024184,
          0.4917995883918115,
          0.604215908141981,
          0.7796176136683564,
          1.1209636218147492,
          1.2987512738112401,
          1.326332870708686,
          1.5879055146792524,
          1.9741183192142182,
          2.441961841655478,
          2.6683649150052804
         ],
         "y": [
          0.09103865257963917,
          0.25644474412563323,
          0.03256273678596755,
          0.11316660734914219,
          -0.10013053798321314,
          0.04951266359694273,
          -0.018162211934761974,
          0.23714340330963424,
          0.15908096540362315,
          0.1516494289709538,
          0.1577222839038348,
          0.08545515860265707,
          0.1750265861875333,
          0.1930890051793821
         ]
        }
       ],
       "layout": {
        "annotations": [
         {
          "showarrow": false,
          "text": "Ȳ = E[Rm] 9.47%",
          "x": 1,
          "xanchor": "right",
          "xref": "x domain",
          "y": 0.09471113002654663,
          "yanchor": "bottom",
          "yref": "y",
          "yshift": 6
         },
         {
          "align": "right",
          "bgcolor": "rgba(255,255,255,0.90)",
          "bordercolor": "rgba(0,0,0,0.15)",
          "borderpad": 6,
          "borderwidth": 1,
          "font": {
           "size": 11
          },
          "showarrow": false,
          "text": "CAPM:  E[Ri] = Rf + β·(E[Rm]−Rf)<br>Rf = 3.00% · E[Rm] (geom) = 9.47%<br>Prima de mercado = 6.47%",
          "x": 0.99,
          "xanchor": "right",
          "xref": "paper",
          "y": 0.98,
          "yanchor": "top",
          "yref": "paper"
         },
         {
          "align": "right",
          "bgcolor": "rgba(255,255,255,0.90)",
          "bordercolor": "rgba(0,0,0,0.15)",
          "borderpad": 6,
          "borderwidth": 1,
          "font": {
           "size": 11
          },
          "showarrow": false,
          "text": "<b>Clases</b>: <span style='color:#2ca02c'>■ TP</span> <span style='color:#ff7f0e'>■ FP</span> <span style='color:#1f77b4'>■ FN</span> <span style='color:#d62728'>■ TN</span><br>TP=6 · FP=2 · FN=1 · TN=5",
          "x": 0.98,
          "xanchor": "right",
          "xref": "paper",
          "y": 0.06,
          "yanchor": "bottom",
          "yref": "paper"
         }
        ],
        "hovermode": "closest",
        "margin": {
         "b": 80,
         "l": 40,
         "r": 60,
         "t": 90
        },
        "shapes": [
         {
          "line": {
           "dash": "dash",
           "width": 2
          },
          "type": "line",
          "x0": 0,
          "x1": 1,
          "xref": "x domain",
          "y0": 0.09471113002654663,
          "y1": 0.09471113002654663,
          "yref": "y"
         }
        ],
        "showlegend": false,
        "template": {
         "data": {
          "bar": [
           {
            "error_x": {
             "color": "rgb(36,36,36)"
            },
            "error_y": {
             "color": "rgb(36,36,36)"
            },
            "marker": {
             "line": {
              "color": "white",
              "width": 0.5
             },
             "pattern": {
              "fillmode": "overlay",
              "size": 10,
              "solidity": 0.2
             }
            },
            "type": "bar"
           }
          ],
          "barpolar": [
           {
            "marker": {
             "line": {
              "color": "white",
              "width": 0.5
             },
             "pattern": {
              "fillmode": "overlay",
              "size": 10,
              "solidity": 0.2
             }
            },
            "type": "barpolar"
           }
          ],
          "carpet": [
           {
            "aaxis": {
             "endlinecolor": "rgb(36,36,36)",
             "gridcolor": "white",
             "linecolor": "white",
             "minorgridcolor": "white",
             "startlinecolor": "rgb(36,36,36)"
            },
            "baxis": {
             "endlinecolor": "rgb(36,36,36)",
             "gridcolor": "white",
             "linecolor": "white",
             "minorgridcolor": "white",
             "startlinecolor": "rgb(36,36,36)"
            },
            "type": "carpet"
           }
          ],
          "choropleth": [
           {
            "colorbar": {
             "outlinewidth": 1,
             "tickcolor": "rgb(36,36,36)",
             "ticks": "outside"
            },
            "type": "choropleth"
           }
          ],
          "contour": [
           {
            "colorbar": {
             "outlinewidth": 1,
             "tickcolor": "rgb(36,36,36)",
             "ticks": "outside"
            },
            "colorscale": [
             [
              0,
              "#440154"
             ],
             [
              0.1111111111111111,
              "#482878"
             ],
             [
              0.2222222222222222,
              "#3e4989"
             ],
             [
              0.3333333333333333,
              "#31688e"
             ],
             [
              0.4444444444444444,
              "#26828e"
             ],
             [
              0.5555555555555556,
              "#1f9e89"
             ],
             [
              0.6666666666666666,
              "#35b779"
             ],
             [
              0.7777777777777778,
              "#6ece58"
             ],
             [
              0.8888888888888888,
              "#b5de2b"
             ],
             [
              1,
              "#fde725"
             ]
            ],
            "type": "contour"
           }
          ],
          "contourcarpet": [
           {
            "colorbar": {
             "outlinewidth": 1,
             "tickcolor": "rgb(36,36,36)",
             "ticks": "outside"
            },
            "type": "contourcarpet"
           }
          ],
          "heatmap": [
           {
            "colorbar": {
             "outlinewidth": 1,
             "tickcolor": "rgb(36,36,36)",
             "ticks": "outside"
            },
            "colorscale": [
             [
              0,
              "#440154"
             ],
             [
              0.1111111111111111,
              "#482878"
             ],
             [
              0.2222222222222222,
              "#3e4989"
             ],
             [
              0.3333333333333333,
              "#31688e"
             ],
             [
              0.4444444444444444,
              "#26828e"
             ],
             [
              0.5555555555555556,
              "#1f9e89"
             ],
             [
              0.6666666666666666,
              "#35b779"
             ],
             [
              0.7777777777777778,
              "#6ece58"
             ],
             [
              0.8888888888888888,
              "#b5de2b"
             ],
             [
              1,
              "#fde725"
             ]
            ],
            "type": "heatmap"
           }
          ],
          "heatmapgl": [
           {
            "colorbar": {
             "outlinewidth": 1,
             "tickcolor": "rgb(36,36,36)",
             "ticks": "outside"
            },
            "colorscale": [
             [
              0,
              "#440154"
             ],
             [
              0.1111111111111111,
              "#482878"
             ],
             [
              0.2222222222222222,
              "#3e4989"
             ],
             [
              0.3333333333333333,
              "#31688e"
             ],
             [
              0.4444444444444444,
              "#26828e"
             ],
             [
              0.5555555555555556,
              "#1f9e89"
             ],
             [
              0.6666666666666666,
              "#35b779"
             ],
             [
              0.7777777777777778,
              "#6ece58"
             ],
             [
              0.8888888888888888,
              "#b5de2b"
             ],
             [
              1,
              "#fde725"
             ]
            ],
            "type": "heatmapgl"
           }
          ],
          "histogram": [
           {
            "marker": {
             "line": {
              "color": "white",
              "width": 0.6
             }
            },
            "type": "histogram"
           }
          ],
          "histogram2d": [
           {
            "colorbar": {
             "outlinewidth": 1,
             "tickcolor": "rgb(36,36,36)",
             "ticks": "outside"
            },
            "colorscale": [
             [
              0,
              "#440154"
             ],
             [
              0.1111111111111111,
              "#482878"
             ],
             [
              0.2222222222222222,
              "#3e4989"
             ],
             [
              0.3333333333333333,
              "#31688e"
             ],
             [
              0.4444444444444444,
              "#26828e"
             ],
             [
              0.5555555555555556,
              "#1f9e89"
             ],
             [
              0.6666666666666666,
              "#35b779"
             ],
             [
              0.7777777777777778,
              "#6ece58"
             ],
             [
              0.8888888888888888,
              "#b5de2b"
             ],
             [
              1,
              "#fde725"
             ]
            ],
            "type": "histogram2d"
           }
          ],
          "histogram2dcontour": [
           {
            "colorbar": {
             "outlinewidth": 1,
             "tickcolor": "rgb(36,36,36)",
             "ticks": "outside"
            },
            "colorscale": [
             [
              0,
              "#440154"
             ],
             [
              0.1111111111111111,
              "#482878"
             ],
             [
              0.2222222222222222,
              "#3e4989"
             ],
             [
              0.3333333333333333,
              "#31688e"
             ],
             [
              0.4444444444444444,
              "#26828e"
             ],
             [
              0.5555555555555556,
              "#1f9e89"
             ],
             [
              0.6666666666666666,
              "#35b779"
             ],
             [
              0.7777777777777778,
              "#6ece58"
             ],
             [
              0.8888888888888888,
              "#b5de2b"
             ],
             [
              1,
              "#fde725"
             ]
            ],
            "type": "histogram2dcontour"
           }
          ],
          "mesh3d": [
           {
            "colorbar": {
             "outlinewidth": 1,
             "tickcolor": "rgb(36,36,36)",
             "ticks": "outside"
            },
            "type": "mesh3d"
           }
          ],
          "parcoords": [
           {
            "line": {
             "colorbar": {
              "outlinewidth": 1,
              "tickcolor": "rgb(36,36,36)",
              "ticks": "outside"
             }
            },
            "type": "parcoords"
           }
          ],
          "pie": [
           {
            "automargin": true,
            "type": "pie"
           }
          ],
          "scatter": [
           {
            "fillpattern": {
             "fillmode": "overlay",
             "size": 10,
             "solidity": 0.2
            },
            "type": "scatter"
           }
          ],
          "scatter3d": [
           {
            "line": {
             "colorbar": {
              "outlinewidth": 1,
              "tickcolor": "rgb(36,36,36)",
              "ticks": "outside"
             }
            },
            "marker": {
             "colorbar": {
              "outlinewidth": 1,
              "tickcolor": "rgb(36,36,36)",
              "ticks": "outside"
             }
            },
            "type": "scatter3d"
           }
          ],
          "scattercarpet": [
           {
            "marker": {
             "colorbar": {
              "outlinewidth": 1,
              "tickcolor": "rgb(36,36,36)",
              "ticks": "outside"
             }
            },
            "type": "scattercarpet"
           }
          ],
          "scattergeo": [
           {
            "marker": {
             "colorbar": {
              "outlinewidth": 1,
              "tickcolor": "rgb(36,36,36)",
              "ticks": "outside"
             }
            },
            "type": "scattergeo"
           }
          ],
          "scattergl": [
           {
            "marker": {
             "colorbar": {
              "outlinewidth": 1,
              "tickcolor": "rgb(36,36,36)",
              "ticks": "outside"
             }
            },
            "type": "scattergl"
           }
          ],
          "scattermapbox": [
           {
            "marker": {
             "colorbar": {
              "outlinewidth": 1,
              "tickcolor": "rgb(36,36,36)",
              "ticks": "outside"
             }
            },
            "type": "scattermapbox"
           }
          ],
          "scatterpolar": [
           {
            "marker": {
             "colorbar": {
              "outlinewidth": 1,
              "tickcolor": "rgb(36,36,36)",
              "ticks": "outside"
             }
            },
            "type": "scatterpolar"
           }
          ],
          "scatterpolargl": [
           {
            "marker": {
             "colorbar": {
              "outlinewidth": 1,
              "tickcolor": "rgb(36,36,36)",
              "ticks": "outside"
             }
            },
            "type": "scatterpolargl"
           }
          ],
          "scatterternary": [
           {
            "marker": {
             "colorbar": {
              "outlinewidth": 1,
              "tickcolor": "rgb(36,36,36)",
              "ticks": "outside"
             }
            },
            "type": "scatterternary"
           }
          ],
          "surface": [
           {
            "colorbar": {
             "outlinewidth": 1,
             "tickcolor": "rgb(36,36,36)",
             "ticks": "outside"
            },
            "colorscale": [
             [
              0,
              "#440154"
             ],
             [
              0.1111111111111111,
              "#482878"
             ],
             [
              0.2222222222222222,
              "#3e4989"
             ],
             [
              0.3333333333333333,
              "#31688e"
             ],
             [
              0.4444444444444444,
              "#26828e"
             ],
             [
              0.5555555555555556,
              "#1f9e89"
             ],
             [
              0.6666666666666666,
              "#35b779"
             ],
             [
              0.7777777777777778,
              "#6ece58"
             ],
             [
              0.8888888888888888,
              "#b5de2b"
             ],
             [
              1,
              "#fde725"
             ]
            ],
            "type": "surface"
           }
          ],
          "table": [
           {
            "cells": {
             "fill": {
              "color": "rgb(237,237,237)"
             },
             "line": {
              "color": "white"
             }
            },
            "header": {
             "fill": {
              "color": "rgb(217,217,217)"
             },
             "line": {
              "color": "white"
             }
            },
            "type": "table"
           }
          ]
         },
         "layout": {
          "annotationdefaults": {
           "arrowhead": 0,
           "arrowwidth": 1
          },
          "autotypenumbers": "strict",
          "coloraxis": {
           "colorbar": {
            "outlinewidth": 1,
            "tickcolor": "rgb(36,36,36)",
            "ticks": "outside"
           }
          },
          "colorscale": {
           "diverging": [
            [
             0,
             "rgb(103,0,31)"
            ],
            [
             0.1,
             "rgb(178,24,43)"
            ],
            [
             0.2,
             "rgb(214,96,77)"
            ],
            [
             0.3,
             "rgb(244,165,130)"
            ],
            [
             0.4,
             "rgb(253,219,199)"
            ],
            [
             0.5,
             "rgb(247,247,247)"
            ],
            [
             0.6,
             "rgb(209,229,240)"
            ],
            [
             0.7,
             "rgb(146,197,222)"
            ],
            [
             0.8,
             "rgb(67,147,195)"
            ],
            [
             0.9,
             "rgb(33,102,172)"
            ],
            [
             1,
             "rgb(5,48,97)"
            ]
           ],
           "sequential": [
            [
             0,
             "#440154"
            ],
            [
             0.1111111111111111,
             "#482878"
            ],
            [
             0.2222222222222222,
             "#3e4989"
            ],
            [
             0.3333333333333333,
             "#31688e"
            ],
            [
             0.4444444444444444,
             "#26828e"
            ],
            [
             0.5555555555555556,
             "#1f9e89"
            ],
            [
             0.6666666666666666,
             "#35b779"
            ],
            [
             0.7777777777777778,
             "#6ece58"
            ],
            [
             0.8888888888888888,
             "#b5de2b"
            ],
            [
             1,
             "#fde725"
            ]
           ],
           "sequentialminus": [
            [
             0,
             "#440154"
            ],
            [
             0.1111111111111111,
             "#482878"
            ],
            [
             0.2222222222222222,
             "#3e4989"
            ],
            [
             0.3333333333333333,
             "#31688e"
            ],
            [
             0.4444444444444444,
             "#26828e"
            ],
            [
             0.5555555555555556,
             "#1f9e89"
            ],
            [
             0.6666666666666666,
             "#35b779"
            ],
            [
             0.7777777777777778,
             "#6ece58"
            ],
            [
             0.8888888888888888,
             "#b5de2b"
            ],
            [
             1,
             "#fde725"
            ]
           ]
          },
          "colorway": [
           "#1F77B4",
           "#FF7F0E",
           "#2CA02C",
           "#D62728",
           "#9467BD",
           "#8C564B",
           "#E377C2",
           "#7F7F7F",
           "#BCBD22",
           "#17BECF"
          ],
          "font": {
           "color": "rgb(36,36,36)"
          },
          "geo": {
           "bgcolor": "white",
           "lakecolor": "white",
           "landcolor": "white",
           "showlakes": true,
           "showland": true,
           "subunitcolor": "white"
          },
          "hoverlabel": {
           "align": "left"
          },
          "hovermode": "closest",
          "mapbox": {
           "style": "light"
          },
          "paper_bgcolor": "white",
          "plot_bgcolor": "white",
          "polar": {
           "angularaxis": {
            "gridcolor": "rgb(232,232,232)",
            "linecolor": "rgb(36,36,36)",
            "showgrid": false,
            "showline": true,
            "ticks": "outside"
           },
           "bgcolor": "white",
           "radialaxis": {
            "gridcolor": "rgb(232,232,232)",
            "linecolor": "rgb(36,36,36)",
            "showgrid": false,
            "showline": true,
            "ticks": "outside"
           }
          },
          "scene": {
           "xaxis": {
            "backgroundcolor": "white",
            "gridcolor": "rgb(232,232,232)",
            "gridwidth": 2,
            "linecolor": "rgb(36,36,36)",
            "showbackground": true,
            "showgrid": false,
            "showline": true,
            "ticks": "outside",
            "zeroline": false,
            "zerolinecolor": "rgb(36,36,36)"
           },
           "yaxis": {
            "backgroundcolor": "white",
            "gridcolor": "rgb(232,232,232)",
            "gridwidth": 2,
            "linecolor": "rgb(36,36,36)",
            "showbackground": true,
            "showgrid": false,
            "showline": true,
            "ticks": "outside",
            "zeroline": false,
            "zerolinecolor": "rgb(36,36,36)"
           },
           "zaxis": {
            "backgroundcolor": "white",
            "gridcolor": "rgb(232,232,232)",
            "gridwidth": 2,
            "linecolor": "rgb(36,36,36)",
            "showbackground": true,
            "showgrid": false,
            "showline": true,
            "ticks": "outside",
            "zeroline": false,
            "zerolinecolor": "rgb(36,36,36)"
           }
          },
          "shapedefaults": {
           "fillcolor": "black",
           "line": {
            "width": 0
           },
           "opacity": 0.3
          },
          "ternary": {
           "aaxis": {
            "gridcolor": "rgb(232,232,232)",
            "linecolor": "rgb(36,36,36)",
            "showgrid": false,
            "showline": true,
            "ticks": "outside"
           },
           "baxis": {
            "gridcolor": "rgb(232,232,232)",
            "linecolor": "rgb(36,36,36)",
            "showgrid": false,
            "showline": true,
            "ticks": "outside"
           },
           "bgcolor": "white",
           "caxis": {
            "gridcolor": "rgb(232,232,232)",
            "linecolor": "rgb(36,36,36)",
            "showgrid": false,
            "showline": true,
            "ticks": "outside"
           }
          },
          "title": {
           "x": 0.05
          },
          "xaxis": {
           "automargin": true,
           "gridcolor": "rgb(232,232,232)",
           "linecolor": "rgb(36,36,36)",
           "showgrid": false,
           "showline": true,
           "ticks": "outside",
           "title": {
            "standoff": 15
           },
           "zeroline": false,
           "zerolinecolor": "rgb(36,36,36)"
          },
          "yaxis": {
           "automargin": true,
           "gridcolor": "rgb(232,232,232)",
           "linecolor": "rgb(36,36,36)",
           "showgrid": false,
           "showline": true,
           "ticks": "outside",
           "title": {
            "standoff": 15
           },
           "zeroline": false,
           "zerolinecolor": "rgb(36,36,36)"
          }
         }
        },
        "title": {
         "text": "SML (CAPM):  E[Ri] = Rf + β(E[Rm]−Rf)  ·  Periodo: 2020-01-01 → 2024-12-31  ·  Frecuencia β: anual"
        },
        "xaxis": {
         "dtick": 0.25,
         "linecolor": "#888",
         "range": [
          0,
          2.8683649150052806
         ],
         "showline": true,
         "title": {
          "text": "Beta (β)"
         },
         "zeroline": true,
         "zerolinecolor": "#B0B0B0",
         "zerolinewidth": 1
        },
        "yaxis": {
         "linecolor": "#888",
         "range": [
          -0.13013053798321314,
          0.28644474412563325
         ],
         "showline": true,
         "tickformat": ".0%",
         "title": {
          "text": "Rendimiento esperado ANUAL"
         },
         "zeroline": true,
         "zerolinecolor": "#B0B0B0",
         "zerolinewidth": 1
        }
       }
      }
     },
     "metadata": {},
     "output_type": "display_data"
    }
   ],
   "source": [
    "# GRÁFICO Plotly — SML ANUAL (uniforme con el mensual)\n",
    "# -----------------------------\n",
    "fig = go.Figure()\n",
    "\n",
    "# SML (desde β=0)\n",
    "fig.add_trace(go.Scatter(\n",
    "    x=betas_line, y=E_R_line, mode='lines',\n",
    "    line=dict(width=3),\n",
    "    showlegend=False,\n",
    "    name='SML'\n",
    "))\n",
    "\n",
    "# Y medio del mercado (E[Rm]) — etiqueta a la DERECHA\n",
    "fig.add_hline(\n",
    "    y=E_Rm_ann, line_dash=\"dash\", line_width=2,\n",
    "    annotation_text=f\"Ȳ = E[Rm] {E_Rm_ann:.2%}\",\n",
    "    annotation_position=\"top right\", annotation_yshift=6\n",
    ")\n",
    "\n",
    "# Rf (β=0)\n",
    "fig.add_trace(go.Scatter(\n",
    "    x=[0], y=[rf_anual], mode='markers',\n",
    "    marker=dict(symbol='x', size=12, line=dict(width=1.5)),\n",
    "    showlegend=False,\n",
    "    name='Rf',\n",
    "    hovertemplate=\"<b>Activo sin riesgo</b><br>β=0.00<br>Rendimiento= %{y:.2%}<extra></extra>\"\n",
    "))\n",
    "\n",
    "# Mercado (β=1)\n",
    "fig.add_trace(go.Scatter(\n",
    "    x=[1], y=[E_Rm_ann], mode='markers',\n",
    "    marker=dict(size=12, line=dict(width=1.5)),\n",
    "    showlegend=False,\n",
    "    name='Mercado',\n",
    "    hovertemplate=\"<b>Mercado</b><br>β=1.00<br>E[Rm]= %{y:.2%}<extra></extra>\"\n",
    "))\n",
    "\n",
    "# Activos por clase (4 trazas): colores/símbolos distintos, sin leyenda\n",
    "for cls in ['TP','FP','FN','TN']:\n",
    "    sub = df_points[df_points['Class'] == cls]\n",
    "    if sub.empty:\n",
    "        continue\n",
    "    fig.add_trace(go.Scatter(\n",
    "        x=sub['Beta'],\n",
    "        y=sub['E_Ri_ann_geom'],\n",
    "        mode='markers',\n",
    "        marker=dict(\n",
    "            size=10,\n",
    "            symbol=class_symbol[cls],\n",
    "            color=class_color[cls],\n",
    "            line=dict(width=1, color='rgba(0,0,0,0.45)')\n",
    "        ),\n",
    "        showlegend=False,\n",
    "        name=f'Activos {cls}',\n",
    "        hovertemplate=(\n",
    "            \"<b>%{customdata[0]}</b><br>\"\n",
    "            f\"Clase = {cls} \"\n",
    "            \"(%{customdata[8]})<br>\"\n",
    "            f\"n = %{{customdata[7]}} {periodo_label}<br>\"\n",
    "            \"β = %{x:.3f} | E[Ri] (geom, anual) = %{y:.2%}<br>\"\n",
    "            \"E[Rm] = %{customdata[1]:.2%} | Rf = %{customdata[2]:.2%}<br>\"\n",
    "            \"<b>CAPM</b>: E[Ri]_CAPM = Rf + β·(E[Rm]−Rf) = \"\n",
    "            \"%{customdata[2]:.2%} + %{x:.3f}·(%{customdata[1]:.2%} − %{customdata[2]:.2%}) \"\n",
    "            \"= %{customdata[3]:.2%}<br>\"\n",
    "            \"α (excesos) = %{customdata[4]:.2%} | R² = %{customdata[5]:.3f}<br>\"\n",
    "            \"Mispricing = E[Ri] − E[Ri]_CAPM = %{customdata[6]:.2%}\"\n",
    "            \"<extra></extra>\"\n",
    "        ),\n",
    "        customdata=np.stack([\n",
    "            sub['Ticker'],\n",
    "            np.full(len(sub), E_Rm_ann),\n",
    "            np.full(len(sub), rf_anual),\n",
    "            sub['E_Ri_CAPM'],\n",
    "            sub['Alpha_excesos'],\n",
    "            sub['R2'],\n",
    "            sub['Mispricing'],\n",
    "            sub['N_obs'],\n",
    "            np.where(\n",
    "                (sub['E_Ri_ann_geom'] >= E_Rm_ann) & (sub['E_Ri_ann_geom'] >= sub['E_Ri_CAPM']),\n",
    "                \"↑media & ↑SML\",\n",
    "                np.where(\n",
    "                    (sub['E_Ri_ann_geom'] >= E_Rm_ann) & (sub['E_Ri_ann_geom'] < sub['E_Ri_CAPM']),\n",
    "                    \"↑media & ↓SML\",\n",
    "                    np.where(\n",
    "                        (sub['E_Ri_ann_geom'] < E_Rm_ann) & (sub['E_Ri_ann_geom'] >= sub['E_Ri_CAPM']),\n",
    "                        \"↓media & ↑SML\",\n",
    "                        \"↓media & ↓SML\"\n",
    "                    )\n",
    "                )\n",
    "            )\n",
    "        ], axis=-1)\n",
    "    ))\n",
    "\n",
    "# Etiquetas (texto sobre cada punto)\n",
    "fig.add_trace(go.Scatter(\n",
    "    x=df_points['Beta'],\n",
    "    y=df_points['E_Ri_ann_geom'],\n",
    "    mode='text',\n",
    "    text=df_points['Ticker'],\n",
    "    textposition='top center',\n",
    "    textfont=dict(size=10),\n",
    "    showlegend=False,\n",
    "    name='Etiquetas'\n",
    "))\n",
    "\n",
    "# -----------------------------\n",
    "# Caja de FÓRMULA — ARRIBA-DERECHA (dentro del gráfico)\n",
    "# -----------------------------\n",
    "nota_formula = (\n",
    "    \"CAPM:  E[Ri] = Rf + β·(E[Rm]−Rf)\"\n",
    "    f\"<br>Rf = {rf_anual:.2%} · E[Rm] (geom) = {E_Rm_ann:.2%}\"\n",
    "    f\"<br>Prima de mercado = {market_premium:.2%}\"\n",
    ")\n",
    "fig.add_annotation(\n",
    "    xref=\"paper\", yref=\"paper\",\n",
    "    x=0.99, y=0.98, xanchor=\"right\", yanchor=\"top\",\n",
    "    text=nota_formula, showarrow=False, align=\"right\",\n",
    "    bordercolor=\"rgba(0,0,0,0.15)\", borderwidth=1,\n",
    "    bgcolor=\"rgba(255,255,255,0.90)\", font=dict(size=11),\n",
    "    borderpad=6\n",
    ")\n",
    "\n",
    "# -----------------------------\n",
    "# Caja de CLASES — ABAJO-DERECHA (dentro del gráfico)\n",
    "# -----------------------------\n",
    "nota_clases = (\n",
    "    \"<b>Clases</b>: \"\n",
    "    f\"<span style='color:{class_color['TP']}'>■ TP</span> \"\n",
    "    f\"<span style='color:{class_color['FP']}'>■ FP</span> \"\n",
    "    f\"<span style='color:{class_color['FN']}'>■ FN</span> \"\n",
    "    f\"<span style='color:{class_color['TN']}'>■ TN</span>\"\n",
    "    f\"<br>TP={cTP} · FP={cFP} · FN={cFN} · TN={cTN}\"\n",
    ")\n",
    "fig.add_annotation(\n",
    "    xref=\"paper\", yref=\"paper\",\n",
    "    x=0.98, y=0.06,                # abajo-derecha\n",
    "    xanchor=\"right\", yanchor=\"bottom\",\n",
    "    text=nota_clases, showarrow=False, align=\"right\",\n",
    "    bordercolor=\"rgba(0,0,0,0.15)\", borderwidth=1,\n",
    "    bgcolor=\"rgba(255,255,255,0.90)\", font=dict(size=11),\n",
    "    borderpad=6\n",
    ")\n",
    "\n",
    "# Layout (sin leyenda) con márgenes moderados\n",
    "fig.update_layout(\n",
    "    template='simple_white',\n",
    "    title=(\"SML (CAPM):  E[Ri] = Rf + β(E[Rm]−Rf)  ·  \"\n",
    "           f\"Periodo: {start_date} → {end_date}  ·  Frecuencia β: {freq_label}\"),\n",
    "    xaxis_title=\"Beta (β)\",\n",
    "    yaxis_title=\"Rendimiento esperado ANUAL\",\n",
    "    margin=dict(l=40, r=60, t=90, b=80),\n",
    "    hovermode='closest',\n",
    "    showlegend=False\n",
    ")\n",
    "\n",
    "# Ejes (β desde 0 para que la recta parta en Rf visible)\n",
    "fig.update_xaxes(\n",
    "    range=[beta_min, beta_max],\n",
    "    zeroline=True, zerolinewidth=1, zerolinecolor=\"#B0B0B0\",\n",
    "    showline=True, linecolor=\"#888\", dtick=0.25\n",
    ")\n",
    "fig.update_yaxes(\n",
    "    range=[y_min, y_max],\n",
    "    zeroline=True, zerolinewidth=1, zerolinecolor=\"#B0B0B0\",\n",
    "    showline=True, linecolor=\"#888\", tickformat=\".0%\"\n",
    ")\n",
    "\n",
    "fig.show()\n"
   ]
  }
 ],
 "metadata": {
  "kernelspec": {
   "display_name": "base",
   "language": "python",
   "name": "python3"
  },
  "language_info": {
   "codemirror_mode": {
    "name": "ipython",
    "version": 3
   },
   "file_extension": ".py",
   "mimetype": "text/x-python",
   "name": "python",
   "nbconvert_exporter": "python",
   "pygments_lexer": "ipython3",
   "version": "3.12.7"
  }
 },
 "nbformat": 4,
 "nbformat_minor": 5
}
