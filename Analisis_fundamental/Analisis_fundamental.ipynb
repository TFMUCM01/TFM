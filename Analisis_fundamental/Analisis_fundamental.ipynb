{
 "cells": [
  {
   "cell_type": "markdown",
   "id": "04a055fb",
   "metadata": {},
   "source": [
    "# PRUEBA"
   ]
  }
 ],
 "metadata": {
  "language_info": {
   "name": "python"
  }
 },
 "nbformat": 4,
 "nbformat_minor": 5
}
