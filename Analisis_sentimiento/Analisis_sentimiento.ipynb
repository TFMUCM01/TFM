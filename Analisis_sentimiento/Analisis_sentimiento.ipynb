{
  "cells": [
    {
      "cell_type": "markdown",
      "metadata": {
        "id": "view-in-github",
        "colab_type": "text"
      },
      "source": [
        "<a href=\"https://colab.research.google.com/github/TFMUCM01/TFM/blob/main/Analisis_sentimiento/Analisis_sentimiento.ipynb\" target=\"_parent\"><img src=\"https://colab.research.google.com/assets/colab-badge.svg\" alt=\"Open In Colab\"/></a>"
      ]
    },
    {
      "cell_type": "markdown",
      "id": "723bf855",
      "metadata": {
        "id": "723bf855"
      },
      "source": [
        "# Prueba"
      ]
    },
    {
      "cell_type": "markdown",
      "id": "034f8b9a",
      "metadata": {
        "id": "034f8b9a"
      },
      "source": [
        "# Prueba de cambios"
      ]
    },
    {
      "cell_type": "code",
      "source": [
        "print(\"Hola mundo\")"
      ],
      "metadata": {
        "colab": {
          "base_uri": "https://localhost:8080/"
        },
        "id": "L8nlyNUWwYwO",
        "outputId": "e6552ca5-7602-4f6a-d050-00dee4edb4e1"
      },
      "id": "L8nlyNUWwYwO",
      "execution_count": 1,
      "outputs": [
        {
          "output_type": "stream",
          "name": "stdout",
          "text": [
            "Hola mundo\n"
          ]
        }
      ]
    }
  ],
  "metadata": {
    "language_info": {
      "name": "python"
    },
    "colab": {
      "provenance": [],
      "include_colab_link": true
    },
    "kernelspec": {
      "name": "python3",
      "display_name": "Python 3"
    }
  },
  "nbformat": 4,
  "nbformat_minor": 5
}