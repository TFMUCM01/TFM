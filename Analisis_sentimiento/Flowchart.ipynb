{
 "cells": [
  {
   "cell_type": "code",
   "execution_count": 8,
   "id": "67e1cced",
   "metadata": {},
   "outputs": [
    {
     "name": "stderr",
     "output_type": "stream",
     "text": [
      "Warning: Orthogonal edges do not currently handle edge labels. Try using xlabels.\n"
     ]
    },
    {
     "data": {
      "text/plain": [
       "'flujo_titulares.png'"
      ]
     },
     "execution_count": 8,
     "metadata": {},
     "output_type": "execute_result"
    }
   ],
   "source": [
    "from graphviz import Digraph\n",
    "\n",
    "# Crear grafo dirigido\n",
    "dot = Digraph(comment=\"Flujo de análisis de titulares\", format=\"png\")\n",
    "dot.attr(rankdir=\"TB\", splines=\"ortho\")  # TB = top-bottom, ortho = ortogonal\n",
    "\n",
    "# Nodos\n",
    "dot.node(\"A1\", \"Extracción de titulares\\nmás recientes por idioma y noticiero\", shape=\"box\")\n",
    "dot.node(\"A1a\", \"Verificación de última descarga\", shape=\"box\")\n",
    "dot.node(\"Adate\", \"¿Tiene la fecha\\ndel día anterior?\", shape=\"diamond\")\n",
    "dot.node(\"D1\", \"Agregar tabla final al DataLake\", shape=\"box\")\n",
    "dot.node(\"A2\", \"Creación de tablas con titulares\", shape=\"box\")\n",
    "dot.node(\"A3\", \"Carga de tablas a la base de datos\", shape=\"box\")\n",
    "dot.node(\"Acheck\", \"¿Titulares\\nanalizados?\", shape=\"diamond\")\n",
    "dot.node(\"NMOD\", \"No modificar\", shape=\"box\")\n",
    "dot.node(\"UNION\", \"Unir tabla inglés y español\", shape=\"box\")\n",
    "dot.node(\"A4\", \"¿Idioma?\", shape=\"diamond\")\n",
    "dot.node(\"B1\", \"Modelo distilroberta-finetuned-financial-news\", shape=\"box\")\n",
    "dot.node(\"B2\", \"Análisis de titulares en inglés\\nProb Pos/Neg/Neut\", shape=\"box\")\n",
    "dot.node(\"B2a\", \"Flattening análisis JSON → Tabla relacional\", shape=\"box\")\n",
    "dot.node(\"B3\", \"Agregación de probabilidades\\na tabla de cada noticiero\", shape=\"box\")\n",
    "dot.node(\"C1\", \"Modelo nlptown/bert-base-multilingual-uncased-sentiment\", shape=\"box\")\n",
    "dot.node(\"C2\", \"Análisis de titulares en español\\nProb Pos/Neg/Neut\", shape=\"box\")\n",
    "dot.node(\"C2a\", \"Flattening análisis JSON → Tabla relacional\", shape=\"box\")\n",
    "dot.node(\"C3\", \"Agregación de probabilidades\\na tabla de cada noticiero\", shape=\"box\")\n",
    "\n",
    "# Conexiones\n",
    "dot.edge(\"A1\", \"A1a\")\n",
    "dot.edge(\"A1a\", \"Adate\")\n",
    "dot.edge(\"Adate\", \"D1\", label=\"Sí\")\n",
    "dot.edge(\"Adate\", \"A2\", label=\"No\")\n",
    "dot.edge(\"A2\", \"A3\")\n",
    "dot.edge(\"A3\", \"Acheck\")\n",
    "dot.edge(\"Acheck\", \"NMOD\", label=\"Sí\")\n",
    "dot.edge(\"NMOD\", \"UNION\")\n",
    "dot.edge(\"Acheck\", \"A4\", label=\"No\")\n",
    "dot.edge(\"A4\", \"B1\", label=\"Inglés\")\n",
    "dot.edge(\"B1\", \"B2\")\n",
    "dot.edge(\"B2\", \"B2a\")\n",
    "dot.edge(\"B2a\", \"B3\")\n",
    "dot.edge(\"B3\", \"UNION\")\n",
    "dot.edge(\"A4\", \"C1\", label=\"Español\")\n",
    "dot.edge(\"C1\", \"C2\")\n",
    "dot.edge(\"C2\", \"C2a\")\n",
    "dot.edge(\"C2a\", \"C3\")\n",
    "dot.edge(\"C3\", \"UNION\")\n",
    "dot.edge(\"UNION\", \"D1\")\n",
    "\n",
    "# Renderizar a archivo PNG\n",
    "dot.render(\"flujo_titulares\", view=True)"
   ]
  }
 ],
 "metadata": {
  "kernelspec": {
   "display_name": "Python 3",
   "language": "python",
   "name": "python3"
  },
  "language_info": {
   "codemirror_mode": {
    "name": "ipython",
    "version": 3
   },
   "file_extension": ".py",
   "mimetype": "text/x-python",
   "name": "python",
   "nbconvert_exporter": "python",
   "pygments_lexer": "ipython3",
   "version": "3.12.6"
  }
 },
 "nbformat": 4,
 "nbformat_minor": 5
}
