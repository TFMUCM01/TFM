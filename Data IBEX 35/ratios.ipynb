{
  "cells": [
    {
      "cell_type": "markdown",
      "id": "a87bbe71",
      "metadata": {
        "id": "a87bbe71"
      },
      "source": [
        "# Yahoo\n",
        "marco"
      ]
    },
    {
      "cell_type": "markdown",
      "source": [
        "[![Abrir en Colab](https://colab.research.google.com/assets/colab-badge.svg)](https://colab.research.google.com/github/TFMUCM01/TFM/blob/main/Data%20IBEX%2035/ibex35yahoo1.ipynb)\n"
      ],
      "metadata": {
        "id": "AjtfS6omXwjw"
      },
      "id": "AjtfS6omXwjw"
    },
    {
      "cell_type": "markdown",
      "source": [
        "#Exportacion de libreria"
      ],
      "metadata": {
        "id": "78yHYwElQGML"
      },
      "id": "78yHYwElQGML"
    },
    {
      "cell_type": "code",
      "source": [
        "!pip install investpy"
      ],
      "metadata": {
        "id": "_Y946pxGZN-H"
      },
      "id": "_Y946pxGZN-H",
      "execution_count": null,
      "outputs": []
    },
    {
      "cell_type": "code",
      "execution_count": null,
      "id": "051c8dc0",
      "metadata": {
        "id": "051c8dc0"
      },
      "outputs": [],
      "source": [
        "import pandas as pd\n",
        "import plotly.express as px\n",
        "import plotly.graph_objects as go\n",
        "import yfinance as yf\n",
        "from datetime import datetime\n",
        "import textwrap\n",
        "import requests\n",
        "import yfinance as yf\n",
        "import pandas as pd\n",
        "import os\n",
        "import matplotlib.pyplot as plt\n",
        "import seaborn as sns"
      ]
    },
    {
      "cell_type": "markdown",
      "source": [
        "#Explicacion de las variables"
      ],
      "metadata": {
        "id": "2TKhxp4_QAbm"
      },
      "id": "2TKhxp4_QAbm"
    },
    {
      "cell_type": "markdown",
      "source": [
        "📈 Ratios de valoración\n",
        "PER (Price/Earnings): Cuántas veces los beneficios netos están contenidos en el precio actual de la acción. Un valor alto puede indicar sobrevaloración.\n",
        "\n",
        "Forward PER: Igual que el PER, pero usando las ganancias proyectadas del próximo año.\n",
        "\n",
        "PEG Ratio: Relación entre PER y el crecimiento esperado de beneficios. Un PEG < 1 puede indicar una acción infravalorada.\n",
        "\n",
        "Price/Sales: Relación entre el precio de la acción y las ventas por acción. Útil cuando no hay beneficios.\n",
        "\n",
        "Price/Book: Compara el precio de la acción con el valor contable por acción. < 1 puede sugerir infravaloración.\n",
        "\n",
        "🏦 Rentabilidad\n",
        "Return on Equity (ROE): Rentabilidad sobre el capital propio (%). Muestra cuán eficientemente la empresa usa sus recursos propios.\n",
        "\n",
        "Return on Assets (ROA): Rentabilidad sobre activos totales (%). Indica cuán rentable es la empresa respecto a todos sus recursos.\n",
        "\n",
        "Gross Margins: Margen bruto (%). Beneficio después del coste de ventas, antes de otros gastos.\n",
        "\n",
        "Operating Margins: Margen operativo (%). Beneficio operativo respecto a las ventas.\n",
        "\n",
        "Profit Margins: Margen neto (%). Beneficio neto sobre ingresos. Mide la rentabilidad final.\n",
        "\n",
        "💳 Solvencia y liquidez\n",
        "Debt/Equity: Relación entre deuda total y patrimonio. Mide el apalancamiento financiero.\n",
        "\n",
        "Current Ratio: Activos corrientes / Pasivos corrientes. Liquidez a corto plazo (>1 es generalmente bueno).\n",
        "\n",
        "Quick Ratio: Como el Current Ratio pero excluyendo inventarios. Más conservador.\n",
        "\n",
        "⚖️ Riesgo y dividendos\n",
        "Beta: Volatilidad relativa respecto al mercado. >1 implica más riesgo; <1 implica menos.\n",
        "\n",
        "Dividend Yield: Rentabilidad por dividendo (%). Mide cuánto paga la empresa en dividendos en relación con el precio de su acción.\n",
        "\n",
        "💰 Tamaño y valor de la empresa\n",
        "Market Cap (M): Capitalización bursátil en millones de euros. Valor total de la empresa en bolsa.\n",
        "\n",
        "Enterprise Value (M): Valor total de la empresa considerando deuda y caja. Útil para valorar compras.\n",
        "\n",
        "📊 Magnitudes financieras clave (últimos 12 meses - TTM)\n",
        "Revenue (TTM): Ingresos totales.\n",
        "\n",
        "Net Income (TTM): Beneficio neto.\n",
        "\n",
        "EBITDA: Beneficio antes de intereses, impuestos, depreciación y amortización. Indicador operativo.\n",
        "\n",
        "Free Cash Flow: Flujo de caja libre. Dinero disponible después de inversiones necesarias.\n",
        "\n",
        "Total Debt: Deuda total.\n",
        "\n",
        "Total Cash: Caja y equivalentes disponibles.\n",
        "\n",
        "🧑‍💼 Datos estructurales\n",
        "Number of Employees: Número de empleados a tiempo completo.\n",
        "\n",
        "Sector: Sector económico donde opera la empresa.\n",
        "\n",
        "Industry: Industria específica."
      ],
      "metadata": {
        "id": "8NLhuN9uP28z"
      },
      "id": "8NLhuN9uP28z"
    },
    {
      "cell_type": "markdown",
      "source": [
        "#DataFrame"
      ],
      "metadata": {
        "id": "AL2lw0L7QO5I"
      },
      "id": "AL2lw0L7QO5I"
    },
    {
      "cell_type": "code",
      "source": [
        "import investpy\n",
        "import pandas as pd\n",
        "\n",
        "# Lista de países\n",
        "paises = ['germany', 'france', 'united kingdom', 'netherlands', 'switzerland', 'sweden', 'spain', 'italy']\n",
        "\n",
        "# Diccionario de sufijos Yahoo Finance\n",
        "sufijos_yahoo_filtrados = {\n",
        "    'germany': '.DE',\n",
        "    'france': '.PA',\n",
        "    'united kingdom': '.L',\n",
        "    'netherlands': '.AS',\n",
        "    'switzerland': '.SW',\n",
        "    'sweden': '.ST',\n",
        "    'spain': '.MC',\n",
        "    'italy': '.MI'\n",
        "}\n",
        "\n",
        "todos = []\n",
        "\n",
        "for pais in paises:\n",
        "    try:\n",
        "        # No usas alias aquí, si quieres, puedes definirlo\n",
        "        df = investpy.get_stocks(country=pais)\n",
        "        df['country'] = pais\n",
        "        df['tickets_y'] = df['symbol'] + sufijos_yahoo_filtrados.get(pais, '')\n",
        "        df = df.rename(columns={'symbol': 'ticket'})\n",
        "        todos.append(df[['ticket', 'tickets_y', 'name', 'country']])\n",
        "    except Exception as e:\n",
        "        print(f\"❌ Error con {pais}: {e}\")\n",
        "\n",
        "# Unir todos los resultados\n",
        "df_todos = pd.concat(todos, ignore_index=True)\n",
        "df_todos.to_csv('tickers_europa.csv', index=False)\n",
        "\n",
        "print(f\"✅ Guardados {len(df_todos)} tickers europeos con encabezados ['ticket', 'tickets_y', 'name', 'country'] en 'tickers_europa.csv'\")\n"
      ],
      "metadata": {
        "id": "j_PHjsCsG5CE"
      },
      "id": "j_PHjsCsG5CE",
      "execution_count": null,
      "outputs": []
    },
    {
      "cell_type": "code",
      "source": [
        "import pandas as pd\n",
        "\n",
        "# Cargar CSV (ajusta el nombre si es diferente)\n",
        "df = pd.read_csv('tickers_europa.csv')\n",
        "\n",
        "# Obtener la columna 'tickets_y' como lista, eliminando nulos\n",
        "tickers = df['tickets_y'].dropna().unique().tolist()\n",
        "\n",
        "print(tickers)\n"
      ],
      "metadata": {
        "id": "xbKooH9IaZyQ"
      },
      "id": "xbKooH9IaZyQ",
      "execution_count": null,
      "outputs": []
    },
    {
      "cell_type": "code",
      "execution_count": null,
      "id": "1e8b9c7a",
      "metadata": {
        "id": "1e8b9c7a",
        "outputId": "f586f4a3-1169-4ce2-e27c-884d8c805c24",
        "colab": {
          "base_uri": "https://localhost:8080/"
        }
      },
      "outputs": [
        {
          "metadata": {
            "tags": null
          },
          "name": "stderr",
          "output_type": "stream",
          "text": [
            "ERROR:yfinance:HTTP Error 404: \n"
          ]
        },
        {
          "metadata": {
            "tags": null
          },
          "name": "stdout",
          "output_type": "stream",
          "text": [
            "✅ BASFn.DE procesado correctamente.\n"
          ]
        },
        {
          "metadata": {
            "tags": null
          },
          "name": "stderr",
          "output_type": "stream",
          "text": [
            "ERROR:yfinance:HTTP Error 404: \n"
          ]
        },
        {
          "metadata": {
            "tags": null
          },
          "name": "stdout",
          "output_type": "stream",
          "text": [
            "✅ BAYGn.DE procesado correctamente.\n",
            "✅ ALVG.DE procesado correctamente.\n"
          ]
        },
        {
          "metadata": {
            "tags": null
          },
          "name": "stderr",
          "output_type": "stream",
          "text": [
            "ERROR:yfinance:HTTP Error 404: \n"
          ]
        },
        {
          "metadata": {
            "tags": null
          },
          "name": "stdout",
          "output_type": "stream",
          "text": [
            "✅ ADSGn.DE procesado correctamente.\n",
            "✅ LHAG.DE procesado correctamente.\n",
            "✅ SIEGn.DE procesado correctamente.\n",
            "✅ VOWG.DE procesado correctamente.\n",
            "✅ DBKGn.DE procesado correctamente.\n",
            "✅ CONG.DE procesado correctamente.\n",
            "✅ DPWGn.DE procesado correctamente.\n"
          ]
        },
        {
          "metadata": {
            "tags": null
          },
          "name": "stderr",
          "output_type": "stream",
          "text": [
            "ERROR:yfinance:HTTP Error 404: \n"
          ]
        },
        {
          "metadata": {
            "tags": null
          },
          "name": "stdout",
          "output_type": "stream",
          "text": [
            "✅ DAIGn.DE procesado correctamente.\n",
            "✅ PSHG_p.DE procesado correctamente.\n",
            "✅ HNKG_p.DE procesado correctamente.\n",
            "✅ CBKG.DE procesado correctamente.\n",
            "✅ DB1Gn.DE procesado correctamente.\n",
            "✅ BMWG.DE procesado correctamente.\n",
            "✅ FMEG.DE procesado correctamente.\n",
            "✅ DTEGn.DE procesado correctamente.\n",
            "✅ MANG.DE procesado correctamente.\n",
            "✅ MRCG.DE procesado correctamente.\n",
            "✅ IFXGn.DE procesado correctamente.\n"
          ]
        },
        {
          "metadata": {
            "tags": null
          },
          "name": "stderr",
          "output_type": "stream",
          "text": [
            "ERROR:yfinance:HTTP Error 404: \n"
          ]
        },
        {
          "metadata": {
            "tags": null
          },
          "name": "stdout",
          "output_type": "stream",
          "text": [
            "✅ CECG.DE procesado correctamente.\n",
            "✅ MUVGn.DE procesado correctamente.\n",
            "✅ SAPG.DE procesado correctamente.\n",
            "✅ TKAG.DE procesado correctamente.\n",
            "✅ RHMG.DE procesado correctamente.\n"
          ]
        },
        {
          "metadata": {
            "tags": null
          },
          "name": "stderr",
          "output_type": "stream",
          "text": [
            "ERROR:yfinance:HTTP Error 404: \n"
          ]
        },
        {
          "metadata": {
            "tags": null
          },
          "name": "stdout",
          "output_type": "stream",
          "text": [
            "✅ TUIGn.DE procesado correctamente.\n"
          ]
        },
        {
          "metadata": {
            "tags": null
          },
          "name": "stderr",
          "output_type": "stream",
          "text": [
            "ERROR:yfinance:HTTP Error 404: \n"
          ]
        },
        {
          "metadata": {
            "tags": null
          },
          "name": "stdout",
          "output_type": "stream",
          "text": [
            "✅ WDIG.DE procesado correctamente.\n",
            "✅ LXSG.DE procesado correctamente.\n",
            "✅ BEIG.DE procesado correctamente.\n",
            "✅ FREG.DE procesado correctamente.\n"
          ]
        },
        {
          "metadata": {
            "tags": null
          },
          "name": "stderr",
          "output_type": "stream",
          "text": [
            "ERROR:yfinance:HTTP Error 404: \n"
          ]
        },
        {
          "metadata": {
            "tags": null
          },
          "name": "stdout",
          "output_type": "stream",
          "text": [
            "✅ FNTGn.DE procesado correctamente.\n",
            "✅ SZGG.DE procesado correctamente.\n",
            "✅ A3B.DE procesado correctamente.\n",
            "✅ FRAG.DE procesado correctamente.\n"
          ]
        },
        {
          "metadata": {
            "tags": null
          },
          "name": "stderr",
          "output_type": "stream",
          "text": [
            "ERROR:yfinance:HTTP Error 404: \n"
          ]
        },
        {
          "metadata": {
            "tags": null
          },
          "name": "stdout",
          "output_type": "stream",
          "text": [
            "✅ WCHG.DE procesado correctamente.\n",
            "✅ QSCG.DE procesado correctamente.\n",
            "✅ ZILGn.DE procesado correctamente.\n",
            "✅ VOSG.DE procesado correctamente.\n",
            "✅ KRNG.DE procesado correctamente.\n"
          ]
        },
        {
          "metadata": {
            "tags": null
          },
          "name": "stderr",
          "output_type": "stream",
          "text": [
            "ERROR:yfinance:HTTP Error 404: \n"
          ]
        },
        {
          "metadata": {
            "tags": null
          },
          "name": "stdout",
          "output_type": "stream",
          "text": [
            "✅ G1AG.DE procesado correctamente.\n",
            "✅ HNRGn.DE procesado correctamente.\n",
            "✅ GBFG.DE procesado correctamente.\n",
            "✅ DRWG_p.DE procesado correctamente.\n",
            "✅ SOWGn.DE procesado correctamente.\n"
          ]
        },
        {
          "metadata": {
            "tags": null
          },
          "name": "stderr",
          "output_type": "stream",
          "text": [
            "ERROR:yfinance:HTTP Error 404: \n"
          ]
        },
        {
          "metadata": {
            "tags": null
          },
          "name": "stdout",
          "output_type": "stream",
          "text": [
            "✅ KCOGn.DE procesado correctamente.\n",
            "✅ HOTG.DE procesado correctamente.\n",
            "✅ RWEG.DE procesado correctamente.\n",
            "✅ DEQGn.DE procesado correctamente.\n",
            "✅ NDXG.DE procesado correctamente.\n",
            "✅ NAFG.DE procesado correctamente.\n",
            "✅ A6W.DE procesado correctamente.\n"
          ]
        },
        {
          "metadata": {
            "tags": null
          },
          "name": "stderr",
          "output_type": "stream",
          "text": [
            "ERROR:yfinance:HTTP Error 404: \n"
          ]
        },
        {
          "metadata": {
            "tags": null
          },
          "name": "stdout",
          "output_type": "stream",
          "text": [
            "✅ AIXGn.DE procesado correctamente.\n",
            "✅ RHKG.DE procesado correctamente.\n",
            "✅ GILG.DE procesado correctamente.\n"
          ]
        },
        {
          "metadata": {
            "tags": null
          },
          "name": "stderr",
          "output_type": "stream",
          "text": [
            "ERROR:yfinance:HTTP Error 404: \n"
          ]
        },
        {
          "metadata": {
            "tags": null
          },
          "name": "stdout",
          "output_type": "stream",
          "text": [
            "✅ ABM.DE procesado correctamente.\n",
            "✅ SGCG.DE procesado correctamente.\n"
          ]
        },
        {
          "metadata": {
            "tags": null
          },
          "name": "stderr",
          "output_type": "stream",
          "text": [
            "ERROR:yfinance:HTTP Error 404: \n"
          ]
        },
        {
          "metadata": {
            "tags": null
          },
          "name": "stdout",
          "output_type": "stream",
          "text": [
            "✅ SDFGn.DE procesado correctamente.\n"
          ]
        },
        {
          "metadata": {
            "tags": null
          },
          "name": "stderr",
          "output_type": "stream",
          "text": [
            "ERROR:yfinance:HTTP Error 404: \n"
          ]
        },
        {
          "metadata": {
            "tags": null
          },
          "name": "stdout",
          "output_type": "stream",
          "text": [
            "✅ MTXGn.DE procesado correctamente.\n",
            "✅ SZUG.DE procesado correctamente.\n",
            "✅ HDDG.DE procesado correctamente.\n",
            "✅ ARLG.DE procesado correctamente.\n"
          ]
        },
        {
          "metadata": {
            "tags": null
          },
          "name": "stderr",
          "output_type": "stream",
          "text": [
            "ERROR:yfinance:HTTP Error 404: \n"
          ]
        },
        {
          "metadata": {
            "tags": null
          },
          "name": "stdout",
          "output_type": "stream",
          "text": [
            "✅ B5AG.DE procesado correctamente.\n",
            "✅ DEZG.DE procesado correctamente.\n"
          ]
        },
        {
          "metadata": {
            "tags": null
          },
          "name": "stderr",
          "output_type": "stream",
          "text": [
            "ERROR:yfinance:HTTP Error 404: \n"
          ]
        },
        {
          "metadata": {
            "tags": null
          },
          "name": "stdout",
          "output_type": "stream",
          "text": [
            "✅ SY1G.DE procesado correctamente.\n"
          ]
        },
        {
          "metadata": {
            "tags": null
          },
          "name": "stderr",
          "output_type": "stream",
          "text": [
            "ERROR:yfinance:HTTP Error 404: \n"
          ]
        },
        {
          "metadata": {
            "tags": null
          },
          "name": "stdout",
          "output_type": "stream",
          "text": [
            "✅ CTNGk.DE procesado correctamente.\n",
            "✅ PV.DE procesado correctamente.\n"
          ]
        },
        {
          "metadata": {
            "tags": null
          },
          "name": "stderr",
          "output_type": "stream",
          "text": [
            "ERROR:yfinance:HTTP Error 404: \n"
          ]
        },
        {
          "metadata": {
            "tags": null
          },
          "name": "stdout",
          "output_type": "stream",
          "text": [
            "✅ SNGGk.DE procesado correctamente.\n",
            "✅ HEIG.DE procesado correctamente.\n",
            "✅ AD8.DE procesado correctamente.\n",
            "✅ QIA.DE procesado correctamente.\n",
            "✅ ADC.DE procesado correctamente.\n",
            "✅ UTDI.DE procesado correctamente.\n",
            "✅ LEOGn.DE procesado correctamente.\n",
            "✅ GGS.DE procesado correctamente.\n"
          ]
        },
        {
          "metadata": {
            "tags": null
          },
          "name": "stderr",
          "output_type": "stream",
          "text": [
            "ERROR:yfinance:HTTP Error 404: \n"
          ]
        },
        {
          "metadata": {
            "tags": null
          },
          "name": "stdout",
          "output_type": "stream",
          "text": [
            "✅ AEL.DE procesado correctamente.\n",
            "✅ AF4.DE procesado correctamente.\n",
            "✅ MORG.DE procesado correctamente.\n"
          ]
        },
        {
          "metadata": {
            "tags": null
          },
          "name": "stderr",
          "output_type": "stream",
          "text": [
            "ERROR:yfinance:HTTP Error 404: \n"
          ]
        },
        {
          "metadata": {
            "tags": null
          },
          "name": "stdout",
          "output_type": "stream",
          "text": [
            "✅ M5ZG.DE procesado correctamente.\n",
            "✅ MDNG.DE procesado correctamente.\n",
            "✅ AGM.DE procesado correctamente.\n",
            "✅ AFXG.DE procesado correctamente.\n"
          ]
        },
        {
          "metadata": {
            "tags": null
          },
          "name": "stderr",
          "output_type": "stream",
          "text": [
            "ERROR:yfinance:HTTP Error 404: \n"
          ]
        },
        {
          "metadata": {
            "tags": null
          },
          "name": "stdout",
          "output_type": "stream",
          "text": [
            "✅ BOSSn.DE procesado correctamente.\n"
          ]
        },
        {
          "metadata": {
            "tags": null
          },
          "name": "stderr",
          "output_type": "stream",
          "text": [
            "ERROR:yfinance:HTTP Error 404: \n"
          ]
        },
        {
          "metadata": {
            "tags": null
          },
          "name": "stdout",
          "output_type": "stream",
          "text": [
            "✅ LOGNn.DE procesado correctamente.\n",
            "✅ BC8G.DE procesado correctamente.\n"
          ]
        },
        {
          "metadata": {
            "tags": null
          },
          "name": "stderr",
          "output_type": "stream",
          "text": [
            "ERROR:yfinance:HTTP Error 404: \n"
          ]
        },
        {
          "metadata": {
            "tags": null
          },
          "name": "stdout",
          "output_type": "stream",
          "text": [
            "✅ ERICb.DE procesado correctamente.\n",
            "✅ MLPG.DE procesado correctamente.\n"
          ]
        },
        {
          "metadata": {
            "tags": null
          },
          "name": "stderr",
          "output_type": "stream",
          "text": [
            "ERROR:yfinance:HTTP Error 404: \n"
          ]
        },
        {
          "metadata": {
            "tags": null
          },
          "name": "stdout",
          "output_type": "stream",
          "text": [
            "✅ 55O1.DE procesado correctamente.\n",
            "✅ ADAG.DE procesado correctamente.\n"
          ]
        },
        {
          "metadata": {
            "tags": null
          },
          "name": "stderr",
          "output_type": "stream",
          "text": [
            "ERROR:yfinance:HTTP Error 404: \n"
          ]
        },
        {
          "metadata": {
            "tags": null
          },
          "name": "stdout",
          "output_type": "stream",
          "text": [
            "✅ CBRO.DE procesado correctamente.\n",
            "✅ DGII.DE procesado correctamente.\n"
          ]
        },
        {
          "metadata": {
            "tags": null
          },
          "name": "stderr",
          "output_type": "stream",
          "text": [
            "ERROR:yfinance:HTTP Error 404: \n"
          ]
        },
        {
          "metadata": {
            "tags": null
          },
          "name": "stdout",
          "output_type": "stream",
          "text": [
            "✅ MQFA.DE procesado correctamente.\n",
            "✅ STM.DE procesado correctamente.\n",
            "✅ EURA.DE procesado correctamente.\n"
          ]
        },
        {
          "metadata": {
            "tags": null
          },
          "name": "stderr",
          "output_type": "stream",
          "text": [
            "ERROR:yfinance:HTTP Error 404: \n"
          ]
        },
        {
          "metadata": {
            "tags": null
          },
          "name": "stdout",
          "output_type": "stream",
          "text": [
            "✅ KORI.DE procesado correctamente.\n"
          ]
        },
        {
          "metadata": {
            "tags": null
          },
          "name": "stderr",
          "output_type": "stream",
          "text": [
            "ERROR:yfinance:HTTP Error 404: \n"
          ]
        },
        {
          "metadata": {
            "tags": null
          },
          "name": "stdout",
          "output_type": "stream",
          "text": [
            "✅ PC6Ay.DE procesado correctamente.\n",
            "✅ TQK.DE procesado correctamente.\n"
          ]
        },
        {
          "metadata": {
            "tags": null
          },
          "name": "stderr",
          "output_type": "stream",
          "text": [
            "ERROR:yfinance:HTTP Error 404: \n"
          ]
        },
        {
          "metadata": {
            "tags": null
          },
          "name": "stdout",
          "output_type": "stream",
          "text": [
            "✅ RIOAy.DE procesado correctamente.\n"
          ]
        },
        {
          "metadata": {
            "tags": null
          },
          "name": "stderr",
          "output_type": "stream",
          "text": [
            "ERROR:yfinance:HTTP Error 404: \n"
          ]
        },
        {
          "metadata": {
            "tags": null
          },
          "name": "stdout",
          "output_type": "stream",
          "text": [
            "✅ GTTG.DE procesado correctamente.\n",
            "✅ GSKy.DE procesado correctamente.\n",
            "✅ CCLC.DE procesado correctamente.\n"
          ]
        },
        {
          "metadata": {
            "tags": null
          },
          "name": "stderr",
          "output_type": "stream",
          "text": [
            "ERROR:yfinance:HTTP Error 404: \n"
          ]
        },
        {
          "metadata": {
            "tags": null
          },
          "name": "stdout",
          "output_type": "stream",
          "text": [
            "✅ ARRJy.DE procesado correctamente.\n"
          ]
        },
        {
          "metadata": {
            "tags": null
          },
          "name": "stderr",
          "output_type": "stream",
          "text": [
            "ERROR:yfinance:HTTP Error 404: \n"
          ]
        },
        {
          "metadata": {
            "tags": null
          },
          "name": "stdout",
          "output_type": "stream",
          "text": [
            "✅ NJy.DE procesado correctamente.\n",
            "✅ BHPy.DE procesado correctamente.\n",
            "✅ DIO.DE procesado correctamente.\n",
            "✅ NOKy.DE procesado correctamente.\n",
            "✅ MCa.DE procesado correctamente.\n"
          ]
        },
        {
          "metadata": {
            "tags": null
          },
          "name": "stderr",
          "output_type": "stream",
          "text": [
            "ERROR:yfinance:HTTP Error 404: \n"
          ]
        },
        {
          "metadata": {
            "tags": null
          },
          "name": "stdout",
          "output_type": "stream",
          "text": [
            "✅ ACEL.DE procesado correctamente.\n"
          ]
        },
        {
          "metadata": {
            "tags": null
          },
          "name": "stderr",
          "output_type": "stream",
          "text": [
            "ERROR:yfinance:HTTP Error 404: \n"
          ]
        },
        {
          "metadata": {
            "tags": null
          },
          "name": "stdout",
          "output_type": "stream",
          "text": [
            "✅ EPWA.DE procesado correctamente.\n"
          ]
        },
        {
          "metadata": {
            "tags": null
          },
          "name": "stderr",
          "output_type": "stream",
          "text": [
            "ERROR:yfinance:HTTP Error 404: \n"
          ]
        },
        {
          "metadata": {
            "tags": null
          },
          "name": "stdout",
          "output_type": "stream",
          "text": [
            "✅ HITy.DE procesado correctamente.\n"
          ]
        },
        {
          "metadata": {
            "tags": null
          },
          "name": "stderr",
          "output_type": "stream",
          "text": [
            "ERROR:yfinance:HTTP Error 404: \n"
          ]
        },
        {
          "metadata": {
            "tags": null
          },
          "name": "stdout",
          "output_type": "stream",
          "text": [
            "✅ STEL.DE procesado correctamente.\n"
          ]
        },
        {
          "metadata": {
            "tags": null
          },
          "name": "stderr",
          "output_type": "stream",
          "text": [
            "ERROR:yfinance:HTTP Error 404: \n"
          ]
        },
        {
          "metadata": {
            "tags": null
          },
          "name": "stdout",
          "output_type": "stream",
          "text": [
            "✅ 31L.DE procesado correctamente.\n"
          ]
        },
        {
          "metadata": {
            "tags": null
          },
          "name": "stderr",
          "output_type": "stream",
          "text": [
            "ERROR:yfinance:HTTP Error 404: \n"
          ]
        },
        {
          "metadata": {
            "tags": null
          },
          "name": "stdout",
          "output_type": "stream",
          "text": [
            "✅ INVP.DE procesado correctamente.\n",
            "✅ DRFNy.DE procesado correctamente.\n"
          ]
        },
        {
          "metadata": {
            "tags": null
          },
          "name": "stderr",
          "output_type": "stream",
          "text": [
            "ERROR:yfinance:HTTP Error 404: \n"
          ]
        },
        {
          "metadata": {
            "tags": null
          },
          "name": "stdout",
          "output_type": "stream",
          "text": [
            "✅ NPNJ.DE procesado correctamente.\n"
          ]
        },
        {
          "metadata": {
            "tags": null
          },
          "name": "stderr",
          "output_type": "stream",
          "text": [
            "ERROR:yfinance:HTTP Error 404: \n"
          ]
        },
        {
          "metadata": {
            "tags": null
          },
          "name": "stdout",
          "output_type": "stream",
          "text": [
            "✅ AODCq.DE procesado correctamente.\n"
          ]
        },
        {
          "metadata": {
            "tags": null
          },
          "name": "stderr",
          "output_type": "stream",
          "text": [
            "ERROR:yfinance:HTTP Error 404: \n"
          ]
        },
        {
          "metadata": {
            "tags": null
          },
          "name": "stdout",
          "output_type": "stream",
          "text": [
            "✅ SLMJ.DE procesado correctamente.\n",
            "✅ AVA.DE procesado correctamente.\n",
            "✅ 0941.DE procesado correctamente.\n"
          ]
        },
        {
          "metadata": {
            "tags": null
          },
          "name": "stderr",
          "output_type": "stream",
          "text": [
            "ERROR:yfinance:HTTP Error 404: \n"
          ]
        },
        {
          "metadata": {
            "tags": null
          },
          "name": "stdout",
          "output_type": "stream",
          "text": [
            "✅ BUDy.DE procesado correctamente.\n"
          ]
        },
        {
          "metadata": {
            "tags": null
          },
          "name": "stderr",
          "output_type": "stream",
          "text": [
            "ERROR:yfinance:HTTP Error 404: \n"
          ]
        },
        {
          "metadata": {
            "tags": null
          },
          "name": "stdout",
          "output_type": "stream",
          "text": [
            "✅ AIRG.DE procesado correctamente.\n"
          ]
        },
        {
          "metadata": {
            "tags": null
          },
          "name": "stderr",
          "output_type": "stream",
          "text": [
            "ERROR:yfinance:HTTP Error 404: \n"
          ]
        },
        {
          "metadata": {
            "tags": null
          },
          "name": "stdout",
          "output_type": "stream",
          "text": [
            "✅ HDJA.DE procesado correctamente.\n"
          ]
        },
        {
          "metadata": {
            "tags": null
          },
          "name": "stderr",
          "output_type": "stream",
          "text": [
            "ERROR:yfinance:HTTP Error 404: \n"
          ]
        },
        {
          "metadata": {
            "tags": null
          },
          "name": "stdout",
          "output_type": "stream",
          "text": [
            "✅ 6762.DE procesado correctamente.\n"
          ]
        },
        {
          "metadata": {
            "tags": null
          },
          "name": "stderr",
          "output_type": "stream",
          "text": [
            "ERROR:yfinance:HTTP Error 404: \n"
          ]
        },
        {
          "metadata": {
            "tags": null
          },
          "name": "stdout",
          "output_type": "stream",
          "text": [
            "✅ TJH7.DE procesado correctamente.\n"
          ]
        },
        {
          "metadata": {
            "tags": null
          },
          "name": "stderr",
          "output_type": "stream",
          "text": [
            "ERROR:yfinance:HTTP Error 404: \n"
          ]
        },
        {
          "metadata": {
            "tags": null
          },
          "name": "stdout",
          "output_type": "stream",
          "text": [
            "✅ NNN1y.DE procesado correctamente.\n"
          ]
        },
        {
          "metadata": {
            "tags": null
          },
          "name": "stderr",
          "output_type": "stream",
          "text": [
            "ERROR:yfinance:HTTP Error 404: \n"
          ]
        },
        {
          "metadata": {
            "tags": null
          },
          "name": "stdout",
          "output_type": "stream",
          "text": [
            "✅ DISCKc.DE procesado correctamente.\n"
          ]
        },
        {
          "metadata": {
            "tags": null
          },
          "name": "stderr",
          "output_type": "stream",
          "text": [
            "ERROR:yfinance:HTTP Error 404: \n"
          ]
        },
        {
          "metadata": {
            "tags": null
          },
          "name": "stdout",
          "output_type": "stream",
          "text": [
            "✅ EONGn.DE procesado correctamente.\n"
          ]
        },
        {
          "metadata": {
            "tags": null
          },
          "name": "stderr",
          "output_type": "stream",
          "text": [
            "ERROR:yfinance:HTTP Error 404: \n"
          ]
        },
        {
          "metadata": {
            "tags": null
          },
          "name": "stdout",
          "output_type": "stream",
          "text": [
            "✅ ELO1.DE procesado correctamente.\n"
          ]
        },
        {
          "metadata": {
            "tags": null
          },
          "name": "stderr",
          "output_type": "stream",
          "text": [
            "ERROR:yfinance:HTTP Error 404: \n"
          ]
        },
        {
          "metadata": {
            "tags": null
          },
          "name": "stdout",
          "output_type": "stream",
          "text": [
            "✅ CRNT.DE procesado correctamente.\n"
          ]
        },
        {
          "metadata": {
            "tags": null
          },
          "name": "stderr",
          "output_type": "stream",
          "text": [
            "ERROR:yfinance:HTTP Error 404: \n"
          ]
        },
        {
          "metadata": {
            "tags": null
          },
          "name": "stdout",
          "output_type": "stream",
          "text": [
            "✅ ITRN.DE procesado correctamente.\n"
          ]
        },
        {
          "metadata": {
            "tags": null
          },
          "name": "stderr",
          "output_type": "stream",
          "text": [
            "ERROR:yfinance:HTTP Error 404: \n"
          ]
        },
        {
          "metadata": {
            "tags": null
          },
          "name": "stdout",
          "output_type": "stream",
          "text": [
            "✅ MLNX.DE procesado correctamente.\n"
          ]
        },
        {
          "metadata": {
            "tags": null
          },
          "name": "stderr",
          "output_type": "stream",
          "text": [
            "ERROR:yfinance:HTTP Error 404: \n"
          ]
        },
        {
          "metadata": {
            "tags": null
          },
          "name": "stdout",
          "output_type": "stream",
          "text": [
            "✅ 2F5.DE procesado correctamente.\n"
          ]
        },
        {
          "metadata": {
            "tags": null
          },
          "name": "stderr",
          "output_type": "stream",
          "text": [
            "ERROR:yfinance:HTTP Error 404: \n"
          ]
        },
        {
          "metadata": {
            "tags": null
          },
          "name": "stdout",
          "output_type": "stream",
          "text": [
            "✅ SILC.DE procesado correctamente.\n"
          ]
        },
        {
          "metadata": {
            "tags": null
          },
          "name": "stderr",
          "output_type": "stream",
          "text": [
            "ERROR:yfinance:HTTP Error 404: \n"
          ]
        },
        {
          "metadata": {
            "tags": null
          },
          "name": "stdout",
          "output_type": "stream",
          "text": [
            "✅ CTCH.DE procesado correctamente.\n"
          ]
        },
        {
          "metadata": {
            "tags": null
          },
          "name": "stderr",
          "output_type": "stream",
          "text": [
            "ERROR:yfinance:HTTP Error 404: \n"
          ]
        },
        {
          "metadata": {
            "tags": null
          },
          "name": "stdout",
          "output_type": "stream",
          "text": [
            "✅ CPTGy.DE procesado correctamente.\n"
          ]
        },
        {
          "metadata": {
            "tags": null
          },
          "name": "stderr",
          "output_type": "stream",
          "text": [
            "ERROR:yfinance:HTTP Error 404: \n"
          ]
        },
        {
          "metadata": {
            "tags": null
          },
          "name": "stdout",
          "output_type": "stream",
          "text": [
            "✅ 4TXAy.DE procesado correctamente.\n"
          ]
        },
        {
          "metadata": {
            "tags": null
          },
          "name": "stderr",
          "output_type": "stream",
          "text": [
            "ERROR:yfinance:HTTP Error 404: \n"
          ]
        },
        {
          "metadata": {
            "tags": null
          },
          "name": "stdout",
          "output_type": "stream",
          "text": [
            "✅ 2EBAy.DE procesado correctamente.\n"
          ]
        },
        {
          "metadata": {
            "tags": null
          },
          "name": "stderr",
          "output_type": "stream",
          "text": [
            "ERROR:yfinance:HTTP Error 404: \n"
          ]
        },
        {
          "metadata": {
            "tags": null
          },
          "name": "stdout",
          "output_type": "stream",
          "text": [
            "✅ ODHN.DE procesado correctamente.\n",
            "✅ IMX.DE procesado correctamente.\n",
            "✅ SAPGy_p.DE procesado correctamente.\n"
          ]
        },
        {
          "metadata": {
            "tags": null
          },
          "name": "stderr",
          "output_type": "stream",
          "text": [
            "ERROR:yfinance:HTTP Error 404: \n"
          ]
        },
        {
          "metadata": {
            "tags": null
          },
          "name": "stdout",
          "output_type": "stream",
          "text": [
            "✅ VODIy.DE procesado correctamente.\n",
            "✅ DLGS.DE procesado correctamente.\n",
            "✅ RR5.DE procesado correctamente.\n"
          ]
        },
        {
          "metadata": {
            "tags": null
          },
          "name": "stderr",
          "output_type": "stream",
          "text": [
            "ERROR:yfinance:HTTP Error 404: \n"
          ]
        },
        {
          "metadata": {
            "tags": null
          },
          "name": "stdout",
          "output_type": "stream",
          "text": [
            "✅ JENGn.DE procesado correctamente.\n",
            "✅ GWIG.DE procesado correctamente.\n"
          ]
        },
        {
          "metadata": {
            "tags": null
          },
          "name": "stderr",
          "output_type": "stream",
          "text": [
            "ERROR:yfinance:HTTP Error 404: \n"
          ]
        },
        {
          "metadata": {
            "tags": null
          },
          "name": "stdout",
          "output_type": "stream",
          "text": [
            "✅ AITN.DE procesado correctamente.\n",
            "✅ GMMG.DE procesado correctamente.\n",
            "✅ DRIG.DE procesado correctamente.\n"
          ]
        },
        {
          "metadata": {
            "tags": null
          },
          "name": "stderr",
          "output_type": "stream",
          "text": [
            "ERROR:yfinance:HTTP Error 404: \n"
          ]
        },
        {
          "metadata": {
            "tags": null
          },
          "name": "stdout",
          "output_type": "stream",
          "text": [
            "✅ BIONn.DE procesado correctamente.\n"
          ]
        },
        {
          "metadata": {
            "tags": null
          },
          "name": "stderr",
          "output_type": "stream",
          "text": [
            "ERROR:yfinance:HTTP Error 404: \n"
          ]
        },
        {
          "metadata": {
            "tags": null
          },
          "name": "stdout",
          "output_type": "stream",
          "text": [
            "✅ BKP6.DE procesado correctamente.\n"
          ]
        },
        {
          "metadata": {
            "tags": null
          },
          "name": "stderr",
          "output_type": "stream",
          "text": [
            "ERROR:yfinance:HTTP Error 404: \n"
          ]
        },
        {
          "metadata": {
            "tags": null
          },
          "name": "stdout",
          "output_type": "stream",
          "text": [
            "✅ 1ZD.DE procesado correctamente.\n",
            "✅ LN3.DE procesado correctamente.\n",
            "✅ G1V.DE procesado correctamente.\n"
          ]
        },
        {
          "metadata": {
            "tags": null
          },
          "name": "stderr",
          "output_type": "stream",
          "text": [
            "ERROR:yfinance:HTTP Error 404: \n"
          ]
        },
        {
          "metadata": {
            "tags": null
          },
          "name": "stdout",
          "output_type": "stream",
          "text": [
            "✅ PVR1.DE procesado correctamente.\n"
          ]
        },
        {
          "metadata": {
            "tags": null
          },
          "name": "stderr",
          "output_type": "stream",
          "text": [
            "ERROR:yfinance:HTTP Error 404: \n"
          ]
        },
        {
          "metadata": {
            "tags": null
          },
          "name": "stdout",
          "output_type": "stream",
          "text": [
            "✅ PXSL.DE procesado correctamente.\n"
          ]
        },
        {
          "metadata": {
            "tags": null
          },
          "name": "stderr",
          "output_type": "stream",
          "text": [
            "ERROR:yfinance:HTTP Error 404: \n"
          ]
        },
        {
          "metadata": {
            "tags": null
          },
          "name": "stdout",
          "output_type": "stream",
          "text": [
            "✅ ALGR.DE procesado correctamente.\n"
          ]
        },
        {
          "metadata": {
            "tags": null
          },
          "name": "stderr",
          "output_type": "stream",
          "text": [
            "ERROR:yfinance:HTTP Error 404: \n"
          ]
        },
        {
          "metadata": {
            "tags": null
          },
          "name": "stdout",
          "output_type": "stream",
          "text": [
            "✅ BNRGn.DE procesado correctamente.\n",
            "✅ FIEG.DE procesado correctamente.\n"
          ]
        },
        {
          "metadata": {
            "tags": null
          },
          "name": "stderr",
          "output_type": "stream",
          "text": [
            "ERROR:yfinance:HTTP Error 404: \n"
          ]
        },
        {
          "metadata": {
            "tags": null
          },
          "name": "stdout",
          "output_type": "stream",
          "text": [
            "✅ FPE4y.DE procesado correctamente.\n",
            "✅ FPEG_p.DE procesado correctamente.\n",
            "✅ AVD.DE procesado correctamente.\n"
          ]
        },
        {
          "metadata": {
            "tags": null
          },
          "name": "stderr",
          "output_type": "stream",
          "text": [
            "ERROR:yfinance:HTTP Error 404: \n"
          ]
        },
        {
          "metadata": {
            "tags": null
          },
          "name": "stdout",
          "output_type": "stream",
          "text": [
            "✅ ROSNqa.DE procesado correctamente.\n"
          ]
        },
        {
          "metadata": {
            "tags": null
          },
          "name": "stderr",
          "output_type": "stream",
          "text": [
            "ERROR:yfinance:HTTP Error 404: \n"
          ]
        },
        {
          "metadata": {
            "tags": null
          },
          "name": "stdout",
          "output_type": "stream",
          "text": [
            "✅ S92G.DE procesado correctamente.\n"
          ]
        },
        {
          "metadata": {
            "tags": null
          },
          "name": "stderr",
          "output_type": "stream",
          "text": [
            "ERROR:yfinance:HTTP Error 404: \n"
          ]
        },
        {
          "metadata": {
            "tags": null
          },
          "name": "stdout",
          "output_type": "stream",
          "text": [
            "✅ SMHNn.DE procesado correctamente.\n"
          ]
        },
        {
          "metadata": {
            "tags": null
          },
          "name": "stderr",
          "output_type": "stream",
          "text": [
            "ERROR:yfinance:HTTP Error 404: \n"
          ]
        },
        {
          "metadata": {
            "tags": null
          },
          "name": "stdout",
          "output_type": "stream",
          "text": [
            "✅ VBKG.DE procesado correctamente.\n"
          ]
        },
        {
          "metadata": {
            "tags": null
          },
          "name": "stderr",
          "output_type": "stream",
          "text": [
            "ERROR:yfinance:HTTP Error 404: \n"
          ]
        },
        {
          "metadata": {
            "tags": null
          },
          "name": "stdout",
          "output_type": "stream",
          "text": [
            "✅ CEPD.DE procesado correctamente.\n"
          ]
        },
        {
          "metadata": {
            "tags": null
          },
          "name": "stderr",
          "output_type": "stream",
          "text": [
            "ERROR:yfinance:HTTP Error 404: \n"
          ]
        },
        {
          "metadata": {
            "tags": null
          },
          "name": "stdout",
          "output_type": "stream",
          "text": [
            "✅ WHS.DE procesado correctamente.\n"
          ]
        },
        {
          "metadata": {
            "tags": null
          },
          "name": "stderr",
          "output_type": "stream",
          "text": [
            "ERROR:yfinance:HTTP Error 404: \n"
          ]
        },
        {
          "metadata": {
            "tags": null
          },
          "name": "stdout",
          "output_type": "stream",
          "text": [
            "✅ AQG.DE procesado correctamente.\n",
            "✅ AAP.DE procesado correctamente.\n",
            "✅ MYR.DE procesado correctamente.\n",
            "✅ YM1.DE procesado correctamente.\n"
          ]
        },
        {
          "metadata": {
            "tags": null
          },
          "name": "stderr",
          "output_type": "stream",
          "text": [
            "ERROR:yfinance:HTTP Error 404: \n"
          ]
        },
        {
          "metadata": {
            "tags": null
          },
          "name": "stdout",
          "output_type": "stream",
          "text": [
            "✅ QRL.DE procesado correctamente.\n",
            "✅ S2Z.DE procesado correctamente.\n"
          ]
        },
        {
          "metadata": {
            "tags": null
          },
          "name": "stderr",
          "output_type": "stream",
          "text": [
            "ERROR:yfinance:HTTP Error 404: \n"
          ]
        },
        {
          "metadata": {
            "tags": null
          },
          "name": "stdout",
          "output_type": "stream",
          "text": [
            "✅ T7W.DE procesado correctamente.\n",
            "✅ G2O.DE procesado correctamente.\n"
          ]
        },
        {
          "metadata": {
            "tags": null
          },
          "name": "stderr",
          "output_type": "stream",
          "text": [
            "ERROR:yfinance:HTTP Error 404: \n"
          ]
        },
        {
          "metadata": {
            "tags": null
          },
          "name": "stdout",
          "output_type": "stream",
          "text": [
            "✅ RCL.DE procesado correctamente.\n"
          ]
        },
        {
          "metadata": {
            "tags": null
          },
          "name": "stderr",
          "output_type": "stream",
          "text": [
            "ERROR:yfinance:HTTP Error 404: \n"
          ]
        },
        {
          "metadata": {
            "tags": null
          },
          "name": "stdout",
          "output_type": "stream",
          "text": [
            "✅ 6LA.DE procesado correctamente.\n"
          ]
        },
        {
          "metadata": {
            "tags": null
          },
          "name": "stderr",
          "output_type": "stream",
          "text": [
            "ERROR:yfinance:HTTP Error 404: \n"
          ]
        },
        {
          "metadata": {
            "tags": null
          },
          "name": "stdout",
          "output_type": "stream",
          "text": [
            "✅ SAN.DE procesado correctamente.\n"
          ]
        },
        {
          "metadata": {
            "tags": null
          },
          "name": "stderr",
          "output_type": "stream",
          "text": [
            "ERROR:yfinance:HTTP Error 404: \n"
          ]
        },
        {
          "metadata": {
            "tags": null
          },
          "name": "stdout",
          "output_type": "stream",
          "text": [
            "✅ SNC.DE procesado correctamente.\n",
            "✅ SVO.DE procesado correctamente.\n",
            "✅ RRTL.DE procesado correctamente.\n",
            "✅ VOPA.DE procesado correctamente.\n"
          ]
        },
        {
          "metadata": {
            "tags": null
          },
          "name": "stderr",
          "output_type": "stream",
          "text": [
            "ERROR:yfinance:HTTP Error 404: \n"
          ]
        },
        {
          "metadata": {
            "tags": null
          },
          "name": "stdout",
          "output_type": "stream",
          "text": [
            "✅ ACGL.DE procesado correctamente.\n"
          ]
        },
        {
          "metadata": {
            "tags": null
          },
          "name": "stderr",
          "output_type": "stream",
          "text": [
            "ERROR:yfinance:HTTP Error 404: \n"
          ]
        },
        {
          "metadata": {
            "tags": null
          },
          "name": "stdout",
          "output_type": "stream",
          "text": [
            "✅ 9AC.DE procesado correctamente.\n"
          ]
        },
        {
          "metadata": {
            "tags": null
          },
          "name": "stderr",
          "output_type": "stream",
          "text": [
            "ERROR:yfinance:HTTP Error 404: \n"
          ]
        },
        {
          "metadata": {
            "tags": null
          },
          "name": "stdout",
          "output_type": "stream",
          "text": [
            "✅ AMPP.DE procesado correctamente.\n"
          ]
        },
        {
          "metadata": {
            "tags": null
          },
          "name": "stderr",
          "output_type": "stream",
          "text": [
            "ERROR:yfinance:HTTP Error 404: \n"
          ]
        },
        {
          "metadata": {
            "tags": null
          },
          "name": "stdout",
          "output_type": "stream",
          "text": [
            "✅ AMRNy.DE procesado correctamente.\n"
          ]
        },
        {
          "metadata": {
            "tags": null
          },
          "name": "stderr",
          "output_type": "stream",
          "text": [
            "ERROR:yfinance:HTTP Error 404: \n"
          ]
        },
        {
          "metadata": {
            "tags": null
          },
          "name": "stdout",
          "output_type": "stream",
          "text": [
            "✅ 2UH.DE procesado correctamente.\n"
          ]
        },
        {
          "metadata": {
            "tags": null
          },
          "name": "stderr",
          "output_type": "stream",
          "text": [
            "ERROR:yfinance:HTTP Error 404: \n"
          ]
        },
        {
          "metadata": {
            "tags": null
          },
          "name": "stdout",
          "output_type": "stream",
          "text": [
            "✅ DLBa.DE procesado correctamente.\n"
          ]
        },
        {
          "metadata": {
            "tags": null
          },
          "name": "stderr",
          "output_type": "stream",
          "text": [
            "ERROR:yfinance:HTTP Error 404: \n"
          ]
        },
        {
          "metadata": {
            "tags": null
          },
          "name": "stdout",
          "output_type": "stream",
          "text": [
            "✅ ATSG.DE procesado correctamente.\n",
            "✅ DLX.DE procesado correctamente.\n",
            "✅ AZPN.DE procesado correctamente.\n"
          ]
        },
        {
          "metadata": {
            "tags": null
          },
          "name": "stderr",
          "output_type": "stream",
          "text": [
            "ERROR:yfinance:HTTP Error 404: \n"
          ]
        },
        {
          "metadata": {
            "tags": null
          },
          "name": "stdout",
          "output_type": "stream",
          "text": [
            "✅ DNYY.DE procesado correctamente.\n"
          ]
        },
        {
          "metadata": {
            "tags": null
          },
          "name": "stderr",
          "output_type": "stream",
          "text": [
            "ERROR:yfinance:HTTP Error 404: \n"
          ]
        },
        {
          "metadata": {
            "tags": null
          },
          "name": "stdout",
          "output_type": "stream",
          "text": [
            "✅ BSFA.DE procesado correctamente.\n"
          ]
        },
        {
          "metadata": {
            "tags": null
          },
          "name": "stderr",
          "output_type": "stream",
          "text": [
            "ERROR:yfinance:HTTP Error 404: \n"
          ]
        },
        {
          "metadata": {
            "tags": null
          },
          "name": "stdout",
          "output_type": "stream",
          "text": [
            "✅ PP4A.DE procesado correctamente.\n",
            "✅ BRKR.DE procesado correctamente.\n",
            "✅ CUCA.DE procesado correctamente.\n"
          ]
        },
        {
          "metadata": {
            "tags": null
          },
          "name": "stderr",
          "output_type": "stream",
          "text": [
            "ERROR:yfinance:HTTP Error 404: \n"
          ]
        },
        {
          "metadata": {
            "tags": null
          },
          "name": "stdout",
          "output_type": "stream",
          "text": [
            "✅ CBOE.DE procesado correctamente.\n"
          ]
        },
        {
          "metadata": {
            "tags": null
          },
          "name": "stderr",
          "output_type": "stream",
          "text": [
            "ERROR:yfinance:HTTP Error 404: \n"
          ]
        },
        {
          "metadata": {
            "tags": null
          },
          "name": "stdout",
          "output_type": "stream",
          "text": [
            "✅ CENX.DE procesado correctamente.\n",
            "✅ SIy.DE procesado correctamente.\n"
          ]
        },
        {
          "metadata": {
            "tags": null
          },
          "name": "stderr",
          "output_type": "stream",
          "text": [
            "ERROR:yfinance:HTTP Error 404: \n"
          ]
        },
        {
          "metadata": {
            "tags": null
          },
          "name": "stdout",
          "output_type": "stream",
          "text": [
            "✅ FDV1.DE procesado correctamente.\n",
            "✅ CPRT.DE procesado correctamente.\n"
          ]
        },
        {
          "metadata": {
            "tags": null
          },
          "name": "stderr",
          "output_type": "stream",
          "text": [
            "ERROR:yfinance:HTTP Error 404: \n"
          ]
        },
        {
          "metadata": {
            "tags": null
          },
          "name": "stdout",
          "output_type": "stream",
          "text": [
            "✅ CVLT.DE procesado correctamente.\n"
          ]
        },
        {
          "metadata": {
            "tags": null
          },
          "name": "stderr",
          "output_type": "stream",
          "text": [
            "ERROR:yfinance:HTTP Error 404: \n"
          ]
        },
        {
          "metadata": {
            "tags": null
          },
          "name": "stdout",
          "output_type": "stream",
          "text": [
            "✅ DECK.DE procesado correctamente.\n",
            "✅ ENMD.DE procesado correctamente.\n"
          ]
        },
        {
          "metadata": {
            "tags": null
          },
          "name": "stderr",
          "output_type": "stream",
          "text": [
            "ERROR:yfinance:HTTP Error 404: \n"
          ]
        },
        {
          "metadata": {
            "tags": null
          },
          "name": "stdout",
          "output_type": "stream",
          "text": [
            "✅ ESLT.DE procesado correctamente.\n",
            "✅ EXEL.DE procesado correctamente.\n",
            "✅ FOSL.DE procesado correctamente.\n"
          ]
        },
        {
          "metadata": {
            "tags": null
          },
          "name": "stderr",
          "output_type": "stream",
          "text": [
            "ERROR:yfinance:HTTP Error 404: \n"
          ]
        },
        {
          "metadata": {
            "tags": null
          },
          "name": "stdout",
          "output_type": "stream",
          "text": [
            "✅ GGALyb.DE procesado correctamente.\n"
          ]
        },
        {
          "metadata": {
            "tags": null
          },
          "name": "stderr",
          "output_type": "stream",
          "text": [
            "ERROR:yfinance:HTTP Error 404: \n"
          ]
        },
        {
          "metadata": {
            "tags": null
          },
          "name": "stdout",
          "output_type": "stream",
          "text": [
            "✅ GLGL.DE procesado correctamente.\n",
            "✅ G2U.DE procesado correctamente.\n"
          ]
        },
        {
          "metadata": {
            "tags": null
          },
          "name": "stderr",
          "output_type": "stream",
          "text": [
            "ERROR:yfinance:HTTP Error 404: \n"
          ]
        },
        {
          "metadata": {
            "tags": null
          },
          "name": "stdout",
          "output_type": "stream",
          "text": [
            "✅ G5Na.DE procesado correctamente.\n"
          ]
        },
        {
          "metadata": {
            "tags": null
          },
          "name": "stderr",
          "output_type": "stream",
          "text": [
            "ERROR:yfinance:HTTP Error 404: \n"
          ]
        },
        {
          "metadata": {
            "tags": null
          },
          "name": "stdout",
          "output_type": "stream",
          "text": [
            "✅ P8S.DE procesado correctamente.\n"
          ]
        },
        {
          "metadata": {
            "tags": null
          },
          "name": "stderr",
          "output_type": "stream",
          "text": [
            "ERROR:yfinance:HTTP Error 404: \n"
          ]
        },
        {
          "metadata": {
            "tags": null
          },
          "name": "stdout",
          "output_type": "stream",
          "text": [
            "✅ IKIA.DE procesado correctamente.\n",
            "✅ DSX.DE procesado correctamente.\n"
          ]
        },
        {
          "metadata": {
            "tags": null
          },
          "name": "stderr",
          "output_type": "stream",
          "text": [
            "ERROR:yfinance:HTTP Error 404: \n"
          ]
        },
        {
          "metadata": {
            "tags": null
          },
          "name": "stdout",
          "output_type": "stream",
          "text": [
            "✅ LECO.DE procesado correctamente.\n",
            "✅ 33L.DE procesado correctamente.\n"
          ]
        },
        {
          "metadata": {
            "tags": null
          },
          "name": "stderr",
          "output_type": "stream",
          "text": [
            "ERROR:yfinance:HTTP Error 404: \n"
          ]
        },
        {
          "metadata": {
            "tags": null
          },
          "name": "stdout",
          "output_type": "stream",
          "text": [
            "✅ M6X2.DE procesado correctamente.\n"
          ]
        },
        {
          "metadata": {
            "tags": null
          },
          "name": "stderr",
          "output_type": "stream",
          "text": [
            "ERROR:yfinance:HTTP Error 404: \n"
          ]
        },
        {
          "metadata": {
            "tags": null
          },
          "name": "stdout",
          "output_type": "stream",
          "text": [
            "✅ MPEy.DE procesado correctamente.\n"
          ]
        },
        {
          "metadata": {
            "tags": null
          },
          "name": "stderr",
          "output_type": "stream",
          "text": [
            "ERROR:yfinance:HTTP Error 404: \n"
          ]
        },
        {
          "metadata": {
            "tags": null
          },
          "name": "stdout",
          "output_type": "stream",
          "text": [
            "✅ MYRX.DE procesado correctamente.\n"
          ]
        },
        {
          "metadata": {
            "tags": null
          },
          "name": "stderr",
          "output_type": "stream",
          "text": [
            "ERROR:yfinance:HTTP Error 404: \n"
          ]
        },
        {
          "metadata": {
            "tags": null
          },
          "name": "stdout",
          "output_type": "stream",
          "text": [
            "✅ NR1A.DE procesado correctamente.\n"
          ]
        },
        {
          "metadata": {
            "tags": null
          },
          "name": "stderr",
          "output_type": "stream",
          "text": [
            "ERROR:yfinance:HTTP Error 404: \n"
          ]
        },
        {
          "metadata": {
            "tags": null
          },
          "name": "stdout",
          "output_type": "stream",
          "text": [
            "✅ ODFL.DE procesado correctamente.\n"
          ]
        },
        {
          "metadata": {
            "tags": null
          },
          "name": "stderr",
          "output_type": "stream",
          "text": [
            "ERROR:yfinance:HTTP Error 404: \n"
          ]
        },
        {
          "metadata": {
            "tags": null
          },
          "name": "stdout",
          "output_type": "stream",
          "text": [
            "✅ PBCT.DE procesado correctamente.\n"
          ]
        },
        {
          "metadata": {
            "tags": null
          },
          "name": "stderr",
          "output_type": "stream",
          "text": [
            "ERROR:yfinance:HTTP Error 404: \n"
          ]
        },
        {
          "metadata": {
            "tags": null
          },
          "name": "stdout",
          "output_type": "stream",
          "text": [
            "✅ PVDA.DE procesado correctamente.\n",
            "✅ PENN.DE procesado correctamente.\n"
          ]
        },
        {
          "metadata": {
            "tags": null
          },
          "name": "stderr",
          "output_type": "stream",
          "text": [
            "ERROR:yfinance:HTTP Error 404: \n"
          ]
        },
        {
          "metadata": {
            "tags": null
          },
          "name": "stdout",
          "output_type": "stream",
          "text": [
            "✅ PIGG.DE procesado correctamente.\n"
          ]
        },
        {
          "metadata": {
            "tags": null
          },
          "name": "stderr",
          "output_type": "stream",
          "text": [
            "ERROR:yfinance:HTTP Error 404: \n"
          ]
        },
        {
          "metadata": {
            "tags": null
          },
          "name": "stdout",
          "output_type": "stream",
          "text": [
            "✅ DUM.DE procesado correctamente.\n",
            "✅ QY1.DE procesado correctamente.\n"
          ]
        },
        {
          "metadata": {
            "tags": null
          },
          "name": "stderr",
          "output_type": "stream",
          "text": [
            "ERROR:yfinance:HTTP Error 404: \n"
          ]
        },
        {
          "metadata": {
            "tags": null
          },
          "name": "stdout",
          "output_type": "stream",
          "text": [
            "✅ REED.DE procesado correctamente.\n",
            "✅ REGN.DE procesado correctamente.\n",
            "✅ 3T3.DE procesado correctamente.\n",
            "✅ 4SB.DE procesado correctamente.\n"
          ]
        },
        {
          "metadata": {
            "tags": null
          },
          "name": "stderr",
          "output_type": "stream",
          "text": [
            "ERROR:yfinance:HTTP Error 404: \n"
          ]
        },
        {
          "metadata": {
            "tags": null
          },
          "name": "stdout",
          "output_type": "stream",
          "text": [
            "✅ SL2.DE procesado correctamente.\n"
          ]
        },
        {
          "metadata": {
            "tags": null
          },
          "name": "stderr",
          "output_type": "stream",
          "text": [
            "ERROR:yfinance:HTTP Error 404: \n"
          ]
        },
        {
          "metadata": {
            "tags": null
          },
          "name": "stdout",
          "output_type": "stream",
          "text": [
            "✅ SNPS.DE procesado correctamente.\n"
          ]
        },
        {
          "metadata": {
            "tags": null
          },
          "name": "stderr",
          "output_type": "stream",
          "text": [
            "ERROR:yfinance:HTTP Error 404: \n"
          ]
        },
        {
          "metadata": {
            "tags": null
          },
          "name": "stdout",
          "output_type": "stream",
          "text": [
            "✅ 8SO.DE procesado correctamente.\n",
            "✅ SWKS.DE procesado correctamente.\n"
          ]
        },
        {
          "metadata": {
            "tags": null
          },
          "name": "stderr",
          "output_type": "stream",
          "text": [
            "ERROR:yfinance:HTTP Error 404: \n"
          ]
        },
        {
          "metadata": {
            "tags": null
          },
          "name": "stdout",
          "output_type": "stream",
          "text": [
            "✅ RVS1.DE procesado correctamente.\n",
            "✅ I9DN.DE procesado correctamente.\n",
            "✅ 37Z.DE procesado correctamente.\n",
            "✅ TB5.DE procesado correctamente.\n"
          ]
        },
        {
          "metadata": {
            "tags": null
          },
          "name": "stderr",
          "output_type": "stream",
          "text": [
            "ERROR:yfinance:HTTP Error 404: \n"
          ]
        },
        {
          "metadata": {
            "tags": null
          },
          "name": "stdout",
          "output_type": "stream",
          "text": [
            "✅ T98.DE procesado correctamente.\n"
          ]
        },
        {
          "metadata": {
            "tags": null
          },
          "name": "stderr",
          "output_type": "stream",
          "text": [
            "ERROR:yfinance:HTTP Error 404: \n"
          ]
        },
        {
          "metadata": {
            "tags": null
          },
          "name": "stdout",
          "output_type": "stream",
          "text": [
            "✅ TRCT.DE procesado correctamente.\n"
          ]
        },
        {
          "metadata": {
            "tags": null
          },
          "name": "stderr",
          "output_type": "stream",
          "text": [
            "ERROR:yfinance:HTTP Error 404: \n"
          ]
        },
        {
          "metadata": {
            "tags": null
          },
          "name": "stdout",
          "output_type": "stream",
          "text": [
            "✅ TSEM.DE procesado correctamente.\n"
          ]
        },
        {
          "metadata": {
            "tags": null
          },
          "name": "stderr",
          "output_type": "stream",
          "text": [
            "ERROR:yfinance:HTTP Error 404: \n"
          ]
        },
        {
          "metadata": {
            "tags": null
          },
          "name": "stdout",
          "output_type": "stream",
          "text": [
            "✅ TXM1.DE procesado correctamente.\n"
          ]
        },
        {
          "metadata": {
            "tags": null
          },
          "name": "stderr",
          "output_type": "stream",
          "text": [
            "ERROR:yfinance:HTTP Error 404: \n"
          ]
        },
        {
          "metadata": {
            "tags": null
          },
          "name": "stdout",
          "output_type": "stream",
          "text": [
            "✅ ULTA.DE procesado correctamente.\n",
            "✅ UTHR.DE procesado correctamente.\n"
          ]
        },
        {
          "metadata": {
            "tags": null
          },
          "name": "stderr",
          "output_type": "stream",
          "text": [
            "ERROR:yfinance:HTTP Error 404: \n"
          ]
        },
        {
          "metadata": {
            "tags": null
          },
          "name": "stdout",
          "output_type": "stream",
          "text": [
            "✅ CR3.DE procesado correctamente.\n"
          ]
        },
        {
          "metadata": {
            "tags": null
          },
          "name": "stderr",
          "output_type": "stream",
          "text": [
            "ERROR:yfinance:HTTP Error 404: \n"
          ]
        },
        {
          "metadata": {
            "tags": null
          },
          "name": "stdout",
          "output_type": "stream",
          "text": [
            "✅ VCC2.DE procesado correctamente.\n"
          ]
        },
        {
          "metadata": {
            "tags": null
          },
          "name": "stderr",
          "output_type": "stream",
          "text": [
            "ERROR:yfinance:HTTP Error 404: \n"
          ]
        },
        {
          "metadata": {
            "tags": null
          },
          "name": "stdout",
          "output_type": "stream",
          "text": [
            "✅ VRNT.DE procesado correctamente.\n",
            "✅ VA7A.DE procesado correctamente.\n"
          ]
        },
        {
          "metadata": {
            "tags": null
          },
          "name": "stderr",
          "output_type": "stream",
          "text": [
            "ERROR:yfinance:HTTP Error 404: \n"
          ]
        },
        {
          "metadata": {
            "tags": null
          },
          "name": "stdout",
          "output_type": "stream",
          "text": [
            "✅ WLBU.DE procesado correctamente.\n"
          ]
        },
        {
          "metadata": {
            "tags": null
          },
          "name": "stderr",
          "output_type": "stream",
          "text": [
            "ERROR:yfinance:HTTP Error 404: \n"
          ]
        },
        {
          "metadata": {
            "tags": null
          },
          "name": "stdout",
          "output_type": "stream",
          "text": [
            "✅ WPT.DE procesado correctamente.\n"
          ]
        },
        {
          "metadata": {
            "tags": null
          },
          "name": "stderr",
          "output_type": "stream",
          "text": [
            "ERROR:yfinance:HTTP Error 404: \n"
          ]
        },
        {
          "metadata": {
            "tags": null
          },
          "name": "stdout",
          "output_type": "stream",
          "text": [
            "✅ AJPG.DE procesado correctamente.\n"
          ]
        },
        {
          "metadata": {
            "tags": null
          },
          "name": "stderr",
          "output_type": "stream",
          "text": [
            "ERROR:yfinance:HTTP Error 404: \n"
          ]
        },
        {
          "metadata": {
            "tags": null
          },
          "name": "stdout",
          "output_type": "stream",
          "text": [
            "✅ FFPP.DE procesado correctamente.\n",
            "✅ LAGA.DE procesado correctamente.\n"
          ]
        },
        {
          "metadata": {
            "tags": null
          },
          "name": "stderr",
          "output_type": "stream",
          "text": [
            "ERROR:yfinance:HTTP Error 404: \n"
          ]
        },
        {
          "metadata": {
            "tags": null
          },
          "name": "stdout",
          "output_type": "stream",
          "text": [
            "✅ BICy.DE procesado correctamente.\n"
          ]
        },
        {
          "metadata": {
            "tags": null
          },
          "name": "stderr",
          "output_type": "stream",
          "text": [
            "ERROR:yfinance:HTTP Error 404: \n"
          ]
        },
        {
          "metadata": {
            "tags": null
          },
          "name": "stdout",
          "output_type": "stream",
          "text": [
            "✅ BKY.DE procesado correctamente.\n"
          ]
        },
        {
          "metadata": {
            "tags": null
          },
          "name": "stderr",
          "output_type": "stream",
          "text": [
            "ERROR:yfinance:HTTP Error 404: \n"
          ]
        },
        {
          "metadata": {
            "tags": null
          },
          "name": "stdout",
          "output_type": "stream",
          "text": [
            "✅ EQXa.DE procesado correctamente.\n",
            "✅ WE7.DE procesado correctamente.\n"
          ]
        },
        {
          "metadata": {
            "tags": null
          },
          "name": "stderr",
          "output_type": "stream",
          "text": [
            "ERROR:yfinance:HTTP Error 404: \n"
          ]
        },
        {
          "metadata": {
            "tags": null
          },
          "name": "stdout",
          "output_type": "stream",
          "text": [
            "✅ EXR2.DE procesado correctamente.\n"
          ]
        },
        {
          "metadata": {
            "tags": null
          },
          "name": "stderr",
          "output_type": "stream",
          "text": [
            "ERROR:yfinance:HTTP Error 404: \n"
          ]
        },
        {
          "metadata": {
            "tags": null
          },
          "name": "stdout",
          "output_type": "stream",
          "text": [
            "✅ ELYA.DE procesado correctamente.\n"
          ]
        },
        {
          "metadata": {
            "tags": null
          },
          "name": "stderr",
          "output_type": "stream",
          "text": [
            "ERROR:yfinance:HTTP Error 404: \n"
          ]
        },
        {
          "metadata": {
            "tags": null
          },
          "name": "stdout",
          "output_type": "stream",
          "text": [
            "✅ WEB.DE procesado correctamente.\n"
          ]
        },
        {
          "metadata": {
            "tags": null
          },
          "name": "stderr",
          "output_type": "stream",
          "text": [
            "ERROR:yfinance:HTTP Error 404: \n"
          ]
        },
        {
          "metadata": {
            "tags": null
          },
          "name": "stdout",
          "output_type": "stream",
          "text": [
            "✅ VALE3.DE procesado correctamente.\n"
          ]
        },
        {
          "metadata": {
            "tags": null
          },
          "name": "stderr",
          "output_type": "stream",
          "text": [
            "ERROR:yfinance:HTTP Error 404: \n"
          ]
        },
        {
          "metadata": {
            "tags": null
          },
          "name": "stdout",
          "output_type": "stream",
          "text": [
            "✅ PWTN.DE procesado correctamente.\n",
            "✅ 2HR.DE procesado correctamente.\n"
          ]
        },
        {
          "metadata": {
            "tags": null
          },
          "name": "stderr",
          "output_type": "stream",
          "text": [
            "ERROR:yfinance:HTTP Error 404: \n"
          ]
        },
        {
          "metadata": {
            "tags": null
          },
          "name": "stdout",
          "output_type": "stream",
          "text": [
            "✅ AOXG.DE procesado correctamente.\n",
            "✅ AMDG.DE procesado correctamente.\n",
            "✅ BIOG_p.DE procesado correctamente.\n",
            "✅ CDBG.DE procesado correctamente.\n",
            "✅ CEVG.DE procesado correctamente.\n"
          ]
        },
        {
          "metadata": {
            "tags": null
          },
          "name": "stderr",
          "output_type": "stream",
          "text": [
            "ERROR:yfinance:HTTP Error 404: \n"
          ]
        },
        {
          "metadata": {
            "tags": null
          },
          "name": "stdout",
          "output_type": "stream",
          "text": [
            "✅ CWCG.DE procesado correctamente.\n"
          ]
        },
        {
          "metadata": {
            "tags": null
          },
          "name": "stderr",
          "output_type": "stream",
          "text": [
            "ERROR:yfinance:HTTP Error 404: \n"
          ]
        },
        {
          "metadata": {
            "tags": null
          },
          "name": "stdout",
          "output_type": "stream",
          "text": [
            "✅ DICn.DE procesado correctamente.\n"
          ]
        },
        {
          "metadata": {
            "tags": null
          },
          "name": "stderr",
          "output_type": "stream",
          "text": [
            "ERROR:yfinance:HTTP Error 404: \n"
          ]
        },
        {
          "metadata": {
            "tags": null
          },
          "name": "stdout",
          "output_type": "stream",
          "text": [
            "✅ DBANn.DE procesado correctamente.\n",
            "✅ DUEG.DE procesado correctamente.\n",
            "✅ EV4G.DE procesado correctamente.\n",
            "✅ EVDG.DE procesado correctamente.\n"
          ]
        },
        {
          "metadata": {
            "tags": null
          },
          "name": "stderr",
          "output_type": "stream",
          "text": [
            "ERROR:yfinance:HTTP Error 404: \n"
          ]
        },
        {
          "metadata": {
            "tags": null
          },
          "name": "stdout",
          "output_type": "stream",
          "text": [
            "✅ GLJn.DE procesado correctamente.\n"
          ]
        },
        {
          "metadata": {
            "tags": null
          },
          "name": "stderr",
          "output_type": "stream",
          "text": [
            "ERROR:yfinance:HTTP Error 404: \n"
          ]
        },
        {
          "metadata": {
            "tags": null
          },
          "name": "stdout",
          "output_type": "stream",
          "text": [
            "✅ GSC1n.DE procesado correctamente.\n",
            "✅ HABG.DE procesado correctamente.\n",
            "✅ HAWG.DE procesado correctamente.\n",
            "✅ HBH.DE procesado correctamente.\n",
            "✅ HLGZ.DE procesado correctamente.\n",
            "✅ INHG.DE procesado correctamente.\n",
            "✅ JUNG_p.DE procesado correctamente.\n",
            "✅ KWSG.DE procesado correctamente.\n"
          ]
        },
        {
          "metadata": {
            "tags": null
          },
          "name": "stderr",
          "output_type": "stream",
          "text": [
            "ERROR:yfinance:HTTP Error 404: \n"
          ]
        },
        {
          "metadata": {
            "tags": null
          },
          "name": "stdout",
          "output_type": "stream",
          "text": [
            "✅ MVVGn.DE procesado correctamente.\n",
            "✅ NOEJ.DE procesado correctamente.\n",
            "✅ O2C.DE procesado correctamente.\n"
          ]
        },
        {
          "metadata": {
            "tags": null
          },
          "name": "stderr",
          "output_type": "stream",
          "text": [
            "ERROR:yfinance:HTTP Error 404: \n"
          ]
        },
        {
          "metadata": {
            "tags": null
          },
          "name": "stdout",
          "output_type": "stream",
          "text": [
            "✅ PATGn.DE procesado correctamente.\n"
          ]
        },
        {
          "metadata": {
            "tags": null
          },
          "name": "stderr",
          "output_type": "stream",
          "text": [
            "ERROR:yfinance:HTTP Error 404: \n"
          ]
        },
        {
          "metadata": {
            "tags": null
          },
          "name": "stdout",
          "output_type": "stream",
          "text": [
            "✅ SAXG.DE procesado correctamente.\n"
          ]
        },
        {
          "metadata": {
            "tags": null
          },
          "name": "stderr",
          "output_type": "stream",
          "text": [
            "ERROR:yfinance:HTTP Error 404: \n"
          ]
        },
        {
          "metadata": {
            "tags": null
          },
          "name": "stdout",
          "output_type": "stream",
          "text": [
            "✅ SCUGe.DE procesado correctamente.\n"
          ]
        },
        {
          "metadata": {
            "tags": null
          },
          "name": "stderr",
          "output_type": "stream",
          "text": [
            "ERROR:yfinance:HTTP Error 404: \n"
          ]
        },
        {
          "metadata": {
            "tags": null
          },
          "name": "stdout",
          "output_type": "stream",
          "text": [
            "✅ SFQN.DE procesado correctamente.\n",
            "✅ SIXG.DE procesado correctamente.\n",
            "✅ SKBG.DE procesado correctamente.\n",
            "✅ SLTG.DE procesado correctamente.\n",
            "✅ TEGG.DE procesado correctamente.\n"
          ]
        },
        {
          "metadata": {
            "tags": null
          },
          "name": "stderr",
          "output_type": "stream",
          "text": [
            "ERROR:yfinance:HTTP Error 404: \n"
          ]
        },
        {
          "metadata": {
            "tags": null
          },
          "name": "stdout",
          "output_type": "stream",
          "text": [
            "✅ TIMAn.DE procesado correctamente.\n"
          ]
        },
        {
          "metadata": {
            "tags": null
          },
          "name": "stderr",
          "output_type": "stream",
          "text": [
            "ERROR:yfinance:HTTP Error 404: \n"
          ]
        },
        {
          "metadata": {
            "tags": null
          },
          "name": "stdout",
          "output_type": "stream",
          "text": [
            "✅ TTIGn.DE procesado correctamente.\n",
            "✅ TTKG.DE procesado correctamente.\n"
          ]
        },
        {
          "metadata": {
            "tags": null
          },
          "name": "stderr",
          "output_type": "stream",
          "text": [
            "ERROR:yfinance:HTTP Error 404: \n"
          ]
        },
        {
          "metadata": {
            "tags": null
          },
          "name": "stdout",
          "output_type": "stream",
          "text": [
            "✅ WACGn.DE procesado correctamente.\n"
          ]
        },
        {
          "metadata": {
            "tags": null
          },
          "name": "stderr",
          "output_type": "stream",
          "text": [
            "ERROR:yfinance:HTTP Error 404: \n"
          ]
        },
        {
          "metadata": {
            "tags": null
          },
          "name": "stdout",
          "output_type": "stream",
          "text": [
            "✅ ZO1G.DE procesado correctamente.\n",
            "✅ EVTG.DE procesado correctamente.\n"
          ]
        },
        {
          "metadata": {
            "tags": null
          },
          "name": "stderr",
          "output_type": "stream",
          "text": [
            "ERROR:yfinance:HTTP Error 404: \n"
          ]
        },
        {
          "metadata": {
            "tags": null
          },
          "name": "stdout",
          "output_type": "stream",
          "text": [
            "✅ NWOn.DE procesado correctamente.\n"
          ]
        },
        {
          "metadata": {
            "tags": null
          },
          "name": "stderr",
          "output_type": "stream",
          "text": [
            "ERROR:yfinance:HTTP Error 404: \n"
          ]
        },
        {
          "metadata": {
            "tags": null
          },
          "name": "stdout",
          "output_type": "stream",
          "text": [
            "✅ PSAGn.DE procesado correctamente.\n",
            "✅ SBSG.DE procesado correctamente.\n"
          ]
        },
        {
          "metadata": {
            "tags": null
          },
          "name": "stderr",
          "output_type": "stream",
          "text": [
            "ERROR:yfinance:HTTP Error 404: \n"
          ]
        },
        {
          "metadata": {
            "tags": null
          },
          "name": "stdout",
          "output_type": "stream",
          "text": [
            "✅ GIBG.DE procesado correctamente.\n"
          ]
        },
        {
          "metadata": {
            "tags": null
          },
          "name": "stderr",
          "output_type": "stream",
          "text": [
            "ERROR:yfinance:HTTP Error 404: \n"
          ]
        },
        {
          "metadata": {
            "tags": null
          },
          "name": "stdout",
          "output_type": "stream",
          "text": [
            "✅ LM.DE procesado correctamente.\n",
            "✅ T6A.DE procesado correctamente.\n"
          ]
        },
        {
          "metadata": {
            "tags": null
          },
          "name": "stderr",
          "output_type": "stream",
          "text": [
            "ERROR:yfinance:HTTP Error 404: \n"
          ]
        },
        {
          "metadata": {
            "tags": null
          },
          "name": "stdout",
          "output_type": "stream",
          "text": [
            "✅ WPEn.DE procesado correctamente.\n",
            "✅ XY6.DE procesado correctamente.\n"
          ]
        },
        {
          "metadata": {
            "tags": null
          },
          "name": "stderr",
          "output_type": "stream",
          "text": [
            "ERROR:yfinance:HTTP Error 404: \n"
          ]
        },
        {
          "metadata": {
            "tags": null
          },
          "name": "stdout",
          "output_type": "stream",
          "text": [
            "✅ AVMR.DE procesado correctamente.\n"
          ]
        },
        {
          "metadata": {
            "tags": null
          },
          "name": "stderr",
          "output_type": "stream",
          "text": [
            "ERROR:yfinance:HTTP Error 404: \n"
          ]
        },
        {
          "metadata": {
            "tags": null
          },
          "name": "stdout",
          "output_type": "stream",
          "text": [
            "✅ DXCM.DE procesado correctamente.\n",
            "✅ AVT.DE procesado correctamente.\n"
          ]
        },
        {
          "metadata": {
            "tags": null
          },
          "name": "stderr",
          "output_type": "stream",
          "text": [
            "ERROR:yfinance:HTTP Error 404: \n"
          ]
        },
        {
          "metadata": {
            "tags": null
          },
          "name": "stdout",
          "output_type": "stream",
          "text": [
            "✅ HG1G.DE procesado correctamente.\n",
            "✅ AVX.DE procesado correctamente.\n",
            "✅ UUUG.DE procesado correctamente.\n"
          ]
        },
        {
          "metadata": {
            "tags": null
          },
          "name": "stderr",
          "output_type": "stream",
          "text": [
            "ERROR:yfinance:HTTP Error 404: \n"
          ]
        },
        {
          "metadata": {
            "tags": null
          },
          "name": "stdout",
          "output_type": "stream",
          "text": [
            "✅ VSCk.DE procesado correctamente.\n",
            "✅ AAQG.DE procesado correctamente.\n",
            "✅ APME.DE procesado correctamente.\n"
          ]
        },
        {
          "metadata": {
            "tags": null
          },
          "name": "stderr",
          "output_type": "stream",
          "text": [
            "ERROR:yfinance:HTTP Error 404: \n"
          ]
        },
        {
          "metadata": {
            "tags": null
          },
          "name": "stdout",
          "output_type": "stream",
          "text": [
            "✅ AZZ.DE procesado correctamente.\n"
          ]
        },
        {
          "metadata": {
            "tags": null
          },
          "name": "stderr",
          "output_type": "stream",
          "text": [
            "ERROR:yfinance:HTTP Error 404: \n"
          ]
        },
        {
          "metadata": {
            "tags": null
          },
          "name": "stdout",
          "output_type": "stream",
          "text": [
            "✅ ADDG.DE procesado correctamente.\n"
          ]
        },
        {
          "metadata": {
            "tags": null
          },
          "name": "stderr",
          "output_type": "stream",
          "text": [
            "ERROR:yfinance:HTTP Error 404: \n"
          ]
        },
        {
          "metadata": {
            "tags": null
          },
          "name": "stdout",
          "output_type": "stream",
          "text": [
            "✅ AGXG.DE procesado correctamente.\n",
            "✅ AAHG.DE procesado correctamente.\n"
          ]
        },
        {
          "metadata": {
            "tags": null
          },
          "name": "stderr",
          "output_type": "stream",
          "text": [
            "ERROR:yfinance:HTTP Error 404: \n"
          ]
        },
        {
          "metadata": {
            "tags": null
          },
          "name": "stdout",
          "output_type": "stream",
          "text": [
            "✅ B.DE procesado correctamente.\n",
            "✅ E0P.DE procesado correctamente.\n"
          ]
        },
        {
          "metadata": {
            "tags": null
          },
          "name": "stderr",
          "output_type": "stream",
          "text": [
            "ERROR:yfinance:HTTP Error 404: \n"
          ]
        },
        {
          "metadata": {
            "tags": null
          },
          "name": "stdout",
          "output_type": "stream",
          "text": [
            "✅ B8JN.DE procesado correctamente.\n"
          ]
        },
        {
          "metadata": {
            "tags": null
          },
          "name": "stderr",
          "output_type": "stream",
          "text": [
            "ERROR:yfinance:HTTP Error 404: \n"
          ]
        },
        {
          "metadata": {
            "tags": null
          },
          "name": "stdout",
          "output_type": "stream",
          "text": [
            "✅ AYDGn.DE procesado correctamente.\n"
          ]
        },
        {
          "metadata": {
            "tags": null
          },
          "name": "stderr",
          "output_type": "stream",
          "text": [
            "ERROR:yfinance:HTTP Error 404: \n"
          ]
        },
        {
          "metadata": {
            "tags": null
          },
          "name": "stdout",
          "output_type": "stream",
          "text": [
            "✅ ACWNn.DE procesado correctamente.\n",
            "✅ AOFG.DE procesado correctamente.\n",
            "✅ BSLG.DE procesado correctamente.\n",
            "✅ BYWG.DE procesado correctamente.\n"
          ]
        },
        {
          "metadata": {
            "tags": null
          },
          "name": "stderr",
          "output_type": "stream",
          "text": [
            "ERROR:yfinance:HTTP Error 404: \n"
          ]
        },
        {
          "metadata": {
            "tags": null
          },
          "name": "stdout",
          "output_type": "stream",
          "text": [
            "✅ BAH.DE procesado correctamente.\n",
            "✅ BIOG.DE procesado correctamente.\n",
            "✅ BTBB.DE procesado correctamente.\n",
            "✅ BMWG_p.DE procesado correctamente.\n",
            "✅ BMMG.DE procesado correctamente.\n",
            "✅ COKG.DE procesado correctamente.\n",
            "✅ CSHG.DE procesado correctamente.\n",
            "✅ EBIX.DE procesado correctamente.\n"
          ]
        },
        {
          "metadata": {
            "tags": null
          },
          "name": "stderr",
          "output_type": "stream",
          "text": [
            "ERROR:yfinance:HTTP Error 404: \n"
          ]
        },
        {
          "metadata": {
            "tags": null
          },
          "name": "stdout",
          "output_type": "stream",
          "text": [
            "✅ CSGG.DE procesado correctamente.\n"
          ]
        },
        {
          "metadata": {
            "tags": null
          },
          "name": "stderr",
          "output_type": "stream",
          "text": [
            "ERROR:yfinance:HTTP Error 404: \n"
          ]
        },
        {
          "metadata": {
            "tags": null
          },
          "name": "stdout",
          "output_type": "stream",
          "text": [
            "✅ ECHO.DE procesado correctamente.\n"
          ]
        },
        {
          "metadata": {
            "tags": null
          },
          "name": "stderr",
          "output_type": "stream",
          "text": [
            "ERROR:yfinance:HTTP Error 404: \n"
          ]
        },
        {
          "metadata": {
            "tags": null
          },
          "name": "stdout",
          "output_type": "stream",
          "text": [
            "✅ COPMa.DE procesado correctamente.\n"
          ]
        },
        {
          "metadata": {
            "tags": null
          },
          "name": "stderr",
          "output_type": "stream",
          "text": [
            "ERROR:yfinance:HTTP Error 404: \n"
          ]
        },
        {
          "metadata": {
            "tags": null
          },
          "name": "stdout",
          "output_type": "stream",
          "text": [
            "✅ 3ER.DE procesado correctamente.\n"
          ]
        },
        {
          "metadata": {
            "tags": null
          },
          "name": "stderr",
          "output_type": "stream",
          "text": [
            "ERROR:yfinance:HTTP Error 404: \n"
          ]
        },
        {
          "metadata": {
            "tags": null
          },
          "name": "stdout",
          "output_type": "stream",
          "text": [
            "✅ CE2G.DE procesado correctamente.\n"
          ]
        },
        {
          "metadata": {
            "tags": null
          },
          "name": "stderr",
          "output_type": "stream",
          "text": [
            "ERROR:yfinance:HTTP Error 404: \n"
          ]
        },
        {
          "metadata": {
            "tags": null
          },
          "name": "stdout",
          "output_type": "stream",
          "text": [
            "✅ ECPG.DE procesado correctamente.\n"
          ]
        },
        {
          "metadata": {
            "tags": null
          },
          "name": "stderr",
          "output_type": "stream",
          "text": [
            "ERROR:yfinance:HTTP Error 404: \n"
          ]
        },
        {
          "metadata": {
            "tags": null
          },
          "name": "stdout",
          "output_type": "stream",
          "text": [
            "✅ BDN.DE procesado correctamente.\n",
            "✅ DAMG.DE procesado correctamente.\n"
          ]
        },
        {
          "metadata": {
            "tags": null
          },
          "name": "stderr",
          "output_type": "stream",
          "text": [
            "ERROR:yfinance:HTTP Error 404: \n"
          ]
        },
        {
          "metadata": {
            "tags": null
          },
          "name": "stdout",
          "output_type": "stream",
          "text": [
            "✅ LOUDG.DE procesado correctamente.\n"
          ]
        },
        {
          "metadata": {
            "tags": null
          },
          "name": "stderr",
          "output_type": "stream",
          "text": [
            "ERROR:yfinance:HTTP Error 404: \n"
          ]
        },
        {
          "metadata": {
            "tags": null
          },
          "name": "stdout",
          "output_type": "stream",
          "text": [
            "✅ DFTKn.DE procesado correctamente.\n",
            "✅ HNLG.DE procesado correctamente.\n"
          ]
        },
        {
          "metadata": {
            "tags": null
          },
          "name": "stderr",
          "output_type": "stream",
          "text": [
            "ERROR:yfinance:HTTP Error 404: \n"
          ]
        },
        {
          "metadata": {
            "tags": null
          },
          "name": "stdout",
          "output_type": "stream",
          "text": [
            "✅ DRWG.DE procesado correctamente.\n"
          ]
        },
        {
          "metadata": {
            "tags": null
          },
          "name": "stderr",
          "output_type": "stream",
          "text": [
            "ERROR:yfinance:HTTP Error 404: \n"
          ]
        },
        {
          "metadata": {
            "tags": null
          },
          "name": "stdout",
          "output_type": "stream",
          "text": [
            "✅ BE4A.DE procesado correctamente.\n"
          ]
        },
        {
          "metadata": {
            "tags": null
          },
          "name": "stderr",
          "output_type": "stream",
          "text": [
            "ERROR:yfinance:HTTP Error 404: \n"
          ]
        },
        {
          "metadata": {
            "tags": null
          },
          "name": "stdout",
          "output_type": "stream",
          "text": [
            "✅ BGSN.DE procesado correctamente.\n",
            "✅ EUZG.DE procesado correctamente.\n"
          ]
        },
        {
          "metadata": {
            "tags": null
          },
          "name": "stderr",
          "output_type": "stream",
          "text": [
            "ERROR:yfinance:HTTP Error 404: \n"
          ]
        },
        {
          "metadata": {
            "tags": null
          },
          "name": "stdout",
          "output_type": "stream",
          "text": [
            "✅ E4CG.DE procesado correctamente.\n",
            "✅ EING_p.DE procesado correctamente.\n"
          ]
        },
        {
          "metadata": {
            "tags": null
          },
          "name": "stderr",
          "output_type": "stream",
          "text": [
            "ERROR:yfinance:HTTP Error 404: \n"
          ]
        },
        {
          "metadata": {
            "tags": null
          },
          "name": "stdout",
          "output_type": "stream",
          "text": [
            "✅ EE.DE procesado correctamente.\n",
            "✅ ELGG.DE procesado correctamente.\n"
          ]
        },
        {
          "metadata": {
            "tags": null
          },
          "name": "stderr",
          "output_type": "stream",
          "text": [
            "ERROR:yfinance:HTTP Error 404: \n"
          ]
        },
        {
          "metadata": {
            "tags": null
          },
          "name": "stdout",
          "output_type": "stream",
          "text": [
            "✅ ETGG.DE procesado correctamente.\n"
          ]
        },
        {
          "metadata": {
            "tags": null
          },
          "name": "stderr",
          "output_type": "stream",
          "text": [
            "ERROR:yfinance:HTTP Error 404: \n"
          ]
        },
        {
          "metadata": {
            "tags": null
          },
          "name": "stdout",
          "output_type": "stream",
          "text": [
            "✅ ECXn.DE procesado correctamente.\n"
          ]
        },
        {
          "metadata": {
            "tags": null
          },
          "name": "stderr",
          "output_type": "stream",
          "text": [
            "ERROR:yfinance:HTTP Error 404: \n"
          ]
        },
        {
          "metadata": {
            "tags": null
          },
          "name": "stdout",
          "output_type": "stream",
          "text": [
            "✅ SQ7B.DE procesado correctamente.\n",
            "✅ A4Y.DE procesado correctamente.\n"
          ]
        },
        {
          "metadata": {
            "tags": null
          },
          "name": "stderr",
          "output_type": "stream",
          "text": [
            "ERROR:yfinance:HTTP Error 404: \n"
          ]
        },
        {
          "metadata": {
            "tags": null
          },
          "name": "stdout",
          "output_type": "stream",
          "text": [
            "✅ EUCAn.DE procesado correctamente.\n"
          ]
        },
        {
          "metadata": {
            "tags": null
          },
          "name": "stderr",
          "output_type": "stream",
          "text": [
            "ERROR:yfinance:HTTP Error 404: \n"
          ]
        },
        {
          "metadata": {
            "tags": null
          },
          "name": "stdout",
          "output_type": "stream",
          "text": [
            "✅ EWI1.DE procesado correctamente.\n"
          ]
        },
        {
          "metadata": {
            "tags": null
          },
          "name": "stderr",
          "output_type": "stream",
          "text": [
            "ERROR:yfinance:HTTP Error 404: \n"
          ]
        },
        {
          "metadata": {
            "tags": null
          },
          "name": "stdout",
          "output_type": "stream",
          "text": [
            "✅ EXCL.DE procesado correctamente.\n",
            "✅ FAAS.DE procesado correctamente.\n"
          ]
        },
        {
          "metadata": {
            "tags": null
          },
          "name": "stderr",
          "output_type": "stream",
          "text": [
            "ERROR:yfinance:HTTP Error 404: \n"
          ]
        },
        {
          "metadata": {
            "tags": null
          },
          "name": "stdout",
          "output_type": "stream",
          "text": [
            "✅ FVIG.DE procesado correctamente.\n",
            "✅ SISG.DE procesado correctamente.\n",
            "✅ FEVG.DE procesado correctamente.\n"
          ]
        },
        {
          "metadata": {
            "tags": null
          },
          "name": "stderr",
          "output_type": "stream",
          "text": [
            "ERROR:yfinance:HTTP Error 404: \n"
          ]
        },
        {
          "metadata": {
            "tags": null
          },
          "name": "stdout",
          "output_type": "stream",
          "text": [
            "✅ FPHG.DE procesado correctamente.\n",
            "✅ BID.DE procesado correctamente.\n",
            "✅ FEWG.DE procesado correctamente.\n",
            "✅ GMEG.DE procesado correctamente.\n",
            "✅ GFTG.DE procesado correctamente.\n"
          ]
        },
        {
          "metadata": {
            "tags": null
          },
          "name": "stderr",
          "output_type": "stream",
          "text": [
            "ERROR:yfinance:HTTP Error 404: \n"
          ]
        },
        {
          "metadata": {
            "tags": null
          },
          "name": "stdout",
          "output_type": "stream",
          "text": [
            "✅ GKSG.DE procesado correctamente.\n",
            "✅ EFII.DE procesado correctamente.\n"
          ]
        },
        {
          "metadata": {
            "tags": null
          },
          "name": "stderr",
          "output_type": "stream",
          "text": [
            "ERROR:yfinance:HTTP Error 404: \n"
          ]
        },
        {
          "metadata": {
            "tags": null
          },
          "name": "stdout",
          "output_type": "stream",
          "text": [
            "✅ G7BG.DE procesado correctamente.\n",
            "✅ BIOa.DE procesado correctamente.\n"
          ]
        },
        {
          "metadata": {
            "tags": null
          },
          "name": "stderr",
          "output_type": "stream",
          "text": [
            "ERROR:yfinance:HTTP Error 404: \n"
          ]
        },
        {
          "metadata": {
            "tags": null
          },
          "name": "stdout",
          "output_type": "stream",
          "text": [
            "✅ HXCKk.DE procesado correctamente.\n",
            "✅ HPBGn.DE procesado correctamente.\n",
            "✅ HNKG.DE procesado correctamente.\n"
          ]
        },
        {
          "metadata": {
            "tags": null
          },
          "name": "stderr",
          "output_type": "stream",
          "text": [
            "ERROR:yfinance:HTTP Error 404: \n"
          ]
        },
        {
          "metadata": {
            "tags": null
          },
          "name": "stdout",
          "output_type": "stream",
          "text": [
            "✅ HWSAk.DE procesado correctamente.\n",
            "✅ HBMG.DE procesado correctamente.\n"
          ]
        },
        {
          "metadata": {
            "tags": null
          },
          "name": "stderr",
          "output_type": "stream",
          "text": [
            "ERROR:yfinance:HTTP Error 404: \n"
          ]
        },
        {
          "metadata": {
            "tags": null
          },
          "name": "stdout",
          "output_type": "stream",
          "text": [
            "✅ HYQGn.DE procesado correctamente.\n"
          ]
        },
        {
          "metadata": {
            "tags": null
          },
          "name": "stderr",
          "output_type": "stream",
          "text": [
            "ERROR:yfinance:HTTP Error 404: \n"
          ]
        },
        {
          "metadata": {
            "tags": null
          },
          "name": "stdout",
          "output_type": "stream",
          "text": [
            "✅ EG1.DE procesado correctamente.\n",
            "✅ EGB.DE procesado correctamente.\n",
            "✅ IXXG.DE procesado correctamente.\n",
            "✅ EGCA.DE procesado correctamente.\n",
            "✅ ISHG.DE procesado correctamente.\n",
            "✅ IS7G.DE procesado correctamente.\n"
          ]
        },
        {
          "metadata": {
            "tags": null
          },
          "name": "stderr",
          "output_type": "stream",
          "text": [
            "ERROR:yfinance:HTTP Error 404: \n"
          ]
        },
        {
          "metadata": {
            "tags": null
          },
          "name": "stdout",
          "output_type": "stream",
          "text": [
            "✅ IVXG.DE procesado correctamente.\n",
            "✅ ISRG.DE procesado correctamente.\n",
            "✅ BKS.DE procesado correctamente.\n",
            "✅ IVUG.DE procesado correctamente.\n",
            "✅ EGHT.DE procesado correctamente.\n",
            "✅ EGOV.DE procesado correctamente.\n"
          ]
        },
        {
          "metadata": {
            "tags": null
          },
          "name": "stderr",
          "output_type": "stream",
          "text": [
            "ERROR:yfinance:HTTP Error 404: \n"
          ]
        },
        {
          "metadata": {
            "tags": null
          },
          "name": "stdout",
          "output_type": "stream",
          "text": [
            "✅ K1RG.DE procesado correctamente.\n"
          ]
        },
        {
          "metadata": {
            "tags": null
          },
          "name": "stderr",
          "output_type": "stream",
          "text": [
            "ERROR:yfinance:HTTP Error 404: \n"
          ]
        },
        {
          "metadata": {
            "tags": null
          },
          "name": "stdout",
          "output_type": "stream",
          "text": [
            "✅ KU2G.DE procesado correctamente.\n",
            "✅ LEIG.DE procesado correctamente.\n"
          ]
        },
        {
          "metadata": {
            "tags": null
          },
          "name": "stderr",
          "output_type": "stream",
          "text": [
            "ERROR:yfinance:HTTP Error 404: \n"
          ]
        },
        {
          "metadata": {
            "tags": null
          },
          "name": "stdout",
          "output_type": "stream",
          "text": [
            "✅ L1OGk.DE procesado correctamente.\n"
          ]
        },
        {
          "metadata": {
            "tags": null
          },
          "name": "stderr",
          "output_type": "stream",
          "text": [
            "ERROR:yfinance:HTTP Error 404: \n"
          ]
        },
        {
          "metadata": {
            "tags": null
          },
          "name": "stdout",
          "output_type": "stream",
          "text": [
            "✅ EGVY.DE procesado correctamente.\n",
            "✅ TGHN.DE procesado correctamente.\n",
            "✅ LPKG.DE procesado correctamente.\n",
            "✅ ECKG.DE procesado correctamente.\n"
          ]
        },
        {
          "metadata": {
            "tags": null
          },
          "name": "stderr",
          "output_type": "stream",
          "text": [
            "ERROR:yfinance:HTTP Error 404: \n"
          ]
        },
        {
          "metadata": {
            "tags": null
          },
          "name": "stdout",
          "output_type": "stream",
          "text": [
            "✅ EGY.DE procesado correctamente.\n",
            "✅ MANG_p.DE procesado correctamente.\n"
          ]
        },
        {
          "metadata": {
            "tags": null
          },
          "name": "stderr",
          "output_type": "stream",
          "text": [
            "ERROR:yfinance:HTTP Error 404: \n"
          ]
        },
        {
          "metadata": {
            "tags": null
          },
          "name": "stdout",
          "output_type": "stream",
          "text": [
            "✅ BKU.DE procesado correctamente.\n",
            "✅ MZXG.DE procesado correctamente.\n"
          ]
        },
        {
          "metadata": {
            "tags": null
          },
          "name": "stderr",
          "output_type": "stream",
          "text": [
            "ERROR:yfinance:HTTP Error 404: \n"
          ]
        },
        {
          "metadata": {
            "tags": null
          },
          "name": "stdout",
          "output_type": "stream",
          "text": [
            "✅ MBBG.DE procesado correctamente.\n",
            "✅ MEDG.DE procesado correctamente.\n"
          ]
        },
        {
          "metadata": {
            "tags": null
          },
          "name": "stderr",
          "output_type": "stream",
          "text": [
            "ERROR:yfinance:HTTP Error 404: \n"
          ]
        },
        {
          "metadata": {
            "tags": null
          },
          "name": "stdout",
          "output_type": "stream",
          "text": [
            "✅ CEC1_p.DE procesado correctamente.\n"
          ]
        },
        {
          "metadata": {
            "tags": null
          },
          "name": "stderr",
          "output_type": "stream",
          "text": [
            "ERROR:yfinance:HTTP Error 404: \n"
          ]
        },
        {
          "metadata": {
            "tags": null
          },
          "name": "stdout",
          "output_type": "stream",
          "text": [
            "✅ M3VGn.DE procesado correctamente.\n"
          ]
        },
        {
          "metadata": {
            "tags": null
          },
          "name": "stderr",
          "output_type": "stream",
          "text": [
            "ERROR:yfinance:HTTP Error 404: \n"
          ]
        },
        {
          "metadata": {
            "tags": null
          },
          "name": "stdout",
          "output_type": "stream",
          "text": [
            "✅ MBQGn.DE procesado correctamente.\n",
            "✅ MGNK.DE procesado correctamente.\n",
            "✅ MUBG.DE procesado correctamente.\n",
            "✅ NEKG.DE procesado correctamente.\n",
            "✅ NXUG.DE procesado correctamente.\n"
          ]
        },
        {
          "metadata": {
            "tags": null
          },
          "name": "stderr",
          "output_type": "stream",
          "text": [
            "ERROR:yfinance:HTTP Error 404: \n"
          ]
        },
        {
          "metadata": {
            "tags": null
          },
          "name": "stdout",
          "output_type": "stream",
          "text": [
            "✅ BOH.DE procesado correctamente.\n",
            "✅ OHBG.DE procesado correctamente.\n",
            "✅ BRKa.DE procesado correctamente.\n"
          ]
        },
        {
          "metadata": {
            "tags": null
          },
          "name": "stderr",
          "output_type": "stream",
          "text": [
            "ERROR:yfinance:HTTP Error 404: \n"
          ]
        },
        {
          "metadata": {
            "tags": null
          },
          "name": "stdout",
          "output_type": "stream",
          "text": [
            "✅ O4BG.DE procesado correctamente.\n"
          ]
        },
        {
          "metadata": {
            "tags": null
          },
          "name": "stderr",
          "output_type": "stream",
          "text": [
            "ERROR:yfinance:HTTP Error 404: \n"
          ]
        },
        {
          "metadata": {
            "tags": null
          },
          "name": "stdout",
          "output_type": "stream",
          "text": [
            "✅ EIG.DE procesado correctamente.\n",
            "✅ PA8G.DE procesado correctamente.\n",
            "✅ PGNG.DE procesado correctamente.\n"
          ]
        },
        {
          "metadata": {
            "tags": null
          },
          "name": "stderr",
          "output_type": "stream",
          "text": [
            "ERROR:yfinance:HTTP Error 404: \n"
          ]
        },
        {
          "metadata": {
            "tags": null
          },
          "name": "stdout",
          "output_type": "stream",
          "text": [
            "✅ RM11.DE procesado correctamente.\n",
            "✅ PNEGn.DE procesado correctamente.\n"
          ]
        },
        {
          "metadata": {
            "tags": null
          },
          "name": "stderr",
          "output_type": "stream",
          "text": [
            "ERROR:yfinance:HTTP Error 404: \n"
          ]
        },
        {
          "metadata": {
            "tags": null
          },
          "name": "stdout",
          "output_type": "stream",
          "text": [
            "✅ ELY.DE procesado correctamente.\n",
            "✅ BRO.DE procesado correctamente.\n"
          ]
        },
        {
          "metadata": {
            "tags": null
          },
          "name": "stderr",
          "output_type": "stream",
          "text": [
            "ERROR:yfinance:HTTP Error 404: \n"
          ]
        },
        {
          "metadata": {
            "tags": null
          },
          "name": "stdout",
          "output_type": "stream",
          "text": [
            "✅ BW.DE procesado correctamente.\n",
            "✅ PWOG.DE procesado correctamente.\n",
            "✅ PUS.DE procesado correctamente.\n",
            "✅ TPEG.DE procesado correctamente.\n"
          ]
        },
        {
          "metadata": {
            "tags": null
          },
          "name": "stderr",
          "output_type": "stream",
          "text": [
            "ERROR:yfinance:HTTP Error 404: \n"
          ]
        },
        {
          "metadata": {
            "tags": null
          },
          "name": "stdout",
          "output_type": "stream",
          "text": [
            "✅ SANT1.DE procesado correctamente.\n",
            "✅ RSL2.DE procesado correctamente.\n",
            "✅ RTCG.DE procesado correctamente.\n"
          ]
        },
        {
          "metadata": {
            "tags": null
          },
          "name": "stderr",
          "output_type": "stream",
          "text": [
            "ERROR:yfinance:HTTP Error 404: \n"
          ]
        },
        {
          "metadata": {
            "tags": null
          },
          "name": "stdout",
          "output_type": "stream",
          "text": [
            "✅ BYD.DE procesado correctamente.\n",
            "✅ RIB.DE procesado correctamente.\n"
          ]
        },
        {
          "metadata": {
            "tags": null
          },
          "name": "stderr",
          "output_type": "stream",
          "text": [
            "ERROR:yfinance:HTTP Error 404: \n"
          ]
        },
        {
          "metadata": {
            "tags": null
          },
          "name": "stdout",
          "output_type": "stream",
          "text": [
            "✅ C08.DE procesado correctamente.\n",
            "✅ RWEG_p.DE procesado correctamente.\n"
          ]
        },
        {
          "metadata": {
            "tags": null
          },
          "name": "stderr",
          "output_type": "stream",
          "text": [
            "ERROR:yfinance:HTTP Error 404: \n"
          ]
        },
        {
          "metadata": {
            "tags": null
          },
          "name": "stdout",
          "output_type": "stream",
          "text": [
            "✅ ENS.DE procesado correctamente.\n",
            "✅ SATG.DE procesado correctamente.\n",
            "✅ SATG_p.DE procesado correctamente.\n"
          ]
        },
        {
          "metadata": {
            "tags": null
          },
          "name": "stderr",
          "output_type": "stream",
          "text": [
            "ERROR:yfinance:HTTP Error 404: \n"
          ]
        },
        {
          "metadata": {
            "tags": null
          },
          "name": "stdout",
          "output_type": "stream",
          "text": [
            "✅ YSNG.DE procesado correctamente.\n",
            "✅ C9S.DE procesado correctamente.\n"
          ]
        },
        {
          "metadata": {
            "tags": null
          },
          "name": "stderr",
          "output_type": "stream",
          "text": [
            "ERROR:yfinance:HTTP Error 404: \n"
          ]
        },
        {
          "metadata": {
            "tags": null
          },
          "name": "stdout",
          "output_type": "stream",
          "text": [
            "✅ F3CG.DE procesado correctamente.\n",
            "✅ SW1.DE procesado correctamente.\n",
            "✅ SZZG.DE procesado correctamente.\n",
            "✅ SIXG_p.DE procesado correctamente.\n"
          ]
        },
        {
          "metadata": {
            "tags": null
          },
          "name": "stderr",
          "output_type": "stream",
          "text": [
            "ERROR:yfinance:HTTP Error 404: \n"
          ]
        },
        {
          "metadata": {
            "tags": null
          },
          "name": "stdout",
          "output_type": "stream",
          "text": [
            "✅ S4AG.DE procesado correctamente.\n",
            "✅ SYTG.DE procesado correctamente.\n",
            "✅ SFXG.DE procesado correctamente.\n",
            "✅ ENZ.DE procesado correctamente.\n",
            "✅ CAE.DE procesado correctamente.\n",
            "✅ SURG.DE procesado correctamente.\n"
          ]
        },
        {
          "metadata": {
            "tags": null
          },
          "name": "stderr",
          "output_type": "stream",
          "text": [
            "ERROR:yfinance:HTTP Error 404: \n"
          ]
        },
        {
          "metadata": {
            "tags": null
          },
          "name": "stdout",
          "output_type": "stream",
          "text": [
            "✅ EXNGn.DE procesado correctamente.\n"
          ]
        },
        {
          "metadata": {
            "tags": null
          },
          "name": "stderr",
          "output_type": "stream",
          "text": [
            "ERROR:yfinance:HTTP Error 404: \n"
          ]
        },
        {
          "metadata": {
            "tags": null
          },
          "name": "stdout",
          "output_type": "stream",
          "text": [
            "✅ CALX.DE procesado correctamente.\n",
            "✅ SYZG.DE procesado correctamente.\n"
          ]
        },
        {
          "metadata": {
            "tags": null
          },
          "name": "stderr",
          "output_type": "stream",
          "text": [
            "ERROR:yfinance:HTTP Error 404: \n"
          ]
        },
        {
          "metadata": {
            "tags": null
          },
          "name": "stdout",
          "output_type": "stream",
          "text": [
            "✅ TTRGn.DE procesado correctamente.\n",
            "✅ TGTG.DE procesado correctamente.\n",
            "✅ TLIG.DE procesado correctamente.\n",
            "✅ HOC.DE procesado correctamente.\n"
          ]
        },
        {
          "metadata": {
            "tags": null
          },
          "name": "stderr",
          "output_type": "stream",
          "text": [
            "ERROR:yfinance:HTTP Error 404: \n"
          ]
        },
        {
          "metadata": {
            "tags": null
          },
          "name": "stdout",
          "output_type": "stream",
          "text": [
            "✅ TVDGk.DE procesado correctamente.\n",
            "✅ US5.DE procesado correctamente.\n",
            "✅ ULCG.DE procesado correctamente.\n"
          ]
        },
        {
          "metadata": {
            "tags": null
          },
          "name": "stderr",
          "output_type": "stream",
          "text": [
            "ERROR:yfinance:HTTP Error 404: \n"
          ]
        },
        {
          "metadata": {
            "tags": null
          },
          "name": "stdout",
          "output_type": "stream",
          "text": [
            "✅ UP7G.DE procesado correctamente.\n",
            "✅ OSPGk.DE procesado correctamente.\n"
          ]
        },
        {
          "metadata": {
            "tags": null
          },
          "name": "stderr",
          "output_type": "stream",
          "text": [
            "ERROR:yfinance:HTTP Error 404: \n"
          ]
        },
        {
          "metadata": {
            "tags": null
          },
          "name": "stdout",
          "output_type": "stream",
          "text": [
            "✅ ER2N.DE procesado correctamente.\n",
            "✅ VIBG_p.DE procesado correctamente.\n"
          ]
        },
        {
          "metadata": {
            "tags": null
          },
          "name": "stderr",
          "output_type": "stream",
          "text": [
            "ERROR:yfinance:HTTP Error 404: \n"
          ]
        },
        {
          "metadata": {
            "tags": null
          },
          "name": "stdout",
          "output_type": "stream",
          "text": [
            "✅ V3VGn.DE procesado correctamente.\n",
            "✅ WSUG.DE procesado correctamente.\n"
          ]
        },
        {
          "metadata": {
            "tags": null
          },
          "name": "stderr",
          "output_type": "stream",
          "text": [
            "ERROR:yfinance:HTTP Error 404: \n"
          ]
        },
        {
          "metadata": {
            "tags": null
          },
          "name": "stdout",
          "output_type": "stream",
          "text": [
            "✅ WUGG.DE procesado correctamente.\n",
            "✅ WUGG_p.DE procesado correctamente.\n"
          ]
        },
        {
          "metadata": {
            "tags": null
          },
          "name": "stderr",
          "output_type": "stream",
          "text": [
            "ERROR:yfinance:HTTP Error 404: \n"
          ]
        },
        {
          "metadata": {
            "tags": null
          },
          "name": "stdout",
          "output_type": "stream",
          "text": [
            "✅ WL6G.DE procesado correctamente.\n",
            "✅ WZM.DE procesado correctamente.\n"
          ]
        },
        {
          "metadata": {
            "tags": null
          },
          "name": "stderr",
          "output_type": "stream",
          "text": [
            "ERROR:yfinance:HTTP Error 404: \n"
          ]
        },
        {
          "metadata": {
            "tags": null
          },
          "name": "stdout",
          "output_type": "stream",
          "text": [
            "✅ YOCG.DE procesado correctamente.\n"
          ]
        },
        {
          "metadata": {
            "tags": null
          },
          "name": "stderr",
          "output_type": "stream",
          "text": [
            "ERROR:yfinance:HTTP Error 404: \n"
          ]
        },
        {
          "metadata": {
            "tags": null
          },
          "name": "stdout",
          "output_type": "stream",
          "text": [
            "✅ AMA1.DE procesado correctamente.\n"
          ]
        },
        {
          "metadata": {
            "tags": null
          },
          "name": "stderr",
          "output_type": "stream",
          "text": [
            "ERROR:yfinance:HTTP Error 404: \n"
          ]
        },
        {
          "metadata": {
            "tags": null
          },
          "name": "stdout",
          "output_type": "stream",
          "text": [
            "✅ ZEFG.DE procesado correctamente.\n"
          ]
        },
        {
          "metadata": {
            "tags": null
          },
          "name": "stderr",
          "output_type": "stream",
          "text": [
            "ERROR:yfinance:HTTP Error 404: \n"
          ]
        },
        {
          "metadata": {
            "tags": null
          },
          "name": "stdout",
          "output_type": "stream",
          "text": [
            "✅ EOCy.DE procesado correctamente.\n"
          ]
        },
        {
          "metadata": {
            "tags": null
          },
          "name": "stderr",
          "output_type": "stream",
          "text": [
            "ERROR:yfinance:HTTP Error 404: \n"
          ]
        },
        {
          "metadata": {
            "tags": null
          },
          "name": "stdout",
          "output_type": "stream",
          "text": [
            "✅ BR.DE procesado correctamente.\n"
          ]
        },
        {
          "metadata": {
            "tags": null
          },
          "name": "stderr",
          "output_type": "stream",
          "text": [
            "ERROR:yfinance:HTTP Error 404: \n"
          ]
        },
        {
          "metadata": {
            "tags": null
          },
          "name": "stdout",
          "output_type": "stream",
          "text": [
            "✅ PHGy.DE procesado correctamente.\n",
            "✅ WX7.DE procesado correctamente.\n",
            "✅ T6O.DE procesado correctamente.\n",
            "✅ 2U3.DE procesado correctamente.\n",
            "✅ SNH.DE procesado correctamente.\n"
          ]
        },
        {
          "metadata": {
            "tags": null
          },
          "name": "stderr",
          "output_type": "stream",
          "text": [
            "ERROR:yfinance:HTTP Error 404: \n"
          ]
        },
        {
          "metadata": {
            "tags": null
          },
          "name": "stdout",
          "output_type": "stream",
          "text": [
            "✅ SIX.DE procesado correctamente.\n",
            "✅ ACC.DE procesado correctamente.\n"
          ]
        },
        {
          "metadata": {
            "tags": null
          },
          "name": "stderr",
          "output_type": "stream",
          "text": [
            "ERROR:yfinance:HTTP Error 404: \n"
          ]
        },
        {
          "metadata": {
            "tags": null
          },
          "name": "stdout",
          "output_type": "stream",
          "text": [
            "✅ UI51.DE procesado correctamente.\n"
          ]
        },
        {
          "metadata": {
            "tags": null
          },
          "name": "stderr",
          "output_type": "stream",
          "text": [
            "ERROR:yfinance:HTTP Error 404: \n"
          ]
        },
        {
          "metadata": {
            "tags": null
          },
          "name": "stdout",
          "output_type": "stream",
          "text": [
            "✅ CBL.DE procesado correctamente.\n",
            "✅ 8CW.DE procesado correctamente.\n"
          ]
        },
        {
          "metadata": {
            "tags": null
          },
          "name": "stderr",
          "output_type": "stream",
          "text": [
            "ERROR:yfinance:HTTP Error 404: \n"
          ]
        },
        {
          "metadata": {
            "tags": null
          },
          "name": "stdout",
          "output_type": "stream",
          "text": [
            "✅ CNPC.DE procesado correctamente.\n"
          ]
        },
        {
          "metadata": {
            "tags": null
          },
          "name": "stderr",
          "output_type": "stream",
          "text": [
            "ERROR:yfinance:HTTP Error 404: \n"
          ]
        },
        {
          "metadata": {
            "tags": null
          },
          "name": "stdout",
          "output_type": "stream",
          "text": [
            "✅ F1EF.DE procesado correctamente.\n",
            "✅ NZT.DE procesado correctamente.\n"
          ]
        },
        {
          "metadata": {
            "tags": null
          },
          "name": "stderr",
          "output_type": "stream",
          "text": [
            "ERROR:yfinance:HTTP Error 404: \n"
          ]
        },
        {
          "metadata": {
            "tags": null
          },
          "name": "stdout",
          "output_type": "stream",
          "text": [
            "✅ ORPI.DE procesado correctamente.\n"
          ]
        },
        {
          "metadata": {
            "tags": null
          },
          "name": "stderr",
          "output_type": "stream",
          "text": [
            "ERROR:yfinance:HTTP Error 404: \n"
          ]
        },
        {
          "metadata": {
            "tags": null
          },
          "name": "stdout",
          "output_type": "stream",
          "text": [
            "✅ C0Q.DE procesado correctamente.\n",
            "✅ CNR.DE procesado correctamente.\n"
          ]
        },
        {
          "metadata": {
            "tags": null
          },
          "name": "stderr",
          "output_type": "stream",
          "text": [
            "ERROR:yfinance:HTTP Error 404: \n"
          ]
        },
        {
          "metadata": {
            "tags": null
          },
          "name": "stdout",
          "output_type": "stream",
          "text": [
            "✅ QCSB.DE procesado correctamente.\n"
          ]
        },
        {
          "metadata": {
            "tags": null
          },
          "name": "stderr",
          "output_type": "stream",
          "text": [
            "ERROR:yfinance:HTTP Error 404: \n"
          ]
        },
        {
          "metadata": {
            "tags": null
          },
          "name": "stdout",
          "output_type": "stream",
          "text": [
            "✅ OHI.DE procesado correctamente.\n"
          ]
        },
        {
          "metadata": {
            "tags": null
          },
          "name": "stderr",
          "output_type": "stream",
          "text": [
            "ERROR:yfinance:HTTP Error 404: \n"
          ]
        },
        {
          "metadata": {
            "tags": null
          },
          "name": "stdout",
          "output_type": "stream",
          "text": [
            "✅ POR.DE procesado correctamente.\n"
          ]
        },
        {
          "metadata": {
            "tags": null
          },
          "name": "stderr",
          "output_type": "stream",
          "text": [
            "ERROR:yfinance:HTTP Error 404: \n"
          ]
        },
        {
          "metadata": {
            "tags": null
          },
          "name": "stdout",
          "output_type": "stream",
          "text": [
            "✅ AEOS.DE procesado correctamente.\n",
            "✅ BUEy.DE procesado correctamente.\n",
            "✅ OII.DE procesado correctamente.\n",
            "✅ AFG.DE procesado correctamente.\n"
          ]
        },
        {
          "metadata": {
            "tags": null
          },
          "name": "stderr",
          "output_type": "stream",
          "text": [
            "ERROR:yfinance:HTTP Error 404: \n"
          ]
        },
        {
          "metadata": {
            "tags": null
          },
          "name": "stdout",
          "output_type": "stream",
          "text": [
            "✅ CP.DE procesado correctamente.\n"
          ]
        },
        {
          "metadata": {
            "tags": null
          },
          "name": "stderr",
          "output_type": "stream",
          "text": [
            "ERROR:yfinance:HTTP Error 404: \n"
          ]
        },
        {
          "metadata": {
            "tags": null
          },
          "name": "stdout",
          "output_type": "stream",
          "text": [
            "✅ CYH.DE procesado correctamente.\n"
          ]
        },
        {
          "metadata": {
            "tags": null
          },
          "name": "stderr",
          "output_type": "stream",
          "text": [
            "ERROR:yfinance:HTTP Error 404: \n"
          ]
        },
        {
          "metadata": {
            "tags": null
          },
          "name": "stdout",
          "output_type": "stream",
          "text": [
            "✅ IVR.DE procesado correctamente.\n"
          ]
        },
        {
          "metadata": {
            "tags": null
          },
          "name": "stderr",
          "output_type": "stream",
          "text": [
            "ERROR:yfinance:HTTP Error 404: \n"
          ]
        },
        {
          "metadata": {
            "tags": null
          },
          "name": "stdout",
          "output_type": "stream",
          "text": [
            "✅ RBA.DE procesado correctamente.\n"
          ]
        },
        {
          "metadata": {
            "tags": null
          },
          "name": "stderr",
          "output_type": "stream",
          "text": [
            "ERROR:yfinance:HTTP Error 404: \n"
          ]
        },
        {
          "metadata": {
            "tags": null
          },
          "name": "stdout",
          "output_type": "stream",
          "text": [
            "✅ SQM.DE procesado correctamente.\n",
            "✅ B7S.DE procesado correctamente.\n"
          ]
        },
        {
          "metadata": {
            "tags": null
          },
          "name": "stderr",
          "output_type": "stream",
          "text": [
            "ERROR:yfinance:HTTP Error 404: \n"
          ]
        },
        {
          "metadata": {
            "tags": null
          },
          "name": "stdout",
          "output_type": "stream",
          "text": [
            "✅ GR0A.DE procesado correctamente.\n",
            "✅ PSRA.DE procesado correctamente.\n",
            "✅ LTI.DE procesado correctamente.\n"
          ]
        },
        {
          "metadata": {
            "tags": null
          },
          "name": "stderr",
          "output_type": "stream",
          "text": [
            "ERROR:yfinance:HTTP Error 404: \n"
          ]
        },
        {
          "metadata": {
            "tags": null
          },
          "name": "stdout",
          "output_type": "stream",
          "text": [
            "✅ 9M1N.DE procesado correctamente.\n",
            "✅ 2600y.DE procesado correctamente.\n",
            "✅ ALLD.DE procesado correctamente.\n",
            "✅ FR.DE procesado correctamente.\n",
            "✅ CCK.DE procesado correctamente.\n"
          ]
        },
        {
          "metadata": {
            "tags": null
          },
          "name": "stderr",
          "output_type": "stream",
          "text": [
            "ERROR:yfinance:HTTP Error 404: \n"
          ]
        },
        {
          "metadata": {
            "tags": null
          },
          "name": "stdout",
          "output_type": "stream",
          "text": [
            "✅ NNN.DE procesado correctamente.\n"
          ]
        },
        {
          "metadata": {
            "tags": null
          },
          "name": "stderr",
          "output_type": "stream",
          "text": [
            "ERROR:yfinance:HTTP Error 404: \n"
          ]
        },
        {
          "metadata": {
            "tags": null
          },
          "name": "stdout",
          "output_type": "stream",
          "text": [
            "✅ SCI.DE procesado correctamente.\n",
            "✅ AXS.DE procesado correctamente.\n",
            "✅ 43D.DE procesado correctamente.\n"
          ]
        },
        {
          "metadata": {
            "tags": null
          },
          "name": "stderr",
          "output_type": "stream",
          "text": [
            "ERROR:yfinance:HTTP Error 404: \n"
          ]
        },
        {
          "metadata": {
            "tags": null
          },
          "name": "stdout",
          "output_type": "stream",
          "text": [
            "✅ 07G.DE procesado correctamente.\n"
          ]
        },
        {
          "metadata": {
            "tags": null
          },
          "name": "stderr",
          "output_type": "stream",
          "text": [
            "ERROR:yfinance:HTTP Error 404: \n"
          ]
        },
        {
          "metadata": {
            "tags": null
          },
          "name": "stdout",
          "output_type": "stream",
          "text": [
            "✅ H9B1.DE procesado correctamente.\n"
          ]
        },
        {
          "metadata": {
            "tags": null
          },
          "name": "stderr",
          "output_type": "stream",
          "text": [
            "ERROR:yfinance:HTTP Error 404: \n"
          ]
        },
        {
          "metadata": {
            "tags": null
          },
          "name": "stdout",
          "output_type": "stream",
          "text": [
            "✅ MKO1.DE procesado correctamente.\n"
          ]
        },
        {
          "metadata": {
            "tags": null
          },
          "name": "stderr",
          "output_type": "stream",
          "text": [
            "ERROR:yfinance:HTTP Error 404: \n"
          ]
        },
        {
          "metadata": {
            "tags": null
          },
          "name": "stdout",
          "output_type": "stream",
          "text": [
            "✅ NCI2.DE procesado correctamente.\n",
            "✅ PKG.DE procesado correctamente.\n",
            "✅ SGM.DE procesado correctamente.\n"
          ]
        },
        {
          "metadata": {
            "tags": null
          },
          "name": "stderr",
          "output_type": "stream",
          "text": [
            "ERROR:yfinance:HTTP Error 404: \n"
          ]
        },
        {
          "metadata": {
            "tags": null
          },
          "name": "stdout",
          "output_type": "stream",
          "text": [
            "✅ AJGH.DE procesado correctamente.\n"
          ]
        },
        {
          "metadata": {
            "tags": null
          },
          "name": "stderr",
          "output_type": "stream",
          "text": [
            "ERROR:yfinance:HTTP Error 404: \n"
          ]
        },
        {
          "metadata": {
            "tags": null
          },
          "name": "stdout",
          "output_type": "stream",
          "text": [
            "✅ BCBG.DE procesado correctamente.\n"
          ]
        },
        {
          "metadata": {
            "tags": null
          },
          "name": "stderr",
          "output_type": "stream",
          "text": [
            "ERROR:yfinance:HTTP Error 404: \n"
          ]
        },
        {
          "metadata": {
            "tags": null
          },
          "name": "stdout",
          "output_type": "stream",
          "text": [
            "✅ CHD.DE procesado correctamente.\n"
          ]
        },
        {
          "metadata": {
            "tags": null
          },
          "name": "stderr",
          "output_type": "stream",
          "text": [
            "ERROR:yfinance:HTTP Error 404: \n"
          ]
        },
        {
          "metadata": {
            "tags": null
          },
          "name": "stdout",
          "output_type": "stream",
          "text": [
            "✅ DKS.DE procesado correctamente.\n"
          ]
        },
        {
          "metadata": {
            "tags": null
          },
          "name": "stderr",
          "output_type": "stream",
          "text": [
            "ERROR:yfinance:HTTP Error 404: \n"
          ]
        },
        {
          "metadata": {
            "tags": null
          },
          "name": "stdout",
          "output_type": "stream",
          "text": [
            "✅ HIW.DE procesado correctamente.\n",
            "✅ WFK.DE procesado correctamente.\n",
            "✅ LXI.DE procesado correctamente.\n"
          ]
        },
        {
          "metadata": {
            "tags": null
          },
          "name": "stderr",
          "output_type": "stream",
          "text": [
            "ERROR:yfinance:HTTP Error 404: \n"
          ]
        },
        {
          "metadata": {
            "tags": null
          },
          "name": "stdout",
          "output_type": "stream",
          "text": [
            "✅ C19.DE procesado correctamente.\n"
          ]
        },
        {
          "metadata": {
            "tags": null
          },
          "name": "stderr",
          "output_type": "stream",
          "text": [
            "ERROR:yfinance:HTTP Error 404: \n"
          ]
        },
        {
          "metadata": {
            "tags": null
          },
          "name": "stdout",
          "output_type": "stream",
          "text": [
            "✅ EXRS.DE procesado correctamente.\n",
            "✅ MFC.DE procesado correctamente.\n",
            "✅ AWN.DE procesado correctamente.\n"
          ]
        },
        {
          "metadata": {
            "tags": null
          },
          "name": "stderr",
          "output_type": "stream",
          "text": [
            "ERROR:yfinance:HTTP Error 404: \n"
          ]
        },
        {
          "metadata": {
            "tags": null
          },
          "name": "stdout",
          "output_type": "stream",
          "text": [
            "✅ AKOyb.DE procesado correctamente.\n"
          ]
        },
        {
          "metadata": {
            "tags": null
          },
          "name": "stderr",
          "output_type": "stream",
          "text": [
            "ERROR:yfinance:HTTP Error 404: \n"
          ]
        },
        {
          "metadata": {
            "tags": null
          },
          "name": "stdout",
          "output_type": "stream",
          "text": [
            "✅ 4BW.DE procesado correctamente.\n",
            "✅ CDH1.DE procesado correctamente.\n",
            "✅ EGG.DE procesado correctamente.\n"
          ]
        },
        {
          "metadata": {
            "tags": null
          },
          "name": "stderr",
          "output_type": "stream",
          "text": [
            "ERROR:yfinance:HTTP Error 404: \n"
          ]
        },
        {
          "metadata": {
            "tags": null
          },
          "name": "stdout",
          "output_type": "stream",
          "text": [
            "✅ LPX.DE procesado correctamente.\n",
            "✅ PL6.DE procesado correctamente.\n",
            "✅ E6Z.DE procesado correctamente.\n",
            "✅ ARW.DE procesado correctamente.\n"
          ]
        },
        {
          "metadata": {
            "tags": null
          },
          "name": "stderr",
          "output_type": "stream",
          "text": [
            "ERROR:yfinance:HTTP Error 404: \n"
          ]
        },
        {
          "metadata": {
            "tags": null
          },
          "name": "stdout",
          "output_type": "stream",
          "text": [
            "✅ BFPy.DE procesado correctamente.\n"
          ]
        },
        {
          "metadata": {
            "tags": null
          },
          "name": "stderr",
          "output_type": "stream",
          "text": [
            "ERROR:yfinance:HTTP Error 404: \n"
          ]
        },
        {
          "metadata": {
            "tags": null
          },
          "name": "stdout",
          "output_type": "stream",
          "text": [
            "✅ CNK.DE procesado correctamente.\n"
          ]
        },
        {
          "metadata": {
            "tags": null
          },
          "name": "stderr",
          "output_type": "stream",
          "text": [
            "ERROR:yfinance:HTTP Error 404: \n"
          ]
        },
        {
          "metadata": {
            "tags": null
          },
          "name": "stdout",
          "output_type": "stream",
          "text": [
            "✅ CPT.DE procesado correctamente.\n"
          ]
        },
        {
          "metadata": {
            "tags": null
          },
          "name": "stderr",
          "output_type": "stream",
          "text": [
            "ERROR:yfinance:HTTP Error 404: \n"
          ]
        },
        {
          "metadata": {
            "tags": null
          },
          "name": "stdout",
          "output_type": "stream",
          "text": [
            "✅ DLPA.DE procesado correctamente.\n"
          ]
        },
        {
          "metadata": {
            "tags": null
          },
          "name": "stderr",
          "output_type": "stream",
          "text": [
            "ERROR:yfinance:HTTP Error 404: \n"
          ]
        },
        {
          "metadata": {
            "tags": null
          },
          "name": "stdout",
          "output_type": "stream",
          "text": [
            "✅ GNRC.DE procesado correctamente.\n"
          ]
        },
        {
          "metadata": {
            "tags": null
          },
          "name": "stderr",
          "output_type": "stream",
          "text": [
            "ERROR:yfinance:HTTP Error 404: \n"
          ]
        },
        {
          "metadata": {
            "tags": null
          },
          "name": "stdout",
          "output_type": "stream",
          "text": [
            "✅ GNWR.DE procesado correctamente.\n"
          ]
        },
        {
          "metadata": {
            "tags": null
          },
          "name": "stderr",
          "output_type": "stream",
          "text": [
            "ERROR:yfinance:HTTP Error 404: \n"
          ]
        },
        {
          "metadata": {
            "tags": null
          },
          "name": "stdout",
          "output_type": "stream",
          "text": [
            "✅ MHK.DE procesado correctamente.\n"
          ]
        },
        {
          "metadata": {
            "tags": null
          },
          "name": "stderr",
          "output_type": "stream",
          "text": [
            "ERROR:yfinance:HTTP Error 404: \n"
          ]
        },
        {
          "metadata": {
            "tags": null
          },
          "name": "stdout",
          "output_type": "stream",
          "text": [
            "✅ RPM.DE procesado correctamente.\n"
          ]
        },
        {
          "metadata": {
            "tags": null
          },
          "name": "stderr",
          "output_type": "stream",
          "text": [
            "ERROR:yfinance:HTTP Error 404: \n"
          ]
        },
        {
          "metadata": {
            "tags": null
          },
          "name": "stdout",
          "output_type": "stream",
          "text": [
            "✅ AGO.DE procesado correctamente.\n",
            "✅ ALK.DE procesado correctamente.\n",
            "✅ AWK.DE procesado correctamente.\n"
          ]
        },
        {
          "metadata": {
            "tags": null
          },
          "name": "stderr",
          "output_type": "stream",
          "text": [
            "ERROR:yfinance:HTTP Error 404: \n"
          ]
        },
        {
          "metadata": {
            "tags": null
          },
          "name": "stdout",
          "output_type": "stream",
          "text": [
            "✅ 1P6.DE procesado correctamente.\n"
          ]
        },
        {
          "metadata": {
            "tags": null
          },
          "name": "stderr",
          "output_type": "stream",
          "text": [
            "ERROR:yfinance:HTTP Error 404: \n"
          ]
        },
        {
          "metadata": {
            "tags": null
          },
          "name": "stdout",
          "output_type": "stream",
          "text": [
            "✅ 6CL.DE procesado correctamente.\n"
          ]
        },
        {
          "metadata": {
            "tags": null
          },
          "name": "stderr",
          "output_type": "stream",
          "text": [
            "ERROR:yfinance:HTTP Error 404: \n"
          ]
        },
        {
          "metadata": {
            "tags": null
          },
          "name": "stdout",
          "output_type": "stream",
          "text": [
            "✅ CVA.DE procesado correctamente.\n"
          ]
        },
        {
          "metadata": {
            "tags": null
          },
          "name": "stderr",
          "output_type": "stream",
          "text": [
            "ERROR:yfinance:HTTP Error 404: \n"
          ]
        },
        {
          "metadata": {
            "tags": null
          },
          "name": "stdout",
          "output_type": "stream",
          "text": [
            "✅ FAF.DE procesado correctamente.\n"
          ]
        },
        {
          "metadata": {
            "tags": null
          },
          "name": "stderr",
          "output_type": "stream",
          "text": [
            "ERROR:yfinance:HTTP Error 404: \n"
          ]
        },
        {
          "metadata": {
            "tags": null
          },
          "name": "stdout",
          "output_type": "stream",
          "text": [
            "✅ KSU.DE procesado correctamente.\n"
          ]
        },
        {
          "metadata": {
            "tags": null
          },
          "name": "stderr",
          "output_type": "stream",
          "text": [
            "ERROR:yfinance:HTTP Error 404: \n"
          ]
        },
        {
          "metadata": {
            "tags": null
          },
          "name": "stdout",
          "output_type": "stream",
          "text": [
            "✅ 6MD.DE procesado correctamente.\n"
          ]
        },
        {
          "metadata": {
            "tags": null
          },
          "name": "stderr",
          "output_type": "stream",
          "text": [
            "ERROR:yfinance:HTTP Error 404: \n"
          ]
        },
        {
          "metadata": {
            "tags": null
          },
          "name": "stdout",
          "output_type": "stream",
          "text": [
            "✅ R2U.DE procesado correctamente.\n",
            "✅ RY.DE procesado correctamente.\n"
          ]
        },
        {
          "metadata": {
            "tags": null
          },
          "name": "stderr",
          "output_type": "stream",
          "text": [
            "ERROR:yfinance:HTTP Error 404: \n"
          ]
        },
        {
          "metadata": {
            "tags": null
          },
          "name": "stdout",
          "output_type": "stream",
          "text": [
            "✅ SLG.DE procesado correctamente.\n"
          ]
        },
        {
          "metadata": {
            "tags": null
          },
          "name": "stderr",
          "output_type": "stream",
          "text": [
            "ERROR:yfinance:HTTP Error 404: \n"
          ]
        },
        {
          "metadata": {
            "tags": null
          },
          "name": "stdout",
          "output_type": "stream",
          "text": [
            "✅ NWJ.DE procesado correctamente.\n"
          ]
        },
        {
          "metadata": {
            "tags": null
          },
          "name": "stderr",
          "output_type": "stream",
          "text": [
            "ERROR:yfinance:HTTP Error 404: \n"
          ]
        },
        {
          "metadata": {
            "tags": null
          },
          "name": "stdout",
          "output_type": "stream",
          "text": [
            "✅ H.DE procesado correctamente.\n"
          ]
        },
        {
          "metadata": {
            "tags": null
          },
          "name": "stderr",
          "output_type": "stream",
          "text": [
            "ERROR:yfinance:HTTP Error 404: \n"
          ]
        },
        {
          "metadata": {
            "tags": null
          },
          "name": "stdout",
          "output_type": "stream",
          "text": [
            "✅ GPN.DE procesado correctamente.\n"
          ]
        },
        {
          "metadata": {
            "tags": null
          },
          "name": "stderr",
          "output_type": "stream",
          "text": [
            "ERROR:yfinance:HTTP Error 404: \n"
          ]
        },
        {
          "metadata": {
            "tags": null
          },
          "name": "stdout",
          "output_type": "stream",
          "text": [
            "✅ LNT.DE procesado correctamente.\n",
            "✅ LGAy.DE procesado correctamente.\n"
          ]
        },
        {
          "metadata": {
            "tags": null
          },
          "name": "stderr",
          "output_type": "stream",
          "text": [
            "ERROR:yfinance:HTTP Error 404: \n"
          ]
        },
        {
          "metadata": {
            "tags": null
          },
          "name": "stdout",
          "output_type": "stream",
          "text": [
            "✅ OAS.DE procesado correctamente.\n",
            "✅ SIG.DE procesado correctamente.\n"
          ]
        },
        {
          "metadata": {
            "tags": null
          },
          "name": "stderr",
          "output_type": "stream",
          "text": [
            "ERROR:yfinance:HTTP Error 404: \n"
          ]
        },
        {
          "metadata": {
            "tags": null
          },
          "name": "stdout",
          "output_type": "stream",
          "text": [
            "✅ SKMy.DE procesado correctamente.\n"
          ]
        },
        {
          "metadata": {
            "tags": null
          },
          "name": "stderr",
          "output_type": "stream",
          "text": [
            "ERROR:yfinance:HTTP Error 404: \n"
          ]
        },
        {
          "metadata": {
            "tags": null
          },
          "name": "stdout",
          "output_type": "stream",
          "text": [
            "✅ DEI.DE procesado correctamente.\n",
            "✅ HL8.DE procesado correctamente.\n",
            "✅ KRC.DE procesado correctamente.\n",
            "✅ KTCy.DE procesado correctamente.\n"
          ]
        },
        {
          "metadata": {
            "tags": null
          },
          "name": "stderr",
          "output_type": "stream",
          "text": [
            "ERROR:yfinance:HTTP Error 404: \n"
          ]
        },
        {
          "metadata": {
            "tags": null
          },
          "name": "stdout",
          "output_type": "stream",
          "text": [
            "✅ MBTLy.DE procesado correctamente.\n"
          ]
        },
        {
          "metadata": {
            "tags": null
          },
          "name": "stderr",
          "output_type": "stream",
          "text": [
            "ERROR:yfinance:HTTP Error 404: \n"
          ]
        },
        {
          "metadata": {
            "tags": null
          },
          "name": "stdout",
          "output_type": "stream",
          "text": [
            "✅ O.DE procesado correctamente.\n"
          ]
        },
        {
          "metadata": {
            "tags": null
          },
          "name": "stderr",
          "output_type": "stream",
          "text": [
            "ERROR:yfinance:HTTP Error 404: \n"
          ]
        },
        {
          "metadata": {
            "tags": null
          },
          "name": "stdout",
          "output_type": "stream",
          "text": [
            "✅ PJ1A.DE procesado correctamente.\n",
            "✅ 4DH.DE procesado correctamente.\n"
          ]
        },
        {
          "metadata": {
            "tags": null
          },
          "name": "stderr",
          "output_type": "stream",
          "text": [
            "ERROR:yfinance:HTTP Error 404: \n"
          ]
        },
        {
          "metadata": {
            "tags": null
          },
          "name": "stdout",
          "output_type": "stream",
          "text": [
            "✅ FLOF.DE procesado correctamente.\n",
            "✅ 2KD.DE procesado correctamente.\n"
          ]
        },
        {
          "metadata": {
            "tags": null
          },
          "name": "stderr",
          "output_type": "stream",
          "text": [
            "ERROR:yfinance:HTTP Error 404: \n"
          ]
        },
        {
          "metadata": {
            "tags": null
          },
          "name": "stdout",
          "output_type": "stream",
          "text": [
            "✅ OC.DE procesado correctamente.\n"
          ]
        },
        {
          "metadata": {
            "tags": null
          },
          "name": "stderr",
          "output_type": "stream",
          "text": [
            "ERROR:yfinance:HTTP Error 404: \n"
          ]
        },
        {
          "metadata": {
            "tags": null
          },
          "name": "stdout",
          "output_type": "stream",
          "text": [
            "✅ RYN.DE procesado correctamente.\n"
          ]
        },
        {
          "metadata": {
            "tags": null
          },
          "name": "stderr",
          "output_type": "stream",
          "text": [
            "ERROR:yfinance:HTTP Error 404: \n"
          ]
        },
        {
          "metadata": {
            "tags": null
          },
          "name": "stdout",
          "output_type": "stream",
          "text": [
            "✅ STGy.DE procesado correctamente.\n",
            "✅ SU.DE procesado correctamente.\n"
          ]
        },
        {
          "metadata": {
            "tags": null
          },
          "name": "stderr",
          "output_type": "stream",
          "text": [
            "ERROR:yfinance:HTTP Error 404: \n"
          ]
        },
        {
          "metadata": {
            "tags": null
          },
          "name": "stdout",
          "output_type": "stream",
          "text": [
            "✅ RDEDy.DE procesado correctamente.\n",
            "✅ EVN.DE procesado correctamente.\n"
          ]
        },
        {
          "metadata": {
            "tags": null
          },
          "name": "stderr",
          "output_type": "stream",
          "text": [
            "ERROR:yfinance:HTTP Error 404: \n"
          ]
        },
        {
          "metadata": {
            "tags": null
          },
          "name": "stdout",
          "output_type": "stream",
          "text": [
            "✅ NVONy.DE procesado correctamente.\n"
          ]
        },
        {
          "metadata": {
            "tags": null
          },
          "name": "stderr",
          "output_type": "stream",
          "text": [
            "ERROR:yfinance:HTTP Error 404: \n"
          ]
        },
        {
          "metadata": {
            "tags": null
          },
          "name": "stdout",
          "output_type": "stream",
          "text": [
            "✅ 3SM.DE procesado correctamente.\n"
          ]
        },
        {
          "metadata": {
            "tags": null
          },
          "name": "stderr",
          "output_type": "stream",
          "text": [
            "ERROR:yfinance:HTTP Error 404: \n"
          ]
        },
        {
          "metadata": {
            "tags": null
          },
          "name": "stdout",
          "output_type": "stream",
          "text": [
            "✅ AZNPy.DE procesado correctamente.\n"
          ]
        },
        {
          "metadata": {
            "tags": null
          },
          "name": "stderr",
          "output_type": "stream",
          "text": [
            "ERROR:yfinance:HTTP Error 404: \n"
          ]
        },
        {
          "metadata": {
            "tags": null
          },
          "name": "stdout",
          "output_type": "stream",
          "text": [
            "✅ HANB.DE procesado correctamente.\n"
          ]
        },
        {
          "metadata": {
            "tags": null
          },
          "name": "stderr",
          "output_type": "stream",
          "text": [
            "ERROR:yfinance:HTTP Error 404: \n"
          ]
        },
        {
          "metadata": {
            "tags": null
          },
          "name": "stdout",
          "output_type": "stream",
          "text": [
            "✅ OPK.DE procesado correctamente.\n"
          ]
        },
        {
          "metadata": {
            "tags": null
          },
          "name": "stderr",
          "output_type": "stream",
          "text": [
            "ERROR:yfinance:HTTP Error 404: \n"
          ]
        },
        {
          "metadata": {
            "tags": null
          },
          "name": "stdout",
          "output_type": "stream",
          "text": [
            "✅ ALLE.DE procesado correctamente.\n"
          ]
        },
        {
          "metadata": {
            "tags": null
          },
          "name": "stderr",
          "output_type": "stream",
          "text": [
            "ERROR:yfinance:HTTP Error 404: \n"
          ]
        },
        {
          "metadata": {
            "tags": null
          },
          "name": "stdout",
          "output_type": "stream",
          "text": [
            "✅ CHILy.DE procesado correctamente.\n",
            "✅ Z.DE procesado correctamente.\n",
            "✅ GRA.DE procesado correctamente.\n"
          ]
        },
        {
          "metadata": {
            "tags": null
          },
          "name": "stderr",
          "output_type": "stream",
          "text": [
            "ERROR:yfinance:HTTP Error 404: \n"
          ]
        },
        {
          "metadata": {
            "tags": null
          },
          "name": "stdout",
          "output_type": "stream",
          "text": [
            "✅ KMT.DE procesado correctamente.\n",
            "✅ M6G.DE procesado correctamente.\n"
          ]
        },
        {
          "metadata": {
            "tags": null
          },
          "name": "stderr",
          "output_type": "stream",
          "text": [
            "ERROR:yfinance:HTTP Error 404: \n"
          ]
        },
        {
          "metadata": {
            "tags": null
          },
          "name": "stdout",
          "output_type": "stream",
          "text": [
            "✅ MARY.DE procesado correctamente.\n",
            "✅ DG3.DE procesado correctamente.\n"
          ]
        },
        {
          "metadata": {
            "tags": null
          },
          "name": "stderr",
          "output_type": "stream",
          "text": [
            "ERROR:yfinance:HTTP Error 404: \n"
          ]
        },
        {
          "metadata": {
            "tags": null
          },
          "name": "stdout",
          "output_type": "stream",
          "text": [
            "✅ CLGX.DE procesado correctamente.\n"
          ]
        },
        {
          "metadata": {
            "tags": null
          },
          "name": "stderr",
          "output_type": "stream",
          "text": [
            "ERROR:yfinance:HTTP Error 404: \n"
          ]
        },
        {
          "metadata": {
            "tags": null
          },
          "name": "stdout",
          "output_type": "stream",
          "text": [
            "✅ 25E.DE procesado correctamente.\n",
            "✅ HLF.DE procesado correctamente.\n"
          ]
        },
        {
          "metadata": {
            "tags": null
          },
          "name": "stderr",
          "output_type": "stream",
          "text": [
            "ERROR:yfinance:HTTP Error 404: \n"
          ]
        },
        {
          "metadata": {
            "tags": null
          },
          "name": "stdout",
          "output_type": "stream",
          "text": [
            "✅ HUN.DE procesado correctamente.\n",
            "✅ MAN.DE procesado correctamente.\n"
          ]
        },
        {
          "metadata": {
            "tags": null
          },
          "name": "stderr",
          "output_type": "stream",
          "text": [
            "ERROR:yfinance:HTTP Error 404: \n"
          ]
        },
        {
          "metadata": {
            "tags": null
          },
          "name": "stdout",
          "output_type": "stream",
          "text": [
            "✅ MTH.DE procesado correctamente.\n"
          ]
        },
        {
          "metadata": {
            "tags": null
          },
          "name": "stderr",
          "output_type": "stream",
          "text": [
            "ERROR:yfinance:HTTP Error 404: \n"
          ]
        },
        {
          "metadata": {
            "tags": null
          },
          "name": "stdout",
          "output_type": "stream",
          "text": [
            "✅ QEN.DE procesado correctamente.\n"
          ]
        },
        {
          "metadata": {
            "tags": null
          },
          "name": "stderr",
          "output_type": "stream",
          "text": [
            "ERROR:yfinance:HTTP Error 404: \n"
          ]
        },
        {
          "metadata": {
            "tags": null
          },
          "name": "stdout",
          "output_type": "stream",
          "text": [
            "✅ ECy.DE procesado correctamente.\n"
          ]
        },
        {
          "metadata": {
            "tags": null
          },
          "name": "stderr",
          "output_type": "stream",
          "text": [
            "ERROR:yfinance:HTTP Error 404: \n"
          ]
        },
        {
          "metadata": {
            "tags": null
          },
          "name": "stdout",
          "output_type": "stream",
          "text": [
            "✅ ENBD.DE procesado correctamente.\n"
          ]
        },
        {
          "metadata": {
            "tags": null
          },
          "name": "stderr",
          "output_type": "stream",
          "text": [
            "ERROR:yfinance:HTTP Error 404: \n"
          ]
        },
        {
          "metadata": {
            "tags": null
          },
          "name": "stdout",
          "output_type": "stream",
          "text": [
            "✅ LFLy.DE procesado correctamente.\n",
            "✅ AWC.DE procesado correctamente.\n"
          ]
        },
        {
          "metadata": {
            "tags": null
          },
          "name": "stderr",
          "output_type": "stream",
          "text": [
            "ERROR:yfinance:HTTP Error 404: \n"
          ]
        },
        {
          "metadata": {
            "tags": null
          },
          "name": "stdout",
          "output_type": "stream",
          "text": [
            "✅ BKE.DE procesado correctamente.\n",
            "✅ C52.DE procesado correctamente.\n",
            "✅ ECA.DE procesado correctamente.\n"
          ]
        },
        {
          "metadata": {
            "tags": null
          },
          "name": "stderr",
          "output_type": "stream",
          "text": [
            "ERROR:yfinance:HTTP Error 404: \n"
          ]
        },
        {
          "metadata": {
            "tags": null
          },
          "name": "stdout",
          "output_type": "stream",
          "text": [
            "✅ NERGy.DE procesado correctamente.\n",
            "✅ GART.DE procesado correctamente.\n",
            "✅ AAN.DE procesado correctamente.\n",
            "✅ DOX.DE procesado correctamente.\n",
            "✅ FR9.DE procesado correctamente.\n",
            "✅ GES.DE procesado correctamente.\n"
          ]
        },
        {
          "metadata": {
            "tags": null
          },
          "name": "stderr",
          "output_type": "stream",
          "text": [
            "ERROR:yfinance:HTTP Error 404: \n"
          ]
        },
        {
          "metadata": {
            "tags": null
          },
          "name": "stdout",
          "output_type": "stream",
          "text": [
            "✅ R2RCy.DE procesado correctamente.\n"
          ]
        },
        {
          "metadata": {
            "tags": null
          },
          "name": "stderr",
          "output_type": "stream",
          "text": [
            "ERROR:yfinance:HTTP Error 404: \n"
          ]
        },
        {
          "metadata": {
            "tags": null
          },
          "name": "stdout",
          "output_type": "stream",
          "text": [
            "✅ AGCO.DE procesado correctamente.\n"
          ]
        },
        {
          "metadata": {
            "tags": null
          },
          "name": "stderr",
          "output_type": "stream",
          "text": [
            "ERROR:yfinance:HTTP Error 404: \n"
          ]
        },
        {
          "metadata": {
            "tags": null
          },
          "name": "stdout",
          "output_type": "stream",
          "text": [
            "✅ AME.DE procesado correctamente.\n"
          ]
        },
        {
          "metadata": {
            "tags": null
          },
          "name": "stderr",
          "output_type": "stream",
          "text": [
            "ERROR:yfinance:HTTP Error 404: \n"
          ]
        },
        {
          "metadata": {
            "tags": null
          },
          "name": "stdout",
          "output_type": "stream",
          "text": [
            "✅ D8Sy.DE procesado correctamente.\n",
            "✅ BU3.DE procesado correctamente.\n"
          ]
        },
        {
          "metadata": {
            "tags": null
          },
          "name": "stderr",
          "output_type": "stream",
          "text": [
            "ERROR:yfinance:HTTP Error 404: \n"
          ]
        },
        {
          "metadata": {
            "tags": null
          },
          "name": "stdout",
          "output_type": "stream",
          "text": [
            "✅ IEXC.DE procesado correctamente.\n",
            "✅ LEA.DE procesado correctamente.\n"
          ]
        },
        {
          "metadata": {
            "tags": null
          },
          "name": "stderr",
          "output_type": "stream",
          "text": [
            "ERROR:yfinance:HTTP Error 404: \n"
          ]
        },
        {
          "metadata": {
            "tags": null
          },
          "name": "stdout",
          "output_type": "stream",
          "text": [
            "✅ FBHS.DE procesado correctamente.\n",
            "✅ PVH.DE procesado correctamente.\n"
          ]
        },
        {
          "metadata": {
            "tags": null
          },
          "name": "stderr",
          "output_type": "stream",
          "text": [
            "ERROR:yfinance:HTTP Error 404: \n"
          ]
        },
        {
          "metadata": {
            "tags": null
          },
          "name": "stdout",
          "output_type": "stream",
          "text": [
            "✅ SXEA.DE procesado correctamente.\n",
            "✅ EXPD.DE procesado correctamente.\n"
          ]
        },
        {
          "metadata": {
            "tags": null
          },
          "name": "stderr",
          "output_type": "stream",
          "text": [
            "ERROR:yfinance:HTTP Error 404: \n"
          ]
        },
        {
          "metadata": {
            "tags": null
          },
          "name": "stdout",
          "output_type": "stream",
          "text": [
            "✅ IDH.DE procesado correctamente.\n"
          ]
        },
        {
          "metadata": {
            "tags": null
          },
          "name": "stderr",
          "output_type": "stream",
          "text": [
            "ERROR:yfinance:HTTP Error 404: \n"
          ]
        },
        {
          "metadata": {
            "tags": null
          },
          "name": "stdout",
          "output_type": "stream",
          "text": [
            "✅ SIU.DE procesado correctamente.\n",
            "✅ FPH.DE procesado correctamente.\n"
          ]
        },
        {
          "metadata": {
            "tags": null
          },
          "name": "stderr",
          "output_type": "stream",
          "text": [
            "ERROR:yfinance:HTTP Error 404: \n"
          ]
        },
        {
          "metadata": {
            "tags": null
          },
          "name": "stdout",
          "output_type": "stream",
          "text": [
            "✅ JBHT.DE procesado correctamente.\n",
            "✅ MDRX.DE procesado correctamente.\n",
            "✅ MCE.DE procesado correctamente.\n",
            "✅ AUD.DE procesado correctamente.\n",
            "✅ FCXb.DE procesado correctamente.\n"
          ]
        },
        {
          "metadata": {
            "tags": null
          },
          "name": "stderr",
          "output_type": "stream",
          "text": [
            "ERROR:yfinance:HTTP Error 404: \n"
          ]
        },
        {
          "metadata": {
            "tags": null
          },
          "name": "stdout",
          "output_type": "stream",
          "text": [
            "✅ MXIM.DE procesado correctamente.\n"
          ]
        },
        {
          "metadata": {
            "tags": null
          },
          "name": "stderr",
          "output_type": "stream",
          "text": [
            "ERROR:yfinance:HTTP Error 404: \n"
          ]
        },
        {
          "metadata": {
            "tags": null
          },
          "name": "stdout",
          "output_type": "stream",
          "text": [
            "✅ SFER.DE procesado correctamente.\n",
            "✅ ALXN.DE procesado correctamente.\n"
          ]
        },
        {
          "metadata": {
            "tags": null
          },
          "name": "stderr",
          "output_type": "stream",
          "text": [
            "ERROR:yfinance:HTTP Error 404: \n"
          ]
        },
        {
          "metadata": {
            "tags": null
          },
          "name": "stdout",
          "output_type": "stream",
          "text": [
            "✅ ERA.DE procesado correctamente.\n"
          ]
        },
        {
          "metadata": {
            "tags": null
          },
          "name": "stderr",
          "output_type": "stream",
          "text": [
            "ERROR:yfinance:HTTP Error 404: \n"
          ]
        },
        {
          "metadata": {
            "tags": null
          },
          "name": "stdout",
          "output_type": "stream",
          "text": [
            "✅ FIS.DE procesado correctamente.\n"
          ]
        },
        {
          "metadata": {
            "tags": null
          },
          "name": "stderr",
          "output_type": "stream",
          "text": [
            "ERROR:yfinance:HTTP Error 404: \n"
          ]
        },
        {
          "metadata": {
            "tags": null
          },
          "name": "stdout",
          "output_type": "stream",
          "text": [
            "✅ GGGA.DE procesado correctamente.\n"
          ]
        },
        {
          "metadata": {
            "tags": null
          },
          "name": "stderr",
          "output_type": "stream",
          "text": [
            "ERROR:yfinance:HTTP Error 404: \n"
          ]
        },
        {
          "metadata": {
            "tags": null
          },
          "name": "stdout",
          "output_type": "stream",
          "text": [
            "✅ IAG.DE procesado correctamente.\n"
          ]
        },
        {
          "metadata": {
            "tags": null
          },
          "name": "stderr",
          "output_type": "stream",
          "text": [
            "ERROR:yfinance:HTTP Error 404: \n"
          ]
        },
        {
          "metadata": {
            "tags": null
          },
          "name": "stdout",
          "output_type": "stream",
          "text": [
            "✅ IC1H.DE procesado correctamente.\n"
          ]
        },
        {
          "metadata": {
            "tags": null
          },
          "name": "stderr",
          "output_type": "stream",
          "text": [
            "ERROR:yfinance:HTTP Error 404: \n"
          ]
        },
        {
          "metadata": {
            "tags": null
          },
          "name": "stdout",
          "output_type": "stream",
          "text": [
            "✅ PEG.DE procesado correctamente.\n"
          ]
        },
        {
          "metadata": {
            "tags": null
          },
          "name": "stderr",
          "output_type": "stream",
          "text": [
            "ERROR:yfinance:HTTP Error 404: \n"
          ]
        },
        {
          "metadata": {
            "tags": null
          },
          "name": "stdout",
          "output_type": "stream",
          "text": [
            "✅ PTMA.DE procesado correctamente.\n",
            "✅ APD.DE procesado correctamente.\n",
            "✅ RF6.DE procesado correctamente.\n"
          ]
        },
        {
          "metadata": {
            "tags": null
          },
          "name": "stderr",
          "output_type": "stream",
          "text": [
            "ERROR:yfinance:HTTP Error 404: \n"
          ]
        },
        {
          "metadata": {
            "tags": null
          },
          "name": "stdout",
          "output_type": "stream",
          "text": [
            "✅ CVAG.DE procesado correctamente.\n"
          ]
        },
        {
          "metadata": {
            "tags": null
          },
          "name": "stderr",
          "output_type": "stream",
          "text": [
            "ERROR:yfinance:HTTP Error 404: \n"
          ]
        },
        {
          "metadata": {
            "tags": null
          },
          "name": "stdout",
          "output_type": "stream",
          "text": [
            "✅ DISCa.DE procesado correctamente.\n"
          ]
        },
        {
          "metadata": {
            "tags": null
          },
          "name": "stderr",
          "output_type": "stream",
          "text": [
            "ERROR:yfinance:HTTP Error 404: \n"
          ]
        },
        {
          "metadata": {
            "tags": null
          },
          "name": "stdout",
          "output_type": "stream",
          "text": [
            "✅ YC51.DE procesado correctamente.\n"
          ]
        },
        {
          "metadata": {
            "tags": null
          },
          "name": "stderr",
          "output_type": "stream",
          "text": [
            "ERROR:yfinance:HTTP Error 404: \n"
          ]
        },
        {
          "metadata": {
            "tags": null
          },
          "name": "stdout",
          "output_type": "stream",
          "text": [
            "✅ GWI2k.DE procesado correctamente.\n"
          ]
        },
        {
          "metadata": {
            "tags": null
          },
          "name": "stderr",
          "output_type": "stream",
          "text": [
            "ERROR:yfinance:HTTP Error 404: \n"
          ]
        },
        {
          "metadata": {
            "tags": null
          },
          "name": "stdout",
          "output_type": "stream",
          "text": [
            "✅ HHFGn.DE procesado correctamente.\n",
            "✅ HIG.DE procesado correctamente.\n"
          ]
        },
        {
          "metadata": {
            "tags": null
          },
          "name": "stderr",
          "output_type": "stream",
          "text": [
            "ERROR:yfinance:HTTP Error 404: \n"
          ]
        },
        {
          "metadata": {
            "tags": null
          },
          "name": "stdout",
          "output_type": "stream",
          "text": [
            "✅ JEC.DE procesado correctamente.\n",
            "✅ CAP.DE procesado correctamente.\n",
            "✅ MRVL.DE procesado correctamente.\n"
          ]
        },
        {
          "metadata": {
            "tags": null
          },
          "name": "stderr",
          "output_type": "stream",
          "text": [
            "ERROR:yfinance:HTTP Error 404: \n"
          ]
        },
        {
          "metadata": {
            "tags": null
          },
          "name": "stdout",
          "output_type": "stream",
          "text": [
            "✅ YULC.DE procesado correctamente.\n"
          ]
        },
        {
          "metadata": {
            "tags": null
          },
          "name": "stderr",
          "output_type": "stream",
          "text": [
            "ERROR:yfinance:HTTP Error 404: \n"
          ]
        },
        {
          "metadata": {
            "tags": null
          },
          "name": "stdout",
          "output_type": "stream",
          "text": [
            "✅ AIV1.DE procesado correctamente.\n"
          ]
        },
        {
          "metadata": {
            "tags": null
          },
          "name": "stderr",
          "output_type": "stream",
          "text": [
            "ERROR:yfinance:HTTP Error 404: \n"
          ]
        },
        {
          "metadata": {
            "tags": null
          },
          "name": "stdout",
          "output_type": "stream",
          "text": [
            "✅ AEDAy.DE procesado correctamente.\n",
            "✅ CBAX.DE procesado correctamente.\n",
            "✅ CHRW.DE procesado correctamente.\n"
          ]
        },
        {
          "metadata": {
            "tags": null
          },
          "name": "stderr",
          "output_type": "stream",
          "text": [
            "ERROR:yfinance:HTTP Error 404: \n"
          ]
        },
        {
          "metadata": {
            "tags": null
          },
          "name": "stdout",
          "output_type": "stream",
          "text": [
            "✅ DFS.DE procesado correctamente.\n"
          ]
        },
        {
          "metadata": {
            "tags": null
          },
          "name": "stderr",
          "output_type": "stream",
          "text": [
            "ERROR:yfinance:HTTP Error 404: \n"
          ]
        },
        {
          "metadata": {
            "tags": null
          },
          "name": "stdout",
          "output_type": "stream",
          "text": [
            "✅ FHN.DE procesado correctamente.\n",
            "✅ NAB.DE procesado correctamente.\n",
            "✅ 4I1.DE procesado correctamente.\n",
            "✅ TEVAy.DE procesado correctamente.\n",
            "✅ UPS.DE procesado correctamente.\n"
          ]
        },
        {
          "metadata": {
            "tags": null
          },
          "name": "stderr",
          "output_type": "stream",
          "text": [
            "ERROR:yfinance:HTTP Error 404: \n"
          ]
        },
        {
          "metadata": {
            "tags": null
          },
          "name": "stdout",
          "output_type": "stream",
          "text": [
            "✅ WP2A.DE procesado correctamente.\n",
            "✅ ATI.DE procesado correctamente.\n",
            "✅ C9F.DE procesado correctamente.\n"
          ]
        },
        {
          "metadata": {
            "tags": null
          },
          "name": "stderr",
          "output_type": "stream",
          "text": [
            "ERROR:yfinance:HTTP Error 404: \n"
          ]
        },
        {
          "metadata": {
            "tags": null
          },
          "name": "stdout",
          "output_type": "stream",
          "text": [
            "✅ HBAN.DE procesado correctamente.\n",
            "✅ KCN.DE procesado correctamente.\n"
          ]
        },
        {
          "metadata": {
            "tags": null
          },
          "name": "stderr",
          "output_type": "stream",
          "text": [
            "ERROR:yfinance:HTTP Error 404: \n"
          ]
        },
        {
          "metadata": {
            "tags": null
          },
          "name": "stdout",
          "output_type": "stream",
          "text": [
            "✅ LSP.DE procesado correctamente.\n",
            "✅ MMC.DE procesado correctamente.\n",
            "✅ NOV.DE procesado correctamente.\n"
          ]
        },
        {
          "metadata": {
            "tags": null
          },
          "name": "stderr",
          "output_type": "stream",
          "text": [
            "ERROR:yfinance:HTTP Error 404: \n"
          ]
        },
        {
          "metadata": {
            "tags": null
          },
          "name": "stdout",
          "output_type": "stream",
          "text": [
            "✅ 19O.DE procesado correctamente.\n"
          ]
        },
        {
          "metadata": {
            "tags": null
          },
          "name": "stderr",
          "output_type": "stream",
          "text": [
            "ERROR:yfinance:HTTP Error 404: \n"
          ]
        },
        {
          "metadata": {
            "tags": null
          },
          "name": "stdout",
          "output_type": "stream",
          "text": [
            "✅ PNW.DE procesado correctamente.\n"
          ]
        },
        {
          "metadata": {
            "tags": null
          },
          "name": "stderr",
          "output_type": "stream",
          "text": [
            "ERROR:yfinance:HTTP Error 404: \n"
          ]
        },
        {
          "metadata": {
            "tags": null
          },
          "name": "stdout",
          "output_type": "stream",
          "text": [
            "✅ RDO.DE procesado correctamente.\n",
            "✅ STZ.DE procesado correctamente.\n",
            "✅ VAR.DE procesado correctamente.\n",
            "✅ VRTX.DE procesado correctamente.\n",
            "✅ VZ.DE procesado correctamente.\n"
          ]
        },
        {
          "metadata": {
            "tags": null
          },
          "name": "stderr",
          "output_type": "stream",
          "text": [
            "ERROR:yfinance:HTTP Error 404: \n"
          ]
        },
        {
          "metadata": {
            "tags": null
          },
          "name": "stdout",
          "output_type": "stream",
          "text": [
            "✅ DY2.DE procesado correctamente.\n",
            "✅ ADM.DE procesado correctamente.\n",
            "✅ AVB.DE procesado correctamente.\n",
            "✅ BLD.DE procesado correctamente.\n"
          ]
        },
        {
          "metadata": {
            "tags": null
          },
          "name": "stderr",
          "output_type": "stream",
          "text": [
            "ERROR:yfinance:HTTP Error 404: \n"
          ]
        },
        {
          "metadata": {
            "tags": null
          },
          "name": "stdout",
          "output_type": "stream",
          "text": [
            "✅ BPSI.DE procesado correctamente.\n"
          ]
        },
        {
          "metadata": {
            "tags": null
          },
          "name": "stderr",
          "output_type": "stream",
          "text": [
            "ERROR:yfinance:HTTP Error 404: \n"
          ]
        },
        {
          "metadata": {
            "tags": null
          },
          "name": "stdout",
          "output_type": "stream",
          "text": [
            "✅ CDNS.DE procesado correctamente.\n"
          ]
        },
        {
          "metadata": {
            "tags": null
          },
          "name": "stderr",
          "output_type": "stream",
          "text": [
            "ERROR:yfinance:HTTP Error 404: \n"
          ]
        },
        {
          "metadata": {
            "tags": null
          },
          "name": "stdout",
          "output_type": "stream",
          "text": [
            "✅ CHKP.DE procesado correctamente.\n"
          ]
        },
        {
          "metadata": {
            "tags": null
          },
          "name": "stderr",
          "output_type": "stream",
          "text": [
            "ERROR:yfinance:HTTP Error 404: \n"
          ]
        },
        {
          "metadata": {
            "tags": null
          },
          "name": "stdout",
          "output_type": "stream",
          "text": [
            "✅ CINF.DE procesado correctamente.\n",
            "✅ DO.DE procesado correctamente.\n"
          ]
        },
        {
          "metadata": {
            "tags": null
          },
          "name": "stderr",
          "output_type": "stream",
          "text": [
            "ERROR:yfinance:HTTP Error 404: \n"
          ]
        },
        {
          "metadata": {
            "tags": null
          },
          "name": "stdout",
          "output_type": "stream",
          "text": [
            "✅ FIIU.DE procesado correctamente.\n",
            "✅ GT.DE procesado correctamente.\n"
          ]
        },
        {
          "metadata": {
            "tags": null
          },
          "name": "stderr",
          "output_type": "stream",
          "text": [
            "ERROR:yfinance:HTTP Error 404: \n"
          ]
        },
        {
          "metadata": {
            "tags": null
          },
          "name": "stdout",
          "output_type": "stream",
          "text": [
            "✅ HMTa.DE procesado correctamente.\n",
            "✅ IFF.DE procesado correctamente.\n",
            "✅ IIJIy.DE procesado correctamente.\n"
          ]
        },
        {
          "metadata": {
            "tags": null
          },
          "name": "stderr",
          "output_type": "stream",
          "text": [
            "ERROR:yfinance:HTTP Error 404: \n"
          ]
        },
        {
          "metadata": {
            "tags": null
          },
          "name": "stdout",
          "output_type": "stream",
          "text": [
            "✅ ITRK.DE procesado correctamente.\n",
            "✅ LH.DE procesado correctamente.\n"
          ]
        },
        {
          "metadata": {
            "tags": null
          },
          "name": "stderr",
          "output_type": "stream",
          "text": [
            "ERROR:yfinance:HTTP Error 404: \n"
          ]
        },
        {
          "metadata": {
            "tags": null
          },
          "name": "stdout",
          "output_type": "stream",
          "text": [
            "✅ 54M.DE procesado correctamente.\n"
          ]
        },
        {
          "metadata": {
            "tags": null
          },
          "name": "stderr",
          "output_type": "stream",
          "text": [
            "ERROR:yfinance:HTTP Error 404: \n"
          ]
        },
        {
          "metadata": {
            "tags": null
          },
          "name": "stdout",
          "output_type": "stream",
          "text": [
            "✅ PFGF.DE procesado correctamente.\n"
          ]
        },
        {
          "metadata": {
            "tags": null
          },
          "name": "stderr",
          "output_type": "stream",
          "text": [
            "ERROR:yfinance:HTTP Error 404: \n"
          ]
        },
        {
          "metadata": {
            "tags": null
          },
          "name": "stdout",
          "output_type": "stream",
          "text": [
            "✅ PXD.DE procesado correctamente.\n"
          ]
        },
        {
          "metadata": {
            "tags": null
          },
          "name": "stderr",
          "output_type": "stream",
          "text": [
            "ERROR:yfinance:HTTP Error 404: \n"
          ]
        },
        {
          "metadata": {
            "tags": null
          },
          "name": "stdout",
          "output_type": "stream",
          "text": [
            "✅ SFF.DE procesado correctamente.\n"
          ]
        },
        {
          "metadata": {
            "tags": null
          },
          "name": "stderr",
          "output_type": "stream",
          "text": [
            "ERROR:yfinance:HTTP Error 404: \n"
          ]
        },
        {
          "metadata": {
            "tags": null
          },
          "name": "stdout",
          "output_type": "stream",
          "text": [
            "✅ S5YA.DE procesado correctamente.\n",
            "✅ NY7.DE procesado correctamente.\n"
          ]
        },
        {
          "metadata": {
            "tags": null
          },
          "name": "stderr",
          "output_type": "stream",
          "text": [
            "ERROR:yfinance:HTTP Error 404: \n"
          ]
        },
        {
          "metadata": {
            "tags": null
          },
          "name": "stdout",
          "output_type": "stream",
          "text": [
            "✅ TEP.DE procesado correctamente.\n",
            "✅ A.DE procesado correctamente.\n",
            "✅ A4S.DE procesado correctamente.\n"
          ]
        },
        {
          "metadata": {
            "tags": null
          },
          "name": "stderr",
          "output_type": "stream",
          "text": [
            "ERROR:yfinance:HTTP Error 404: \n"
          ]
        },
        {
          "metadata": {
            "tags": null
          },
          "name": "stdout",
          "output_type": "stream",
          "text": [
            "✅ ANF.DE procesado correctamente.\n",
            "✅ CPW.DE procesado correctamente.\n",
            "✅ CTSH.DE procesado correctamente.\n"
          ]
        },
        {
          "metadata": {
            "tags": null
          },
          "name": "stderr",
          "output_type": "stream",
          "text": [
            "ERROR:yfinance:HTTP Error 404: \n"
          ]
        },
        {
          "metadata": {
            "tags": null
          },
          "name": "stdout",
          "output_type": "stream",
          "text": [
            "✅ FITB.DE procesado correctamente.\n",
            "✅ IC2.DE procesado correctamente.\n",
            "✅ LBL.DE procesado correctamente.\n",
            "✅ MCHP.DE procesado correctamente.\n",
            "✅ MPN.DE procesado correctamente.\n"
          ]
        },
        {
          "metadata": {
            "tags": null
          },
          "name": "stderr",
          "output_type": "stream",
          "text": [
            "ERROR:yfinance:HTTP Error 404: \n"
          ]
        },
        {
          "metadata": {
            "tags": null
          },
          "name": "stdout",
          "output_type": "stream",
          "text": [
            "✅ NTRS.DE procesado correctamente.\n"
          ]
        },
        {
          "metadata": {
            "tags": null
          },
          "name": "stderr",
          "output_type": "stream",
          "text": [
            "ERROR:yfinance:HTTP Error 404: \n"
          ]
        },
        {
          "metadata": {
            "tags": null
          },
          "name": "stdout",
          "output_type": "stream",
          "text": [
            "✅ PUFCX.DE procesado correctamente.\n"
          ]
        },
        {
          "metadata": {
            "tags": null
          },
          "name": "stderr",
          "output_type": "stream",
          "text": [
            "ERROR:yfinance:HTTP Error 404: \n"
          ]
        },
        {
          "metadata": {
            "tags": null
          },
          "name": "stdout",
          "output_type": "stream",
          "text": [
            "✅ PTEN.DE procesado correctamente.\n",
            "✅ SIH.DE procesado correctamente.\n"
          ]
        },
        {
          "metadata": {
            "tags": null
          },
          "name": "stderr",
          "output_type": "stream",
          "text": [
            "ERROR:yfinance:HTTP Error 404: \n"
          ]
        },
        {
          "metadata": {
            "tags": null
          },
          "name": "stdout",
          "output_type": "stream",
          "text": [
            "✅ TMO.DE procesado correctamente.\n"
          ]
        },
        {
          "metadata": {
            "tags": null
          },
          "name": "stderr",
          "output_type": "stream",
          "text": [
            "ERROR:yfinance:HTTP Error 404: \n"
          ]
        },
        {
          "metadata": {
            "tags": null
          },
          "name": "stdout",
          "output_type": "stream",
          "text": [
            "✅ X.DE procesado correctamente.\n",
            "✅ AEP.DE procesado correctamente.\n",
            "✅ AIG.DE procesado correctamente.\n",
            "✅ AKAM.DE procesado correctamente.\n"
          ]
        },
        {
          "metadata": {
            "tags": null
          },
          "name": "stderr",
          "output_type": "stream",
          "text": [
            "ERROR:yfinance:HTTP Error 404: \n"
          ]
        },
        {
          "metadata": {
            "tags": null
          },
          "name": "stdout",
          "output_type": "stream",
          "text": [
            "✅ BXB.DE procesado correctamente.\n"
          ]
        },
        {
          "metadata": {
            "tags": null
          },
          "name": "stderr",
          "output_type": "stream",
          "text": [
            "ERROR:yfinance:HTTP Error 404: \n"
          ]
        },
        {
          "metadata": {
            "tags": null
          },
          "name": "stdout",
          "output_type": "stream",
          "text": [
            "✅ GK6.DE procesado correctamente.\n"
          ]
        },
        {
          "metadata": {
            "tags": null
          },
          "name": "stderr",
          "output_type": "stream",
          "text": [
            "ERROR:yfinance:HTTP Error 404: \n"
          ]
        },
        {
          "metadata": {
            "tags": null
          },
          "name": "stdout",
          "output_type": "stream",
          "text": [
            "✅ 4CR1.DE procesado correctamente.\n",
            "✅ CLVG.DE procesado correctamente.\n"
          ]
        },
        {
          "metadata": {
            "tags": null
          },
          "name": "stderr",
          "output_type": "stream",
          "text": [
            "ERROR:yfinance:HTTP Error 404: \n"
          ]
        },
        {
          "metadata": {
            "tags": null
          },
          "name": "stdout",
          "output_type": "stream",
          "text": [
            "✅ CVN.DE procesado correctamente.\n",
            "✅ DP5.DE procesado correctamente.\n",
            "✅ ED.DE procesado correctamente.\n"
          ]
        },
        {
          "metadata": {
            "tags": null
          },
          "name": "stderr",
          "output_type": "stream",
          "text": [
            "ERROR:yfinance:HTTP Error 404: \n"
          ]
        },
        {
          "metadata": {
            "tags": null
          },
          "name": "stdout",
          "output_type": "stream",
          "text": [
            "✅ GVP1.DE procesado correctamente.\n",
            "✅ GS.DE procesado correctamente.\n",
            "✅ ITW.DE procesado correctamente.\n"
          ]
        },
        {
          "metadata": {
            "tags": null
          },
          "name": "stderr",
          "output_type": "stream",
          "text": [
            "ERROR:yfinance:HTTP Error 404: \n"
          ]
        },
        {
          "metadata": {
            "tags": null
          },
          "name": "stdout",
          "output_type": "stream",
          "text": [
            "✅ PNC.DE procesado correctamente.\n",
            "✅ QBE.DE procesado correctamente.\n",
            "✅ REDYy.DE procesado correctamente.\n",
            "✅ RWL.DE procesado correctamente.\n"
          ]
        },
        {
          "metadata": {
            "tags": null
          },
          "name": "stderr",
          "output_type": "stream",
          "text": [
            "ERROR:yfinance:HTTP Error 404: \n"
          ]
        },
        {
          "metadata": {
            "tags": null
          },
          "name": "stdout",
          "output_type": "stream",
          "text": [
            "✅ SGH.DE procesado correctamente.\n",
            "✅ STI.DE procesado correctamente.\n",
            "✅ ABEC.DE procesado correctamente.\n"
          ]
        },
        {
          "metadata": {
            "tags": null
          },
          "name": "stderr",
          "output_type": "stream",
          "text": [
            "ERROR:yfinance:HTTP Error 404: \n"
          ]
        },
        {
          "metadata": {
            "tags": null
          },
          "name": "stdout",
          "output_type": "stream",
          "text": [
            "✅ ADYA.DE procesado correctamente.\n",
            "✅ AMD.DE procesado correctamente.\n"
          ]
        },
        {
          "metadata": {
            "tags": null
          },
          "name": "stderr",
          "output_type": "stream",
          "text": [
            "ERROR:yfinance:HTTP Error 404: \n"
          ]
        },
        {
          "metadata": {
            "tags": null
          },
          "name": "stdout",
          "output_type": "stream",
          "text": [
            "✅ BDX.DE procesado correctamente.\n"
          ]
        },
        {
          "metadata": {
            "tags": null
          },
          "name": "stderr",
          "output_type": "stream",
          "text": [
            "ERROR:yfinance:HTTP Error 404: \n"
          ]
        },
        {
          "metadata": {
            "tags": null
          },
          "name": "stdout",
          "output_type": "stream",
          "text": [
            "✅ BEN.DE procesado correctamente.\n",
            "✅ BN9.DE procesado correctamente.\n"
          ]
        },
        {
          "metadata": {
            "tags": null
          },
          "name": "stderr",
          "output_type": "stream",
          "text": [
            "ERROR:yfinance:HTTP Error 404: \n"
          ]
        },
        {
          "metadata": {
            "tags": null
          },
          "name": "stdout",
          "output_type": "stream",
          "text": [
            "✅ BLY.DE procesado correctamente.\n"
          ]
        },
        {
          "metadata": {
            "tags": null
          },
          "name": "stderr",
          "output_type": "stream",
          "text": [
            "ERROR:yfinance:HTTP Error 404: \n"
          ]
        },
        {
          "metadata": {
            "tags": null
          },
          "name": "stdout",
          "output_type": "stream",
          "text": [
            "✅ BSXU.DE procesado correctamente.\n"
          ]
        },
        {
          "metadata": {
            "tags": null
          },
          "name": "stderr",
          "output_type": "stream",
          "text": [
            "ERROR:yfinance:HTTP Error 404: \n"
          ]
        },
        {
          "metadata": {
            "tags": null
          },
          "name": "stdout",
          "output_type": "stream",
          "text": [
            "✅ CF.DE procesado correctamente.\n",
            "✅ CHK.DE procesado correctamente.\n"
          ]
        },
        {
          "metadata": {
            "tags": null
          },
          "name": "stderr",
          "output_type": "stream",
          "text": [
            "ERROR:yfinance:HTTP Error 404: \n"
          ]
        },
        {
          "metadata": {
            "tags": null
          },
          "name": "stdout",
          "output_type": "stream",
          "text": [
            "✅ CIRX.DE procesado correctamente.\n",
            "✅ CNP.DE procesado correctamente.\n",
            "✅ D.DE procesado correctamente.\n"
          ]
        },
        {
          "metadata": {
            "tags": null
          },
          "name": "stderr",
          "output_type": "stream",
          "text": [
            "ERROR:yfinance:HTTP Error 404: \n"
          ]
        },
        {
          "metadata": {
            "tags": null
          },
          "name": "stdout",
          "output_type": "stream",
          "text": [
            "✅ TDSC.DE procesado correctamente.\n",
            "✅ DRI.DE procesado correctamente.\n"
          ]
        },
        {
          "metadata": {
            "tags": null
          },
          "name": "stderr",
          "output_type": "stream",
          "text": [
            "ERROR:yfinance:HTTP Error 404: \n"
          ]
        },
        {
          "metadata": {
            "tags": null
          },
          "name": "stdout",
          "output_type": "stream",
          "text": [
            "✅ ETFC.DE procesado correctamente.\n"
          ]
        },
        {
          "metadata": {
            "tags": null
          },
          "name": "stderr",
          "output_type": "stream",
          "text": [
            "ERROR:yfinance:HTTP Error 404: \n"
          ]
        },
        {
          "metadata": {
            "tags": null
          },
          "name": "stdout",
          "output_type": "stream",
          "text": [
            "✅ FMG.DE procesado correctamente.\n"
          ]
        },
        {
          "metadata": {
            "tags": null
          },
          "name": "stderr",
          "output_type": "stream",
          "text": [
            "ERROR:yfinance:HTTP Error 404: \n"
          ]
        },
        {
          "metadata": {
            "tags": null
          },
          "name": "stdout",
          "output_type": "stream",
          "text": [
            "✅ FM.DE procesado correctamente.\n"
          ]
        },
        {
          "metadata": {
            "tags": null
          },
          "name": "stderr",
          "output_type": "stream",
          "text": [
            "ERROR:yfinance:HTTP Error 404: \n"
          ]
        },
        {
          "metadata": {
            "tags": null
          },
          "name": "stdout",
          "output_type": "stream",
          "text": [
            "✅ GNW.DE procesado correctamente.\n"
          ]
        },
        {
          "metadata": {
            "tags": null
          },
          "name": "stderr",
          "output_type": "stream",
          "text": [
            "ERROR:yfinance:HTTP Error 404: \n"
          ]
        },
        {
          "metadata": {
            "tags": null
          },
          "name": "stdout",
          "output_type": "stream",
          "text": [
            "✅ G9KB.DE procesado correctamente.\n",
            "✅ HLS.DE procesado correctamente.\n",
            "✅ ISRGD.DE procesado correctamente.\n",
            "✅ KLAC.DE procesado correctamente.\n"
          ]
        },
        {
          "metadata": {
            "tags": null
          },
          "name": "stderr",
          "output_type": "stream",
          "text": [
            "ERROR:yfinance:HTTP Error 404: \n"
          ]
        },
        {
          "metadata": {
            "tags": null
          },
          "name": "stdout",
          "output_type": "stream",
          "text": [
            "✅ 471A.DE procesado correctamente.\n"
          ]
        },
        {
          "metadata": {
            "tags": null
          },
          "name": "stderr",
          "output_type": "stream",
          "text": [
            "ERROR:yfinance:HTTP Error 404: \n"
          ]
        },
        {
          "metadata": {
            "tags": null
          },
          "name": "stdout",
          "output_type": "stream",
          "text": [
            "✅ 8MP.DE procesado correctamente.\n",
            "✅ MTFTy.DE procesado correctamente.\n",
            "✅ FPO.DE procesado correctamente.\n"
          ]
        },
        {
          "metadata": {
            "tags": null
          },
          "name": "stderr",
          "output_type": "stream",
          "text": [
            "ERROR:yfinance:HTTP Error 404: \n"
          ]
        },
        {
          "metadata": {
            "tags": null
          },
          "name": "stdout",
          "output_type": "stream",
          "text": [
            "✅ 1BF.DE procesado correctamente.\n"
          ]
        },
        {
          "metadata": {
            "tags": null
          },
          "name": "stderr",
          "output_type": "stream",
          "text": [
            "ERROR:yfinance:HTTP Error 404: \n"
          ]
        },
        {
          "metadata": {
            "tags": null
          },
          "name": "stdout",
          "output_type": "stream",
          "text": [
            "✅ RF.DE procesado correctamente.\n",
            "✅ RIM.DE procesado correctamente.\n"
          ]
        },
        {
          "metadata": {
            "tags": null
          },
          "name": "stderr",
          "output_type": "stream",
          "text": [
            "ERROR:yfinance:HTTP Error 404: \n"
          ]
        },
        {
          "metadata": {
            "tags": null
          },
          "name": "stdout",
          "output_type": "stream",
          "text": [
            "✅ DLLNG.DE procesado correctamente.\n",
            "✅ SFM1.DE procesado correctamente.\n"
          ]
        },
        {
          "metadata": {
            "tags": null
          },
          "name": "stderr",
          "output_type": "stream",
          "text": [
            "ERROR:yfinance:HTTP Error 404: \n"
          ]
        },
        {
          "metadata": {
            "tags": null
          },
          "name": "stdout",
          "output_type": "stream",
          "text": [
            "✅ SKC.DE procesado correctamente.\n"
          ]
        },
        {
          "metadata": {
            "tags": null
          },
          "name": "stderr",
          "output_type": "stream",
          "text": [
            "ERROR:yfinance:HTTP Error 404: \n"
          ]
        },
        {
          "metadata": {
            "tags": null
          },
          "name": "stdout",
          "output_type": "stream",
          "text": [
            "✅ M2O.DE procesado correctamente.\n"
          ]
        },
        {
          "metadata": {
            "tags": null
          },
          "name": "stderr",
          "output_type": "stream",
          "text": [
            "ERROR:yfinance:HTTP Error 404: \n"
          ]
        },
        {
          "metadata": {
            "tags": null
          },
          "name": "stdout",
          "output_type": "stream",
          "text": [
            "✅ SWK.DE procesado correctamente.\n",
            "✅ SWN.DE procesado correctamente.\n"
          ]
        },
        {
          "metadata": {
            "tags": null
          },
          "name": "stderr",
          "output_type": "stream",
          "text": [
            "ERROR:yfinance:HTTP Error 404: \n"
          ]
        },
        {
          "metadata": {
            "tags": null
          },
          "name": "stdout",
          "output_type": "stream",
          "text": [
            "✅ TROW.DE procesado correctamente.\n",
            "✅ UNH.DE procesado correctamente.\n"
          ]
        },
        {
          "metadata": {
            "tags": null
          },
          "name": "stderr",
          "output_type": "stream",
          "text": [
            "ERROR:yfinance:HTTP Error 404: \n"
          ]
        },
        {
          "metadata": {
            "tags": null
          },
          "name": "stdout",
          "output_type": "stream",
          "text": [
            "✅ A60.DE procesado correctamente.\n",
            "✅ WPL.DE procesado correctamente.\n"
          ]
        },
        {
          "metadata": {
            "tags": null
          },
          "name": "stderr",
          "output_type": "stream",
          "text": [
            "ERROR:yfinance:HTTP Error 404: \n"
          ]
        },
        {
          "metadata": {
            "tags": null
          },
          "name": "stdout",
          "output_type": "stream",
          "text": [
            "✅ WYN.DE procesado correctamente.\n"
          ]
        },
        {
          "metadata": {
            "tags": null
          },
          "name": "stderr",
          "output_type": "stream",
          "text": [
            "ERROR:yfinance:HTTP Error 404: \n"
          ]
        },
        {
          "metadata": {
            "tags": null
          },
          "name": "stdout",
          "output_type": "stream",
          "text": [
            "✅ ABC.DE procesado correctamente.\n"
          ]
        },
        {
          "metadata": {
            "tags": null
          },
          "name": "stderr",
          "output_type": "stream",
          "text": [
            "ERROR:yfinance:HTTP Error 404: \n"
          ]
        },
        {
          "metadata": {
            "tags": null
          },
          "name": "stdout",
          "output_type": "stream",
          "text": [
            "✅ BZTA.DE procesado correctamente.\n",
            "✅ AMAT.DE procesado correctamente.\n"
          ]
        },
        {
          "metadata": {
            "tags": null
          },
          "name": "stderr",
          "output_type": "stream",
          "text": [
            "ERROR:yfinance:HTTP Error 404: \n"
          ]
        },
        {
          "metadata": {
            "tags": null
          },
          "name": "stdout",
          "output_type": "stream",
          "text": [
            "✅ A0T.DE procesado correctamente.\n"
          ]
        },
        {
          "metadata": {
            "tags": null
          },
          "name": "stderr",
          "output_type": "stream",
          "text": [
            "ERROR:yfinance:HTTP Error 404: \n"
          ]
        },
        {
          "metadata": {
            "tags": null
          },
          "name": "stdout",
          "output_type": "stream",
          "text": [
            "✅ W6P.DE procesado correctamente.\n",
            "✅ BAB.DE procesado correctamente.\n",
            "✅ BBBY.DE procesado correctamente.\n"
          ]
        },
        {
          "metadata": {
            "tags": null
          },
          "name": "stderr",
          "output_type": "stream",
          "text": [
            "ERROR:yfinance:HTTP Error 404: \n"
          ]
        },
        {
          "metadata": {
            "tags": null
          },
          "name": "stdout",
          "output_type": "stream",
          "text": [
            "✅ BXP.DE procesado correctamente.\n",
            "✅ COF.DE procesado correctamente.\n",
            "✅ COST.DE procesado correctamente.\n"
          ]
        },
        {
          "metadata": {
            "tags": null
          },
          "name": "stderr",
          "output_type": "stream",
          "text": [
            "ERROR:yfinance:HTTP Error 404: \n"
          ]
        },
        {
          "metadata": {
            "tags": null
          },
          "name": "stdout",
          "output_type": "stream",
          "text": [
            "✅ TBN2.DE procesado correctamente.\n",
            "✅ DNR.DE procesado correctamente.\n",
            "✅ EER.DE procesado correctamente.\n"
          ]
        },
        {
          "metadata": {
            "tags": null
          },
          "name": "stderr",
          "output_type": "stream",
          "text": [
            "ERROR:yfinance:HTTP Error 404: \n"
          ]
        },
        {
          "metadata": {
            "tags": null
          },
          "name": "stdout",
          "output_type": "stream",
          "text": [
            "✅ FBU.DE procesado correctamente.\n",
            "✅ G4U.DE procesado correctamente.\n",
            "✅ HIK.DE procesado correctamente.\n"
          ]
        },
        {
          "metadata": {
            "tags": null
          },
          "name": "stderr",
          "output_type": "stream",
          "text": [
            "ERROR:yfinance:HTTP Error 404: \n"
          ]
        },
        {
          "metadata": {
            "tags": null
          },
          "name": "stdout",
          "output_type": "stream",
          "text": [
            "✅ IGO.DE procesado correctamente.\n",
            "✅ IPG.DE procesado correctamente.\n"
          ]
        },
        {
          "metadata": {
            "tags": null
          },
          "name": "stderr",
          "output_type": "stream",
          "text": [
            "ERROR:yfinance:HTTP Error 404: \n"
          ]
        },
        {
          "metadata": {
            "tags": null
          },
          "name": "stdout",
          "output_type": "stream",
          "text": [
            "✅ LNC.DE procesado correctamente.\n",
            "✅ LUV.DE procesado correctamente.\n"
          ]
        },
        {
          "metadata": {
            "tags": null
          },
          "name": "stderr",
          "output_type": "stream",
          "text": [
            "ERROR:yfinance:HTTP Error 404: \n"
          ]
        },
        {
          "metadata": {
            "tags": null
          },
          "name": "stdout",
          "output_type": "stream",
          "text": [
            "✅ MA2.DE procesado correctamente.\n",
            "✅ MNMA.DE procesado correctamente.\n"
          ]
        },
        {
          "metadata": {
            "tags": null
          },
          "name": "stderr",
          "output_type": "stream",
          "text": [
            "ERROR:yfinance:HTTP Error 404: \n"
          ]
        },
        {
          "metadata": {
            "tags": null
          },
          "name": "stdout",
          "output_type": "stream",
          "text": [
            "✅ MAPA.DE procesado correctamente.\n",
            "✅ MML.DE procesado correctamente.\n",
            "✅ MU.DE procesado correctamente.\n",
            "✅ NBR.DE procesado correctamente.\n",
            "✅ NOC.DE procesado correctamente.\n",
            "✅ NSC.DE procesado correctamente.\n"
          ]
        },
        {
          "metadata": {
            "tags": null
          },
          "name": "stderr",
          "output_type": "stream",
          "text": [
            "ERROR:yfinance:HTTP Error 404: \n"
          ]
        },
        {
          "metadata": {
            "tags": null
          },
          "name": "stdout",
          "output_type": "stream",
          "text": [
            "✅ NUAN.DE procesado correctamente.\n",
            "✅ NWL.DE procesado correctamente.\n",
            "✅ RQQ1.DE procesado correctamente.\n"
          ]
        },
        {
          "metadata": {
            "tags": null
          },
          "name": "stderr",
          "output_type": "stream",
          "text": [
            "ERROR:yfinance:HTTP Error 404: \n"
          ]
        },
        {
          "metadata": {
            "tags": null
          },
          "name": "stdout",
          "output_type": "stream",
          "text": [
            "✅ PAFR.DE procesado correctamente.\n"
          ]
        },
        {
          "metadata": {
            "tags": null
          },
          "name": "stderr",
          "output_type": "stream",
          "text": [
            "ERROR:yfinance:HTTP Error 404: \n"
          ]
        },
        {
          "metadata": {
            "tags": null
          },
          "name": "stdout",
          "output_type": "stream",
          "text": [
            "✅ RSGU.DE procesado correctamente.\n"
          ]
        },
        {
          "metadata": {
            "tags": null
          },
          "name": "stderr",
          "output_type": "stream",
          "text": [
            "ERROR:yfinance:HTTP Error 404: \n"
          ]
        },
        {
          "metadata": {
            "tags": null
          },
          "name": "stdout",
          "output_type": "stream",
          "text": [
            "✅ SCCO.DE procesado correctamente.\n"
          ]
        },
        {
          "metadata": {
            "tags": null
          },
          "name": "stderr",
          "output_type": "stream",
          "text": [
            "ERROR:yfinance:HTTP Error 404: \n"
          ]
        },
        {
          "metadata": {
            "tags": null
          },
          "name": "stdout",
          "output_type": "stream",
          "text": [
            "✅ SQP.DE procesado correctamente.\n",
            "✅ TVy.DE procesado correctamente.\n"
          ]
        },
        {
          "metadata": {
            "tags": null
          },
          "name": "stderr",
          "output_type": "stream",
          "text": [
            "ERROR:yfinance:HTTP Error 404: \n"
          ]
        },
        {
          "metadata": {
            "tags": null
          },
          "name": "stdout",
          "output_type": "stream",
          "text": [
            "✅ TXN.DE procesado correctamente.\n"
          ]
        },
        {
          "metadata": {
            "tags": null
          },
          "name": "stderr",
          "output_type": "stream",
          "text": [
            "ERROR:yfinance:HTTP Error 404: \n"
          ]
        },
        {
          "metadata": {
            "tags": null
          },
          "name": "stdout",
          "output_type": "stream",
          "text": [
            "✅ VBA.DE procesado correctamente.\n"
          ]
        },
        {
          "metadata": {
            "tags": null
          },
          "name": "stderr",
          "output_type": "stream",
          "text": [
            "ERROR:yfinance:HTTP Error 404: \n"
          ]
        },
        {
          "metadata": {
            "tags": null
          },
          "name": "stdout",
          "output_type": "stream",
          "text": [
            "✅ WICG.DE procesado correctamente.\n",
            "✅ 33A.DE procesado correctamente.\n"
          ]
        },
        {
          "metadata": {
            "tags": null
          },
          "name": "stderr",
          "output_type": "stream",
          "text": [
            "ERROR:yfinance:HTTP Error 404: \n"
          ]
        },
        {
          "metadata": {
            "tags": null
          },
          "name": "stdout",
          "output_type": "stream",
          "text": [
            "✅ PNH.DE procesado correctamente.\n",
            "✅ BAC.DE procesado correctamente.\n"
          ]
        },
        {
          "metadata": {
            "tags": null
          },
          "name": "stderr",
          "output_type": "stream",
          "text": [
            "ERROR:yfinance:HTTP Error 404: \n"
          ]
        },
        {
          "metadata": {
            "tags": null
          },
          "name": "stdout",
          "output_type": "stream",
          "text": [
            "✅ BFGA.DE procesado correctamente.\n",
            "✅ BMY.DE procesado correctamente.\n"
          ]
        },
        {
          "metadata": {
            "tags": null
          },
          "name": "stderr",
          "output_type": "stream",
          "text": [
            "ERROR:yfinance:HTTP Error 404: \n"
          ]
        },
        {
          "metadata": {
            "tags": null
          },
          "name": "stdout",
          "output_type": "stream",
          "text": [
            "✅ BBN1.DE procesado correctamente.\n"
          ]
        },
        {
          "metadata": {
            "tags": null
          },
          "name": "stderr",
          "output_type": "stream",
          "text": [
            "ERROR:yfinance:HTTP Error 404: \n"
          ]
        },
        {
          "metadata": {
            "tags": null
          },
          "name": "stdout",
          "output_type": "stream",
          "text": [
            "✅ XC2.DE procesado correctamente.\n"
          ]
        },
        {
          "metadata": {
            "tags": null
          },
          "name": "stderr",
          "output_type": "stream",
          "text": [
            "ERROR:yfinance:HTTP Error 404: \n"
          ]
        },
        {
          "metadata": {
            "tags": null
          },
          "name": "stdout",
          "output_type": "stream",
          "text": [
            "✅ COCA.DE procesado correctamente.\n",
            "✅ CL.DE procesado correctamente.\n"
          ]
        },
        {
          "metadata": {
            "tags": null
          },
          "name": "stderr",
          "output_type": "stream",
          "text": [
            "ERROR:yfinance:HTTP Error 404: \n"
          ]
        },
        {
          "metadata": {
            "tags": null
          },
          "name": "stdout",
          "output_type": "stream",
          "text": [
            "✅ CUE.DE procesado correctamente.\n"
          ]
        },
        {
          "metadata": {
            "tags": null
          },
          "name": "stderr",
          "output_type": "stream",
          "text": [
            "ERROR:yfinance:HTTP Error 404: \n"
          ]
        },
        {
          "metadata": {
            "tags": null
          },
          "name": "stdout",
          "output_type": "stream",
          "text": [
            "✅ CFJA.DE procesado correctamente.\n"
          ]
        },
        {
          "metadata": {
            "tags": null
          },
          "name": "stderr",
          "output_type": "stream",
          "text": [
            "ERROR:yfinance:HTTP Error 404: \n"
          ]
        },
        {
          "metadata": {
            "tags": null
          },
          "name": "stdout",
          "output_type": "stream",
          "text": [
            "✅ FLEX.DE procesado correctamente.\n"
          ]
        },
        {
          "metadata": {
            "tags": null
          },
          "name": "stderr",
          "output_type": "stream",
          "text": [
            "ERROR:yfinance:HTTP Error 404: \n"
          ]
        },
        {
          "metadata": {
            "tags": null
          },
          "name": "stdout",
          "output_type": "stream",
          "text": [
            "✅ 1T1.DE procesado correctamente.\n"
          ]
        },
        {
          "metadata": {
            "tags": null
          },
          "name": "stderr",
          "output_type": "stream",
          "text": [
            "ERROR:yfinance:HTTP Error 404: \n"
          ]
        },
        {
          "metadata": {
            "tags": null
          },
          "name": "stdout",
          "output_type": "stream",
          "text": [
            "✅ JLL.DE procesado correctamente.\n",
            "✅ HAIN.DE procesado correctamente.\n"
          ]
        },
        {
          "metadata": {
            "tags": null
          },
          "name": "stderr",
          "output_type": "stream",
          "text": [
            "ERROR:yfinance:HTTP Error 404: \n"
          ]
        },
        {
          "metadata": {
            "tags": null
          },
          "name": "stdout",
          "output_type": "stream",
          "text": [
            "✅ ICAy.DE procesado correctamente.\n",
            "✅ 7IG.DE procesado correctamente.\n",
            "✅ JMX.DE procesado correctamente.\n",
            "✅ TYIA.DE procesado correctamente.\n",
            "✅ JNPR.DE procesado correctamente.\n",
            "✅ KHNZ.DE procesado correctamente.\n"
          ]
        },
        {
          "metadata": {
            "tags": null
          },
          "name": "stderr",
          "output_type": "stream",
          "text": [
            "ERROR:yfinance:HTTP Error 404: \n"
          ]
        },
        {
          "metadata": {
            "tags": null
          },
          "name": "stdout",
          "output_type": "stream",
          "text": [
            "✅ LOOL.DE procesado correctamente.\n"
          ]
        },
        {
          "metadata": {
            "tags": null
          },
          "name": "stderr",
          "output_type": "stream",
          "text": [
            "ERROR:yfinance:HTTP Error 404: \n"
          ]
        },
        {
          "metadata": {
            "tags": null
          },
          "name": "stdout",
          "output_type": "stream",
          "text": [
            "✅ 34LA.DE procesado correctamente.\n",
            "✅ OXY.DE procesado correctamente.\n",
            "✅ PH.DE procesado correctamente.\n",
            "✅ RHI.DE procesado correctamente.\n",
            "✅ RRC.DE procesado correctamente.\n",
            "✅ SCH.DE procesado correctamente.\n"
          ]
        },
        {
          "metadata": {
            "tags": null
          },
          "name": "stderr",
          "output_type": "stream",
          "text": [
            "ERROR:yfinance:HTTP Error 404: \n"
          ]
        },
        {
          "metadata": {
            "tags": null
          },
          "name": "stdout",
          "output_type": "stream",
          "text": [
            "✅ XRP1.DE procesado correctamente.\n"
          ]
        },
        {
          "metadata": {
            "tags": null
          },
          "name": "stderr",
          "output_type": "stream",
          "text": [
            "ERROR:yfinance:HTTP Error 404: \n"
          ]
        },
        {
          "metadata": {
            "tags": null
          },
          "name": "stdout",
          "output_type": "stream",
          "text": [
            "✅ SIPG.DE procesado correctamente.\n"
          ]
        },
        {
          "metadata": {
            "tags": null
          },
          "name": "stderr",
          "output_type": "stream",
          "text": [
            "ERROR:yfinance:HTTP Error 404: \n"
          ]
        },
        {
          "metadata": {
            "tags": null
          },
          "name": "stdout",
          "output_type": "stream",
          "text": [
            "✅ S9P2.DE procesado correctamente.\n"
          ]
        },
        {
          "metadata": {
            "tags": null
          },
          "name": "stderr",
          "output_type": "stream",
          "text": [
            "ERROR:yfinance:HTTP Error 404: \n"
          ]
        },
        {
          "metadata": {
            "tags": null
          },
          "name": "stdout",
          "output_type": "stream",
          "text": [
            "✅ WA7.DE procesado correctamente.\n"
          ]
        },
        {
          "metadata": {
            "tags": null
          },
          "name": "stderr",
          "output_type": "stream",
          "text": [
            "ERROR:yfinance:HTTP Error 404: \n"
          ]
        },
        {
          "metadata": {
            "tags": null
          },
          "name": "stdout",
          "output_type": "stream",
          "text": [
            "✅ TCL.DE procesado correctamente.\n"
          ]
        },
        {
          "metadata": {
            "tags": null
          },
          "name": "stderr",
          "output_type": "stream",
          "text": [
            "ERROR:yfinance:HTTP Error 404: \n"
          ]
        },
        {
          "metadata": {
            "tags": null
          },
          "name": "stdout",
          "output_type": "stream",
          "text": [
            "✅ TTWO.DE procesado correctamente.\n"
          ]
        },
        {
          "metadata": {
            "tags": null
          },
          "name": "stderr",
          "output_type": "stream",
          "text": [
            "ERROR:yfinance:HTTP Error 404: \n"
          ]
        },
        {
          "metadata": {
            "tags": null
          },
          "name": "stdout",
          "output_type": "stream",
          "text": [
            "✅ URBN.DE procesado correctamente.\n"
          ]
        },
        {
          "metadata": {
            "tags": null
          },
          "name": "stderr",
          "output_type": "stream",
          "text": [
            "ERROR:yfinance:HTTP Error 404: \n"
          ]
        },
        {
          "metadata": {
            "tags": null
          },
          "name": "stdout",
          "output_type": "stream",
          "text": [
            "✅ VNO.DE procesado correctamente.\n",
            "✅ WBC.DE procesado correctamente.\n",
            "✅ WDC.DE procesado correctamente.\n"
          ]
        },
        {
          "metadata": {
            "tags": null
          },
          "name": "stderr",
          "output_type": "stream",
          "text": [
            "ERROR:yfinance:HTTP Error 404: \n"
          ]
        },
        {
          "metadata": {
            "tags": null
          },
          "name": "stdout",
          "output_type": "stream",
          "text": [
            "✅ UW.DE procesado correctamente.\n"
          ]
        },
        {
          "metadata": {
            "tags": null
          },
          "name": "stderr",
          "output_type": "stream",
          "text": [
            "ERROR:yfinance:HTTP Error 404: \n"
          ]
        },
        {
          "metadata": {
            "tags": null
          },
          "name": "stdout",
          "output_type": "stream",
          "text": [
            "✅ WPOB.DE procesado correctamente.\n",
            "✅ ABT.DE procesado correctamente.\n"
          ]
        },
        {
          "metadata": {
            "tags": null
          },
          "name": "stderr",
          "output_type": "stream",
          "text": [
            "ERROR:yfinance:HTTP Error 404: \n"
          ]
        },
        {
          "metadata": {
            "tags": null
          },
          "name": "stdout",
          "output_type": "stream",
          "text": [
            "✅ AV3.DE procesado correctamente.\n",
            "✅ AXP.DE procesado correctamente.\n"
          ]
        },
        {
          "metadata": {
            "tags": null
          },
          "name": "stderr",
          "output_type": "stream",
          "text": [
            "ERROR:yfinance:HTTP Error 404: \n"
          ]
        },
        {
          "metadata": {
            "tags": null
          },
          "name": "stdout",
          "output_type": "stream",
          "text": [
            "✅ BFb.DE procesado correctamente.\n",
            "✅ BSLS.DE procesado correctamente.\n",
            "✅ CAH.DE procesado correctamente.\n",
            "✅ FG9.DE procesado correctamente.\n",
            "✅ CR8.DE procesado correctamente.\n"
          ]
        },
        {
          "metadata": {
            "tags": null
          },
          "name": "stderr",
          "output_type": "stream",
          "text": [
            "ERROR:yfinance:HTTP Error 404: \n"
          ]
        },
        {
          "metadata": {
            "tags": null
          },
          "name": "stdout",
          "output_type": "stream",
          "text": [
            "✅ CEXAy.DE procesado correctamente.\n",
            "✅ DEL.DE procesado correctamente.\n"
          ]
        },
        {
          "metadata": {
            "tags": null
          },
          "name": "stderr",
          "output_type": "stream",
          "text": [
            "ERROR:yfinance:HTTP Error 404: \n"
          ]
        },
        {
          "metadata": {
            "tags": null
          },
          "name": "stdout",
          "output_type": "stream",
          "text": [
            "✅ 2DBn.DE procesado correctamente.\n",
            "✅ EMN.DE procesado correctamente.\n",
            "✅ EMR.DE procesado correctamente.\n",
            "✅ GEC.DE procesado correctamente.\n",
            "✅ GILD.DE procesado correctamente.\n"
          ]
        },
        {
          "metadata": {
            "tags": null
          },
          "name": "stderr",
          "output_type": "stream",
          "text": [
            "ERROR:yfinance:HTTP Error 404: \n"
          ]
        },
        {
          "metadata": {
            "tags": null
          },
          "name": "stdout",
          "output_type": "stream",
          "text": [
            "✅ 2U4.DE procesado correctamente.\n",
            "✅ HOG.DE procesado correctamente.\n"
          ]
        },
        {
          "metadata": {
            "tags": null
          },
          "name": "stderr",
          "output_type": "stream",
          "text": [
            "ERROR:yfinance:HTTP Error 404: \n"
          ]
        },
        {
          "metadata": {
            "tags": null
          },
          "name": "stdout",
          "output_type": "stream",
          "text": [
            "✅ IACI.DE procesado correctamente.\n"
          ]
        },
        {
          "metadata": {
            "tags": null
          },
          "name": "stderr",
          "output_type": "stream",
          "text": [
            "ERROR:yfinance:HTTP Error 404: \n"
          ]
        },
        {
          "metadata": {
            "tags": null
          },
          "name": "stdout",
          "output_type": "stream",
          "text": [
            "✅ ICAG.DE procesado correctamente.\n",
            "✅ ILU.DE procesado correctamente.\n"
          ]
        },
        {
          "metadata": {
            "tags": null
          },
          "name": "stderr",
          "output_type": "stream",
          "text": [
            "ERROR:yfinance:HTTP Error 404: \n"
          ]
        },
        {
          "metadata": {
            "tags": null
          },
          "name": "stdout",
          "output_type": "stream",
          "text": [
            "✅ IPGP.DE procesado correctamente.\n",
            "✅ JPM.DE procesado correctamente.\n"
          ]
        },
        {
          "metadata": {
            "tags": null
          },
          "name": "stderr",
          "output_type": "stream",
          "text": [
            "ERROR:yfinance:HTTP Error 404: \n"
          ]
        },
        {
          "metadata": {
            "tags": null
          },
          "name": "stdout",
          "output_type": "stream",
          "text": [
            "✅ KOFy.DE procesado correctamente.\n"
          ]
        },
        {
          "metadata": {
            "tags": null
          },
          "name": "stderr",
          "output_type": "stream",
          "text": [
            "ERROR:yfinance:HTTP Error 404: \n"
          ]
        },
        {
          "metadata": {
            "tags": null
          },
          "name": "stdout",
          "output_type": "stream",
          "text": [
            "✅ LNNM.DE procesado correctamente.\n"
          ]
        },
        {
          "metadata": {
            "tags": null
          },
          "name": "stderr",
          "output_type": "stream",
          "text": [
            "ERROR:yfinance:HTTP Error 404: \n"
          ]
        },
        {
          "metadata": {
            "tags": null
          },
          "name": "stdout",
          "output_type": "stream",
          "text": [
            "✅ LRE.DE procesado correctamente.\n"
          ]
        },
        {
          "metadata": {
            "tags": null
          },
          "name": "stderr",
          "output_type": "stream",
          "text": [
            "ERROR:yfinance:HTTP Error 404: \n"
          ]
        },
        {
          "metadata": {
            "tags": null
          },
          "name": "stdout",
          "output_type": "stream",
          "text": [
            "✅ MAB.DE procesado correctamente.\n",
            "✅ MGA.DE procesado correctamente.\n",
            "✅ MHP.DE procesado correctamente.\n",
            "✅ MQG.DE procesado correctamente.\n"
          ]
        },
        {
          "metadata": {
            "tags": null
          },
          "name": "stderr",
          "output_type": "stream",
          "text": [
            "ERROR:yfinance:HTTP Error 404: \n"
          ]
        },
        {
          "metadata": {
            "tags": null
          },
          "name": "stdout",
          "output_type": "stream",
          "text": [
            "✅ NCM.DE procesado correctamente.\n",
            "✅ NEM.DE procesado correctamente.\n"
          ]
        },
        {
          "metadata": {
            "tags": null
          },
          "name": "stderr",
          "output_type": "stream",
          "text": [
            "ERROR:yfinance:HTTP Error 404: \n"
          ]
        },
        {
          "metadata": {
            "tags": null
          },
          "name": "stdout",
          "output_type": "stream",
          "text": [
            "✅ NYTa.DE procesado correctamente.\n"
          ]
        },
        {
          "metadata": {
            "tags": null
          },
          "name": "stderr",
          "output_type": "stream",
          "text": [
            "ERROR:yfinance:HTTP Error 404: \n"
          ]
        },
        {
          "metadata": {
            "tags": null
          },
          "name": "stdout",
          "output_type": "stream",
          "text": [
            "✅ OZLn.DE procesado correctamente.\n",
            "✅ PDN.DE procesado correctamente.\n"
          ]
        },
        {
          "metadata": {
            "tags": null
          },
          "name": "stderr",
          "output_type": "stream",
          "text": [
            "ERROR:yfinance:HTTP Error 404: \n"
          ]
        },
        {
          "metadata": {
            "tags": null
          },
          "name": "stdout",
          "output_type": "stream",
          "text": [
            "✅ PFG.DE procesado correctamente.\n",
            "✅ PG.DE procesado correctamente.\n",
            "✅ POG.DE procesado correctamente.\n"
          ]
        },
        {
          "metadata": {
            "tags": null
          },
          "name": "stderr",
          "output_type": "stream",
          "text": [
            "ERROR:yfinance:HTTP Error 404: \n"
          ]
        },
        {
          "metadata": {
            "tags": null
          },
          "name": "stdout",
          "output_type": "stream",
          "text": [
            "✅ RDSb.DE procesado correctamente.\n",
            "✅ RL.DE procesado correctamente.\n",
            "✅ SHLD.DE procesado correctamente.\n",
            "✅ SHW.DE procesado correctamente.\n"
          ]
        },
        {
          "metadata": {
            "tags": null
          },
          "name": "stderr",
          "output_type": "stream",
          "text": [
            "ERROR:yfinance:HTTP Error 404: \n"
          ]
        },
        {
          "metadata": {
            "tags": null
          },
          "name": "stdout",
          "output_type": "stream",
          "text": [
            "✅ SK3.DE procesado correctamente.\n"
          ]
        },
        {
          "metadata": {
            "tags": null
          },
          "name": "stderr",
          "output_type": "stream",
          "text": [
            "ERROR:yfinance:HTTP Error 404: \n"
          ]
        },
        {
          "metadata": {
            "tags": null
          },
          "name": "stdout",
          "output_type": "stream",
          "text": [
            "✅ SIIG.DE procesado correctamente.\n"
          ]
        },
        {
          "metadata": {
            "tags": null
          },
          "name": "stderr",
          "output_type": "stream",
          "text": [
            "ERROR:yfinance:HTTP Error 404: \n"
          ]
        },
        {
          "metadata": {
            "tags": null
          },
          "name": "stdout",
          "output_type": "stream",
          "text": [
            "✅ 1JD.DE procesado correctamente.\n"
          ]
        },
        {
          "metadata": {
            "tags": null
          },
          "name": "stderr",
          "output_type": "stream",
          "text": [
            "ERROR:yfinance:HTTP Error 404: \n"
          ]
        },
        {
          "metadata": {
            "tags": null
          },
          "name": "stdout",
          "output_type": "stream",
          "text": [
            "✅ TWI.DE procesado correctamente.\n",
            "✅ UTX.DE procesado correctamente.\n",
            "✅ VMC.DE procesado correctamente.\n",
            "✅ WHC.DE procesado correctamente.\n",
            "✅ WMT.DE procesado correctamente.\n",
            "✅ ZMRHV.DE procesado correctamente.\n",
            "✅ ABX.DE procesado correctamente.\n"
          ]
        },
        {
          "metadata": {
            "tags": null
          },
          "name": "stderr",
          "output_type": "stream",
          "text": [
            "ERROR:yfinance:HTTP Error 404: \n"
          ]
        },
        {
          "metadata": {
            "tags": null
          },
          "name": "stdout",
          "output_type": "stream",
          "text": [
            "✅ ACKB.DE procesado correctamente.\n"
          ]
        },
        {
          "metadata": {
            "tags": null
          },
          "name": "stderr",
          "output_type": "stream",
          "text": [
            "ERROR:yfinance:HTTP Error 404: \n"
          ]
        },
        {
          "metadata": {
            "tags": null
          },
          "name": "stdout",
          "output_type": "stream",
          "text": [
            "✅ ADI.DE procesado correctamente.\n",
            "✅ AEM.DE procesado correctamente.\n",
            "✅ AKS.DE procesado correctamente.\n",
            "✅ A7L.DE procesado correctamente.\n"
          ]
        },
        {
          "metadata": {
            "tags": null
          },
          "name": "stderr",
          "output_type": "stream",
          "text": [
            "ERROR:yfinance:HTTP Error 404: \n"
          ]
        },
        {
          "metadata": {
            "tags": null
          },
          "name": "stdout",
          "output_type": "stream",
          "text": [
            "✅ GMN.DE procesado correctamente.\n",
            "✅ 1YD.DE procesado correctamente.\n"
          ]
        },
        {
          "metadata": {
            "tags": null
          },
          "name": "stderr",
          "output_type": "stream",
          "text": [
            "ERROR:yfinance:HTTP Error 404: \n"
          ]
        },
        {
          "metadata": {
            "tags": null
          },
          "name": "stdout",
          "output_type": "stream",
          "text": [
            "✅ BV51.DE procesado correctamente.\n"
          ]
        },
        {
          "metadata": {
            "tags": null
          },
          "name": "stderr",
          "output_type": "stream",
          "text": [
            "ERROR:yfinance:HTTP Error 404: \n"
          ]
        },
        {
          "metadata": {
            "tags": null
          },
          "name": "stdout",
          "output_type": "stream",
          "text": [
            "✅ BRKb.DE procesado correctamente.\n",
            "✅ CTXS.DE procesado correctamente.\n",
            "✅ CVS.DE procesado correctamente.\n"
          ]
        },
        {
          "metadata": {
            "tags": null
          },
          "name": "stderr",
          "output_type": "stream",
          "text": [
            "ERROR:yfinance:HTTP Error 404: \n"
          ]
        },
        {
          "metadata": {
            "tags": null
          },
          "name": "stdout",
          "output_type": "stream",
          "text": [
            "✅ DKOB.DE procesado correctamente.\n"
          ]
        },
        {
          "metadata": {
            "tags": null
          },
          "name": "stderr",
          "output_type": "stream",
          "text": [
            "ERROR:yfinance:HTTP Error 404: \n"
          ]
        },
        {
          "metadata": {
            "tags": null
          },
          "name": "stdout",
          "output_type": "stream",
          "text": [
            "✅ DWNG.DE procesado correctamente.\n",
            "✅ EQR.DE procesado correctamente.\n"
          ]
        },
        {
          "metadata": {
            "tags": null
          },
          "name": "stderr",
          "output_type": "stream",
          "text": [
            "ERROR:yfinance:HTTP Error 404: \n"
          ]
        },
        {
          "metadata": {
            "tags": null
          },
          "name": "stdout",
          "output_type": "stream",
          "text": [
            "✅ EW.DE procesado correctamente.\n",
            "✅ HON.DE procesado correctamente.\n",
            "✅ 7HP.DE procesado correctamente.\n",
            "✅ HRS.DE procesado correctamente.\n"
          ]
        },
        {
          "metadata": {
            "tags": null
          },
          "name": "stderr",
          "output_type": "stream",
          "text": [
            "ERROR:yfinance:HTTP Error 404: \n"
          ]
        },
        {
          "metadata": {
            "tags": null
          },
          "name": "stdout",
          "output_type": "stream",
          "text": [
            "✅ HSY.DE procesado correctamente.\n"
          ]
        },
        {
          "metadata": {
            "tags": null
          },
          "name": "stderr",
          "output_type": "stream",
          "text": [
            "ERROR:yfinance:HTTP Error 404: \n"
          ]
        },
        {
          "metadata": {
            "tags": null
          },
          "name": "stdout",
          "output_type": "stream",
          "text": [
            "✅ SREI.DE procesado correctamente.\n"
          ]
        },
        {
          "metadata": {
            "tags": null
          },
          "name": "stderr",
          "output_type": "stream",
          "text": [
            "ERROR:yfinance:HTTP Error 404: \n"
          ]
        },
        {
          "metadata": {
            "tags": null
          },
          "name": "stdout",
          "output_type": "stream",
          "text": [
            "✅ 1LG.DE procesado correctamente.\n"
          ]
        },
        {
          "metadata": {
            "tags": null
          },
          "name": "stderr",
          "output_type": "stream",
          "text": [
            "ERROR:yfinance:HTTP Error 404: \n"
          ]
        },
        {
          "metadata": {
            "tags": null
          },
          "name": "stdout",
          "output_type": "stream",
          "text": [
            "✅ LB3B.DE procesado correctamente.\n"
          ]
        },
        {
          "metadata": {
            "tags": null
          },
          "name": "stderr",
          "output_type": "stream",
          "text": [
            "ERROR:yfinance:HTTP Error 404: \n"
          ]
        },
        {
          "metadata": {
            "tags": null
          },
          "name": "stdout",
          "output_type": "stream",
          "text": [
            "✅ LTD.DE procesado correctamente.\n"
          ]
        },
        {
          "metadata": {
            "tags": null
          },
          "name": "stderr",
          "output_type": "stream",
          "text": [
            "ERROR:yfinance:HTTP Error 404: \n"
          ]
        },
        {
          "metadata": {
            "tags": null
          },
          "name": "stdout",
          "output_type": "stream",
          "text": [
            "✅ METEX.DE procesado correctamente.\n",
            "✅ MOT.DE procesado correctamente.\n"
          ]
        },
        {
          "metadata": {
            "tags": null
          },
          "name": "stderr",
          "output_type": "stream",
          "text": [
            "ERROR:yfinance:HTTP Error 404: \n"
          ]
        },
        {
          "metadata": {
            "tags": null
          },
          "name": "stdout",
          "output_type": "stream",
          "text": [
            "✅ NS.DE procesado correctamente.\n"
          ]
        },
        {
          "metadata": {
            "tags": null
          },
          "name": "stderr",
          "output_type": "stream",
          "text": [
            "ERROR:yfinance:HTTP Error 404: \n"
          ]
        },
        {
          "metadata": {
            "tags": null
          },
          "name": "stdout",
          "output_type": "stream",
          "text": [
            "✅ NXPI.DE procesado correctamente.\n"
          ]
        },
        {
          "metadata": {
            "tags": null
          },
          "name": "stderr",
          "output_type": "stream",
          "text": [
            "ERROR:yfinance:HTTP Error 404: \n"
          ]
        },
        {
          "metadata": {
            "tags": null
          },
          "name": "stdout",
          "output_type": "stream",
          "text": [
            "✅ OI.DE procesado correctamente.\n"
          ]
        },
        {
          "metadata": {
            "tags": null
          },
          "name": "stderr",
          "output_type": "stream",
          "text": [
            "ERROR:yfinance:HTTP Error 404: \n"
          ]
        },
        {
          "metadata": {
            "tags": null
          },
          "name": "stdout",
          "output_type": "stream",
          "text": [
            "✅ OXIG.DE procesado correctamente.\n"
          ]
        },
        {
          "metadata": {
            "tags": null
          },
          "name": "stderr",
          "output_type": "stream",
          "text": [
            "ERROR:yfinance:HTTP Error 404: \n"
          ]
        },
        {
          "metadata": {
            "tags": null
          },
          "name": "stdout",
          "output_type": "stream",
          "text": [
            "✅ PPG.DE procesado correctamente.\n",
            "✅ P4Q.DE procesado correctamente.\n",
            "✅ QAN.DE procesado correctamente.\n",
            "✅ RMS.DE procesado correctamente.\n"
          ]
        },
        {
          "metadata": {
            "tags": null
          },
          "name": "stderr",
          "output_type": "stream",
          "text": [
            "ERROR:yfinance:HTTP Error 404: \n"
          ]
        },
        {
          "metadata": {
            "tags": null
          },
          "name": "stdout",
          "output_type": "stream",
          "text": [
            "✅ 2S7.DE procesado correctamente.\n"
          ]
        },
        {
          "metadata": {
            "tags": null
          },
          "name": "stderr",
          "output_type": "stream",
          "text": [
            "ERROR:yfinance:HTTP Error 404: \n"
          ]
        },
        {
          "metadata": {
            "tags": null
          },
          "name": "stdout",
          "output_type": "stream",
          "text": [
            "✅ SBM.DE procesado correctamente.\n"
          ]
        },
        {
          "metadata": {
            "tags": null
          },
          "name": "stderr",
          "output_type": "stream",
          "text": [
            "ERROR:yfinance:HTTP Error 404: \n"
          ]
        },
        {
          "metadata": {
            "tags": null
          },
          "name": "stdout",
          "output_type": "stream",
          "text": [
            "✅ SIA.DE procesado correctamente.\n",
            "✅ STX.DE procesado correctamente.\n"
          ]
        },
        {
          "metadata": {
            "tags": null
          },
          "name": "stderr",
          "output_type": "stream",
          "text": [
            "ERROR:yfinance:HTTP Error 404: \n"
          ]
        },
        {
          "metadata": {
            "tags": null
          },
          "name": "stdout",
          "output_type": "stream",
          "text": [
            "✅ SUNC.DE procesado correctamente.\n",
            "✅ UNP.DE procesado correctamente.\n",
            "✅ V1L.DE procesado correctamente.\n"
          ]
        },
        {
          "metadata": {
            "tags": null
          },
          "name": "stderr",
          "output_type": "stream",
          "text": [
            "ERROR:yfinance:HTTP Error 404: \n"
          ]
        },
        {
          "metadata": {
            "tags": null
          },
          "name": "stdout",
          "output_type": "stream",
          "text": [
            "✅ VO9V.DE procesado correctamente.\n"
          ]
        },
        {
          "metadata": {
            "tags": null
          },
          "name": "stderr",
          "output_type": "stream",
          "text": [
            "ERROR:yfinance:HTTP Error 404: \n"
          ]
        },
        {
          "metadata": {
            "tags": null
          },
          "name": "stdout",
          "output_type": "stream",
          "text": [
            "✅ WHN.DE procesado correctamente.\n"
          ]
        },
        {
          "metadata": {
            "tags": null
          },
          "name": "stderr",
          "output_type": "stream",
          "text": [
            "ERROR:yfinance:HTTP Error 404: \n"
          ]
        },
        {
          "metadata": {
            "tags": null
          },
          "name": "stdout",
          "output_type": "stream",
          "text": [
            "✅ ZION.DE procesado correctamente.\n"
          ]
        },
        {
          "metadata": {
            "tags": null
          },
          "name": "stderr",
          "output_type": "stream",
          "text": [
            "ERROR:yfinance:HTTP Error 404: \n"
          ]
        },
        {
          "metadata": {
            "tags": null
          },
          "name": "stdout",
          "output_type": "stream",
          "text": [
            "✅ ADBE.DE procesado correctamente.\n",
            "✅ ANZ.DE procesado correctamente.\n"
          ]
        },
        {
          "metadata": {
            "tags": null
          },
          "name": "stderr",
          "output_type": "stream",
          "text": [
            "ERROR:yfinance:HTTP Error 404: \n"
          ]
        },
        {
          "metadata": {
            "tags": null
          },
          "name": "stdout",
          "output_type": "stream",
          "text": [
            "✅ ASMI.DE procesado correctamente.\n",
            "✅ CAG.DE procesado correctamente.\n"
          ]
        },
        {
          "metadata": {
            "tags": null
          },
          "name": "stderr",
          "output_type": "stream",
          "text": [
            "ERROR:yfinance:HTTP Error 404: \n"
          ]
        },
        {
          "metadata": {
            "tags": null
          },
          "name": "stdout",
          "output_type": "stream",
          "text": [
            "✅ CMA.DE procesado correctamente.\n"
          ]
        },
        {
          "metadata": {
            "tags": null
          },
          "name": "stderr",
          "output_type": "stream",
          "text": [
            "ERROR:yfinance:HTTP Error 404: \n"
          ]
        },
        {
          "metadata": {
            "tags": null
          },
          "name": "stdout",
          "output_type": "stream",
          "text": [
            "✅ CGDG.DE procesado correctamente.\n"
          ]
        },
        {
          "metadata": {
            "tags": null
          },
          "name": "stderr",
          "output_type": "stream",
          "text": [
            "ERROR:yfinance:HTTP Error 404: \n"
          ]
        },
        {
          "metadata": {
            "tags": null
          },
          "name": "stdout",
          "output_type": "stream",
          "text": [
            "✅ CPSH.DE procesado correctamente.\n",
            "✅ CRUS.DE procesado correctamente.\n",
            "✅ 2XT.DE procesado correctamente.\n",
            "✅ VOWG_p.DE procesado correctamente.\n"
          ]
        },
        {
          "metadata": {
            "tags": null
          },
          "name": "stderr",
          "output_type": "stream",
          "text": [
            "ERROR:yfinance:HTTP Error 404: \n"
          ]
        },
        {
          "metadata": {
            "tags": null
          },
          "name": "stdout",
          "output_type": "stream",
          "text": [
            "✅ VNAn.DE procesado correctamente.\n",
            "✅ 1COV.DE procesado correctamente.\n"
          ]
        },
        {
          "metadata": {
            "tags": null
          },
          "name": "stderr",
          "output_type": "stream",
          "text": [
            "ERROR:yfinance:HTTP Error 404: \n"
          ]
        },
        {
          "metadata": {
            "tags": null
          },
          "name": "stdout",
          "output_type": "stream",
          "text": [
            "✅ LINI.DE procesado correctamente.\n"
          ]
        },
        {
          "metadata": {
            "tags": null
          },
          "name": "stderr",
          "output_type": "stream",
          "text": [
            "ERROR:yfinance:HTTP Error 404: \n"
          ]
        },
        {
          "metadata": {
            "tags": null
          },
          "name": "stdout",
          "output_type": "stream",
          "text": [
            "✅ DEXd.DE procesado correctamente.\n"
          ]
        },
        {
          "metadata": {
            "tags": null
          },
          "name": "stderr",
          "output_type": "stream",
          "text": [
            "ERROR:yfinance:HTTP Error 404: \n"
          ]
        },
        {
          "metadata": {
            "tags": null
          },
          "name": "stdout",
          "output_type": "stream",
          "text": [
            "✅ GXId.DE procesado correctamente.\n"
          ]
        },
        {
          "metadata": {
            "tags": null
          },
          "name": "stderr",
          "output_type": "stream",
          "text": [
            "ERROR:yfinance:HTTP Error 404: \n"
          ]
        },
        {
          "metadata": {
            "tags": null
          },
          "name": "stdout",
          "output_type": "stream",
          "text": [
            "✅ HHFAd.DE procesado correctamente.\n"
          ]
        },
        {
          "metadata": {
            "tags": null
          },
          "name": "stderr",
          "output_type": "stream",
          "text": [
            "ERROR:yfinance:HTTP Error 404: \n"
          ]
        },
        {
          "metadata": {
            "tags": null
          },
          "name": "stdout",
          "output_type": "stream",
          "text": [
            "✅ RAAd.DE procesado correctamente.\n",
            "✅ FPEG.DE procesado correctamente.\n",
            "✅ BDTG.DE procesado correctamente.\n",
            "✅ SPRGn.DE procesado correctamente.\n",
            "✅ BYWGnx.DE procesado correctamente.\n",
            "✅ LEGn.DE procesado correctamente.\n"
          ]
        },
        {
          "metadata": {
            "tags": null
          },
          "name": "stderr",
          "output_type": "stream",
          "text": [
            "ERROR:yfinance:HTTP Error 404: \n"
          ]
        },
        {
          "metadata": {
            "tags": null
          },
          "name": "stdout",
          "output_type": "stream",
          "text": [
            "✅ LO24n.DE procesado correctamente.\n"
          ]
        },
        {
          "metadata": {
            "tags": null
          },
          "name": "stderr",
          "output_type": "stream",
          "text": [
            "ERROR:yfinance:HTTP Error 404: \n"
          ]
        },
        {
          "metadata": {
            "tags": null
          },
          "name": "stdout",
          "output_type": "stream",
          "text": [
            "✅ TLXGn.DE procesado correctamente.\n"
          ]
        },
        {
          "metadata": {
            "tags": null
          },
          "name": "stderr",
          "output_type": "stream",
          "text": [
            "ERROR:yfinance:HTTP Error 404: \n"
          ]
        },
        {
          "metadata": {
            "tags": null
          },
          "name": "stdout",
          "output_type": "stream",
          "text": [
            "✅ EVKn.DE procesado correctamente.\n",
            "✅ BVB.DE procesado correctamente.\n"
          ]
        },
        {
          "metadata": {
            "tags": null
          },
          "name": "stderr",
          "output_type": "stream",
          "text": [
            "ERROR:yfinance:HTTP Error 404: \n"
          ]
        },
        {
          "metadata": {
            "tags": null
          },
          "name": "stdout",
          "output_type": "stream",
          "text": [
            "✅ OSRn.DE procesado correctamente.\n",
            "✅ KGX.DE procesado correctamente.\n",
            "✅ ADLG.DE procesado correctamente.\n",
            "✅ HWAG.DE procesado correctamente.\n"
          ]
        },
        {
          "metadata": {
            "tags": null
          },
          "name": "stderr",
          "output_type": "stream",
          "text": [
            "ERROR:yfinance:HTTP Error 404: \n"
          ]
        },
        {
          "metadata": {
            "tags": null
          },
          "name": "stdout",
          "output_type": "stream",
          "text": [
            "✅ BST1.DE procesado correctamente.\n"
          ]
        },
        {
          "metadata": {
            "tags": null
          },
          "name": "stderr",
          "output_type": "stream",
          "text": [
            "ERROR:yfinance:HTTP Error 404: \n"
          ]
        },
        {
          "metadata": {
            "tags": null
          },
          "name": "stdout",
          "output_type": "stream",
          "text": [
            "✅ STAB.DE procesado correctamente.\n"
          ]
        },
        {
          "metadata": {
            "tags": null
          },
          "name": "stderr",
          "output_type": "stream",
          "text": [
            "ERROR:yfinance:HTTP Error 404: \n"
          ]
        },
        {
          "metadata": {
            "tags": null
          },
          "name": "stdout",
          "output_type": "stream",
          "text": [
            "✅ ZALG.DE procesado correctamente.\n",
            "✅ RKET.DE procesado correctamente.\n"
          ]
        },
        {
          "metadata": {
            "tags": null
          },
          "name": "stderr",
          "output_type": "stream",
          "text": [
            "ERROR:yfinance:HTTP Error 404: \n"
          ]
        },
        {
          "metadata": {
            "tags": null
          },
          "name": "stdout",
          "output_type": "stream",
          "text": [
            "✅ TLGG.DE procesado correctamente.\n",
            "✅ HLE.DE procesado correctamente.\n"
          ]
        },
        {
          "metadata": {
            "tags": null
          },
          "name": "stderr",
          "output_type": "stream",
          "text": [
            "ERROR:yfinance:HTTP Error 404: \n"
          ]
        },
        {
          "metadata": {
            "tags": null
          },
          "name": "stdout",
          "output_type": "stream",
          "text": [
            "✅ TC1n.DE procesado correctamente.\n",
            "✅ FRU.DE procesado correctamente.\n"
          ]
        },
        {
          "metadata": {
            "tags": null
          },
          "name": "stderr",
          "output_type": "stream",
          "text": [
            "ERROR:yfinance:HTTP Error 404: \n"
          ]
        },
        {
          "metadata": {
            "tags": null
          },
          "name": "stdout",
          "output_type": "stream",
          "text": [
            "✅ MXHNn.DE procesado correctamente.\n",
            "✅ LNSX.DE procesado correctamente.\n",
            "✅ RY8.DE procesado correctamente.\n",
            "✅ WDLK.DE procesado correctamente.\n"
          ]
        },
        {
          "metadata": {
            "tags": null
          },
          "name": "stderr",
          "output_type": "stream",
          "text": [
            "ERROR:yfinance:HTTP Error 404: \n"
          ]
        },
        {
          "metadata": {
            "tags": null
          },
          "name": "stdout",
          "output_type": "stream",
          "text": [
            "✅ ELBG.DE procesado correctamente.\n"
          ]
        },
        {
          "metadata": {
            "tags": null
          },
          "name": "stderr",
          "output_type": "stream",
          "text": [
            "ERROR:yfinance:HTTP Error 404: \n"
          ]
        },
        {
          "metadata": {
            "tags": null
          },
          "name": "stdout",
          "output_type": "stream",
          "text": [
            "✅ PBBG.DE procesado correctamente.\n",
            "✅ PUMG.DE procesado correctamente.\n"
          ]
        },
        {
          "metadata": {
            "tags": null
          },
          "name": "stderr",
          "output_type": "stream",
          "text": [
            "ERROR:yfinance:HTTP Error 404: \n"
          ]
        },
        {
          "metadata": {
            "tags": null
          },
          "name": "stdout",
          "output_type": "stream",
          "text": [
            "✅ G24n.DE procesado correctamente.\n",
            "✅ HLAG.DE procesado correctamente.\n",
            "✅ ADJ.DE procesado correctamente.\n"
          ]
        },
        {
          "metadata": {
            "tags": null
          },
          "name": "stderr",
          "output_type": "stream",
          "text": [
            "ERROR:yfinance:HTTP Error 404: \n"
          ]
        },
        {
          "metadata": {
            "tags": null
          },
          "name": "stdout",
          "output_type": "stream",
          "text": [
            "✅ SNHG.DE procesado correctamente.\n"
          ]
        },
        {
          "metadata": {
            "tags": null
          },
          "name": "stderr",
          "output_type": "stream",
          "text": [
            "ERROR:yfinance:HTTP Error 404: \n"
          ]
        },
        {
          "metadata": {
            "tags": null
          },
          "name": "stdout",
          "output_type": "stream",
          "text": [
            "✅ SHA_p.DE procesado correctamente.\n"
          ]
        },
        {
          "metadata": {
            "tags": null
          },
          "name": "stderr",
          "output_type": "stream",
          "text": [
            "ERROR:yfinance:HTTP Error 404: \n"
          ]
        },
        {
          "metadata": {
            "tags": null
          },
          "name": "stdout",
          "output_type": "stream",
          "text": [
            "✅ BNNn.DE procesado correctamente.\n",
            "✅ ARTG.DE procesado correctamente.\n",
            "✅ DMRE.DE procesado correctamente.\n",
            "✅ ED4.DE procesado correctamente.\n"
          ]
        },
        {
          "metadata": {
            "tags": null
          },
          "name": "stderr",
          "output_type": "stream",
          "text": [
            "ERROR:yfinance:HTTP Error 404: \n"
          ]
        },
        {
          "metadata": {
            "tags": null
          },
          "name": "stdout",
          "output_type": "stream",
          "text": [
            "✅ WCMKk.DE procesado correctamente.\n",
            "✅ WUWGn.DE procesado correctamente.\n",
            "✅ UN01.DE procesado correctamente.\n",
            "✅ IGY.DE procesado correctamente.\n"
          ]
        },
        {
          "metadata": {
            "tags": null
          },
          "name": "stderr",
          "output_type": "stream",
          "text": [
            "ERROR:yfinance:HTTP Error 404: \n"
          ]
        },
        {
          "metadata": {
            "tags": null
          },
          "name": "stdout",
          "output_type": "stream",
          "text": [
            "✅ SAEG.DE procesado correctamente.\n"
          ]
        },
        {
          "metadata": {
            "tags": null
          },
          "name": "stderr",
          "output_type": "stream",
          "text": [
            "ERROR:yfinance:HTTP Error 404: \n"
          ]
        },
        {
          "metadata": {
            "tags": null
          },
          "name": "stdout",
          "output_type": "stream",
          "text": [
            "✅ GXIG.DE procesado correctamente.\n"
          ]
        },
        {
          "metadata": {
            "tags": null
          },
          "name": "stderr",
          "output_type": "stream",
          "text": [
            "ERROR:yfinance:HTTP Error 404: \n"
          ]
        },
        {
          "metadata": {
            "tags": null
          },
          "name": "stdout",
          "output_type": "stream",
          "text": [
            "✅ PSMGn.DE procesado correctamente.\n"
          ]
        },
        {
          "metadata": {
            "tags": null
          },
          "name": "stderr",
          "output_type": "stream",
          "text": [
            "ERROR:yfinance:HTTP Error 404: \n"
          ]
        },
        {
          "metadata": {
            "tags": null
          },
          "name": "stdout",
          "output_type": "stream",
          "text": [
            "✅ O2Dn.DE procesado correctamente.\n"
          ]
        },
        {
          "metadata": {
            "tags": null
          },
          "name": "stderr",
          "output_type": "stream",
          "text": [
            "ERROR:yfinance:HTTP Error 404: \n"
          ]
        },
        {
          "metadata": {
            "tags": null
          },
          "name": "stdout",
          "output_type": "stream",
          "text": [
            "✅ WAFGn.DE procesado correctamente.\n",
            "✅ AT1.DE procesado correctamente.\n",
            "✅ GYC.DE procesado correctamente.\n",
            "✅ DHER.DE procesado correctamente.\n"
          ]
        },
        {
          "metadata": {
            "tags": null
          },
          "name": "stderr",
          "output_type": "stream",
          "text": [
            "ERROR:yfinance:HTTP Error 404: \n"
          ]
        },
        {
          "metadata": {
            "tags": null
          },
          "name": "stdout",
          "output_type": "stream",
          "text": [
            "✅ B4B.DE procesado correctamente.\n"
          ]
        },
        {
          "metadata": {
            "tags": null
          },
          "name": "stderr",
          "output_type": "stream",
          "text": [
            "ERROR:yfinance:HTTP Error 404: \n"
          ]
        },
        {
          "metadata": {
            "tags": null
          },
          "name": "stdout",
          "output_type": "stream",
          "text": [
            "✅ SHLG.DE procesado correctamente.\n",
            "✅ KBX.DE procesado correctamente.\n"
          ]
        },
        {
          "metadata": {
            "tags": null
          },
          "name": "stderr",
          "output_type": "stream",
          "text": [
            "ERROR:yfinance:HTTP Error 404: \n"
          ]
        },
        {
          "metadata": {
            "tags": null
          },
          "name": "stdout",
          "output_type": "stream",
          "text": [
            "✅ MDG1k.DE procesado correctamente.\n",
            "✅ A1OS.DE procesado correctamente.\n"
          ]
        },
        {
          "metadata": {
            "tags": null
          },
          "name": "stderr",
          "output_type": "stream",
          "text": [
            "ERROR:yfinance:HTTP Error 404: \n"
          ]
        },
        {
          "metadata": {
            "tags": null
          },
          "name": "stdout",
          "output_type": "stream",
          "text": [
            "✅ B8FGn.DE procesado correctamente.\n",
            "✅ AM3D.DE procesado correctamente.\n",
            "✅ SHFG.DE procesado correctamente.\n"
          ]
        },
        {
          "metadata": {
            "tags": null
          },
          "name": "stderr",
          "output_type": "stream",
          "text": [
            "ERROR:yfinance:HTTP Error 404: \n"
          ]
        },
        {
          "metadata": {
            "tags": null
          },
          "name": "stdout",
          "output_type": "stream",
          "text": [
            "✅ V6CG.DE procesado correctamente.\n"
          ]
        },
        {
          "metadata": {
            "tags": null
          },
          "name": "stderr",
          "output_type": "stream",
          "text": [
            "ERROR:yfinance:HTTP Error 404: \n"
          ]
        },
        {
          "metadata": {
            "tags": null
          },
          "name": "stdout",
          "output_type": "stream",
          "text": [
            "✅ FBENn.DE procesado correctamente.\n"
          ]
        },
        {
          "metadata": {
            "tags": null
          },
          "name": "stderr",
          "output_type": "stream",
          "text": [
            "ERROR:yfinance:HTTP Error 404: \n"
          ]
        },
        {
          "metadata": {
            "tags": null
          },
          "name": "stdout",
          "output_type": "stream",
          "text": [
            "✅ HACGn.DE procesado correctamente.\n",
            "✅ DBD.DE procesado correctamente.\n",
            "✅ SENG.DE procesado correctamente.\n",
            "✅ VBX.DE procesado correctamente.\n"
          ]
        },
        {
          "metadata": {
            "tags": null
          },
          "name": "stderr",
          "output_type": "stream",
          "text": [
            "ERROR:yfinance:HTTP Error 404: \n"
          ]
        },
        {
          "metadata": {
            "tags": null
          },
          "name": "stdout",
          "output_type": "stream",
          "text": [
            "✅ VAR1.DE procesado correctamente.\n"
          ]
        },
        {
          "metadata": {
            "tags": null
          },
          "name": "stderr",
          "output_type": "stream",
          "text": [
            "ERROR:yfinance:HTTP Error 404: \n"
          ]
        },
        {
          "metadata": {
            "tags": null
          },
          "name": "stdout",
          "output_type": "stream",
          "text": [
            "✅ SJJG.DE procesado correctamente.\n",
            "✅ NFN.DE procesado correctamente.\n"
          ]
        },
        {
          "metadata": {
            "tags": null
          },
          "name": "stderr",
          "output_type": "stream",
          "text": [
            "ERROR:yfinance:HTTP Error 404: \n"
          ]
        },
        {
          "metadata": {
            "tags": null
          },
          "name": "stdout",
          "output_type": "stream",
          "text": [
            "✅ H2Fn.DE procesado correctamente.\n"
          ]
        },
        {
          "metadata": {
            "tags": null
          },
          "name": "stderr",
          "output_type": "stream",
          "text": [
            "ERROR:yfinance:HTTP Error 404: \n"
          ]
        },
        {
          "metadata": {
            "tags": null
          },
          "name": "stdout",
          "output_type": "stream",
          "text": [
            "✅ 37NN.DE procesado correctamente.\n"
          ]
        },
        {
          "metadata": {
            "tags": null
          },
          "name": "stderr",
          "output_type": "stream",
          "text": [
            "ERROR:yfinance:HTTP Error 404: \n"
          ]
        },
        {
          "metadata": {
            "tags": null
          },
          "name": "stdout",
          "output_type": "stream",
          "text": [
            "✅ VQTG.DE procesado correctamente.\n",
            "✅ RAAG.DE procesado correctamente.\n",
            "✅ WEG1.DE procesado correctamente.\n"
          ]
        },
        {
          "metadata": {
            "tags": null
          },
          "name": "stderr",
          "output_type": "stream",
          "text": [
            "ERROR:yfinance:HTTP Error 404: \n"
          ]
        },
        {
          "metadata": {
            "tags": null
          },
          "name": "stdout",
          "output_type": "stream",
          "text": [
            "✅ JSTG.DE procesado correctamente.\n"
          ]
        },
        {
          "metadata": {
            "tags": null
          },
          "name": "stderr",
          "output_type": "stream",
          "text": [
            "ERROR:yfinance:HTTP Error 404: \n"
          ]
        },
        {
          "metadata": {
            "tags": null
          },
          "name": "stdout",
          "output_type": "stream",
          "text": [
            "✅ AAGG.DE procesado correctamente.\n"
          ]
        },
        {
          "metadata": {
            "tags": null
          },
          "name": "stderr",
          "output_type": "stream",
          "text": [
            "ERROR:yfinance:HTTP Error 404: \n"
          ]
        },
        {
          "metadata": {
            "tags": null
          },
          "name": "stdout",
          "output_type": "stream",
          "text": [
            "✅ CCAG.DE procesado correctamente.\n"
          ]
        },
        {
          "metadata": {
            "tags": null
          },
          "name": "stderr",
          "output_type": "stream",
          "text": [
            "ERROR:yfinance:HTTP Error 404: \n"
          ]
        },
        {
          "metadata": {
            "tags": null
          },
          "name": "stdout",
          "output_type": "stream",
          "text": [
            "✅ HFGG.DE procesado correctamente.\n",
            "✅ BFSA.DE procesado correctamente.\n"
          ]
        },
        {
          "metadata": {
            "tags": null
          },
          "name": "stderr",
          "output_type": "stream",
          "text": [
            "ERROR:yfinance:HTTP Error 404: \n"
          ]
        },
        {
          "metadata": {
            "tags": null
          },
          "name": "stdout",
          "output_type": "stream",
          "text": [
            "✅ DWSG.DE procesado correctamente.\n",
            "✅ 8TRA.DE procesado correctamente.\n"
          ]
        },
        {
          "metadata": {
            "tags": null
          },
          "name": "stderr",
          "output_type": "stream",
          "text": [
            "ERROR:yfinance:HTTP Error 404: \n"
          ]
        },
        {
          "metadata": {
            "tags": null
          },
          "name": "stdout",
          "output_type": "stream",
          "text": [
            "✅ DEXGn.DE procesado correctamente.\n"
          ]
        },
        {
          "metadata": {
            "tags": null
          },
          "name": "stderr",
          "output_type": "stream",
          "text": [
            "ERROR:yfinance:HTTP Error 404: \n"
          ]
        },
        {
          "metadata": {
            "tags": null
          },
          "name": "stdout",
          "output_type": "stream",
          "text": [
            "✅ A6TG.DE procesado correctamente.\n",
            "✅ BEZ.DE procesado correctamente.\n"
          ]
        },
        {
          "metadata": {
            "tags": null
          },
          "name": "stderr",
          "output_type": "stream",
          "text": [
            "ERROR:yfinance:HTTP Error 404: \n"
          ]
        },
        {
          "metadata": {
            "tags": null
          },
          "name": "stdout",
          "output_type": "stream",
          "text": [
            "✅ H5EG.DE procesado correctamente.\n",
            "✅ HAKG.DE procesado correctamente.\n"
          ]
        },
        {
          "metadata": {
            "tags": null
          },
          "name": "stderr",
          "output_type": "stream",
          "text": [
            "ERROR:yfinance:HTTP Error 404: \n"
          ]
        },
        {
          "metadata": {
            "tags": null
          },
          "name": "stdout",
          "output_type": "stream",
          "text": [
            "✅ AIRF.PA procesado correctamente.\n",
            "✅ ACCP.PA procesado correctamente.\n",
            "✅ APRL.PA procesado correctamente.\n",
            "✅ AIRP.PA procesado correctamente.\n",
            "✅ CAPP.PA procesado correctamente.\n",
            "✅ EDF.PA procesado correctamente.\n",
            "✅ AXAF.PA procesado correctamente.\n",
            "✅ DANO.PA procesado correctamente.\n"
          ]
        },
        {
          "metadata": {
            "tags": null
          },
          "name": "stderr",
          "output_type": "stream",
          "text": [
            "ERROR:yfinance:HTTP Error 404: \n"
          ]
        },
        {
          "metadata": {
            "tags": null
          },
          "name": "stdout",
          "output_type": "stream",
          "text": [
            "✅ ENGIE.PA procesado correctamente.\n",
            "✅ BNPP.PA procesado correctamente.\n",
            "✅ BOUY.PA procesado correctamente.\n",
            "✅ LVMH.PA procesado correctamente.\n",
            "✅ OREP.PA procesado correctamente.\n",
            "✅ SCHN.PA procesado correctamente.\n",
            "✅ PEUP.PA procesado correctamente.\n",
            "✅ SGOB.PA procesado correctamente.\n",
            "✅ CARR.PA procesado correctamente.\n"
          ]
        },
        {
          "metadata": {
            "tags": null
          },
          "name": "stderr",
          "output_type": "stream",
          "text": [
            "ERROR:yfinance:HTTP Error 404: \n"
          ]
        },
        {
          "metadata": {
            "tags": null
          },
          "name": "stdout",
          "output_type": "stream",
          "text": [
            "✅ ESLX.PA procesado correctamente.\n",
            "✅ PERP.PA procesado correctamente.\n",
            "✅ CAGR.PA procesado correctamente.\n",
            "✅ VLLP.PA procesado correctamente.\n"
          ]
        },
        {
          "metadata": {
            "tags": null
          },
          "name": "stderr",
          "output_type": "stream",
          "text": [
            "ERROR:yfinance:HTTP Error 404: \n"
          ]
        },
        {
          "metadata": {
            "tags": null
          },
          "name": "stdout",
          "output_type": "stream",
          "text": [
            "✅ ORAN.PA procesado correctamente.\n",
            "✅ SOGN.PA procesado correctamente.\n",
            "✅ MICP.PA procesado correctamente.\n",
            "✅ AIR.PA procesado correctamente.\n"
          ]
        },
        {
          "metadata": {
            "tags": null
          },
          "name": "stderr",
          "output_type": "stream",
          "text": [
            "ERROR:yfinance:HTTP Error 404: \n"
          ]
        },
        {
          "output_type": "stream",
          "name": "stdout",
          "text": [
            "✅ ALSO.PA procesado correctamente.\n",
            "✅ SASY.PA procesado correctamente.\n",
            "✅ VIV.PA procesado correctamente.\n",
            "✅ TOTF.PA procesado correctamente.\n",
            "✅ STM.PA procesado correctamente.\n",
            "✅ SGEF.PA procesado correctamente.\n",
            "✅ RENA.PA procesado correctamente.\n",
            "✅ VIE.PA procesado correctamente.\n",
            "✅ LAGA.PA procesado correctamente.\n",
            "✅ PRTP.PA procesado correctamente.\n",
            "✅ MMTP.PA procesado correctamente.\n",
            "✅ PVAC.PA procesado correctamente.\n",
            "✅ ERMT.PA procesado correctamente.\n",
            "✅ TCFP.PA procesado correctamente.\n",
            "✅ GFCP.PA procesado correctamente.\n",
            "✅ DIOR.PA procesado correctamente.\n",
            "✅ DAST.PA procesado correctamente.\n",
            "✅ EPED.PA procesado correctamente.\n",
            "✅ CASP.PA procesado correctamente.\n",
            "✅ ADP.PA procesado correctamente.\n",
            "✅ EUFI.PA procesado correctamente.\n",
            "✅ IMTP.PA procesado correctamente.\n",
            "✅ RXL.PA procesado correctamente.\n",
            "✅ RCOP.PA procesado correctamente.\n",
            "✅ NCOX.PA procesado correctamente.\n",
            "✅ SESFd.PA procesado correctamente.\n",
            "✅ GPBN.PA procesado correctamente.\n",
            "✅ VIRB.PA procesado correctamente.\n",
            "✅ PUBP.PA procesado correctamente.\n",
            "✅ AKE.PA procesado correctamente.\n",
            "✅ EXHO.PA procesado correctamente.\n",
            "✅ ILD.PA procesado correctamente.\n",
            "✅ UBIP.PA procesado correctamente.\n",
            "✅ HRMS.PA procesado correctamente.\n",
            "✅ SOIT.PA procesado correctamente.\n",
            "✅ SAF.PA procesado correctamente.\n",
            "✅ QDT.PA procesado correctamente.\n",
            "✅ MWDP.PA procesado correctamente.\n",
            "✅ MERY.PA procesado correctamente.\n",
            "✅ FOUG.PA procesado correctamente.\n",
            "✅ GENC.PA procesado correctamente.\n",
            "✅ CNPP.PA procesado correctamente.\n",
            "✅ SEBF.PA procesado correctamente.\n",
            "✅ TRIA.PA procesado correctamente.\n"
          ]
        },
        {
          "output_type": "stream",
          "name": "stderr",
          "text": [
            "ERROR:yfinance:HTTP Error 404: \n"
          ]
        },
        {
          "output_type": "stream",
          "name": "stdout",
          "text": [
            "✅ SAVEN.PA procesado correctamente.\n",
            "✅ ABIO.PA procesado correctamente.\n",
            "✅ FTI.PA procesado correctamente.\n"
          ]
        },
        {
          "output_type": "stream",
          "name": "stderr",
          "text": [
            "ERROR:yfinance:HTTP Error 404: \n"
          ]
        },
        {
          "output_type": "stream",
          "name": "stdout",
          "text": [
            "✅ SCOR.PA procesado correctamente.\n",
            "✅ STDM.PA procesado correctamente.\n"
          ]
        },
        {
          "output_type": "stream",
          "name": "stderr",
          "text": [
            "ERROR:yfinance:HTTP Error 404: \n"
          ]
        },
        {
          "output_type": "stream",
          "name": "stdout",
          "text": [
            "✅ CVO.PA procesado correctamente.\n",
            "✅ ETL.PA procesado correctamente.\n",
            "✅ ATOS.PA procesado correctamente.\n",
            "✅ CNAT.PA procesado correctamente.\n",
            "✅ VLOF.PA procesado correctamente.\n",
            "✅ DVTM.PA procesado correctamente.\n",
            "✅ PLOF.PA procesado correctamente.\n",
            "✅ NEXS.PA procesado correctamente.\n",
            "✅ BOIR.PA procesado correctamente.\n",
            "✅ PYHE.PA procesado correctamente.\n",
            "✅ BICP.PA procesado correctamente.\n",
            "✅ TRNG.PA procesado correctamente.\n",
            "✅ ARCH.PA procesado correctamente.\n",
            "✅ ISOS.PA procesado correctamente.\n",
            "✅ ESSF.PA procesado correctamente.\n",
            "✅ FTRN.PA procesado correctamente.\n"
          ]
        },
        {
          "output_type": "stream",
          "name": "stderr",
          "text": [
            "ERROR:yfinance:HTTP Error 404: \n"
          ]
        },
        {
          "output_type": "stream",
          "name": "stdout",
          "text": [
            "✅ ALTT.PA procesado correctamente.\n",
            "✅ LTEN.PA procesado correctamente.\n",
            "✅ INGC.PA procesado correctamente.\n",
            "✅ GEPH.PA procesado correctamente.\n",
            "✅ NEXI.PA procesado correctamente.\n",
            "✅ CHBE.PA procesado correctamente.\n",
            "✅ LOCAL.PA procesado correctamente.\n"
          ]
        },
        {
          "output_type": "stream",
          "name": "stderr",
          "text": [
            "ERROR:yfinance:HTTP Error 404: \n"
          ]
        },
        {
          "output_type": "stream",
          "name": "stdout",
          "text": [
            "✅ LEGD.PA procesado correctamente.\n",
            "✅ MANP.PA procesado correctamente.\n",
            "✅ GFII.PA procesado correctamente.\n",
            "✅ VILM.PA procesado correctamente.\n",
            "✅ MAUP.PA procesado correctamente.\n",
            "✅ TESI.PA procesado correctamente.\n",
            "✅ LOIM.PA procesado correctamente.\n",
            "✅ CBLP.PA procesado correctamente.\n",
            "✅ IPN.PA procesado correctamente.\n",
            "✅ CCHE.PA procesado correctamente.\n",
            "✅ ORP.PA procesado correctamente.\n",
            "✅ JCDX.PA procesado correctamente.\n",
            "✅ BIOX.PA procesado correctamente.\n"
          ]
        },
        {
          "output_type": "stream",
          "name": "stderr",
          "text": [
            "ERROR:yfinance:HTTP Error 404: \n"
          ]
        },
        {
          "output_type": "stream",
          "name": "stdout",
          "text": [
            "✅ RXPA.PA procesado correctamente.\n",
            "✅ TFFP.PA procesado correctamente.\n"
          ]
        },
        {
          "output_type": "stream",
          "name": "stderr",
          "text": [
            "ERROR:yfinance:HTTP Error 404: \n"
          ]
        },
        {
          "output_type": "stream",
          "name": "stdout",
          "text": [
            "✅ TEPRF.PA procesado correctamente.\n",
            "✅ CRIP.PA procesado correctamente.\n",
            "✅ SDGI.PA procesado correctamente.\n",
            "✅ EPMF.PA procesado correctamente.\n",
            "✅ KOF.PA procesado correctamente.\n",
            "✅ SOPR.PA procesado correctamente.\n",
            "✅ RUBF.PA procesado correctamente.\n",
            "✅ ADUX.PA procesado correctamente.\n",
            "✅ PARP.PA procesado correctamente.\n",
            "✅ SONO.PA procesado correctamente.\n",
            "✅ ASY.PA procesado correctamente.\n",
            "✅ GECI.PA procesado correctamente.\n",
            "✅ BOND.PA procesado correctamente.\n",
            "✅ STF.PA procesado correctamente.\n",
            "✅ SWOR.PA procesado correctamente.\n",
            "✅ AVOM.PA procesado correctamente.\n",
            "✅ XPO.PA procesado correctamente.\n",
            "✅ UFFP.PA procesado correctamente.\n",
            "✅ CNIM.PA procesado correctamente.\n",
            "✅ LAEP.PA procesado correctamente.\n",
            "✅ VEIL.PA procesado correctamente.\n",
            "✅ AVQ.PA procesado correctamente.\n",
            "✅ LOUP.PA procesado correctamente.\n",
            "✅ PARRO.PA procesado correctamente.\n",
            "✅ TFF.PA procesado correctamente.\n",
            "✅ CITT.PA procesado correctamente.\n",
            "✅ ALHRG.PA procesado correctamente.\n",
            "✅ IPAR.PA procesado correctamente.\n",
            "✅ CGR.PA procesado correctamente.\n",
            "✅ TGEL.PA procesado correctamente.\n",
            "✅ HIGH.PA procesado correctamente.\n",
            "✅ LECS.PA procesado correctamente.\n",
            "✅ GFLO.PA procesado correctamente.\n",
            "✅ SPIS.PA procesado correctamente.\n",
            "✅ ALBI.PA procesado correctamente.\n",
            "✅ THHG.PA procesado correctamente.\n",
            "✅ MATP.PA procesado correctamente.\n",
            "✅ LDSV.PA procesado correctamente.\n",
            "✅ ALPHY.PA procesado correctamente.\n",
            "✅ LPER.PA procesado correctamente.\n",
            "✅ ALU10.PA procesado correctamente.\n",
            "✅ ROBF.PA procesado correctamente.\n",
            "✅ PHAI.PA procesado correctamente.\n"
          ]
        },
        {
          "output_type": "stream",
          "name": "stderr",
          "text": [
            "ERROR:yfinance:HTTP Error 404: \n"
          ]
        },
        {
          "output_type": "stream",
          "name": "stdout",
          "text": [
            "✅ MED6.PA procesado correctamente.\n",
            "✅ GRBT.PA procesado correctamente.\n",
            "✅ IISP.PA procesado correctamente.\n",
            "✅ ALBOU.PA procesado correctamente.\n",
            "✅ VRKP.PA procesado correctamente.\n",
            "✅ OPEN.PA procesado correctamente.\n",
            "✅ SAMS.PA procesado correctamente.\n",
            "✅ MBRI.PA procesado correctamente.\n",
            "✅ LAFU.PA procesado correctamente.\n",
            "✅ GLTN.PA procesado correctamente.\n",
            "✅ BAIN.PA procesado correctamente.\n"
          ]
        }
      ],
      "source": [
        "import time\n",
        "import yfinance as yf\n",
        "import pandas as pd\n",
        "\n",
        "ratios_dict = {}\n",
        "\n",
        "ratios_keys = {\n",
        "    \"PER (Price/Earnings)\": \"trailingPE\",\n",
        "    \"Forward PER\": \"forwardPE\",\n",
        "    \"PEG Ratio\": \"pegRatio\",\n",
        "    \"Price/Sales\": \"priceToSalesTrailing12Months\",\n",
        "    \"Price/Book\": \"priceToBook\",\n",
        "    \"Return on Equity\": \"returnOnEquity\",\n",
        "    \"Return on Assets\": \"returnOnAssets\",\n",
        "    \"Debt/Equity\": \"debtToEquity\",\n",
        "    \"Current Ratio\": \"currentRatio\",\n",
        "    \"Quick Ratio\": \"quickRatio\",\n",
        "    \"Gross Margins\": \"grossMargins\",\n",
        "    \"Operating Margins\": \"operatingMargins\",\n",
        "    \"Profit Margins\": \"profitMargins\",\n",
        "    \"Beta\": \"beta\",\n",
        "    \"Dividend Yield\": \"dividendYield\",\n",
        "    \"Market Cap (M)\": \"marketCap\",\n",
        "    \"Enterprise Value (M)\": \"enterpriseValue\",\n",
        "    \"Revenue (TTM)\": \"totalRevenue\",\n",
        "    \"Net Income (TTM)\": \"netIncomeToCommon\",\n",
        "    \"EBITDA\": \"ebitda\",\n",
        "    \"Free Cash Flow\": \"freeCashflow\",\n",
        "    \"Total Debt\": \"totalDebt\",\n",
        "    \"Total Cash\": \"totalCash\",\n",
        "    \"Number of Employees\": \"fullTimeEmployees\",\n",
        "    \"Sector\": \"sector\",\n",
        "    \"Industry\": \"industry\"\n",
        "}\n",
        "\n",
        "for ti in tickers:\n",
        "    retry = 3\n",
        "    while retry > 0:\n",
        "        try:\n",
        "            ticker = yf.Ticker(ti)\n",
        "            info = ticker.info\n",
        "            ratios_data = {}\n",
        "\n",
        "            for key, field in ratios_keys.items():\n",
        "                value = info.get(field, None)\n",
        "\n",
        "                if isinstance(value, (int, float)) and field in [\"marketCap\", \"enterpriseValue\", \"totalRevenue\", \"netIncomeToCommon\", \"ebitda\", \"freeCashflow\", \"totalDebt\", \"totalCash\"]:\n",
        "                    value = round(value / 1_000_000, 2)\n",
        "                ratios_data[key] = value\n",
        "\n",
        "            ratios_dict[ti] = ratios_data\n",
        "            print(f\"✅ {ti} procesado correctamente.\")\n",
        "            break  # salir del while al completar exitosamente\n",
        "\n",
        "        except Exception as e:\n",
        "            msg = str(e).lower()\n",
        "            if \"too many requests\" in msg or \"rate limit\" in msg:\n",
        "                retry -= 1\n",
        "                wait_time = 10\n",
        "                print(f\"⚠️ Rate limit detectado para {ti}. Esperando {wait_time} segundos. Intentos restantes: {retry}\")\n",
        "                time.sleep(wait_time)\n",
        "            else:\n",
        "                print(f\"❌ Error al procesar {ti}: {e}\")\n",
        "                break\n",
        "\n",
        "    time.sleep(1)  # espera entre tickers para evitar bloqueos\n",
        "\n",
        "df_ratios = pd.DataFrame.from_dict(ratios_dict, orient='index')\n",
        "df_ratios.index.name = \"Empresa\"\n",
        "df_ratios = df_ratios[sorted(df_ratios.columns)]\n",
        "df_ratios.to_csv('ratios.csv', index=False)\n",
        "print(\"✅ Archivo guardado como 'ratios.csv'\")"
      ]
    },
    {
      "cell_type": "code",
      "source": [
        "df_ratios = df_ratios.reset_index()\n",
        "df_ratios"
      ],
      "metadata": {
        "id": "-D_eCczN2x3J"
      },
      "id": "-D_eCczN2x3J",
      "execution_count": null,
      "outputs": []
    },
    {
      "cell_type": "markdown",
      "source": [
        "# Ranking"
      ],
      "metadata": {
        "id": "9PUTBQIL4qfq"
      },
      "id": "9PUTBQIL4qfq"
    },
    {
      "cell_type": "code",
      "source": [
        "df_ratios_ibex35[\"Rank_ROE\"] = df_ratios_ibex35[\"Return on Equity\"].rank(ascending=False, method=\"min\")\n",
        "df_ratios_ibex35[\"Rank_FCF\"] = df_ratios_ibex35[\"Total Cash\"].rank(ascending=False, method=\"min\")\n",
        "df_ratios_ibex35[\"Rank_ProfitMargin\"] = df_ratios_ibex35[\"Profit Margins\"].rank(ascending=False, method=\"min\")\n",
        "df_ratios_ibex35[\"Rank_Total\"] = df_ratios_ibex35[[\"Rank_ROE\", \"Rank_FCF\", \"Rank_ProfitMargin\"]].mean(axis=1)\n",
        "df_ratios_ibex35_sorted = df_ratios_ibex35.sort_values(\"Rank_Total\")\n",
        "print(df_ratios_ibex35_sorted[[\"Ticker\", \"Return on Equity\", \"Total Cash\", \"Profit Margins\", \"Rank_Total\"]].head(10))"
      ],
      "metadata": {
        "id": "RhmoHZJG4tkK"
      },
      "id": "RhmoHZJG4tkK",
      "execution_count": null,
      "outputs": []
    },
    {
      "cell_type": "code",
      "source": [
        "plt.figure(figsize=(16,5))\n",
        "\n",
        "plt.subplot(1,3,1)\n",
        "sns.barplot(data=df_ratios_ibex35_sorted.head(10), x=\"Ticker\", y=\"Return on Equity\")\n",
        "plt.xticks(rotation=45)\n",
        "plt.title(\"Top 10 Empresas por ROE\")\n",
        "\n",
        "plt.subplot(1,3,2)\n",
        "sns.barplot(data=df_ratios_ibex35_sorted.head(10), x=\"Ticker\", y=\"Total Cash\")\n",
        "plt.xticks(rotation=45)\n",
        "plt.title(\"Top 10 Empresas por Total Cash\")\n",
        "\n",
        "plt.subplot(1,3,3)\n",
        "sns.barplot(data=df_ratios_ibex35_sorted.head(10), x=\"Ticker\", y=\"Profit Margins\")\n",
        "plt.xticks(rotation=45)\n",
        "plt.title(\"Top 10 Empresas por Profit Margins\")\n",
        "\n",
        "plt.tight_layout()\n",
        "plt.show()\n"
      ],
      "metadata": {
        "id": "4d14xoXn5AHn"
      },
      "id": "4d14xoXn5AHn",
      "execution_count": null,
      "outputs": []
    }
  ],
  "metadata": {
    "kernelspec": {
      "display_name": "base",
      "language": "python",
      "name": "python3"
    },
    "language_info": {
      "codemirror_mode": {
        "name": "ipython",
        "version": 3
      },
      "file_extension": ".py",
      "mimetype": "text/x-python",
      "name": "python",
      "nbconvert_exporter": "python",
      "pygments_lexer": "ipython3",
      "version": "3.12.7"
    },
    "colab": {
      "provenance": []
    }
  },
  "nbformat": 4,
  "nbformat_minor": 5
}