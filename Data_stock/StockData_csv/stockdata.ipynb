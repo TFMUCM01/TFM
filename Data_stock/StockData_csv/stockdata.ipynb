{
 "cells": [
  {
   "cell_type": "code",
   "execution_count": 3,
   "metadata": {
    "colab": {
     "base_uri": "https://localhost:8080/"
    },
    "executionInfo": {
     "elapsed": 1706104,
     "status": "ok",
     "timestamp": 1755008606413,
     "user": {
      "displayName": "Marco Mendieta",
      "userId": "02422993326608903573"
     },
     "user_tz": -120
    },
    "id": "w6POcfCPZdSd",
    "outputId": "a5b6599f-bdb5-41b5-9dfc-d0368a747c62"
   },
   "outputs": [
    {
     "ename": "KeyError",
     "evalue": "'ticker_market'",
     "output_type": "error",
     "traceback": [
      "\u001b[31m---------------------------------------------------------------------------\u001b[39m",
      "\u001b[31mKeyError\u001b[39m                                  Traceback (most recent call last)",
      "\u001b[36mFile \u001b[39m\u001b[32m/Library/Frameworks/Python.framework/Versions/3.12/lib/python3.12/site-packages/pandas/core/indexes/base.py:3812\u001b[39m, in \u001b[36mIndex.get_loc\u001b[39m\u001b[34m(self, key)\u001b[39m\n\u001b[32m   3811\u001b[39m \u001b[38;5;28;01mtry\u001b[39;00m:\n\u001b[32m-> \u001b[39m\u001b[32m3812\u001b[39m     \u001b[38;5;28;01mreturn\u001b[39;00m \u001b[38;5;28;43mself\u001b[39;49m\u001b[43m.\u001b[49m\u001b[43m_engine\u001b[49m\u001b[43m.\u001b[49m\u001b[43mget_loc\u001b[49m\u001b[43m(\u001b[49m\u001b[43mcasted_key\u001b[49m\u001b[43m)\u001b[49m\n\u001b[32m   3813\u001b[39m \u001b[38;5;28;01mexcept\u001b[39;00m \u001b[38;5;167;01mKeyError\u001b[39;00m \u001b[38;5;28;01mas\u001b[39;00m err:\n",
      "\u001b[36mFile \u001b[39m\u001b[32mpandas/_libs/index.pyx:167\u001b[39m, in \u001b[36mpandas._libs.index.IndexEngine.get_loc\u001b[39m\u001b[34m()\u001b[39m\n",
      "\u001b[36mFile \u001b[39m\u001b[32mpandas/_libs/index.pyx:196\u001b[39m, in \u001b[36mpandas._libs.index.IndexEngine.get_loc\u001b[39m\u001b[34m()\u001b[39m\n",
      "\u001b[36mFile \u001b[39m\u001b[32mpandas/_libs/hashtable_class_helper.pxi:7088\u001b[39m, in \u001b[36mpandas._libs.hashtable.PyObjectHashTable.get_item\u001b[39m\u001b[34m()\u001b[39m\n",
      "\u001b[36mFile \u001b[39m\u001b[32mpandas/_libs/hashtable_class_helper.pxi:7096\u001b[39m, in \u001b[36mpandas._libs.hashtable.PyObjectHashTable.get_item\u001b[39m\u001b[34m()\u001b[39m\n",
      "\u001b[31mKeyError\u001b[39m: 'ticker_market'",
      "\nThe above exception was the direct cause of the following exception:\n",
      "\u001b[31mKeyError\u001b[39m                                  Traceback (most recent call last)",
      "\u001b[36mCell\u001b[39m\u001b[36m \u001b[39m\u001b[32mIn[3]\u001b[39m\u001b[32m, line 13\u001b[39m\n\u001b[32m     10\u001b[39m index_df = pd.read_csv(\u001b[33m'\u001b[39m\u001b[33m/Users/marcomendieta/Documents/TFM/Data_stock/stockindex.csv\u001b[39m\u001b[33m'\u001b[39m)\n\u001b[32m     12\u001b[39m \u001b[38;5;66;03m# Limpieza básica\u001b[39;00m\n\u001b[32m---> \u001b[39m\u001b[32m13\u001b[39m df_tickers[\u001b[33m'\u001b[39m\u001b[33mticker_market\u001b[39m\u001b[33m'\u001b[39m] = \u001b[43mdf_tickers\u001b[49m\u001b[43m[\u001b[49m\u001b[33;43m'\u001b[39;49m\u001b[33;43mticker_market\u001b[39;49m\u001b[33;43m'\u001b[39;49m\u001b[43m]\u001b[49m.fillna(\u001b[33m\"\u001b[39m\u001b[33m\"\u001b[39m).astype(\u001b[38;5;28mstr\u001b[39m).str.strip()\n\u001b[32m     14\u001b[39m index_df[\u001b[33m'\u001b[39m\u001b[33mSufijo\u001b[39m\u001b[33m'\u001b[39m] = index_df[\u001b[33m'\u001b[39m\u001b[33mSufijo\u001b[39m\u001b[33m'\u001b[39m].fillna(\u001b[33m\"\u001b[39m\u001b[33m\"\u001b[39m).astype(\u001b[38;5;28mstr\u001b[39m).str.strip()\n\u001b[32m     15\u001b[39m index_df[\u001b[33m'\u001b[39m\u001b[33mPaís\u001b[39m\u001b[33m'\u001b[39m] = index_df[\u001b[33m'\u001b[39m\u001b[33mPaís\u001b[39m\u001b[33m'\u001b[39m].astype(\u001b[38;5;28mstr\u001b[39m).str.strip()\n",
      "\u001b[36mFile \u001b[39m\u001b[32m/Library/Frameworks/Python.framework/Versions/3.12/lib/python3.12/site-packages/pandas/core/frame.py:4107\u001b[39m, in \u001b[36mDataFrame.__getitem__\u001b[39m\u001b[34m(self, key)\u001b[39m\n\u001b[32m   4105\u001b[39m \u001b[38;5;28;01mif\u001b[39;00m \u001b[38;5;28mself\u001b[39m.columns.nlevels > \u001b[32m1\u001b[39m:\n\u001b[32m   4106\u001b[39m     \u001b[38;5;28;01mreturn\u001b[39;00m \u001b[38;5;28mself\u001b[39m._getitem_multilevel(key)\n\u001b[32m-> \u001b[39m\u001b[32m4107\u001b[39m indexer = \u001b[38;5;28;43mself\u001b[39;49m\u001b[43m.\u001b[49m\u001b[43mcolumns\u001b[49m\u001b[43m.\u001b[49m\u001b[43mget_loc\u001b[49m\u001b[43m(\u001b[49m\u001b[43mkey\u001b[49m\u001b[43m)\u001b[49m\n\u001b[32m   4108\u001b[39m \u001b[38;5;28;01mif\u001b[39;00m is_integer(indexer):\n\u001b[32m   4109\u001b[39m     indexer = [indexer]\n",
      "\u001b[36mFile \u001b[39m\u001b[32m/Library/Frameworks/Python.framework/Versions/3.12/lib/python3.12/site-packages/pandas/core/indexes/base.py:3819\u001b[39m, in \u001b[36mIndex.get_loc\u001b[39m\u001b[34m(self, key)\u001b[39m\n\u001b[32m   3814\u001b[39m     \u001b[38;5;28;01mif\u001b[39;00m \u001b[38;5;28misinstance\u001b[39m(casted_key, \u001b[38;5;28mslice\u001b[39m) \u001b[38;5;129;01mor\u001b[39;00m (\n\u001b[32m   3815\u001b[39m         \u001b[38;5;28misinstance\u001b[39m(casted_key, abc.Iterable)\n\u001b[32m   3816\u001b[39m         \u001b[38;5;129;01mand\u001b[39;00m \u001b[38;5;28many\u001b[39m(\u001b[38;5;28misinstance\u001b[39m(x, \u001b[38;5;28mslice\u001b[39m) \u001b[38;5;28;01mfor\u001b[39;00m x \u001b[38;5;129;01min\u001b[39;00m casted_key)\n\u001b[32m   3817\u001b[39m     ):\n\u001b[32m   3818\u001b[39m         \u001b[38;5;28;01mraise\u001b[39;00m InvalidIndexError(key)\n\u001b[32m-> \u001b[39m\u001b[32m3819\u001b[39m     \u001b[38;5;28;01mraise\u001b[39;00m \u001b[38;5;167;01mKeyError\u001b[39;00m(key) \u001b[38;5;28;01mfrom\u001b[39;00m\u001b[38;5;250m \u001b[39m\u001b[34;01merr\u001b[39;00m\n\u001b[32m   3820\u001b[39m \u001b[38;5;28;01mexcept\u001b[39;00m \u001b[38;5;167;01mTypeError\u001b[39;00m:\n\u001b[32m   3821\u001b[39m     \u001b[38;5;66;03m# If we have a listlike key, _check_indexing_error will raise\u001b[39;00m\n\u001b[32m   3822\u001b[39m     \u001b[38;5;66;03m#  InvalidIndexError. Otherwise we fall through and re-raise\u001b[39;00m\n\u001b[32m   3823\u001b[39m     \u001b[38;5;66;03m#  the TypeError.\u001b[39;00m\n\u001b[32m   3824\u001b[39m     \u001b[38;5;28mself\u001b[39m._check_indexing_error(key)\n",
      "\u001b[31mKeyError\u001b[39m: 'ticker_market'"
     ]
    }
   ],
   "source": [
    "import pandas as pd\n",
    "import yfinance as yf\n",
    "from datetime import datetime, timedelta\n",
    "from pathlib import Path\n",
    "\n",
    "start_date = '2020-01-01'\n",
    "end_date = (datetime.today() - timedelta(days=1)).strftime('%Y-%m-%d')\n",
    "\n",
    "df_tickers = pd.read_csv(\"/Users/marcomendieta/Documents/TFM/Data_stock/Tickets_indices.csv\")\n",
    "index_df = pd.read_csv('/Users/marcomendieta/Documents/TFM/Data_stock/stockindex.csv')\n",
    "\n",
    "# Limpieza básica\n",
    "df_tickers['ticker_market'] = df_tickers['ticker_market'].fillna(\"\").astype(str).str.strip()\n",
    "index_df['Sufijo'] = index_df['Sufijo'].fillna(\"\").astype(str).str.strip()\n",
    "index_df['País'] = index_df['País'].astype(str).str.strip()\n",
    "\n",
    "# Ruta modificada\n",
    "out_dir = Path(\"/Users/marcomendieta/Documents/TFM/Data_stock/StockData_csv\")\n",
    "out_dir.mkdir(parents=True, exist_ok=True)\n",
    "\n",
    "# Ahora FECHA no estará en OUT_COLS\n",
    "OUT_COLS = [\"Ticker\", \"Year\", \"Close\", \"High\", \"Low\", \"Open\", \"Volume\"]\n",
    "\n",
    "def empty_row_for(ticker: str) -> pd.DataFrame:\n",
    "    return pd.DataFrame([{\n",
    "        \"Ticker\": ticker, \"Year\": pd.NA,\n",
    "        \"Close\": pd.NA, \"High\": pd.NA, \"Low\": pd.NA, \"Open\": pd.NA, \"Volume\": pd.NA\n",
    "    }])\n",
    "\n",
    "for _, row in index_df.iterrows():\n",
    "    sufijo = row['Sufijo']\n",
    "    pais   = row['País']\n",
    "\n",
    "    tickers = df_tickers[df_tickers['ticker_market'].str.endswith(sufijo)]['ticker_market'].tolist()\n",
    "    all_rows = []\n",
    "\n",
    "    if not tickers:\n",
    "        pd.DataFrame(columns=OUT_COLS).to_csv(out_dir / f\"stockprice_{pais.replace(' ', '_')}.csv\", index=False)\n",
    "        continue\n",
    "\n",
    "    for t in tickers:\n",
    "        t_clean = t.lstrip('$').strip()\n",
    "        try:\n",
    "            hist = yf.Ticker(t_clean).history(start=start_date, end=end_date, auto_adjust=False)\n",
    "            if hist is None or hist.empty:\n",
    "                all_rows.append(empty_row_for(t))\n",
    "                continue\n",
    "\n",
    "            hist = hist.reset_index()\n",
    "            date_col = \"Date\" if \"Date\" in hist.columns else (\"Datetime\" if \"Datetime\" in hist.columns else None)\n",
    "            if date_col is None:\n",
    "                all_rows.append(empty_row_for(t))\n",
    "                continue\n",
    "\n",
    "            hist.rename(columns={date_col: \"FECHA\"}, inplace=True)\n",
    "\n",
    "            if pd.api.types.is_datetime64tz_dtype(hist[\"FECHA\"]):\n",
    "                hist[\"FECHA\"] = hist[\"FECHA\"].dt.tz_convert(None)\n",
    "\n",
    "            hist[\"FECHA\"] = pd.to_datetime(hist[\"FECHA\"])\n",
    "            part = hist[[\"FECHA\", \"Open\", \"High\", \"Low\", \"Close\", \"Volume\"]].copy()\n",
    "            part.insert(0, \"Ticker\", t)\n",
    "            part[\"Year\"] = part[\"FECHA\"].dt.year\n",
    "\n",
    "            # Quitamos FECHA antes de guardar\n",
    "            part = part.drop(columns=[\"FECHA\"])\n",
    "            part = part[OUT_COLS]\n",
    "            all_rows.append(part)\n",
    "\n",
    "        except Exception as e:\n",
    "            all_rows.append(empty_row_for(t))\n",
    "\n",
    "    stockprice = pd.concat(all_rows, ignore_index=True) if all_rows else pd.DataFrame(columns=OUT_COLS)\n",
    "\n",
    "    if not stockprice.empty:\n",
    "        stockprice.drop_duplicates(subset=[\"Ticker\", \"Year\"], keep=\"last\", inplace=True)\n",
    "        stockprice.sort_values(by=[\"Ticker\", \"Year\"], inplace=True)\n",
    "\n",
    "    stockprice.to_csv(out_dir / f\"stockprice_{pais.replace(' ', '_')}.csv\", index=False)\n"
   ]
  }
 ],
 "metadata": {
  "colab": {
   "authorship_tag": "ABX9TyOuGhpMcy3y3jB7ODclWntD",
   "provenance": []
  },
  "kernelspec": {
   "display_name": "Python 3",
   "name": "python3"
  },
  "language_info": {
   "codemirror_mode": {
    "name": "ipython",
    "version": 3
   },
   "file_extension": ".py",
   "mimetype": "text/x-python",
   "name": "python",
   "nbconvert_exporter": "python",
   "pygments_lexer": "ipython3",
   "version": "3.12.6"
  }
 },
 "nbformat": 4,
 "nbformat_minor": 0
}
