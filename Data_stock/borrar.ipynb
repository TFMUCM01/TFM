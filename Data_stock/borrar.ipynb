{
 "cells": [
  {
   "cell_type": "code",
   "execution_count": 19,
   "id": "fbf63f9f",
   "metadata": {},
   "outputs": [],
   "source": [
    "import yfinance as yf\n",
    "\n",
    "ticker = yf.Ticker(\"ITX.MC\")\n",
    "\n",
    "# =========================\n",
    "#  ESTADOS FINANCIEROS\n",
    "# =========================\n",
    "# Balance general\n",
    "balance_anual = ticker.balance_sheet\n",
    "balance_trimestral = ticker.quarterly_balance_sheet\n"
   ]
  },
  {
   "cell_type": "code",
   "execution_count": 20,
   "id": "2f7063bf",
   "metadata": {},
   "outputs": [],
   "source": [
    "\n",
    "balance_anual.to_csv(\"balance_anual.csv\", index=True)"
   ]
  },
  {
   "cell_type": "code",
   "execution_count": 8,
   "id": "a34c987e",
   "metadata": {},
   "outputs": [],
   "source": [
    "\n",
    "# Estado de resultados\n",
    "ingresos_anual = ticker.financials\n",
    "ingresos_trimestral = ticker.quarterly_financials\n"
   ]
  },
  {
   "cell_type": "code",
   "execution_count": null,
   "id": "d021b498",
   "metadata": {},
   "outputs": [],
   "source": [
    "\n",
    "# Flujo de caja\n",
    "flujo_caja_anual = ticker.cashflow\n",
    "flujo_caja_trimestral = ticker.quarterly_cashflow\n",
    "\n",
    "flujo_caja_anual.to_csv(\"flujo_caja_anual.csv\", index=True)\n"
   ]
  },
  {
   "cell_type": "code",
   "execution_count": null,
   "id": "deabd3c5",
   "metadata": {},
   "outputs": [],
   "source": [
    "# =========================\n",
    "#  INFORMACIÓN DE LA EMPRESA\n",
    "# =========================\n",
    "info_empresa = ticker.info  # Diccionario con toda la metadata de Yahoo Finance\n",
    "\n",
    "# Datos clave que suelen usar los analistas\n",
    "nombre = info_empresa.get(\"longName\")                  # Nombre completo\n",
    "pais = info_empresa.get(\"country\")                     # País\n",
    "moneda = info_empresa.get(\"currency\")                  # Moneda de cotización\n",
    "sector = info_empresa.get(\"sector\")                    # Sector\n",
    "industria = info_empresa.get(\"industry\")               # Industria\n",
    "empleados = info_empresa.get(\"fullTimeEmployees\")      # Nº de empleados\n",
    "\n",
    "# =========================\n",
    "#  MÉTRICAS FINANCIERAS CLAVE\n",
    "# =========================\n",
    "precio_actual = info_empresa.get(\"currentPrice\")       # Precio actual\n",
    "cap_bursatil = info_empresa.get(\"marketCap\")           # Capitalización bursátil\n",
    "per = info_empresa.get(\"trailingPE\")                   # PER (Price/Earnings)\n",
    "beta = info_empresa.get(\"beta\")                        # Beta\n",
    "dividendo_yield = info_empresa.get(\"dividendYield\")    # Dividend yield (%)\n",
    "roe = info_empresa.get(\"returnOnEquity\")               # ROE (Return on Equity)\n",
    "roa = info_empresa.get(\"returnOnAssets\")               # ROA (Return on Assets)\n",
    "deuda_patrimonio = info_empresa.get(\"debtToEquity\")    # Deuda / Patrimonio"
   ]
  }
 ],
 "metadata": {
  "kernelspec": {
   "display_name": "Python 3",
   "language": "python",
   "name": "python3"
  },
  "language_info": {
   "codemirror_mode": {
    "name": "ipython",
    "version": 3
   },
   "file_extension": ".py",
   "mimetype": "text/x-python",
   "name": "python",
   "nbconvert_exporter": "python",
   "pygments_lexer": "ipython3",
   "version": "3.12.6"
  }
 },
 "nbformat": 4,
 "nbformat_minor": 5
}
